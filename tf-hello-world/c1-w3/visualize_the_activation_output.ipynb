{
 "cells": [
  {
   "cell_type": "code",
   "execution_count": 1,
   "metadata": {
    "execution": {
     "iopub.execute_input": "2020-11-25T06:48:12.715008Z",
     "iopub.status.busy": "2020-11-25T06:48:12.713980Z",
     "iopub.status.idle": "2020-11-25T06:48:15.778642Z",
     "shell.execute_reply": "2020-11-25T06:48:15.778642Z",
     "shell.execute_reply.started": "2020-11-25T06:48:12.715008Z"
    }
   },
   "outputs": [],
   "source": [
    "import tensorflow as tf\n",
    "import numpy as np\n",
    "\n",
    "import matplotlib.pyplot as plt\n",
    "import seaborn as sns\n",
    "sns.set_theme(style=\"whitegrid\", palette=\"muted\")"
   ]
  },
  {
   "cell_type": "markdown",
   "metadata": {},
   "source": [
    "# Load Data"
   ]
  },
  {
   "cell_type": "code",
   "execution_count": 2,
   "metadata": {
    "execution": {
     "iopub.execute_input": "2020-11-25T06:48:15.778642Z",
     "iopub.status.busy": "2020-11-25T06:48:15.778642Z",
     "iopub.status.idle": "2020-11-25T06:48:16.401798Z",
     "shell.execute_reply": "2020-11-25T06:48:16.400892Z",
     "shell.execute_reply.started": "2020-11-25T06:48:15.778642Z"
    }
   },
   "outputs": [],
   "source": [
    "fash_mnist = tf.keras.datasets.fashion_mnist\n",
    "\n",
    "(train_imgs, train_labels), (test_imgs, test_labels) = fash_mnist.load_data()\n",
    "\n",
    "\n",
    "# Normalize input\n",
    "train_imgs = train_imgs/255\n",
    "test_imgs = test_imgs/255"
   ]
  },
  {
   "cell_type": "code",
   "execution_count": 3,
   "metadata": {
    "execution": {
     "iopub.execute_input": "2020-11-25T06:48:16.403792Z",
     "iopub.status.busy": "2020-11-25T06:48:16.402795Z",
     "iopub.status.idle": "2020-11-25T06:48:16.412768Z",
     "shell.execute_reply": "2020-11-25T06:48:16.411771Z",
     "shell.execute_reply.started": "2020-11-25T06:48:16.403792Z"
    }
   },
   "outputs": [
    {
     "data": {
      "text/plain": [
       "(60000, 28, 28)"
      ]
     },
     "execution_count": 3,
     "metadata": {},
     "output_type": "execute_result"
    }
   ],
   "source": [
    "train_imgs.shape"
   ]
  },
  {
   "cell_type": "markdown",
   "metadata": {
    "execution": {
     "iopub.execute_input": "2020-11-25T05:05:48.653166Z",
     "iopub.status.busy": "2020-11-25T05:05:48.652136Z",
     "iopub.status.idle": "2020-11-25T05:05:48.658121Z",
     "shell.execute_reply": "2020-11-25T05:05:48.657122Z",
     "shell.execute_reply.started": "2020-11-25T05:05:48.653166Z"
    }
   },
   "source": [
    "## Expand the Data Shape\n",
    "\n",
    "- ใน Conv ระบุไว้เป็น `(H, W, #CH)`\n",
    "\n",
    "แต่ตอนนี้เป็น `(H, W)`"
   ]
  },
  {
   "cell_type": "code",
   "execution_count": 4,
   "metadata": {
    "execution": {
     "iopub.execute_input": "2020-11-25T06:48:16.415760Z",
     "iopub.status.busy": "2020-11-25T06:48:16.414763Z",
     "iopub.status.idle": "2020-11-25T06:48:16.425732Z",
     "shell.execute_reply": "2020-11-25T06:48:16.424739Z",
     "shell.execute_reply.started": "2020-11-25T06:48:16.415760Z"
    }
   },
   "outputs": [
    {
     "data": {
      "text/plain": [
       "(28, 28)"
      ]
     },
     "execution_count": 4,
     "metadata": {},
     "output_type": "execute_result"
    }
   ],
   "source": [
    "train_imgs[0].shape"
   ]
  },
  {
   "cell_type": "code",
   "execution_count": 5,
   "metadata": {
    "execution": {
     "iopub.execute_input": "2020-11-25T06:48:16.427730Z",
     "iopub.status.busy": "2020-11-25T06:48:16.426731Z",
     "iopub.status.idle": "2020-11-25T06:48:16.440693Z",
     "shell.execute_reply": "2020-11-25T06:48:16.439697Z",
     "shell.execute_reply.started": "2020-11-25T06:48:16.427730Z"
    }
   },
   "outputs": [
    {
     "data": {
      "text/plain": [
       "(28, 28, 1)"
      ]
     },
     "execution_count": 5,
     "metadata": {},
     "output_type": "execute_result"
    }
   ],
   "source": [
    "expanded_train_imgs = np.expand_dims(train_imgs, axis=-1)\n",
    "expanded_train_imgs[0].shape"
   ]
  },
  {
   "cell_type": "code",
   "execution_count": 6,
   "metadata": {
    "execution": {
     "iopub.execute_input": "2020-11-25T06:48:16.443685Z",
     "iopub.status.busy": "2020-11-25T06:48:16.442688Z",
     "iopub.status.idle": "2020-11-25T06:48:16.449670Z",
     "shell.execute_reply": "2020-11-25T06:48:16.448688Z",
     "shell.execute_reply.started": "2020-11-25T06:48:16.443685Z"
    }
   },
   "outputs": [],
   "source": [
    "train_imgs = np.expand_dims(train_imgs, axis=-1)\n",
    "test_imgs = np.expand_dims(test_imgs, axis=-1)"
   ]
  },
  {
   "cell_type": "markdown",
   "metadata": {},
   "source": [
    "# Load Model"
   ]
  },
  {
   "cell_type": "code",
   "execution_count": 7,
   "metadata": {
    "execution": {
     "iopub.execute_input": "2020-11-25T06:48:16.451664Z",
     "iopub.status.busy": "2020-11-25T06:48:16.450666Z",
     "iopub.status.idle": "2020-11-25T06:48:18.894314Z",
     "shell.execute_reply": "2020-11-25T06:48:18.894314Z",
     "shell.execute_reply.started": "2020-11-25T06:48:16.451664Z"
    }
   },
   "outputs": [],
   "source": [
    "model = tf.keras.models.load_model(\"./model_fashion_mnist.h5\")"
   ]
  },
  {
   "cell_type": "code",
   "execution_count": null,
   "metadata": {},
   "outputs": [],
   "source": [
    "model.summary()"
   ]
  },
  {
   "cell_type": "code",
   "execution_count": null,
   "metadata": {},
   "outputs": [],
   "source": [
    "model.evaluate(test_imgs, test_labels)"
   ]
  },
  {
   "cell_type": "markdown",
   "metadata": {},
   "source": [
    "# Visualize Model Output"
   ]
  },
  {
   "cell_type": "code",
   "execution_count": null,
   "metadata": {},
   "outputs": [],
   "source": [
    "test_labels[:10]"
   ]
  },
  {
   "cell_type": "markdown",
   "metadata": {},
   "source": [
    "## Layer ในโมเดล"
   ]
  },
  {
   "cell_type": "code",
   "execution_count": null,
   "metadata": {},
   "outputs": [],
   "source": [
    "model.layers"
   ]
  },
  {
   "cell_type": "code",
   "execution_count": null,
   "metadata": {},
   "outputs": [],
   "source": [
    "layers_output = [layer.output for layer in model.layers]\n",
    "layers_output"
   ]
  },
  {
   "cell_type": "markdown",
   "metadata": {
    "execution": {
     "iopub.execute_input": "2020-11-25T06:29:59.800411Z",
     "iopub.status.busy": "2020-11-25T06:29:59.799414Z",
     "iopub.status.idle": "2020-11-25T06:29:59.805398Z",
     "shell.execute_reply": "2020-11-25T06:29:59.804404Z",
     "shell.execute_reply.started": "2020-11-25T06:29:59.800411Z"
    }
   },
   "source": [
    "## สร้างโมเดลสำหรับ...รับ Input และ output เป็นแต่ละเลเยอร์\n",
    "(โมเดลที่ไว้ดูการทำงานภายในของโมเดล)"
   ]
  },
  {
   "cell_type": "code",
   "execution_count": null,
   "metadata": {},
   "outputs": [],
   "source": [
    "activation_model = tf.keras.models.Model(\n",
    "    inputs=model.input, outputs=layers_output\n",
    ")"
   ]
  },
  {
   "cell_type": "markdown",
   "metadata": {},
   "source": [
    "## Viz"
   ]
  },
  {
   "cell_type": "code",
   "execution_count": null,
   "metadata": {},
   "outputs": [],
   "source": [
    "img_ind = 4\n",
    "\n",
    "model_hidden_layers_output = activation_model.predict(np.array([test_imgs[img_ind]]))\n",
    "\n",
    "n_conv = 4\n",
    "n_conv_layer = 4\n",
    "rand_conv_ind = np.random.randint(0, 64, n_conv)"
   ]
  },
  {
   "cell_type": "code",
   "execution_count": null,
   "metadata": {},
   "outputs": [],
   "source": [
    "fig, axs = plt.subplots(nrows=n_conv_layer, ncols=n_conv, figsize=(8, 8), dpi=100)\n",
    "for layer_ind in range(0, n_conv_layer):\n",
    "    for unit_ind in range(0, n_conv):\n",
    "        sns.heatmap(model_hidden_layers_output[layer_ind][0, :, :, unit_ind], ax=axs[layer_ind][unit_ind])\n",
    "        axs[layer_ind][unit_ind].get_xaxis().set_visible(False)\n",
    "        axs[layer_ind][unit_ind].get_yaxis().set_visible(False)\n",
    "fig.tight_layout()\n",
    "plt.show()"
   ]
  },
  {
   "cell_type": "code",
   "execution_count": null,
   "metadata": {},
   "outputs": [],
   "source": []
  }
 ],
 "metadata": {
  "kernelspec": {
   "display_name": "Python 3",
   "language": "python",
   "name": "python3"
  },
  "language_info": {
   "codemirror_mode": {
    "name": "ipython",
    "version": 3
   },
   "file_extension": ".py",
   "mimetype": "text/x-python",
   "name": "python",
   "nbconvert_exporter": "python",
   "pygments_lexer": "ipython3",
   "version": "3.8.5"
  }
 },
 "nbformat": 4,
 "nbformat_minor": 4
}
