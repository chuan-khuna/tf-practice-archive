{
 "cells": [
  {
   "cell_type": "code",
   "execution_count": 1,
   "metadata": {
    "execution": {
     "iopub.status.idle": "2020-11-25T05:57:09.906994Z",
     "shell.execute_reply": "2020-11-25T05:57:09.906062Z",
     "shell.execute_reply.started": "2020-11-25T05:57:07.313344Z"
    }
   },
   "outputs": [],
   "source": [
    "import tensorflow as tf\n",
    "import numpy as np\n",
    "\n",
    "tf.random.set_seed(20200218)\n",
    "np.random.seed(20200218)"
   ]
  },
  {
   "cell_type": "markdown",
   "metadata": {},
   "source": [
    "# Load Data"
   ]
  },
  {
   "cell_type": "code",
   "execution_count": 2,
   "metadata": {
    "execution": {
     "iopub.execute_input": "2020-11-25T05:57:09.908990Z",
     "iopub.status.busy": "2020-11-25T05:57:09.907992Z",
     "iopub.status.idle": "2020-11-25T05:57:10.574188Z",
     "shell.execute_reply": "2020-11-25T05:57:10.573190Z",
     "shell.execute_reply.started": "2020-11-25T05:57:09.908990Z"
    }
   },
   "outputs": [],
   "source": [
    "fash_mnist = tf.keras.datasets.fashion_mnist\n",
    "\n",
    "(train_imgs, train_labels), (test_imgs, test_labels) = fash_mnist.load_data()\n",
    "\n",
    "\n",
    "# Normalize input\n",
    "train_imgs = train_imgs/255\n",
    "test_imgs = test_imgs/255"
   ]
  },
  {
   "cell_type": "code",
   "execution_count": 3,
   "metadata": {
    "execution": {
     "iopub.execute_input": "2020-11-25T05:57:10.576181Z",
     "iopub.status.busy": "2020-11-25T05:57:10.576181Z",
     "iopub.status.idle": "2020-11-25T05:57:10.593137Z",
     "shell.execute_reply": "2020-11-25T05:57:10.592139Z",
     "shell.execute_reply.started": "2020-11-25T05:57:10.576181Z"
    }
   },
   "outputs": [
    {
     "data": {
      "text/plain": [
       "(60000, 28, 28)"
      ]
     },
     "execution_count": 3,
     "metadata": {},
     "output_type": "execute_result"
    }
   ],
   "source": [
    "train_imgs.shape"
   ]
  },
  {
   "cell_type": "markdown",
   "metadata": {
    "execution": {
     "iopub.execute_input": "2020-11-25T05:05:48.653166Z",
     "iopub.status.busy": "2020-11-25T05:05:48.652136Z",
     "iopub.status.idle": "2020-11-25T05:05:48.658121Z",
     "shell.execute_reply": "2020-11-25T05:05:48.657122Z",
     "shell.execute_reply.started": "2020-11-25T05:05:48.653166Z"
    }
   },
   "source": [
    "## Expand the Data Shape\n",
    "\n",
    "- ใน Conv ระบุไว้เป็น `(H, W, #CH)`\n",
    "\n",
    "แต่ตอนนี้เป็น `(H, W)`"
   ]
  },
  {
   "cell_type": "code",
   "execution_count": 4,
   "metadata": {
    "execution": {
     "iopub.execute_input": "2020-11-25T05:57:10.595133Z",
     "iopub.status.busy": "2020-11-25T05:57:10.595133Z",
     "iopub.status.idle": "2020-11-25T05:57:10.603118Z",
     "shell.execute_reply": "2020-11-25T05:57:10.602114Z",
     "shell.execute_reply.started": "2020-11-25T05:57:10.595133Z"
    }
   },
   "outputs": [
    {
     "data": {
      "text/plain": [
       "(28, 28)"
      ]
     },
     "execution_count": 4,
     "metadata": {},
     "output_type": "execute_result"
    }
   ],
   "source": [
    "train_imgs[0].shape"
   ]
  },
  {
   "cell_type": "code",
   "execution_count": 5,
   "metadata": {
    "execution": {
     "iopub.execute_input": "2020-11-25T05:57:10.607105Z",
     "iopub.status.busy": "2020-11-25T05:57:10.606103Z",
     "iopub.status.idle": "2020-11-25T05:57:10.614081Z",
     "shell.execute_reply": "2020-11-25T05:57:10.613086Z",
     "shell.execute_reply.started": "2020-11-25T05:57:10.607105Z"
    }
   },
   "outputs": [
    {
     "data": {
      "text/plain": [
       "(28, 28, 1)"
      ]
     },
     "execution_count": 5,
     "metadata": {},
     "output_type": "execute_result"
    }
   ],
   "source": [
    "expanded_train_imgs = np.expand_dims(train_imgs, axis=-1)\n",
    "expanded_train_imgs[0].shape"
   ]
  },
  {
   "cell_type": "code",
   "execution_count": 6,
   "metadata": {
    "execution": {
     "iopub.execute_input": "2020-11-25T05:57:10.617073Z",
     "iopub.status.busy": "2020-11-25T05:57:10.616076Z",
     "iopub.status.idle": "2020-11-25T05:57:10.623057Z",
     "shell.execute_reply": "2020-11-25T05:57:10.622071Z",
     "shell.execute_reply.started": "2020-11-25T05:57:10.617073Z"
    }
   },
   "outputs": [],
   "source": [
    "train_imgs = np.expand_dims(train_imgs, axis=-1)\n",
    "test_imgs = np.expand_dims(test_imgs, axis=-1)"
   ]
  },
  {
   "cell_type": "markdown",
   "metadata": {},
   "source": [
    "# Model"
   ]
  },
  {
   "cell_type": "code",
   "execution_count": 7,
   "metadata": {
    "execution": {
     "iopub.execute_input": "2020-11-25T05:57:10.625052Z",
     "iopub.status.busy": "2020-11-25T05:57:10.625052Z",
     "iopub.status.idle": "2020-11-25T05:57:13.612087Z",
     "shell.execute_reply": "2020-11-25T05:57:13.611089Z",
     "shell.execute_reply.started": "2020-11-25T05:57:10.625052Z"
    }
   },
   "outputs": [],
   "source": [
    "model = tf.keras.models.Sequential([\n",
    "    tf.keras.layers.Conv2D(filters=64, kernel_size=(3, 3), padding='valid',\n",
    "        activation='relu', input_shape=(28, 28, 1)\n",
    "    ),\n",
    "    tf.keras.layers.MaxPooling2D(pool_size=(2, 2)),\n",
    "    tf.keras.layers.Conv2D(filters=64, kernel_size=(3, 3), activation='relu'),\n",
    "    tf.keras.layers.MaxPooling2D(pool_size=(2, 2)),\n",
    "    tf.keras.layers.Flatten(),\n",
    "    tf.keras.layers.Dense(128, activation='relu'),\n",
    "    tf.keras.layers.Dense(10, activation='softmax')\n",
    "])"
   ]
  },
  {
   "cell_type": "code",
   "execution_count": 8,
   "metadata": {
    "execution": {
     "iopub.execute_input": "2020-11-25T05:57:13.614088Z",
     "iopub.status.busy": "2020-11-25T05:57:13.613084Z",
     "iopub.status.idle": "2020-11-25T05:57:13.650983Z",
     "shell.execute_reply": "2020-11-25T05:57:13.649986Z",
     "shell.execute_reply.started": "2020-11-25T05:57:13.614088Z"
    }
   },
   "outputs": [],
   "source": [
    "model.compile(optimizer='adam', loss='sparse_categorical_crossentropy', metrics=['accuracy'])"
   ]
  },
  {
   "cell_type": "code",
   "execution_count": 9,
   "metadata": {
    "execution": {
     "iopub.execute_input": "2020-11-25T05:57:13.654973Z",
     "iopub.status.busy": "2020-11-25T05:57:13.653975Z",
     "iopub.status.idle": "2020-11-25T05:57:13.664945Z",
     "shell.execute_reply": "2020-11-25T05:57:13.663948Z",
     "shell.execute_reply.started": "2020-11-25T05:57:13.654973Z"
    }
   },
   "outputs": [
    {
     "name": "stdout",
     "output_type": "stream",
     "text": [
      "Model: \"sequential\"\n",
      "_________________________________________________________________\n",
      "Layer (type)                 Output Shape              Param #   \n",
      "=================================================================\n",
      "conv2d (Conv2D)              (None, 26, 26, 64)        640       \n",
      "_________________________________________________________________\n",
      "max_pooling2d (MaxPooling2D) (None, 13, 13, 64)        0         \n",
      "_________________________________________________________________\n",
      "conv2d_1 (Conv2D)            (None, 11, 11, 64)        36928     \n",
      "_________________________________________________________________\n",
      "max_pooling2d_1 (MaxPooling2 (None, 5, 5, 64)          0         \n",
      "_________________________________________________________________\n",
      "flatten (Flatten)            (None, 1600)              0         \n",
      "_________________________________________________________________\n",
      "dense (Dense)                (None, 128)               204928    \n",
      "_________________________________________________________________\n",
      "dense_1 (Dense)              (None, 10)                1290      \n",
      "=================================================================\n",
      "Total params: 243,786\n",
      "Trainable params: 243,786\n",
      "Non-trainable params: 0\n",
      "_________________________________________________________________\n"
     ]
    }
   ],
   "source": [
    "model.summary()"
   ]
  },
  {
   "cell_type": "code",
   "execution_count": 10,
   "metadata": {
    "execution": {
     "iopub.execute_input": "2020-11-25T05:57:13.667938Z",
     "iopub.status.busy": "2020-11-25T05:57:13.666940Z",
     "iopub.status.idle": "2020-11-25T06:04:47.465457Z",
     "shell.execute_reply": "2020-11-25T06:04:47.465457Z",
     "shell.execute_reply.started": "2020-11-25T05:57:13.667938Z"
    }
   },
   "outputs": [
    {
     "name": "stdout",
     "output_type": "stream",
     "text": [
      "Epoch 1/20\n",
      "1875/1875 [==============================] - 18s 10ms/step - loss: 0.4472 - accuracy: 0.8378\n",
      "Epoch 2/20\n",
      "1875/1875 [==============================] - 18s 10ms/step - loss: 0.2976 - accuracy: 0.8920\n",
      "Epoch 3/20\n",
      "1875/1875 [==============================] - 19s 10ms/step - loss: 0.2505 - accuracy: 0.9086\n",
      "Epoch 4/20\n",
      "1875/1875 [==============================] - 19s 10ms/step - loss: 0.2197 - accuracy: 0.9194\n",
      "Epoch 5/20\n",
      "1875/1875 [==============================] - 19s 10ms/step - loss: 0.1968 - accuracy: 0.9271\n",
      "Epoch 6/20\n",
      "1875/1875 [==============================] - 20s 11ms/step - loss: 0.1730 - accuracy: 0.9363\n",
      "Epoch 7/20\n",
      "1875/1875 [==============================] - 20s 10ms/step - loss: 0.1531 - accuracy: 0.9423\n",
      "Epoch 8/20\n",
      "1875/1875 [==============================] - 19s 10ms/step - loss: 0.1359 - accuracy: 0.9486\n",
      "Epoch 9/20\n",
      "1875/1875 [==============================] - 19s 10ms/step - loss: 0.1201 - accuracy: 0.9552\n",
      "Epoch 10/20\n",
      "1875/1875 [==============================] - 20s 11ms/step - loss: 0.1083 - accuracy: 0.9591\n",
      "Epoch 11/20\n",
      "1875/1875 [==============================] - 19s 10ms/step - loss: 0.0973 - accuracy: 0.9627\n",
      "Epoch 12/20\n",
      "1875/1875 [==============================] - 20s 11ms/step - loss: 0.0866 - accuracy: 0.9671\n",
      "Epoch 13/20\n",
      "1875/1875 [==============================] - 20s 11ms/step - loss: 0.0787 - accuracy: 0.9701\n",
      "Epoch 14/20\n",
      "1875/1875 [==============================] - 19s 10ms/step - loss: 0.0707 - accuracy: 0.9724\n",
      "Epoch 15/20\n",
      "1875/1875 [==============================] - 25s 13ms/step - loss: 0.0607 - accuracy: 0.9773\n",
      "Epoch 16/20\n",
      "1875/1875 [==============================] - 31s 17ms/step - loss: 0.0574 - accuracy: 0.9780\n",
      "Epoch 17/20\n",
      "1875/1875 [==============================] - 31s 17ms/step - loss: 0.0522 - accuracy: 0.9800\n",
      "Epoch 18/20\n",
      "1875/1875 [==============================] - 31s 17ms/step - loss: 0.0473 - accuracy: 0.9823\n",
      "Epoch 19/20\n",
      "1875/1875 [==============================] - 31s 17ms/step - loss: 0.0413 - accuracy: 0.9850\n",
      "Epoch 20/20\n",
      "1875/1875 [==============================] - 31s 17ms/step - loss: 0.0425 - accuracy: 0.9845\n"
     ]
    },
    {
     "data": {
      "text/plain": [
       "<tensorflow.python.keras.callbacks.History at 0x1ed00470fa0>"
      ]
     },
     "execution_count": 10,
     "metadata": {},
     "output_type": "execute_result"
    }
   ],
   "source": [
    "model.fit(train_imgs, train_labels, epochs=20)"
   ]
  },
  {
   "cell_type": "code",
   "execution_count": 11,
   "metadata": {
    "execution": {
     "iopub.execute_input": "2020-11-25T06:04:47.468419Z",
     "iopub.status.busy": "2020-11-25T06:04:47.467421Z",
     "iopub.status.idle": "2020-11-25T06:04:50.510791Z",
     "shell.execute_reply": "2020-11-25T06:04:50.510791Z",
     "shell.execute_reply.started": "2020-11-25T06:04:47.468419Z"
    }
   },
   "outputs": [
    {
     "name": "stdout",
     "output_type": "stream",
     "text": [
      "313/313 [==============================] - 3s 9ms/step - loss: 0.5190 - accuracy: 0.9123\n"
     ]
    },
    {
     "data": {
      "text/plain": [
       "[0.5190151929855347, 0.9122999906539917]"
      ]
     },
     "execution_count": 11,
     "metadata": {},
     "output_type": "execute_result"
    }
   ],
   "source": [
    "model.evaluate(test_imgs, test_labels)"
   ]
  },
  {
   "cell_type": "code",
   "execution_count": 12,
   "metadata": {
    "execution": {
     "iopub.execute_input": "2020-11-25T06:04:50.513783Z",
     "iopub.status.busy": "2020-11-25T06:04:50.512784Z",
     "iopub.status.idle": "2020-11-25T06:04:50.597430Z",
     "shell.execute_reply": "2020-11-25T06:04:50.596433Z",
     "shell.execute_reply.started": "2020-11-25T06:04:50.513783Z"
    }
   },
   "outputs": [],
   "source": [
    "model.save(\"./model_fashion_mnist.h5\")"
   ]
  },
  {
   "cell_type": "code",
   "execution_count": null,
   "metadata": {},
   "outputs": [],
   "source": []
  }
 ],
 "metadata": {
  "kernelspec": {
   "display_name": "Python 3",
   "language": "python",
   "name": "python3"
  },
  "language_info": {
   "codemirror_mode": {
    "name": "ipython",
    "version": 3
   },
   "file_extension": ".py",
   "mimetype": "text/x-python",
   "name": "python",
   "nbconvert_exporter": "python",
   "pygments_lexer": "ipython3",
   "version": "3.8.5"
  }
 },
 "nbformat": 4,
 "nbformat_minor": 4
}
