{
 "cells": [
  {
   "cell_type": "code",
   "execution_count": 1,
   "metadata": {
    "execution": {
     "iopub.execute_input": "2020-11-24T05:57:34.074893Z",
     "iopub.status.busy": "2020-11-24T05:57:34.073896Z",
     "iopub.status.idle": "2020-11-24T05:57:37.070761Z",
     "shell.execute_reply": "2020-11-24T05:57:37.069822Z",
     "shell.execute_reply.started": "2020-11-24T05:57:34.074893Z"
    }
   },
   "outputs": [],
   "source": [
    "import tensorflow as tf\n",
    "import numpy as np\n",
    "\n",
    "import time\n",
    "\n",
    "np.random.seed(20200218)\n",
    "tf.random.set_seed(20200218)"
   ]
  },
  {
   "cell_type": "markdown",
   "metadata": {},
   "source": [
    "# Load MNIST Data"
   ]
  },
  {
   "cell_type": "code",
   "execution_count": 2,
   "metadata": {
    "execution": {
     "iopub.execute_input": "2020-11-24T05:57:37.072782Z",
     "iopub.status.busy": "2020-11-24T05:57:37.071788Z",
     "iopub.status.idle": "2020-11-24T05:57:37.078739Z",
     "shell.execute_reply": "2020-11-24T05:57:37.077742Z",
     "shell.execute_reply.started": "2020-11-24T05:57:37.072782Z"
    }
   },
   "outputs": [],
   "source": [
    "fash_mnist = tf.keras.datasets.fashion_mnist"
   ]
  },
  {
   "cell_type": "code",
   "execution_count": 3,
   "metadata": {
    "execution": {
     "iopub.execute_input": "2020-11-24T05:57:37.083726Z",
     "iopub.status.busy": "2020-11-24T05:57:37.081732Z",
     "iopub.status.idle": "2020-11-24T05:57:37.559453Z",
     "shell.execute_reply": "2020-11-24T05:57:37.558486Z",
     "shell.execute_reply.started": "2020-11-24T05:57:37.083726Z"
    }
   },
   "outputs": [],
   "source": [
    "(train_imgs, train_labels), (test_imgs, test_labels) = fash_mnist.load_data()"
   ]
  },
  {
   "cell_type": "code",
   "execution_count": 4,
   "metadata": {
    "execution": {
     "iopub.execute_input": "2020-11-24T05:57:37.561447Z",
     "iopub.status.busy": "2020-11-24T05:57:37.561447Z",
     "iopub.status.idle": "2020-11-24T05:57:37.585290Z",
     "shell.execute_reply": "2020-11-24T05:57:37.582299Z",
     "shell.execute_reply.started": "2020-11-24T05:57:37.561447Z"
    }
   },
   "outputs": [
    {
     "data": {
      "text/plain": [
       "((60000, 28, 28), (10000, 28, 28))"
      ]
     },
     "execution_count": 4,
     "metadata": {},
     "output_type": "execute_result"
    }
   ],
   "source": [
    "train_imgs.shape, test_imgs.shape"
   ]
  },
  {
   "cell_type": "code",
   "execution_count": 5,
   "metadata": {
    "execution": {
     "iopub.execute_input": "2020-11-24T05:57:37.589279Z",
     "iopub.status.busy": "2020-11-24T05:57:37.587285Z",
     "iopub.status.idle": "2020-11-24T05:57:37.596260Z",
     "shell.execute_reply": "2020-11-24T05:57:37.595263Z",
     "shell.execute_reply.started": "2020-11-24T05:57:37.588289Z"
    }
   },
   "outputs": [
    {
     "data": {
      "text/plain": [
       "(60000,)"
      ]
     },
     "execution_count": 5,
     "metadata": {},
     "output_type": "execute_result"
    }
   ],
   "source": [
    "train_labels.shape"
   ]
  },
  {
   "cell_type": "code",
   "execution_count": 6,
   "metadata": {
    "execution": {
     "iopub.execute_input": "2020-11-24T05:57:37.601248Z",
     "iopub.status.busy": "2020-11-24T05:57:37.599256Z",
     "iopub.status.idle": "2020-11-24T05:57:37.608228Z",
     "shell.execute_reply": "2020-11-24T05:57:37.607233Z",
     "shell.execute_reply.started": "2020-11-24T05:57:37.601248Z"
    }
   },
   "outputs": [
    {
     "data": {
      "text/plain": [
       "array([9, 0, 0, ..., 3, 0, 5], dtype=uint8)"
      ]
     },
     "execution_count": 6,
     "metadata": {},
     "output_type": "execute_result"
    }
   ],
   "source": [
    "train_labels"
   ]
  },
  {
   "cell_type": "markdown",
   "metadata": {},
   "source": [
    "# Normalize the Data"
   ]
  },
  {
   "cell_type": "code",
   "execution_count": 7,
   "metadata": {
    "execution": {
     "iopub.execute_input": "2020-11-24T05:57:37.611221Z",
     "iopub.status.busy": "2020-11-24T05:57:37.610224Z",
     "iopub.status.idle": "2020-11-24T05:57:37.871524Z",
     "shell.execute_reply": "2020-11-24T05:57:37.870562Z",
     "shell.execute_reply.started": "2020-11-24T05:57:37.611221Z"
    }
   },
   "outputs": [],
   "source": [
    "train_imgs_normalized = train_imgs/255.0\n",
    "test_imgs_normalized = test_imgs/255.0"
   ]
  },
  {
   "cell_type": "markdown",
   "metadata": {},
   "source": [
    "# Model"
   ]
  },
  {
   "cell_type": "code",
   "execution_count": 8,
   "metadata": {
    "execution": {
     "iopub.execute_input": "2020-11-24T05:57:37.873520Z",
     "iopub.status.busy": "2020-11-24T05:57:37.873520Z",
     "iopub.status.idle": "2020-11-24T05:57:40.841308Z",
     "shell.execute_reply": "2020-11-24T05:57:40.840408Z",
     "shell.execute_reply.started": "2020-11-24T05:57:37.873520Z"
    }
   },
   "outputs": [],
   "source": [
    "model_0 = tf.keras.models.Sequential([\n",
    "    tf.keras.layers.Flatten(input_shape=(28, 28)),\n",
    "    tf.keras.layers.Dense(128, activation='relu'),\n",
    "    tf.keras.layers.Dense(10, activation='softmax')\n",
    "])"
   ]
  },
  {
   "cell_type": "code",
   "execution_count": 9,
   "metadata": {
    "execution": {
     "iopub.execute_input": "2020-11-24T05:57:40.844302Z",
     "iopub.status.busy": "2020-11-24T05:57:40.844302Z",
     "iopub.status.idle": "2020-11-24T05:57:40.865243Z",
     "shell.execute_reply": "2020-11-24T05:57:40.863247Z",
     "shell.execute_reply.started": "2020-11-24T05:57:40.844302Z"
    }
   },
   "outputs": [],
   "source": [
    "model_0.compile(optimizer='adam', loss='sparse_categorical_crossentropy', metrics=['accuracy'])"
   ]
  },
  {
   "cell_type": "code",
   "execution_count": 10,
   "metadata": {
    "execution": {
     "iopub.execute_input": "2020-11-24T05:57:40.870229Z",
     "iopub.status.busy": "2020-11-24T05:57:40.869233Z",
     "iopub.status.idle": "2020-11-24T05:58:07.400945Z",
     "shell.execute_reply": "2020-11-24T05:58:07.399949Z",
     "shell.execute_reply.started": "2020-11-24T05:57:40.870229Z"
    }
   },
   "outputs": [
    {
     "name": "stdout",
     "output_type": "stream",
     "text": [
      "Epoch 1/5\n",
      "1875/1875 [==============================] - 5s 3ms/step - loss: 0.4930 - accuracy: 0.8271\n",
      "Epoch 2/5\n",
      "1875/1875 [==============================] - 6s 3ms/step - loss: 0.3715 - accuracy: 0.8663\n",
      "Epoch 3/5\n",
      "1875/1875 [==============================] - 5s 3ms/step - loss: 0.3325 - accuracy: 0.8792\n",
      "Epoch 4/5\n",
      "1875/1875 [==============================] - 4s 2ms/step - loss: 0.3096 - accuracy: 0.8863\n",
      "Epoch 5/5\n",
      "1875/1875 [==============================] - 5s 3ms/step - loss: 0.2920 - accuracy: 0.8924\n",
      "training time: 26.526\n"
     ]
    }
   ],
   "source": [
    "st = time.time()\n",
    "model_0.fit(train_imgs_normalized, train_labels, epochs=5)\n",
    "print(f\"training time: {round(time.time() - st, 3)}\")"
   ]
  },
  {
   "cell_type": "code",
   "execution_count": 11,
   "metadata": {
    "execution": {
     "iopub.execute_input": "2020-11-24T05:58:07.402941Z",
     "iopub.status.busy": "2020-11-24T05:58:07.401942Z",
     "iopub.status.idle": "2020-11-24T05:58:08.772275Z",
     "shell.execute_reply": "2020-11-24T05:58:08.772275Z",
     "shell.execute_reply.started": "2020-11-24T05:58:07.402941Z"
    }
   },
   "outputs": [
    {
     "name": "stdout",
     "output_type": "stream",
     "text": [
      "313/313 [==============================] - 1s 3ms/step - loss: 0.3598 - accuracy: 0.8720\n"
     ]
    },
    {
     "data": {
      "text/plain": [
       "[0.3598339259624481, 0.871999979019165]"
      ]
     },
     "execution_count": 11,
     "metadata": {},
     "output_type": "execute_result"
    }
   ],
   "source": [
    "model_0.evaluate(test_imgs_normalized, test_labels)"
   ]
  },
  {
   "cell_type": "markdown",
   "metadata": {},
   "source": [
    "# Excercise"
   ]
  },
  {
   "cell_type": "code",
   "execution_count": 12,
   "metadata": {
    "execution": {
     "iopub.execute_input": "2020-11-24T05:58:08.775279Z",
     "iopub.status.busy": "2020-11-24T05:58:08.774270Z",
     "iopub.status.idle": "2020-11-24T05:58:09.374663Z",
     "shell.execute_reply": "2020-11-24T05:58:09.374663Z",
     "shell.execute_reply.started": "2020-11-24T05:58:08.775279Z"
    }
   },
   "outputs": [],
   "source": [
    "predicted = model_0.predict(test_imgs_normalized)"
   ]
  },
  {
   "cell_type": "code",
   "execution_count": 13,
   "metadata": {
    "execution": {
     "iopub.execute_input": "2020-11-24T05:58:09.377655Z",
     "iopub.status.busy": "2020-11-24T05:58:09.376658Z",
     "iopub.status.idle": "2020-11-24T05:58:09.384637Z",
     "shell.execute_reply": "2020-11-24T05:58:09.383642Z",
     "shell.execute_reply.started": "2020-11-24T05:58:09.377655Z"
    }
   },
   "outputs": [
    {
     "data": {
      "text/plain": [
       "array([[8.4041795e-07, 7.5042848e-08, 6.1297300e-07, ..., 1.3634855e-02,\n",
       "        1.1859192e-05, 9.8283607e-01],\n",
       "       [3.2121781e-05, 1.5249290e-08, 9.9170011e-01, ..., 5.8620768e-11,\n",
       "        2.7982477e-07, 9.3044861e-10],\n",
       "       [3.7307379e-07, 9.9999928e-01, 2.5361468e-08, ..., 8.1960805e-15,\n",
       "        1.6684580e-10, 4.5303930e-14],\n",
       "       ...,\n",
       "       [2.7120431e-04, 4.3846839e-08, 2.5429274e-04, ..., 1.0398583e-07,\n",
       "        9.9934679e-01, 3.8282475e-09],\n",
       "       [1.8994076e-07, 9.9996126e-01, 2.7808472e-08, ..., 3.4012468e-10,\n",
       "        1.7872567e-08, 1.9466195e-09],\n",
       "       [6.8501817e-05, 3.7473253e-06, 7.7413300e-05, ..., 3.6580639e-03,\n",
       "        6.6526304e-04, 4.5451328e-05]], dtype=float32)"
      ]
     },
     "execution_count": 13,
     "metadata": {},
     "output_type": "execute_result"
    }
   ],
   "source": [
    "predicted"
   ]
  },
  {
   "cell_type": "code",
   "execution_count": 14,
   "metadata": {
    "execution": {
     "iopub.execute_input": "2020-11-24T05:58:09.387628Z",
     "iopub.status.busy": "2020-11-24T05:58:09.386631Z",
     "iopub.status.idle": "2020-11-24T05:58:09.397601Z",
     "shell.execute_reply": "2020-11-24T05:58:09.396604Z",
     "shell.execute_reply.started": "2020-11-24T05:58:09.387628Z"
    }
   },
   "outputs": [
    {
     "data": {
      "text/plain": [
       "(10000, 10)"
      ]
     },
     "execution_count": 14,
     "metadata": {},
     "output_type": "execute_result"
    }
   ],
   "source": [
    "predicted.shape"
   ]
  },
  {
   "cell_type": "code",
   "execution_count": 15,
   "metadata": {
    "execution": {
     "iopub.execute_input": "2020-11-24T05:58:09.400594Z",
     "iopub.status.busy": "2020-11-24T05:58:09.399597Z",
     "iopub.status.idle": "2020-11-24T05:58:09.408573Z",
     "shell.execute_reply": "2020-11-24T05:58:09.407575Z",
     "shell.execute_reply.started": "2020-11-24T05:58:09.400594Z"
    }
   },
   "outputs": [
    {
     "data": {
      "text/plain": [
       "array([0.  , 0.  , 0.  , 0.  , 0.  , 0.  , 0.  , 0.01, 0.  , 0.98],\n",
       "      dtype=float32)"
      ]
     },
     "execution_count": 15,
     "metadata": {},
     "output_type": "execute_result"
    }
   ],
   "source": [
    "np.round(predicted[0], 2)"
   ]
  },
  {
   "cell_type": "markdown",
   "metadata": {},
   "source": [
    "## Model 1"
   ]
  },
  {
   "cell_type": "code",
   "execution_count": 16,
   "metadata": {
    "execution": {
     "iopub.execute_input": "2020-11-24T05:58:09.410568Z",
     "iopub.status.busy": "2020-11-24T05:58:09.410568Z",
     "iopub.status.idle": "2020-11-24T05:58:38.405385Z",
     "shell.execute_reply": "2020-11-24T05:58:38.404412Z",
     "shell.execute_reply.started": "2020-11-24T05:58:09.410568Z"
    }
   },
   "outputs": [
    {
     "name": "stdout",
     "output_type": "stream",
     "text": [
      "Epoch 1/5\n",
      "1875/1875 [==============================] - 6s 3ms/step - loss: 0.4860 - accuracy: 0.8288\n",
      "Epoch 2/5\n",
      "1875/1875 [==============================] - 6s 3ms/step - loss: 0.3658 - accuracy: 0.8683\n",
      "Epoch 3/5\n",
      "1875/1875 [==============================] - 5s 3ms/step - loss: 0.3241 - accuracy: 0.8819\n",
      "Epoch 4/5\n",
      "1875/1875 [==============================] - 5s 3ms/step - loss: 0.3018 - accuracy: 0.8888\n",
      "Epoch 5/5\n",
      "1875/1875 [==============================] - 5s 3ms/step - loss: 0.2837 - accuracy: 0.8945\n",
      "training time: 28.932\n"
     ]
    }
   ],
   "source": [
    "model_1 = tf.keras.models.Sequential([\n",
    "    tf.keras.layers.Flatten(input_shape=(28, 28)),\n",
    "    tf.keras.layers.Dense(256, activation='relu'),\n",
    "    tf.keras.layers.Dense(10, activation='softmax')\n",
    "])\n",
    "\n",
    "model_1.compile(optimizer='adam', loss='sparse_categorical_crossentropy', metrics=['accuracy'])\n",
    "st = time.time()\n",
    "model_1.fit(train_imgs_normalized, train_labels, epochs=5)\n",
    "print(f\"training time: {round(time.time() - st, 3)}\")"
   ]
  },
  {
   "cell_type": "code",
   "execution_count": 17,
   "metadata": {
    "execution": {
     "iopub.execute_input": "2020-11-24T05:58:38.406383Z",
     "iopub.status.busy": "2020-11-24T05:58:38.406383Z",
     "iopub.status.idle": "2020-11-24T05:58:39.340031Z",
     "shell.execute_reply": "2020-11-24T05:58:39.340031Z",
     "shell.execute_reply.started": "2020-11-24T05:58:38.406383Z"
    }
   },
   "outputs": [
    {
     "name": "stdout",
     "output_type": "stream",
     "text": [
      "313/313 [==============================] - 1s 2ms/step - loss: 59.2737 - accuracy: 0.8523\n"
     ]
    },
    {
     "data": {
      "text/plain": [
       "[59.27365493774414, 0.8522999882698059]"
      ]
     },
     "execution_count": 17,
     "metadata": {},
     "output_type": "execute_result"
    }
   ],
   "source": [
    "model_1.evaluate(test_imgs, test_labels)"
   ]
  },
  {
   "cell_type": "markdown",
   "metadata": {},
   "source": [
    "## Model 2"
   ]
  },
  {
   "cell_type": "code",
   "execution_count": 18,
   "metadata": {
    "execution": {
     "iopub.execute_input": "2020-11-24T05:58:39.342050Z",
     "iopub.status.busy": "2020-11-24T05:58:39.342050Z",
     "iopub.status.idle": "2020-11-24T05:59:09.443410Z",
     "shell.execute_reply": "2020-11-24T05:59:09.442413Z",
     "shell.execute_reply.started": "2020-11-24T05:58:39.342050Z"
    }
   },
   "outputs": [
    {
     "name": "stdout",
     "output_type": "stream",
     "text": [
      "Epoch 1/5\n",
      "1875/1875 [==============================] - 5s 3ms/step - loss: 0.4776 - accuracy: 0.8291\n",
      "Epoch 2/5\n",
      "1875/1875 [==============================] - 5s 3ms/step - loss: 0.3590 - accuracy: 0.8697\n",
      "Epoch 3/5\n",
      "1875/1875 [==============================] - 6s 3ms/step - loss: 0.3194 - accuracy: 0.8834\n",
      "Epoch 4/5\n",
      "1875/1875 [==============================] - 6s 3ms/step - loss: 0.2970 - accuracy: 0.8883\n",
      "Epoch 5/5\n",
      "1875/1875 [==============================] - 7s 4ms/step - loss: 0.2796 - accuracy: 0.8967\n",
      "training time: 30.048\n"
     ]
    }
   ],
   "source": [
    "model_2 = tf.keras.models.Sequential([\n",
    "    tf.keras.layers.Flatten(input_shape=(28, 28)),\n",
    "    tf.keras.layers.Dense(512, activation='relu'),\n",
    "    tf.keras.layers.Dense(10, activation='softmax')\n",
    "])\n",
    "\n",
    "model_2.compile(optimizer='adam', loss='sparse_categorical_crossentropy', metrics=['accuracy'])\n",
    "st = time.time()\n",
    "model_2.fit(train_imgs_normalized, train_labels, epochs=5)\n",
    "print(f\"training time: {round(time.time() - st, 3)}\")"
   ]
  },
  {
   "cell_type": "code",
   "execution_count": 19,
   "metadata": {
    "execution": {
     "iopub.execute_input": "2020-11-24T05:59:09.446403Z",
     "iopub.status.busy": "2020-11-24T05:59:09.445406Z",
     "iopub.status.idle": "2020-11-24T05:59:10.568493Z",
     "shell.execute_reply": "2020-11-24T05:59:10.566977Z",
     "shell.execute_reply.started": "2020-11-24T05:59:09.446403Z"
    }
   },
   "outputs": [
    {
     "name": "stdout",
     "output_type": "stream",
     "text": [
      "313/313 [==============================] - 1s 3ms/step - loss: 64.1781 - accuracy: 0.8535\n"
     ]
    },
    {
     "data": {
      "text/plain": [
       "[64.17809295654297, 0.8535000085830688]"
      ]
     },
     "execution_count": 19,
     "metadata": {},
     "output_type": "execute_result"
    }
   ],
   "source": [
    "model_2.evaluate(test_imgs, test_labels)"
   ]
  },
  {
   "cell_type": "markdown",
   "metadata": {},
   "source": [
    "## Model 3"
   ]
  },
  {
   "cell_type": "code",
   "execution_count": 20,
   "metadata": {
    "execution": {
     "iopub.execute_input": "2020-11-24T05:59:10.570479Z",
     "iopub.status.busy": "2020-11-24T05:59:10.569481Z",
     "iopub.status.idle": "2020-11-24T05:59:46.897172Z",
     "shell.execute_reply": "2020-11-24T05:59:46.897172Z",
     "shell.execute_reply.started": "2020-11-24T05:59:10.570479Z"
    }
   },
   "outputs": [
    {
     "name": "stdout",
     "output_type": "stream",
     "text": [
      "Epoch 1/5\n",
      "1875/1875 [==============================] - 8s 4ms/step - loss: 0.4734 - accuracy: 0.8284\n",
      "Epoch 2/5\n",
      "1875/1875 [==============================] - 7s 4ms/step - loss: 0.3586 - accuracy: 0.8686\n",
      "Epoch 3/5\n",
      "1875/1875 [==============================] - 8s 4ms/step - loss: 0.3189 - accuracy: 0.8839\n",
      "Epoch 4/5\n",
      "1875/1875 [==============================] - 7s 4ms/step - loss: 0.2968 - accuracy: 0.8894\n",
      "Epoch 5/5\n",
      "1875/1875 [==============================] - 7s 4ms/step - loss: 0.2779 - accuracy: 0.8969\n",
      "training time: 36.251\n"
     ]
    }
   ],
   "source": [
    "model_3 = tf.keras.models.Sequential([\n",
    "    tf.keras.layers.Flatten(input_shape=(28, 28)),\n",
    "    tf.keras.layers.Dense(1024, activation='relu'),\n",
    "    tf.keras.layers.Dense(10, activation='softmax')\n",
    "])\n",
    "\n",
    "model_3.compile(optimizer='adam', loss='sparse_categorical_crossentropy', metrics=['accuracy'])\n",
    "st = time.time()\n",
    "model_3.fit(train_imgs_normalized, train_labels, epochs=5)\n",
    "print(f\"training time: {round(time.time() - st, 3)}\")"
   ]
  },
  {
   "cell_type": "code",
   "execution_count": 21,
   "metadata": {
    "execution": {
     "iopub.execute_input": "2020-11-24T05:59:46.899165Z",
     "iopub.status.busy": "2020-11-24T05:59:46.899165Z",
     "iopub.status.idle": "2020-11-24T05:59:47.809993Z",
     "shell.execute_reply": "2020-11-24T05:59:47.808994Z",
     "shell.execute_reply.started": "2020-11-24T05:59:46.899165Z"
    }
   },
   "outputs": [
    {
     "name": "stdout",
     "output_type": "stream",
     "text": [
      "313/313 [==============================] - 1s 2ms/step - loss: 63.2083 - accuracy: 0.8541\n"
     ]
    },
    {
     "data": {
      "text/plain": [
       "[63.208335876464844, 0.8540999889373779]"
      ]
     },
     "execution_count": 21,
     "metadata": {},
     "output_type": "execute_result"
    }
   ],
   "source": [
    "model_3.evaluate(test_imgs, test_labels)"
   ]
  },
  {
   "cell_type": "markdown",
   "metadata": {},
   "source": [
    "## Model 4"
   ]
  },
  {
   "cell_type": "code",
   "execution_count": 22,
   "metadata": {
    "execution": {
     "iopub.execute_input": "2020-11-24T05:59:47.811986Z",
     "iopub.status.busy": "2020-11-24T05:59:47.811986Z",
     "iopub.status.idle": "2020-11-24T06:00:12.145827Z",
     "shell.execute_reply": "2020-11-24T06:00:12.145827Z",
     "shell.execute_reply.started": "2020-11-24T05:59:47.811986Z"
    }
   },
   "outputs": [
    {
     "name": "stdout",
     "output_type": "stream",
     "text": [
      "Epoch 1/5\n",
      "1875/1875 [==============================] - 5s 3ms/step - loss: 0.4799 - accuracy: 0.8257\n",
      "Epoch 2/5\n",
      "1875/1875 [==============================] - 5s 3ms/step - loss: 0.3598 - accuracy: 0.8690\n",
      "Epoch 3/5\n",
      "1875/1875 [==============================] - 5s 3ms/step - loss: 0.3236 - accuracy: 0.8810\n",
      "Epoch 4/5\n",
      "1875/1875 [==============================] - 5s 3ms/step - loss: 0.3018 - accuracy: 0.8877\n",
      "Epoch 5/5\n",
      "1875/1875 [==============================] - 5s 3ms/step - loss: 0.2830 - accuracy: 0.8941\n",
      "training time: 24.273\n"
     ]
    }
   ],
   "source": [
    "model_4 = tf.keras.models.Sequential([\n",
    "    tf.keras.layers.Flatten(input_shape=(28, 28)),\n",
    "    tf.keras.layers.Dense(128, activation='relu'),\n",
    "    tf.keras.layers.Dense(256, activation='relu'),\n",
    "    tf.keras.layers.Dense(10, activation='softmax')\n",
    "])\n",
    "\n",
    "model_4.compile(optimizer='adam', loss='sparse_categorical_crossentropy', metrics=['accuracy'])\n",
    "st = time.time()\n",
    "model_4.fit(train_imgs_normalized, train_labels, epochs=5)\n",
    "print(f\"training time: {round(time.time() - st, 3)}\")"
   ]
  },
  {
   "cell_type": "code",
   "execution_count": 23,
   "metadata": {
    "execution": {
     "iopub.execute_input": "2020-11-24T06:00:12.147791Z",
     "iopub.status.busy": "2020-11-24T06:00:12.147791Z",
     "iopub.status.idle": "2020-11-24T06:00:12.971958Z",
     "shell.execute_reply": "2020-11-24T06:00:12.970962Z",
     "shell.execute_reply.started": "2020-11-24T06:00:12.147791Z"
    }
   },
   "outputs": [
    {
     "name": "stdout",
     "output_type": "stream",
     "text": [
      "313/313 [==============================] - 1s 2ms/step - loss: 61.7552 - accuracy: 0.8407\n"
     ]
    },
    {
     "data": {
      "text/plain": [
       "[61.755218505859375, 0.8406999707221985]"
      ]
     },
     "execution_count": 23,
     "metadata": {},
     "output_type": "execute_result"
    }
   ],
   "source": [
    "model_4.evaluate(test_imgs, test_labels)"
   ]
  },
  {
   "cell_type": "markdown",
   "metadata": {},
   "source": [
    "# Training Epochs"
   ]
  },
  {
   "cell_type": "code",
   "execution_count": 31,
   "metadata": {
    "execution": {
     "iopub.execute_input": "2020-11-24T06:08:31.787598Z",
     "iopub.status.busy": "2020-11-24T06:08:31.787598Z",
     "iopub.status.idle": "2020-11-24T06:08:31.794579Z",
     "shell.execute_reply": "2020-11-24T06:08:31.793582Z",
     "shell.execute_reply.started": "2020-11-24T06:08:31.787598Z"
    }
   },
   "outputs": [],
   "source": [
    "import seaborn as sns\n",
    "sns.set_theme(style=\"whitegrid\", palette=\"muted\")\n",
    "import matplotlib.pyplot as plt"
   ]
  },
  {
   "cell_type": "code",
   "execution_count": 32,
   "metadata": {
    "execution": {
     "iopub.execute_input": "2020-11-24T06:08:32.441461Z",
     "iopub.status.busy": "2020-11-24T06:08:32.440469Z",
     "iopub.status.idle": "2020-11-24T06:11:33.721989Z",
     "shell.execute_reply": "2020-11-24T06:11:33.721989Z",
     "shell.execute_reply.started": "2020-11-24T06:08:32.440469Z"
    }
   },
   "outputs": [
    {
     "name": "stdout",
     "output_type": "stream",
     "text": [
      "Epoch 1/30\n",
      "1875/1875 [==============================] - 5s 3ms/step - loss: 0.4997 - accuracy: 0.8242 - val_loss: 0.4434 - val_accuracy: 0.8382\n",
      "Epoch 2/30\n",
      "1875/1875 [==============================] - 6s 3ms/step - loss: 0.3776 - accuracy: 0.8637 - val_loss: 0.4202 - val_accuracy: 0.8479\n",
      "Epoch 3/30\n",
      "1875/1875 [==============================] - 7s 4ms/step - loss: 0.3339 - accuracy: 0.8789 - val_loss: 0.3811 - val_accuracy: 0.8665\n",
      "Epoch 4/30\n",
      "1875/1875 [==============================] - 5s 3ms/step - loss: 0.3128 - accuracy: 0.8844 - val_loss: 0.3698 - val_accuracy: 0.8659\n",
      "Epoch 5/30\n",
      "1875/1875 [==============================] - 5s 3ms/step - loss: 0.2938 - accuracy: 0.8916 - val_loss: 0.3471 - val_accuracy: 0.8773\n",
      "Epoch 6/30\n",
      "1875/1875 [==============================] - 5s 3ms/step - loss: 0.2819 - accuracy: 0.8972 - val_loss: 0.4080 - val_accuracy: 0.8533\n",
      "Epoch 7/30\n",
      "1875/1875 [==============================] - 7s 4ms/step - loss: 0.2669 - accuracy: 0.9008 - val_loss: 0.3605 - val_accuracy: 0.8712\n",
      "Epoch 8/30\n",
      "1875/1875 [==============================] - 5s 3ms/step - loss: 0.2569 - accuracy: 0.9056 - val_loss: 0.3557 - val_accuracy: 0.8728\n",
      "Epoch 9/30\n",
      "1875/1875 [==============================] - 5s 3ms/step - loss: 0.2463 - accuracy: 0.9090 - val_loss: 0.3426 - val_accuracy: 0.8797\n",
      "Epoch 10/30\n",
      "1875/1875 [==============================] - 5s 3ms/step - loss: 0.2394 - accuracy: 0.9106 - val_loss: 0.3541 - val_accuracy: 0.8745\n",
      "Epoch 11/30\n",
      "1875/1875 [==============================] - 5s 3ms/step - loss: 0.2305 - accuracy: 0.9132 - val_loss: 0.3345 - val_accuracy: 0.8876\n",
      "Epoch 12/30\n",
      "1875/1875 [==============================] - 6s 3ms/step - loss: 0.2233 - accuracy: 0.9157 - val_loss: 0.3443 - val_accuracy: 0.8834\n",
      "Epoch 13/30\n",
      "1875/1875 [==============================] - 5s 3ms/step - loss: 0.2148 - accuracy: 0.9202 - val_loss: 0.3466 - val_accuracy: 0.8875\n",
      "Epoch 14/30\n",
      "1875/1875 [==============================] - 6s 3ms/step - loss: 0.2078 - accuracy: 0.9226 - val_loss: 0.3459 - val_accuracy: 0.8851\n",
      "Epoch 15/30\n",
      "1875/1875 [==============================] - 6s 3ms/step - loss: 0.2032 - accuracy: 0.9243 - val_loss: 0.3520 - val_accuracy: 0.8837\n",
      "Epoch 16/30\n",
      "1875/1875 [==============================] - 5s 3ms/step - loss: 0.1977 - accuracy: 0.9256 - val_loss: 0.3424 - val_accuracy: 0.8866\n",
      "Epoch 17/30\n",
      "1875/1875 [==============================] - 6s 3ms/step - loss: 0.1903 - accuracy: 0.9287 - val_loss: 0.3580 - val_accuracy: 0.8843\n",
      "Epoch 18/30\n",
      "1875/1875 [==============================] - 6s 3ms/step - loss: 0.1860 - accuracy: 0.9303 - val_loss: 0.3481 - val_accuracy: 0.8875\n",
      "Epoch 19/30\n",
      "1875/1875 [==============================] - 6s 3ms/step - loss: 0.1792 - accuracy: 0.9325 - val_loss: 0.3523 - val_accuracy: 0.8920\n",
      "Epoch 20/30\n",
      "1875/1875 [==============================] - 6s 3ms/step - loss: 0.1755 - accuracy: 0.9336 - val_loss: 0.3699 - val_accuracy: 0.8819\n",
      "Epoch 21/30\n",
      "1875/1875 [==============================] - 6s 3ms/step - loss: 0.1734 - accuracy: 0.9348 - val_loss: 0.3658 - val_accuracy: 0.8891\n",
      "Epoch 22/30\n",
      "1875/1875 [==============================] - 5s 3ms/step - loss: 0.1687 - accuracy: 0.9362 - val_loss: 0.3680 - val_accuracy: 0.8892\n",
      "Epoch 23/30\n",
      "1875/1875 [==============================] - 6s 3ms/step - loss: 0.1637 - accuracy: 0.9380 - val_loss: 0.3795 - val_accuracy: 0.8850\n",
      "Epoch 24/30\n",
      "1875/1875 [==============================] - 11s 6ms/step - loss: 0.1602 - accuracy: 0.9405 - val_loss: 0.3794 - val_accuracy: 0.8883\n",
      "Epoch 25/30\n",
      "1875/1875 [==============================] - 9s 5ms/step - loss: 0.1562 - accuracy: 0.9415 - val_loss: 0.3765 - val_accuracy: 0.8953\n",
      "Epoch 26/30\n",
      "1875/1875 [==============================] - 7s 4ms/step - loss: 0.1506 - accuracy: 0.9431 - val_loss: 0.4014 - val_accuracy: 0.8817\n",
      "Epoch 27/30\n",
      "1875/1875 [==============================] - 6s 3ms/step - loss: 0.1497 - accuracy: 0.9437 - val_loss: 0.3878 - val_accuracy: 0.8897\n",
      "Epoch 28/30\n",
      "1875/1875 [==============================] - 6s 3ms/step - loss: 0.1461 - accuracy: 0.9450 - val_loss: 0.3908 - val_accuracy: 0.8927\n",
      "Epoch 29/30\n",
      "1875/1875 [==============================] - 7s 4ms/step - loss: 0.1441 - accuracy: 0.9450 - val_loss: 0.3992 - val_accuracy: 0.8894\n",
      "Epoch 30/30\n",
      "1875/1875 [==============================] - 5s 3ms/step - loss: 0.1398 - accuracy: 0.9480 - val_loss: 0.4087 - val_accuracy: 0.8873\n",
      "training time: 180.936\n"
     ]
    }
   ],
   "source": [
    "num_epochs = 30\n",
    "\n",
    "model_5 = tf.keras.models.Sequential([\n",
    "    tf.keras.layers.Flatten(input_shape=(28, 28)),\n",
    "    tf.keras.layers.Dense(128, activation='relu'),\n",
    "    tf.keras.layers.Dense(10, activation='softmax')\n",
    "])\n",
    "model_5.compile(optimizer='adam', loss='sparse_categorical_crossentropy', \n",
    "              metrics=['accuracy'])\n",
    "st = time.time()\n",
    "hist = model_5.fit(train_imgs_normalized, train_labels, epochs=num_epochs, \n",
    "                 validation_data=(test_imgs_normalized, test_labels)\n",
    "                )\n",
    "print(f\"training time: {round(time.time() - st, 3)}\")"
   ]
  },
  {
   "cell_type": "code",
   "execution_count": 38,
   "metadata": {
    "execution": {
     "iopub.execute_input": "2020-11-24T06:18:25.979447Z",
     "iopub.status.busy": "2020-11-24T06:18:25.979447Z",
     "iopub.status.idle": "2020-11-24T06:18:26.371166Z",
     "shell.execute_reply": "2020-11-24T06:18:26.371166Z",
     "shell.execute_reply.started": "2020-11-24T06:18:25.979447Z"
    }
   },
   "outputs": [
    {
     "name": "stderr",
     "output_type": "stream",
     "text": [
      "c:\\users\\chuan\\appdata\\local\\programs\\python\\python38\\lib\\site-packages\\seaborn\\_decorators.py:36: FutureWarning: Pass the following variables as keyword args: x, y. From version 0.12, the only valid positional argument will be `data`, and passing other arguments without an explicit keyword will result in an error or misinterpretation.\n",
      "  warnings.warn(\n",
      "c:\\users\\chuan\\appdata\\local\\programs\\python\\python38\\lib\\site-packages\\seaborn\\_decorators.py:36: FutureWarning: Pass the following variables as keyword args: x, y. From version 0.12, the only valid positional argument will be `data`, and passing other arguments without an explicit keyword will result in an error or misinterpretation.\n",
      "  warnings.warn(\n"
     ]
    },
    {
     "data": {
      "image/png": "[encoded data removed]",
      "text/plain": [
       "<Figure size 800x500 with 1 Axes>"
      ]
     },
     "metadata": {},
     "output_type": "display_data"
    }
   ],
   "source": [
    "epochs_arr = np.arange(1, num_epochs+1)\n",
    "\n",
    "\n",
    "fig = plt.figure(figsize=(8, 5), dpi=100)\n",
    "sns.lineplot(epochs_arr, hist.history['accuracy'], label=\"accuracy\")\n",
    "sns.lineplot(epochs_arr, hist.history['val_accuracy'], label=\"val_accuracy\")\n",
    "plt.show()"
   ]
  },
  {
   "cell_type": "code",
   "execution_count": 39,
   "metadata": {
    "execution": {
     "iopub.execute_input": "2020-11-24T06:18:30.888362Z",
     "iopub.status.busy": "2020-11-24T06:18:30.887333Z",
     "iopub.status.idle": "2020-11-24T06:18:31.166584Z",
     "shell.execute_reply": "2020-11-24T06:18:31.166584Z",
     "shell.execute_reply.started": "2020-11-24T06:18:30.888362Z"
    }
   },
   "outputs": [
    {
     "name": "stderr",
     "output_type": "stream",
     "text": [
      "c:\\users\\chuan\\appdata\\local\\programs\\python\\python38\\lib\\site-packages\\seaborn\\_decorators.py:36: FutureWarning: Pass the following variables as keyword args: x, y. From version 0.12, the only valid positional argument will be `data`, and passing other arguments without an explicit keyword will result in an error or misinterpretation.\n",
      "  warnings.warn(\n",
      "c:\\users\\chuan\\appdata\\local\\programs\\python\\python38\\lib\\site-packages\\seaborn\\_decorators.py:36: FutureWarning: Pass the following variables as keyword args: x, y. From version 0.12, the only valid positional argument will be `data`, and passing other arguments without an explicit keyword will result in an error or misinterpretation.\n",
      "  warnings.warn(\n"
     ]
    },
    {
     "data": {
      "image/png": "[encoded data removed]",
      "text/plain": [
       "<Figure size 800x500 with 1 Axes>"
      ]
     },
     "metadata": {},
     "output_type": "display_data"
    }
   ],
   "source": [
    "epochs_arr = np.arange(1, num_epochs+1)\n",
    "\n",
    "fig = plt.figure(figsize=(8, 5), dpi=100)\n",
    "sns.lineplot(epochs_arr, hist.history['loss'], label=\"loss\")\n",
    "sns.lineplot(epochs_arr, hist.history['val_loss'], label='val_loss')\n",
    "plt.show()"
   ]
  },
  {
   "cell_type": "code",
   "execution_count": null,
   "metadata": {},
   "outputs": [],
   "source": []
  }
 ],
 "metadata": {
  "kernelspec": {
   "display_name": "Python 3",
   "language": "python",
   "name": "python3"
  },
  "language_info": {
   "codemirror_mode": {
    "name": "ipython",
    "version": 3
   },
   "file_extension": ".py",
   "mimetype": "text/x-python",
   "name": "python",
   "nbconvert_exporter": "python",
   "pygments_lexer": "ipython3",
   "version": "3.8.5"
  }
 },
 "nbformat": 4,
 "nbformat_minor": 4
}
