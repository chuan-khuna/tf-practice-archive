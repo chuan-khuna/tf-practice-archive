{
 "cells": [
  {
   "cell_type": "code",
   "execution_count": 1,
   "metadata": {},
   "outputs": [],
   "source": [
    "import numpy as np\n",
    "import pandas as pd\n",
    "\n",
    "from keras.models import Sequential\n",
    "from keras.layers import Dense, SimpleRNN, RNN, TimeDistributed\n",
    "from keras.optimizers import *\n",
    "from keras.activations import *\n",
    "import keras.backend as K\n",
    "\n",
    "import os\n",
    "os.environ['TF_CPP_MIN_LOG_LEVEL'] = '3'\n",
    "\n",
    "def warn(*args, **kwargs):\n",
    "    pass\n",
    "import warnings\n",
    "warnings.warn = warn"
   ]
  },
  {
   "cell_type": "markdown",
   "metadata": {},
   "source": [
    "### import ข้อมูลชื่อ ไดโนเสาร์\n",
    "\n",
    "```\n",
    "Aachenosaurus\n",
    "Aardonyx\n",
    "Abdallahsaurus\n",
    "Abelisaurus\n",
    "Abrictosaurus\n",
    "...\n",
    "Zuolong\n",
    "Zuoyunlong\n",
    "Zupaysaurus\n",
    "Zuul\n",
    "```"
   ]
  },
  {
   "cell_type": "code",
   "execution_count": 2,
   "metadata": {},
   "outputs": [],
   "source": [
    "with open(\"./data/dinos.txt\", \"r\") as f:\n",
    "    dinos = f.read()\n",
    "dinos = dinos.lower()\n",
    "chars = sorted(list(set(dinos)))\n",
    "dinos = dinos.split('\\n')"
   ]
  },
  {
   "cell_type": "code",
   "execution_count": 3,
   "metadata": {},
   "outputs": [
    {
     "data": {
      "text/plain": [
       "['aachenosaurus',\n",
       " 'aardonyx',\n",
       " 'abdallahsaurus',\n",
       " 'abelisaurus',\n",
       " 'abrictosaurus',\n",
       " 'abrosaurus',\n",
       " 'abydosaurus',\n",
       " 'acanthopholis',\n",
       " 'achelousaurus',\n",
       " 'acheroraptor']"
      ]
     },
     "execution_count": 3,
     "metadata": {},
     "output_type": "execute_result"
    }
   ],
   "source": [
    "dinos[:10]"
   ]
  },
  {
   "cell_type": "code",
   "execution_count": 4,
   "metadata": {},
   "outputs": [],
   "source": [
    "ix_to_char = {i:ch for i, ch in enumerate(chars)}\n",
    "char_to_ix = {ch:i for i, ch in enumerate(chars)}"
   ]
  },
  {
   "cell_type": "code",
   "execution_count": 5,
   "metadata": {},
   "outputs": [
    {
     "data": {
      "text/plain": [
       "{0: '\\n',\n",
       " 1: 'a',\n",
       " 2: 'b',\n",
       " 3: 'c',\n",
       " 4: 'd',\n",
       " 5: 'e',\n",
       " 6: 'f',\n",
       " 7: 'g',\n",
       " 8: 'h',\n",
       " 9: 'i',\n",
       " 10: 'j',\n",
       " 11: 'k',\n",
       " 12: 'l',\n",
       " 13: 'm',\n",
       " 14: 'n',\n",
       " 15: 'o',\n",
       " 16: 'p',\n",
       " 17: 'q',\n",
       " 18: 'r',\n",
       " 19: 's',\n",
       " 20: 't',\n",
       " 21: 'u',\n",
       " 22: 'v',\n",
       " 23: 'w',\n",
       " 24: 'x',\n",
       " 25: 'y',\n",
       " 26: 'z'}"
      ]
     },
     "execution_count": 5,
     "metadata": {},
     "output_type": "execute_result"
    }
   ],
   "source": [
    "ix_to_char"
   ]
  },
  {
   "cell_type": "code",
   "execution_count": 6,
   "metadata": {},
   "outputs": [
    {
     "data": {
      "text/plain": [
       "{'\\n': 0,\n",
       " 'a': 1,\n",
       " 'b': 2,\n",
       " 'c': 3,\n",
       " 'd': 4,\n",
       " 'e': 5,\n",
       " 'f': 6,\n",
       " 'g': 7,\n",
       " 'h': 8,\n",
       " 'i': 9,\n",
       " 'j': 10,\n",
       " 'k': 11,\n",
       " 'l': 12,\n",
       " 'm': 13,\n",
       " 'n': 14,\n",
       " 'o': 15,\n",
       " 'p': 16,\n",
       " 'q': 17,\n",
       " 'r': 18,\n",
       " 's': 19,\n",
       " 't': 20,\n",
       " 'u': 21,\n",
       " 'v': 22,\n",
       " 'w': 23,\n",
       " 'x': 24,\n",
       " 'y': 25,\n",
       " 'z': 26}"
      ]
     },
     "execution_count": 6,
     "metadata": {},
     "output_type": "execute_result"
    }
   ],
   "source": [
    "char_to_ix"
   ]
  },
  {
   "cell_type": "markdown",
   "metadata": {},
   "source": [
    "### encode the dinos data"
   ]
  },
  {
   "cell_type": "code",
   "execution_count": 7,
   "metadata": {},
   "outputs": [],
   "source": [
    "dinos_encoded = []\n",
    "for dino in dinos:\n",
    "    dinos_encoded.append([char_to_ix[n] for n in dino])"
   ]
  },
  {
   "cell_type": "code",
   "execution_count": 8,
   "metadata": {},
   "outputs": [],
   "source": [
    "dinos_onehot = []\n",
    "for dino in dinos_encoded:\n",
    "    dino_onehot = []\n",
    "    for char in dino:\n",
    "        x = np.zeros(len(chars))\n",
    "        x[char] = 1\n",
    "        dino_onehot.append(x)\n",
    "    dinos_onehot.append(np.asarray(dino_onehot))\n",
    "dinos_onehot = np.asarray(dinos_onehot)"
   ]
  },
  {
   "cell_type": "code",
   "execution_count": 9,
   "metadata": {},
   "outputs": [
    {
     "data": {
      "text/plain": [
       "(13, 27)"
      ]
     },
     "execution_count": 9,
     "metadata": {},
     "output_type": "execute_result"
    }
   ],
   "source": [
    "dinos_onehot[0].shape"
   ]
  },
  {
   "cell_type": "markdown",
   "metadata": {},
   "source": [
    "### Prepare data for input/output"
   ]
  },
  {
   "cell_type": "code",
   "execution_count": 10,
   "metadata": {},
   "outputs": [],
   "source": [
    "X = dinos_onehot.copy()"
   ]
  },
  {
   "cell_type": "code",
   "execution_count": 11,
   "metadata": {},
   "outputs": [],
   "source": [
    "Y = []\n",
    "for x in X:\n",
    "    y = x[1:]\n",
    "    new_line = np.zeros(len(chars))\n",
    "    new_line[char_to_ix['\\n']] = 1\n",
    "    y = np.append(y, [new_line], axis=0)\n",
    "    Y.append(y)\n",
    "Y = np.asarray(Y)"
   ]
  },
  {
   "cell_type": "markdown",
   "metadata": {},
   "source": [
    "## Sample dino name"
   ]
  },
  {
   "cell_type": "code",
   "execution_count": 12,
   "metadata": {},
   "outputs": [],
   "source": [
    "def decode_onehot(onehot, ix_to_char):\n",
    "    idx = np.argmax(onehot)\n",
    "    return ix_to_char[idx]\n",
    "\n",
    "def encode_onehot(n_x, loc):\n",
    "    x = np.zeros((n_x, ))\n",
    "    x[loc] = 1\n",
    "    return x\n",
    "\n",
    "def gen_dino_by_model(model, ix_to_char, n_x, max_len=25):\n",
    "    x = np.zeros((1, n_x))\n",
    "    for i in range(max_len):\n",
    "        predicted = model.predict(x.reshape(-1, x.shape[0], x.shape[1]))\n",
    "        y_prob = predicted[-1][-1]\n",
    "        loc = np.random.choice(range(n_x), p=y_prob)\n",
    "        x_next = encode_onehot(len(chars), loc)\n",
    "        if len(x) < 3 and decode_onehot(x_next, ix_to_char) == '\\n':\n",
    "            pass\n",
    "        else:\n",
    "            x = np.append(x, [x_next], axis=0)\n",
    "        if loc == 0 and len(x) >= 3:\n",
    "            break\n",
    "    dino_name = []\n",
    "    for onehot in x[1:]:\n",
    "        dino_name.append(decode_onehot(onehot, ix_to_char))\n",
    "    return ''.join(dino_name[:-1])"
   ]
  },
  {
   "cell_type": "markdown",
   "metadata": {},
   "source": [
    "## Model\n",
    "\n",
    "variable input length problem \n",
    "- [Variable Sequence Lengths in TensorFlow](https://danijar.com/variable-sequence-lengths-in-tensorflow/)\n",
    "- [varying-sequence-length-in-keras-without-padding](https://stackoverflow.com/questions/44873387/varying-sequence-length-in-keras-without-padding)\n",
    "- [training-an-rnn-with-examples-of-different-lengths-in-keras](https://datascience.stackexchange.com/questions/26366/training-an-rnn-with-examples-of-different-lengths-in-keras)\n",
    "- [Introduction to Recurrent Neural Networks (RNN) with Dinosaurs](https://towardsdatascience.com/introduction-to-recurrent-neural-networks-rnn-with-dinosaurs-790e74e3e6f6)"
   ]
  },
  {
   "cell_type": "code",
   "execution_count": 13,
   "metadata": {},
   "outputs": [],
   "source": [
    "n_a = 50\n",
    "n_x = len(chars)\n",
    "model = Sequential()\n",
    "simple_rnn = SimpleRNN(n_a, return_sequences=True, input_shape=(None, n_x))\n",
    "model.add(simple_rnn)\n",
    "dense = Dense(units=len(chars), activation='softmax')\n",
    "model.add(dense)"
   ]
  },
  {
   "cell_type": "code",
   "execution_count": 14,
   "metadata": {},
   "outputs": [
    {
     "name": "stdout",
     "output_type": "stream",
     "text": [
      "Model: \"sequential\"\n",
      "_________________________________________________________________\n",
      "Layer (type)                 Output Shape              Param #   \n",
      "=================================================================\n",
      "simple_rnn (SimpleRNN)       (None, None, 50)          3900      \n",
      "_________________________________________________________________\n",
      "dense (Dense)                (None, None, 27)          1377      \n",
      "=================================================================\n",
      "Total params: 5,277\n",
      "Trainable params: 5,277\n",
      "Non-trainable params: 0\n",
      "_________________________________________________________________\n"
     ]
    }
   ],
   "source": [
    "model.summary()"
   ]
  },
  {
   "cell_type": "markdown",
   "metadata": {},
   "source": [
    "### train แต่ละ epoch ด้วย 1 ชื่อ\n",
    "เนื่องจาก ความยาวชื่อไม่เท่ากัน\n",
    "\n",
    "#### learn แต่สุ่มไม่ถูก (แบบคำนวณเอง เลยใช้โมเดล predict)"
   ]
  },
  {
   "cell_type": "code",
   "execution_count": 15,
   "metadata": {},
   "outputs": [
    {
     "name": "stdout",
     "output_type": "stream",
     "text": [
      "iterations: 0, train sample: aachenosaurus\n",
      "predicted: yyqqqgycyakau\n",
      "WARNING:tensorflow:5 out of the last 5 calls to <function Model.make_predict_function.<locals>.predict_function at 0x000001DC1B165160> triggered tf.function retracing. Tracing is expensive and the excessive number of tracings is likely due to passing python objects instead of tensors. Also, tf.function has experimental_relax_shapes=True option that relaxes argument shapes that can avoid unnecessary retracing. Please refer to https://www.tensorflow.org/tutorials/customization/performance#python_or_tensor_args and https://www.tensorflow.org/api_docs/python/tf/function for more details.\n",
      "WARNING:tensorflow:6 out of the last 6 calls to <function Model.make_predict_function.<locals>.predict_function at 0x000001DC1B165160> triggered tf.function retracing. Tracing is expensive and the excessive number of tracings is likely due to passing python objects instead of tensors. Also, tf.function has experimental_relax_shapes=True option that relaxes argument shapes that can avoid unnecessary retracing. Please refer to https://www.tensorflow.org/tutorials/customization/performance#python_or_tensor_args and https://www.tensorflow.org/api_docs/python/tf/function for more details.\n",
      "WARNING:tensorflow:7 out of the last 7 calls to <function Model.make_predict_function.<locals>.predict_function at 0x000001DC1B165160> triggered tf.function retracing. Tracing is expensive and the excessive number of tracings is likely due to passing python objects instead of tensors. Also, tf.function has experimental_relax_shapes=True option that relaxes argument shapes that can avoid unnecessary retracing. Please refer to https://www.tensorflow.org/tutorials/customization/performance#python_or_tensor_args and https://www.tensorflow.org/api_docs/python/tf/function for more details.\n",
      "WARNING:tensorflow:8 out of the last 8 calls to <function Model.make_predict_function.<locals>.predict_function at 0x000001DC1B165160> triggered tf.function retracing. Tracing is expensive and the excessive number of tracings is likely due to passing python objects instead of tensors. Also, tf.function has experimental_relax_shapes=True option that relaxes argument shapes that can avoid unnecessary retracing. Please refer to https://www.tensorflow.org/tutorials/customization/performance#python_or_tensor_args and https://www.tensorflow.org/api_docs/python/tf/function for more details.\n",
      "WARNING:tensorflow:9 out of the last 9 calls to <function Model.make_predict_function.<locals>.predict_function at 0x000001DC1B165160> triggered tf.function retracing. Tracing is expensive and the excessive number of tracings is likely due to passing python objects instead of tensors. Also, tf.function has experimental_relax_shapes=True option that relaxes argument shapes that can avoid unnecessary retracing. Please refer to https://www.tensorflow.org/tutorials/customization/performance#python_or_tensor_args and https://www.tensorflow.org/api_docs/python/tf/function for more details.\n",
      "WARNING:tensorflow:10 out of the last 10 calls to <function Model.make_predict_function.<locals>.predict_function at 0x000001DC1B165160> triggered tf.function retracing. Tracing is expensive and the excessive number of tracings is likely due to passing python objects instead of tensors. Also, tf.function has experimental_relax_shapes=True option that relaxes argument shapes that can avoid unnecessary retracing. Please refer to https://www.tensorflow.org/tutorials/customization/performance#python_or_tensor_args and https://www.tensorflow.org/api_docs/python/tf/function for more details.\n",
      "WARNING:tensorflow:11 out of the last 11 calls to <function Model.make_predict_function.<locals>.predict_function at 0x000001DC1B165160> triggered tf.function retracing. Tracing is expensive and the excessive number of tracings is likely due to passing python objects instead of tensors. Also, tf.function has experimental_relax_shapes=True option that relaxes argument shapes that can avoid unnecessary retracing. Please refer to https://www.tensorflow.org/tutorials/customization/performance#python_or_tensor_args and https://www.tensorflow.org/api_docs/python/tf/function for more details.\n",
      "WARNING:tensorflow:11 out of the last 11 calls to <function Model.make_predict_function.<locals>.predict_function at 0x000001DC1B165160> triggered tf.function retracing. Tracing is expensive and the excessive number of tracings is likely due to passing python objects instead of tensors. Also, tf.function has experimental_relax_shapes=True option that relaxes argument shapes that can avoid unnecessary retracing. Please refer to https://www.tensorflow.org/tutorials/customization/performance#python_or_tensor_args and https://www.tensorflow.org/api_docs/python/tf/function for more details.\n",
      "WARNING:tensorflow:11 out of the last 11 calls to <function Model.make_predict_function.<locals>.predict_function at 0x000001DC1B165160> triggered tf.function retracing. Tracing is expensive and the excessive number of tracings is likely due to passing python objects instead of tensors. Also, tf.function has experimental_relax_shapes=True option that relaxes argument shapes that can avoid unnecessary retracing. Please refer to https://www.tensorflow.org/tutorials/customization/performance#python_or_tensor_args and https://www.tensorflow.org/api_docs/python/tf/function for more details.\n",
      "WARNING:tensorflow:10 out of the last 11 calls to <function Model.make_predict_function.<locals>.predict_function at 0x000001DC1B165160> triggered tf.function retracing. Tracing is expensive and the excessive number of tracings is likely due to passing python objects instead of tensors. Also, tf.function has experimental_relax_shapes=True option that relaxes argument shapes that can avoid unnecessary retracing. Please refer to https://www.tensorflow.org/tutorials/customization/performance#python_or_tensor_args and https://www.tensorflow.org/api_docs/python/tf/function for more details.\n",
      "WARNING:tensorflow:10 out of the last 11 calls to <function Model.make_predict_function.<locals>.predict_function at 0x000001DC1B165160> triggered tf.function retracing. Tracing is expensive and the excessive number of tracings is likely due to passing python objects instead of tensors. Also, tf.function has experimental_relax_shapes=True option that relaxes argument shapes that can avoid unnecessary retracing. Please refer to https://www.tensorflow.org/tutorials/customization/performance#python_or_tensor_args and https://www.tensorflow.org/api_docs/python/tf/function for more details.\n",
      "WARNING:tensorflow:10 out of the last 11 calls to <function Model.make_predict_function.<locals>.predict_function at 0x000001DC1B165160> triggered tf.function retracing. Tracing is expensive and the excessive number of tracings is likely due to passing python objects instead of tensors. Also, tf.function has experimental_relax_shapes=True option that relaxes argument shapes that can avoid unnecessary retracing. Please refer to https://www.tensorflow.org/tutorials/customization/performance#python_or_tensor_args and https://www.tensorflow.org/api_docs/python/tf/function for more details.\n",
      "WARNING:tensorflow:10 out of the last 11 calls to <function Model.make_predict_function.<locals>.predict_function at 0x000001DC1B165160> triggered tf.function retracing. Tracing is expensive and the excessive number of tracings is likely due to passing python objects instead of tensors. Also, tf.function has experimental_relax_shapes=True option that relaxes argument shapes that can avoid unnecessary retracing. Please refer to https://www.tensorflow.org/tutorials/customization/performance#python_or_tensor_args and https://www.tensorflow.org/api_docs/python/tf/function for more details.\n",
      "WARNING:tensorflow:10 out of the last 11 calls to <function Model.make_predict_function.<locals>.predict_function at 0x000001DC1B165160> triggered tf.function retracing. Tracing is expensive and the excessive number of tracings is likely due to passing python objects instead of tensors. Also, tf.function has experimental_relax_shapes=True option that relaxes argument shapes that can avoid unnecessary retracing. Please refer to https://www.tensorflow.org/tutorials/customization/performance#python_or_tensor_args and https://www.tensorflow.org/api_docs/python/tf/function for more details.\n",
      "WARNING:tensorflow:10 out of the last 11 calls to <function Model.make_predict_function.<locals>.predict_function at 0x000001DC1B165160> triggered tf.function retracing. Tracing is expensive and the excessive number of tracings is likely due to passing python objects instead of tensors. Also, tf.function has experimental_relax_shapes=True option that relaxes argument shapes that can avoid unnecessary retracing. Please refer to https://www.tensorflow.org/tutorials/customization/performance#python_or_tensor_args and https://www.tensorflow.org/api_docs/python/tf/function for more details.\n",
      "WARNING:tensorflow:10 out of the last 11 calls to <function Model.make_predict_function.<locals>.predict_function at 0x000001DC1B165160> triggered tf.function retracing. Tracing is expensive and the excessive number of tracings is likely due to passing python objects instead of tensors. Also, tf.function has experimental_relax_shapes=True option that relaxes argument shapes that can avoid unnecessary retracing. Please refer to https://www.tensorflow.org/tutorials/customization/performance#python_or_tensor_args and https://www.tensorflow.org/api_docs/python/tf/function for more details.\n",
      "WARNING:tensorflow:5 out of the last 6 calls to <function Model.make_train_function.<locals>.train_function at 0x000001DC550FAC10> triggered tf.function retracing. Tracing is expensive and the excessive number of tracings is likely due to passing python objects instead of tensors. Also, tf.function has experimental_relax_shapes=True option that relaxes argument shapes that can avoid unnecessary retracing. Please refer to https://www.tensorflow.org/tutorials/customization/performance#python_or_tensor_args and https://www.tensorflow.org/api_docs/python/tf/function for more details.\n",
      "WARNING:tensorflow:6 out of the last 10 calls to <function Model.make_train_function.<locals>.train_function at 0x000001DC550FAC10> triggered tf.function retracing. Tracing is expensive and the excessive number of tracings is likely due to passing python objects instead of tensors. Also, tf.function has experimental_relax_shapes=True option that relaxes argument shapes that can avoid unnecessary retracing. Please refer to https://www.tensorflow.org/tutorials/customization/performance#python_or_tensor_args and https://www.tensorflow.org/api_docs/python/tf/function for more details.\n",
      "iterations: 2000, train sample: eousdryosaurus\n",
      "predicted: rnsauoss\n",
      "urus\n",
      "\n",
      "iterations: 4000, train sample: neovenator\n",
      "predicted: grsenator\n",
      "\n",
      "iterations: 6000, train sample: traukutitan\n",
      "predicted: eotsusosan\n",
      "\n",
      "iterations: 8000, train sample: coelurus\n",
      "predicted: hnnosos\n",
      "\n",
      "iterations: 10000, train sample: limnornis\n",
      "predicted: aaaosaas\n",
      "\n",
      "iterations: 12000, train sample: sinocalliopteryx\n",
      "predicted: aaoshraoansoryx\n",
      "\n",
      "iterations: 14000, train sample: baotianmansaurus\n",
      "predicted: ardor\n",
      "ausu\n",
      "urus\n",
      "\n",
      "iterations: 16000, train sample: hypsilophodon\n",
      "predicted: apharoshosos\n",
      "\n",
      "iterations: 18000, train sample: protognathosaurus\n",
      "predicted: aoponoithosaurus\n",
      "\n",
      "iterations: 20000, train sample: agujaceratops\n",
      "predicted: ursineratops\n",
      "\n",
      "iterations: 22000, train sample: fabrosaurus\n",
      "predicted: unrosaurus\n",
      "\n",
      "iterations: 24000, train sample: omosaurus\n",
      "predicted: rasaurus\n",
      "\n",
      "iterations: 26000, train sample: unenlagia\n",
      "predicted: rinoosoa\n",
      "\n",
      "iterations: 28000, train sample: dachongosaurus\n",
      "predicted: onoangosaurus\n",
      "\n",
      "iterations: 30000, train sample: machairasaurus\n",
      "predicted: aneasranaurus\n",
      "\n"
     ]
    }
   ],
   "source": [
    "opt = Adam(learning_rate=0.001, clipvalue=5)\n",
    "model.compile(optimizer=opt, loss='categorical_crossentropy', metrics=['accuracy'])\n",
    "\n",
    "\n",
    "generated_dinos = {}\n",
    "\n",
    "iterations = 31000\n",
    "for i in range(iterations):\n",
    "    dino = i % len(dinos)\n",
    "    x = X[dino]\n",
    "    y = Y[dino]\n",
    "    x = x.reshape(-1, x.shape[0], x.shape[1])\n",
    "    y = y.reshape(-1, y.shape[0], y.shape[1])\n",
    "    \n",
    "    model.train_on_batch(x, y)\n",
    "    \n",
    "    # generate new dinosaur name\n",
    "    if i % 2000 == 0:\n",
    "        predicted = model.predict(x)\n",
    "        predicted = np.argmax(predicted, axis=2).ravel().tolist()\n",
    "        predicted = [ix_to_char[i] for i in predicted]\n",
    "        print(f\"iterations: {i}, train sample: {dinos[dino]}\")\n",
    "        print(f\"predicted: {''.join(predicted)}\")\n",
    "        max_dino = 10\n",
    "        max_dino_name = 20\n",
    "        dinos_name = []\n",
    "        for j in range(max_dino):\n",
    "            dino_name = gen_dino_by_model(model, ix_to_char, n_x, max_dino_name)\n",
    "            dinos_name.append(dino_name)\n",
    "        generated_dinos[i] = dinos_name"
   ]
  },
  {
   "cell_type": "code",
   "execution_count": 16,
   "metadata": {},
   "outputs": [
    {
     "name": "stdout",
     "output_type": "stream",
     "text": [
      "iteration: 0\n",
      "pylldujnnpwchrkxuxt\n",
      "fa\n",
      "dvmfiohbsdfjnzqwqwe\n",
      "snesdqmsznrkrefnxdb\n",
      "zztzcaxklgojweiwzmn\n",
      "\n",
      "\n",
      "iteration: 2000\n",
      "abgoduc\n",
      "vraurap\n",
      "vodor\n",
      "araptotps\n",
      "olyna\n",
      "\n",
      "\n",
      "iteration: 4000\n",
      "urjua\n",
      "onojodasaurus\n",
      "onelisaeras\n",
      "engosasaun\n",
      "pivoseurus\n",
      "\n",
      "\n",
      "iteration: 6000\n",
      "eneosaurus\n",
      "tihulita\n",
      "onomeris\n",
      "anchiania\n",
      "egumosaurus\n",
      "\n",
      "\n",
      "iteration: 8000\n",
      "onerusaurus\n",
      "eixosaurus\n",
      "urima\n",
      "ysthuria\n",
      "rasyesaurashus\n",
      "\n",
      "\n",
      "iteration: 10000\n",
      "apaluphosaurus\n",
      "aplosiuihilhsaurusa\n",
      "uriengoxesaurus\n",
      "eneisaurus\n",
      "bolosaucus\n",
      "\n",
      "\n",
      "iteration: 12000\n",
      "felosauros\n",
      "chybosaurus\n",
      "rayongusoun\n",
      "aosaurus\n",
      "eusa\n",
      "\n",
      "\n",
      "iteration: 14000\n",
      "onzatisus\n",
      "iongosauau\n",
      "lopheana\n",
      "utastelongus\n",
      "runaconltor\n",
      "\n",
      "\n",
      "iteration: 16000\n",
      "ptolin\n",
      "rokisaurus\n",
      "riperosaurus\n",
      "eicasaurus\n",
      "ingdamosaurux\n",
      "\n",
      "\n",
      "iteration: 18000\n",
      "egosaurus\n",
      "chalosaurus\n",
      "iauanatata\n",
      "atasaurus\n",
      "etrapshiploce\n",
      "\n",
      "\n",
      "iteration: 20000\n",
      "ehceshundon\n",
      "argbelons\n",
      "iloseunos\n",
      "menigong\n",
      "rinyaniton\n",
      "\n",
      "\n",
      "iteration: 22000\n",
      "ridcodosaurus\n",
      "umonvongodon\n",
      "urosaurus\n",
      "omomosaurus\n",
      "impeota\n",
      "\n",
      "\n",
      "iteration: 24000\n",
      "ua\n",
      "leskonesaurus\n",
      "ruinosaurus\n",
      "agsacrgaa\n",
      "apalia\n",
      "\n",
      "\n",
      "iteration: 26000\n",
      "onitosaurus\n",
      "ughitia\n",
      "alasaurus\n",
      "opskrlodon\n",
      "rgisauris\n",
      "\n",
      "\n",
      "iteration: 28000\n",
      "ucatodon\n",
      "olosaurus\n",
      "ypbsoitus\n",
      "ilatheodpeus\n",
      "avinosaurus\n",
      "\n",
      "\n",
      "iteration: 30000\n",
      "urapsaurus\n",
      "leviaanganlosauruno\n",
      "rastaruanleptrosaul\n",
      "alaanabbestoi\n",
      "elosaurus\n",
      "\n",
      "\n"
     ]
    }
   ],
   "source": [
    "for k, v in generated_dinos.items():\n",
    "    print(f\"iteration: {k}\")\n",
    "    for dino in v[:5]:\n",
    "        print(dino)\n",
    "    print('\\n')"
   ]
  },
  {
   "cell_type": "code",
   "execution_count": null,
   "metadata": {},
   "outputs": [],
   "source": []
  }
 ],
 "metadata": {
  "kernelspec": {
   "display_name": "Python 3",
   "language": "python",
   "name": "python3"
  },
  "language_info": {
   "codemirror_mode": {
    "name": "ipython",
    "version": 3
   },
   "file_extension": ".py",
   "mimetype": "text/x-python",
   "name": "python",
   "nbconvert_exporter": "python",
   "pygments_lexer": "ipython3",
   "version": "3.8.3"
  }
 },
 "nbformat": 4,
 "nbformat_minor": 4
}
