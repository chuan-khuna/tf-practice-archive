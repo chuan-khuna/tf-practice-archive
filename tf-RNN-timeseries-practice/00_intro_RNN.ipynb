{
 "cells": [
  {
   "cell_type": "code",
   "execution_count": 1,
   "metadata": {},
   "outputs": [],
   "source": [
    "import numpy as np\n",
    "import pandas as pd"
   ]
  },
  {
   "cell_type": "markdown",
   "metadata": {},
   "source": [
    "## ทำไมต้อง RNN\n",
    "\n",
    "### Notation ใน RNN\n",
    "\n",
    "```\n",
    "    x<1>  x<2>         ...                          x<9>\n",
    "x: Harry Potter and Hermione Granger invented a new spell.\n",
    "y(word = name?): 1 1 0 1 1 0 0 0 0\n",
    "```\n",
    "\n",
    "- `Tx`: ความยาวแกนเวลาของ x\n",
    "- `Ty`: ความยาวแกนเวลาของ y\n",
    "- `x<t>`: ค่าใน x ที่เวลา t\n",
    "- `y<t>`: ค่าใน y ที่เวลา t\n",
    "\n",
    "`Tx` ไม่จำเป็นต้องเท่ากับ `Ty`\n",
    "\n",
    "#### $T_x, x^{<t>}$\n",
    "\n",
    "### ปัญหาเมื่อ input เป็น text ถ้าใช้ Standard Neural Network \n",
    "- input/output size ไม่เท่ากันในแต่ละ sample\n",
    "- ความเกี่ยวข้องกันในแกนเวลาของ input\n",
    "- RNN (Better Representation) ช่วยลด params ที่ต้อง learn (RNN ใช้ Wa, Wy เหมือนกันทุก cell)\n",
    "\n",
    "<img src=\"./images/rnn-1.png\" width=\"800px\">\n",
    "\n",
    "> RNN model"
   ]
  },
  {
   "cell_type": "markdown",
   "metadata": {},
   "source": [
    "## Forward propagation\n",
    "\n",
    "<img src=\"./images/rnn-forward.jpg\" width=\"800px\">\n",
    "\n",
    "\n",
    "### $a^{<t>} = g_1(W_a[a^{<t-1>}, x^{<t>}] + b_a)$\n",
    "- $W_a$ เกิดจากการรวมของ $W_{aa}$ $W_{ax}$\n",
    "- `Waa.shape = (a.shape, a.shape)`\n",
    "- `Wax.shape = (a.shape, x.shape)`\n",
    "- `Wa.shape = (a.shape, a.shape+x.shape)`\n",
    "\n",
    "- `[a_t, x_prev_t].shape = (a.shape+x.shape, 1)`\n",
    "\n",
    "### $y^{<t>} = g_2(W_ya^{<t>} + b_y)$\n",
    "- $W_y$ = $W_{ay}$"
   ]
  },
  {
   "cell_type": "markdown",
   "metadata": {},
   "source": [
    "## Language Model\n",
    "\n",
    "#### รับ input มาเป็นเสียง ต้องการแปลให้เป็นข้อความ\n",
    "```\n",
    "The apple and pair salad.\n",
    "The apple and pear salad.\n",
    "```\n",
    "#### คำไหนกันแน่ pair vs pear?\n",
    "จะเห็นว่า The apple and **pear** salad. น่าจะมีความน่าจะเป็นที่มีประโยคนี้มากกว่า\n",
    "\n",
    "```\n",
    "P(The apple and pair salad.) = 3x10-12\n",
    "P(The apple and pear salad.) = 5x10-10\n",
    "```\n",
    "\n",
    "### งานของ `language model` คือบอกความน่าจะเป็นของ sentence\n",
    "\n",
    "#### สร้าง language model ยังไง\n",
    "language model ถูกสร้างจากการเทรนด้วยข้อมูล **corpus**\n",
    "\n",
    "```\n",
    "corpus = large set of text/sentence\n",
    "```\n",
    "\n",
    "ต้องมีการ `tokenize` ก่อน `token` = word ใน vocab"
   ]
  },
  {
   "cell_type": "code",
   "execution_count": null,
   "metadata": {},
   "outputs": [],
   "source": []
  }
 ],
 "metadata": {
  "kernelspec": {
   "display_name": "Python 3",
   "language": "python",
   "name": "python3"
  },
  "language_info": {
   "codemirror_mode": {
    "name": "ipython",
    "version": 3
   },
   "file_extension": ".py",
   "mimetype": "text/x-python",
   "name": "python",
   "nbconvert_exporter": "python",
   "pygments_lexer": "ipython3",
   "version": "3.8.3"
  }
 },
 "nbformat": 4,
 "nbformat_minor": 4
}
