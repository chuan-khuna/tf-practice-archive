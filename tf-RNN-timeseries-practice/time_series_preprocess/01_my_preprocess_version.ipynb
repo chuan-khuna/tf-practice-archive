{
 "cells": [
  {
   "cell_type": "code",
   "execution_count": 1,
   "metadata": {
    "execution": {
     "iopub.execute_input": "2020-07-28T07:41:25.028268Z",
     "iopub.status.busy": "2020-07-28T07:41:25.028268Z",
     "iopub.status.idle": "2020-07-28T07:41:27.750882Z",
     "shell.execute_reply": "2020-07-28T07:41:27.750882Z",
     "shell.execute_reply.started": "2020-07-28T07:41:25.028268Z"
    }
   },
   "outputs": [],
   "source": [
    "import numpy as np\n",
    "import pandas as pd\n",
    "\n",
    "import tensorflow as tf\n",
    "import keras"
   ]
  },
  {
   "cell_type": "markdown",
   "metadata": {},
   "source": [
    "### เหมือน preprocess แบบ 00 แต่ไม่ได้ต้องการให้เป็น tensor df ต้องการให้เป็น numpy"
   ]
  },
  {
   "cell_type": "code",
   "execution_count": 2,
   "metadata": {
    "execution": {
     "iopub.execute_input": "2020-07-28T07:41:27.752882Z",
     "iopub.status.busy": "2020-07-28T07:41:27.752882Z",
     "iopub.status.idle": "2020-07-28T07:41:27.756883Z",
     "shell.execute_reply": "2020-07-28T07:41:27.756883Z",
     "shell.execute_reply.started": "2020-07-28T07:41:27.752882Z"
    }
   },
   "outputs": [],
   "source": [
    "num_range = 25\n",
    "window_size = 5\n",
    "output_size = 1\n",
    "\n",
    "\n",
    "series = np.arange(num_range)"
   ]
  },
  {
   "cell_type": "markdown",
   "metadata": {},
   "source": [
    "#### tensor dataset"
   ]
  },
  {
   "cell_type": "code",
   "execution_count": 3,
   "metadata": {
    "execution": {
     "iopub.execute_input": "2020-07-28T07:41:27.758884Z",
     "iopub.status.busy": "2020-07-28T07:41:27.758884Z",
     "iopub.status.idle": "2020-07-28T07:41:28.622078Z",
     "shell.execute_reply": "2020-07-28T07:41:28.622078Z",
     "shell.execute_reply.started": "2020-07-28T07:41:27.758884Z"
    }
   },
   "outputs": [
    {
     "data": {
      "text/plain": [
       "<TensorSliceDataset shapes: (), types: tf.int32>"
      ]
     },
     "execution_count": 3,
     "metadata": {},
     "output_type": "execute_result"
    }
   ],
   "source": [
    "ds = tf.data.Dataset.from_tensor_slices(series)\n",
    "ds"
   ]
  },
  {
   "cell_type": "code",
   "execution_count": 4,
   "metadata": {
    "execution": {
     "iopub.execute_input": "2020-07-28T07:41:28.623078Z",
     "iopub.status.busy": "2020-07-28T07:41:28.623078Z",
     "iopub.status.idle": "2020-07-28T07:41:28.635081Z",
     "shell.execute_reply": "2020-07-28T07:41:28.635081Z",
     "shell.execute_reply.started": "2020-07-28T07:41:28.623078Z"
    }
   },
   "outputs": [
    {
     "data": {
      "text/plain": [
       "<tensorflow.python.data.ops.dataset_ops._NumpyIterator at 0x15500ffc670>"
      ]
     },
     "execution_count": 4,
     "metadata": {},
     "output_type": "execute_result"
    }
   ],
   "source": [
    "ds.as_numpy_iterator()"
   ]
  },
  {
   "cell_type": "code",
   "execution_count": 5,
   "metadata": {
    "execution": {
     "iopub.execute_input": "2020-07-28T07:41:28.636081Z",
     "iopub.status.busy": "2020-07-28T07:41:28.636081Z",
     "iopub.status.idle": "2020-07-28T07:41:29.517280Z",
     "shell.execute_reply": "2020-07-28T07:41:29.516280Z",
     "shell.execute_reply.started": "2020-07-28T07:41:28.636081Z"
    }
   },
   "outputs": [
    {
     "ename": "AttributeError",
     "evalue": "'TensorSliceDataset' object has no attribute 'numpy'",
     "output_type": "error",
     "traceback": [
      "\u001b[1;31m---------------------------------------------------------------------------\u001b[0m",
      "\u001b[1;31mAttributeError\u001b[0m                            Traceback (most recent call last)",
      "\u001b[1;32m<ipython-input-5-aafb3f60aa05>\u001b[0m in \u001b[0;36m<module>\u001b[1;34m\u001b[0m\n\u001b[1;32m----> 1\u001b[1;33m \u001b[0mds\u001b[0m\u001b[1;33m.\u001b[0m\u001b[0mnumpy\u001b[0m\u001b[1;33m(\u001b[0m\u001b[1;33m)\u001b[0m\u001b[1;33m\u001b[0m\u001b[1;33m\u001b[0m\u001b[0m\n\u001b[0m",
      "\u001b[1;31mAttributeError\u001b[0m: 'TensorSliceDataset' object has no attribute 'numpy'"
     ]
    }
   ],
   "source": [
    "ds.numpy()"
   ]
  },
  {
   "cell_type": "code",
   "execution_count": 6,
   "metadata": {
    "execution": {
     "iopub.execute_input": "2020-07-28T07:41:35.859776Z",
     "iopub.status.busy": "2020-07-28T07:41:35.859776Z",
     "iopub.status.idle": "2020-07-28T07:41:35.872779Z",
     "shell.execute_reply": "2020-07-28T07:41:35.872779Z",
     "shell.execute_reply.started": "2020-07-28T07:41:35.859776Z"
    }
   },
   "outputs": [
    {
     "name": "stdout",
     "output_type": "stream",
     "text": [
      "0\t1\t2\t3\t4\t5\t6\t7\t8\t9\t10\t11\t12\t13\t14\t15\t16\t17\t18\t19\t20\t21\t22\t23\t24\t"
     ]
    }
   ],
   "source": [
    "for i in ds.as_numpy_iterator():\n",
    "    print(i, end='\\t')"
   ]
  },
  {
   "cell_type": "markdown",
   "metadata": {},
   "source": [
    "#### windowing"
   ]
  },
  {
   "cell_type": "code",
   "execution_count": 7,
   "metadata": {
    "execution": {
     "iopub.execute_input": "2020-07-28T07:41:36.814328Z",
     "iopub.status.busy": "2020-07-28T07:41:36.814328Z",
     "iopub.status.idle": "2020-07-28T07:41:36.889346Z",
     "shell.execute_reply": "2020-07-28T07:41:36.889346Z",
     "shell.execute_reply.started": "2020-07-28T07:41:36.814328Z"
    }
   },
   "outputs": [],
   "source": [
    "ds = tf.data.Dataset.from_tensor_slices(series)\n",
    "ds = ds.window(window_size+output_size, shift=1, drop_remainder=True)\n",
    "ds = ds.flat_map(lambda window: window.batch(window_size+output_size))\n",
    "ds = ds.map(lambda window: (window[:-output_size], window[-output_size:]))"
   ]
  },
  {
   "cell_type": "code",
   "execution_count": 8,
   "metadata": {
    "execution": {
     "iopub.execute_input": "2020-07-28T07:41:37.068416Z",
     "iopub.status.busy": "2020-07-28T07:41:37.068416Z",
     "iopub.status.idle": "2020-07-28T07:41:37.072417Z",
     "shell.execute_reply": "2020-07-28T07:41:37.072417Z",
     "shell.execute_reply.started": "2020-07-28T07:41:37.068416Z"
    }
   },
   "outputs": [
    {
     "data": {
      "text/plain": [
       "<MapDataset shapes: ((None,), (None,)), types: (tf.int32, tf.int32)>"
      ]
     },
     "execution_count": 8,
     "metadata": {},
     "output_type": "execute_result"
    }
   ],
   "source": [
    "ds"
   ]
  },
  {
   "cell_type": "code",
   "execution_count": 9,
   "metadata": {
    "execution": {
     "iopub.execute_input": "2020-07-28T07:41:37.384603Z",
     "iopub.status.busy": "2020-07-28T07:41:37.383594Z",
     "iopub.status.idle": "2020-07-28T07:41:37.393595Z",
     "shell.execute_reply": "2020-07-28T07:41:37.393595Z",
     "shell.execute_reply.started": "2020-07-28T07:41:37.384603Z"
    }
   },
   "outputs": [
    {
     "data": {
      "text/plain": [
       "<tensorflow.python.data.ops.dataset_ops._NumpyIterator at 0x15527bbb0a0>"
      ]
     },
     "execution_count": 9,
     "metadata": {},
     "output_type": "execute_result"
    }
   ],
   "source": [
    "ds.as_numpy_iterator()"
   ]
  },
  {
   "cell_type": "code",
   "execution_count": 10,
   "metadata": {
    "execution": {
     "iopub.execute_input": "2020-07-28T07:41:38.935213Z",
     "iopub.status.busy": "2020-07-28T07:41:38.935213Z",
     "iopub.status.idle": "2020-07-28T07:41:38.955209Z",
     "shell.execute_reply": "2020-07-28T07:41:38.954208Z",
     "shell.execute_reply.started": "2020-07-28T07:41:38.935213Z"
    }
   },
   "outputs": [
    {
     "ename": "AttributeError",
     "evalue": "'MapDataset' object has no attribute 'numpy'",
     "output_type": "error",
     "traceback": [
      "\u001b[1;31m---------------------------------------------------------------------------\u001b[0m",
      "\u001b[1;31mAttributeError\u001b[0m                            Traceback (most recent call last)",
      "\u001b[1;32m<ipython-input-10-aafb3f60aa05>\u001b[0m in \u001b[0;36m<module>\u001b[1;34m\u001b[0m\n\u001b[1;32m----> 1\u001b[1;33m \u001b[0mds\u001b[0m\u001b[1;33m.\u001b[0m\u001b[0mnumpy\u001b[0m\u001b[1;33m(\u001b[0m\u001b[1;33m)\u001b[0m\u001b[1;33m\u001b[0m\u001b[1;33m\u001b[0m\u001b[0m\n\u001b[0m",
      "\u001b[1;31mAttributeError\u001b[0m: 'MapDataset' object has no attribute 'numpy'"
     ]
    }
   ],
   "source": [
    "ds.numpy()"
   ]
  },
  {
   "cell_type": "code",
   "execution_count": 15,
   "metadata": {
    "execution": {
     "iopub.execute_input": "2020-07-28T07:42:14.675830Z",
     "iopub.status.busy": "2020-07-28T07:42:14.675830Z",
     "iopub.status.idle": "2020-07-28T07:42:14.697835Z",
     "shell.execute_reply": "2020-07-28T07:42:14.697835Z",
     "shell.execute_reply.started": "2020-07-28T07:42:14.675830Z"
    }
   },
   "outputs": [
    {
     "name": "stdout",
     "output_type": "stream",
     "text": [
      "[0 1 2 3 4] \t [5]\n",
      "[1 2 3 4 5] \t [6]\n",
      "[2 3 4 5 6] \t [7]\n",
      "[3 4 5 6 7] \t [8]\n",
      "[4 5 6 7 8] \t [9]\n",
      "[5 6 7 8 9] \t [10]\n",
      "[ 6  7  8  9 10] \t [11]\n",
      "[ 7  8  9 10 11] \t [12]\n",
      "[ 8  9 10 11 12] \t [13]\n",
      "[ 9 10 11 12 13] \t [14]\n",
      "[10 11 12 13 14] \t [15]\n",
      "[11 12 13 14 15] \t [16]\n",
      "[12 13 14 15 16] \t [17]\n",
      "[13 14 15 16 17] \t [18]\n",
      "[14 15 16 17 18] \t [19]\n",
      "[15 16 17 18 19] \t [20]\n",
      "[16 17 18 19 20] \t [21]\n",
      "[17 18 19 20 21] \t [22]\n",
      "[18 19 20 21 22] \t [23]\n",
      "[19 20 21 22 23] \t [24]\n"
     ]
    }
   ],
   "source": [
    "for data in ds.as_numpy_iterator():\n",
    "    x, y = data\n",
    "    print(f\"{x} \\t {y}\")"
   ]
  },
  {
   "cell_type": "markdown",
   "metadata": {},
   "source": [
    "#### อาจจะเพิ่มการ shuffle\n",
    "\n",
    "```python\n",
    "ds = tf.data.Dataset.from_tensor_slices(series)\n",
    "ds = ds.window(window_size+output_size, shift=1, drop_remainder=True)\n",
    "ds = ds.flat_map(lambda window: window.batch(window_size+output_size))\n",
    "ds = ds.shuffle(shuffle_buffer)\n",
    "ds = ds.map(lambda window: (window[:-output_size], window[-output_size:]))\n",
    "```"
   ]
  },
  {
   "cell_type": "markdown",
   "metadata": {},
   "source": [
    "### แปลงให้เป็น numpy"
   ]
  },
  {
   "cell_type": "code",
   "execution_count": 18,
   "metadata": {
    "execution": {
     "iopub.execute_input": "2020-07-28T07:43:54.849945Z",
     "iopub.status.busy": "2020-07-28T07:43:54.849945Z",
     "iopub.status.idle": "2020-07-28T07:43:54.893964Z",
     "shell.execute_reply": "2020-07-28T07:43:54.893964Z",
     "shell.execute_reply.started": "2020-07-28T07:43:54.849945Z"
    }
   },
   "outputs": [],
   "source": [
    "ds = tf.data.Dataset.from_tensor_slices(series)\n",
    "windows = ds.window(window_size + output_size, shift=1, drop_remainder=True)\n",
    "ds = windows.flat_map(lambda window: window.batch(window_size + output_size))\n",
    "# ds = ds.shuffle(shuffle_buffer)\n",
    "ds = ds.map(lambda window: (window[:-output_size], window[-output_size:]))"
   ]
  },
  {
   "cell_type": "code",
   "execution_count": 21,
   "metadata": {
    "execution": {
     "iopub.execute_input": "2020-07-28T07:44:04.379975Z",
     "iopub.status.busy": "2020-07-28T07:44:04.379975Z",
     "iopub.status.idle": "2020-07-28T07:44:04.390978Z",
     "shell.execute_reply": "2020-07-28T07:44:04.390978Z",
     "shell.execute_reply.started": "2020-07-28T07:44:04.379975Z"
    }
   },
   "outputs": [
    {
     "data": {
      "text/plain": [
       "<tensorflow.python.data.ops.dataset_ops._NumpyIterator at 0x15528c6d7f0>"
      ]
     },
     "execution_count": 21,
     "metadata": {},
     "output_type": "execute_result"
    }
   ],
   "source": [
    "ds.as_numpy_iterator()"
   ]
  },
  {
   "cell_type": "code",
   "execution_count": 22,
   "metadata": {
    "execution": {
     "iopub.execute_input": "2020-07-28T07:44:13.425369Z",
     "iopub.status.busy": "2020-07-28T07:44:13.424369Z",
     "iopub.status.idle": "2020-07-28T07:44:13.444374Z",
     "shell.execute_reply": "2020-07-28T07:44:13.444374Z",
     "shell.execute_reply.started": "2020-07-28T07:44:13.425369Z"
    }
   },
   "outputs": [
    {
     "data": {
      "text/plain": [
       "[(array([0, 1, 2, 3, 4]), array([5])),\n",
       " (array([1, 2, 3, 4, 5]), array([6])),\n",
       " (array([2, 3, 4, 5, 6]), array([7])),\n",
       " (array([3, 4, 5, 6, 7]), array([8])),\n",
       " (array([4, 5, 6, 7, 8]), array([9])),\n",
       " (array([5, 6, 7, 8, 9]), array([10])),\n",
       " (array([ 6,  7,  8,  9, 10]), array([11])),\n",
       " (array([ 7,  8,  9, 10, 11]), array([12])),\n",
       " (array([ 8,  9, 10, 11, 12]), array([13])),\n",
       " (array([ 9, 10, 11, 12, 13]), array([14])),\n",
       " (array([10, 11, 12, 13, 14]), array([15])),\n",
       " (array([11, 12, 13, 14, 15]), array([16])),\n",
       " (array([12, 13, 14, 15, 16]), array([17])),\n",
       " (array([13, 14, 15, 16, 17]), array([18])),\n",
       " (array([14, 15, 16, 17, 18]), array([19])),\n",
       " (array([15, 16, 17, 18, 19]), array([20])),\n",
       " (array([16, 17, 18, 19, 20]), array([21])),\n",
       " (array([17, 18, 19, 20, 21]), array([22])),\n",
       " (array([18, 19, 20, 21, 22]), array([23])),\n",
       " (array([19, 20, 21, 22, 23]), array([24]))]"
      ]
     },
     "execution_count": 22,
     "metadata": {},
     "output_type": "execute_result"
    }
   ],
   "source": [
    "list(ds.as_numpy_iterator())"
   ]
  },
  {
   "cell_type": "code",
   "execution_count": 23,
   "metadata": {
    "execution": {
     "iopub.execute_input": "2020-07-28T07:44:23.818535Z",
     "iopub.status.busy": "2020-07-28T07:44:23.818535Z",
     "iopub.status.idle": "2020-07-28T07:44:23.837539Z",
     "shell.execute_reply": "2020-07-28T07:44:23.837539Z",
     "shell.execute_reply.started": "2020-07-28T07:44:23.818535Z"
    }
   },
   "outputs": [
    {
     "data": {
      "text/plain": [
       "array([[array([0, 1, 2, 3, 4]), array([5])],\n",
       "       [array([1, 2, 3, 4, 5]), array([6])],\n",
       "       [array([2, 3, 4, 5, 6]), array([7])],\n",
       "       [array([3, 4, 5, 6, 7]), array([8])],\n",
       "       [array([4, 5, 6, 7, 8]), array([9])],\n",
       "       [array([5, 6, 7, 8, 9]), array([10])],\n",
       "       [array([ 6,  7,  8,  9, 10]), array([11])],\n",
       "       [array([ 7,  8,  9, 10, 11]), array([12])],\n",
       "       [array([ 8,  9, 10, 11, 12]), array([13])],\n",
       "       [array([ 9, 10, 11, 12, 13]), array([14])],\n",
       "       [array([10, 11, 12, 13, 14]), array([15])],\n",
       "       [array([11, 12, 13, 14, 15]), array([16])],\n",
       "       [array([12, 13, 14, 15, 16]), array([17])],\n",
       "       [array([13, 14, 15, 16, 17]), array([18])],\n",
       "       [array([14, 15, 16, 17, 18]), array([19])],\n",
       "       [array([15, 16, 17, 18, 19]), array([20])],\n",
       "       [array([16, 17, 18, 19, 20]), array([21])],\n",
       "       [array([17, 18, 19, 20, 21]), array([22])],\n",
       "       [array([18, 19, 20, 21, 22]), array([23])],\n",
       "       [array([19, 20, 21, 22, 23]), array([24])]], dtype=object)"
      ]
     },
     "execution_count": 23,
     "metadata": {},
     "output_type": "execute_result"
    }
   ],
   "source": [
    "np.array(list(ds.as_numpy_iterator()))"
   ]
  },
  {
   "cell_type": "code",
   "execution_count": 25,
   "metadata": {
    "execution": {
     "iopub.execute_input": "2020-07-28T07:45:11.106322Z",
     "iopub.status.busy": "2020-07-28T07:45:11.106322Z",
     "iopub.status.idle": "2020-07-28T07:45:11.141330Z",
     "shell.execute_reply": "2020-07-28T07:45:11.140331Z",
     "shell.execute_reply.started": "2020-07-28T07:45:11.106322Z"
    }
   },
   "outputs": [],
   "source": [
    "ds = tf.data.Dataset.from_tensor_slices(series)\n",
    "windows = ds.window(window_size + output_size, shift=1, drop_remainder=True)\n",
    "ds = windows.flat_map(lambda window: window.batch(window_size + output_size))\n",
    "# ds = ds.shuffle(shuffle_buffer)\n",
    "ds = ds.map(lambda window: (window[:-output_size], window[-output_size:]))\n",
    "\n",
    "ds = np.array(list(ds.as_numpy_iterator()))"
   ]
  },
  {
   "cell_type": "code",
   "execution_count": 28,
   "metadata": {
    "execution": {
     "iopub.execute_input": "2020-07-28T07:45:21.205610Z",
     "iopub.status.busy": "2020-07-28T07:45:21.205610Z",
     "iopub.status.idle": "2020-07-28T07:45:21.210611Z",
     "shell.execute_reply": "2020-07-28T07:45:21.210611Z",
     "shell.execute_reply.started": "2020-07-28T07:45:21.205610Z"
    }
   },
   "outputs": [
    {
     "data": {
      "text/plain": [
       "array([array([0, 1, 2, 3, 4]), array([1, 2, 3, 4, 5]),\n",
       "       array([2, 3, 4, 5, 6]), array([3, 4, 5, 6, 7]),\n",
       "       array([4, 5, 6, 7, 8]), array([5, 6, 7, 8, 9]),\n",
       "       array([ 6,  7,  8,  9, 10]), array([ 7,  8,  9, 10, 11]),\n",
       "       array([ 8,  9, 10, 11, 12]), array([ 9, 10, 11, 12, 13]),\n",
       "       array([10, 11, 12, 13, 14]), array([11, 12, 13, 14, 15]),\n",
       "       array([12, 13, 14, 15, 16]), array([13, 14, 15, 16, 17]),\n",
       "       array([14, 15, 16, 17, 18]), array([15, 16, 17, 18, 19]),\n",
       "       array([16, 17, 18, 19, 20]), array([17, 18, 19, 20, 21]),\n",
       "       array([18, 19, 20, 21, 22]), array([19, 20, 21, 22, 23])],\n",
       "      dtype=object)"
      ]
     },
     "execution_count": 28,
     "metadata": {},
     "output_type": "execute_result"
    }
   ],
   "source": [
    "ds[:, 0]"
   ]
  },
  {
   "cell_type": "code",
   "execution_count": 29,
   "metadata": {
    "execution": {
     "iopub.execute_input": "2020-07-28T07:45:28.397066Z",
     "iopub.status.busy": "2020-07-28T07:45:28.397066Z",
     "iopub.status.idle": "2020-07-28T07:45:28.402067Z",
     "shell.execute_reply": "2020-07-28T07:45:28.402067Z",
     "shell.execute_reply.started": "2020-07-28T07:45:28.397066Z"
    }
   },
   "outputs": [
    {
     "data": {
      "text/plain": [
       "array([array([5]), array([6]), array([7]), array([8]), array([9]),\n",
       "       array([10]), array([11]), array([12]), array([13]), array([14]),\n",
       "       array([15]), array([16]), array([17]), array([18]), array([19]),\n",
       "       array([20]), array([21]), array([22]), array([23]), array([24])],\n",
       "      dtype=object)"
      ]
     },
     "execution_count": 29,
     "metadata": {},
     "output_type": "execute_result"
    }
   ],
   "source": [
    "ds[:, 1]"
   ]
  },
  {
   "cell_type": "markdown",
   "metadata": {},
   "source": [
    "#### เอา dtype = object ออก"
   ]
  },
  {
   "cell_type": "code",
   "execution_count": 31,
   "metadata": {
    "execution": {
     "iopub.execute_input": "2020-07-28T07:45:41.431752Z",
     "iopub.status.busy": "2020-07-28T07:45:41.431752Z",
     "iopub.status.idle": "2020-07-28T07:45:41.435745Z",
     "shell.execute_reply": "2020-07-28T07:45:41.435745Z",
     "shell.execute_reply.started": "2020-07-28T07:45:41.431752Z"
    }
   },
   "outputs": [
    {
     "data": {
      "text/plain": [
       "array([[ 0,  1,  2,  3,  4],\n",
       "       [ 1,  2,  3,  4,  5],\n",
       "       [ 2,  3,  4,  5,  6],\n",
       "       [ 3,  4,  5,  6,  7],\n",
       "       [ 4,  5,  6,  7,  8],\n",
       "       [ 5,  6,  7,  8,  9],\n",
       "       [ 6,  7,  8,  9, 10],\n",
       "       [ 7,  8,  9, 10, 11],\n",
       "       [ 8,  9, 10, 11, 12],\n",
       "       [ 9, 10, 11, 12, 13],\n",
       "       [10, 11, 12, 13, 14],\n",
       "       [11, 12, 13, 14, 15],\n",
       "       [12, 13, 14, 15, 16],\n",
       "       [13, 14, 15, 16, 17],\n",
       "       [14, 15, 16, 17, 18],\n",
       "       [15, 16, 17, 18, 19],\n",
       "       [16, 17, 18, 19, 20],\n",
       "       [17, 18, 19, 20, 21],\n",
       "       [18, 19, 20, 21, 22],\n",
       "       [19, 20, 21, 22, 23]])"
      ]
     },
     "execution_count": 31,
     "metadata": {},
     "output_type": "execute_result"
    }
   ],
   "source": [
    "np.array(ds[:, 0].tolist())"
   ]
  },
  {
   "cell_type": "markdown",
   "metadata": {},
   "source": [
    "# สรุป"
   ]
  },
  {
   "cell_type": "code",
   "execution_count": 33,
   "metadata": {
    "execution": {
     "iopub.execute_input": "2020-07-28T07:46:42.477708Z",
     "iopub.status.busy": "2020-07-28T07:46:42.477708Z",
     "iopub.status.idle": "2020-07-28T07:46:42.483718Z",
     "shell.execute_reply": "2020-07-28T07:46:42.483718Z",
     "shell.execute_reply.started": "2020-07-28T07:46:42.477708Z"
    }
   },
   "outputs": [],
   "source": [
    "def windowing_arr_X_Y(series, window_size, output_size=1, shuffle_buffer=1000):\n",
    "    \"\"\"windowing the input series to ML train-dataset\n",
    "        window_size: time step of input\n",
    "        output_size: time step of output/forcast/predicted\n",
    "        return: x, y numpy array\n",
    "    \"\"\"\n",
    "\n",
    "    ds = tf.data.Dataset.from_tensor_slices(series)\n",
    "    windows = ds.window(window_size + output_size, shift=1, drop_remainder=True)\n",
    "    ds = windows.flat_map(lambda window: window.batch(window_size + output_size))\n",
    "    ds = ds.shuffle(shuffle_buffer)\n",
    "    ds = ds.map(lambda window: (window[:-output_size], window[-output_size:]))\n",
    "    ds = np.array(list(ds.as_numpy_iterator()))\n",
    "    x = np.array(ds[:, 0].tolist())\n",
    "    y = np.array(ds[:, 1].tolist())\n",
    "    return x, y"
   ]
  },
  {
   "cell_type": "code",
   "execution_count": null,
   "metadata": {},
   "outputs": [],
   "source": []
  }
 ],
 "metadata": {
  "kernelspec": {
   "display_name": "Python 3",
   "language": "python",
   "name": "python3"
  },
  "language_info": {
   "codemirror_mode": {
    "name": "ipython",
    "version": 3
   },
   "file_extension": ".py",
   "mimetype": "text/x-python",
   "name": "python",
   "nbconvert_exporter": "python",
   "pygments_lexer": "ipython3",
   "version": "3.8.3"
  }
 },
 "nbformat": 4,
 "nbformat_minor": 4
}
