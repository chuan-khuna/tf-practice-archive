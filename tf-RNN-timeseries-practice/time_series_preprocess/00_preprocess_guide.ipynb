{
 "cells": [
  {
   "cell_type": "code",
   "execution_count": 5,
   "metadata": {
    "execution": {
     "iopub.execute_input": "2020-07-28T07:28:11.872406Z",
     "iopub.status.busy": "2020-07-28T07:28:11.871405Z",
     "iopub.status.idle": "2020-07-28T07:28:11.874529Z",
     "shell.execute_reply": "2020-07-28T07:28:11.874407Z",
     "shell.execute_reply.started": "2020-07-28T07:28:11.872406Z"
    }
   },
   "outputs": [],
   "source": [
    "import numpy as np\n",
    "import pandas as pd\n",
    "\n",
    "import tensorflow as tf\n",
    "import keras"
   ]
  },
  {
   "cell_type": "markdown",
   "metadata": {},
   "source": [
    "## Rolling Window\n",
    "\n",
    "สรุปการแบ่ง time series data ให้เป็น window โดยใช้ tensor flow\n",
    "\n",
    "- แปลงข้อมูลให้เป็น tensor dataset\n",
    "- จัดข้อมูลให้เป็น window\n",
    "    - flatmap\n",
    "- แยกข้อมูล input/output"
   ]
  },
  {
   "cell_type": "code",
   "execution_count": 13,
   "metadata": {
    "execution": {
     "iopub.execute_input": "2020-07-28T07:30:38.775291Z",
     "iopub.status.busy": "2020-07-28T07:30:38.774291Z",
     "iopub.status.idle": "2020-07-28T07:30:38.777313Z",
     "shell.execute_reply": "2020-07-28T07:30:38.777313Z",
     "shell.execute_reply.started": "2020-07-28T07:30:38.775291Z"
    }
   },
   "outputs": [],
   "source": [
    "num_range = 10\n",
    "\n",
    "window_size = 5\n",
    "batch_size = 2"
   ]
  },
  {
   "cell_type": "code",
   "execution_count": 14,
   "metadata": {
    "execution": {
     "iopub.execute_input": "2020-07-28T07:30:39.112684Z",
     "iopub.status.busy": "2020-07-28T07:30:39.112684Z",
     "iopub.status.idle": "2020-07-28T07:30:39.116685Z",
     "shell.execute_reply": "2020-07-28T07:30:39.116685Z",
     "shell.execute_reply.started": "2020-07-28T07:30:39.112684Z"
    }
   },
   "outputs": [
    {
     "data": {
      "text/plain": [
       "<RangeDataset shapes: (), types: tf.int64>"
      ]
     },
     "execution_count": 14,
     "metadata": {},
     "output_type": "execute_result"
    }
   ],
   "source": [
    "ds = tf.data.Dataset.range(num_range)\n",
    "ds"
   ]
  },
  {
   "cell_type": "code",
   "execution_count": 15,
   "metadata": {
    "execution": {
     "iopub.execute_input": "2020-07-28T07:30:39.509438Z",
     "iopub.status.busy": "2020-07-28T07:30:39.509438Z",
     "iopub.status.idle": "2020-07-28T07:30:39.517439Z",
     "shell.execute_reply": "2020-07-28T07:30:39.517439Z",
     "shell.execute_reply.started": "2020-07-28T07:30:39.509438Z"
    }
   },
   "outputs": [
    {
     "name": "stdout",
     "output_type": "stream",
     "text": [
      "0\n",
      "1\n",
      "2\n",
      "3\n",
      "4\n",
      "5\n",
      "6\n",
      "7\n",
      "8\n",
      "9\n"
     ]
    }
   ],
   "source": [
    "for i in ds:\n",
    "    print(i.numpy())"
   ]
  },
  {
   "cell_type": "markdown",
   "metadata": {},
   "source": [
    "### numpy iterator"
   ]
  },
  {
   "cell_type": "code",
   "execution_count": 11,
   "metadata": {
    "execution": {
     "iopub.execute_input": "2020-07-28T07:29:03.241916Z",
     "iopub.status.busy": "2020-07-28T07:29:03.241916Z",
     "iopub.status.idle": "2020-07-28T07:29:03.249927Z",
     "shell.execute_reply": "2020-07-28T07:29:03.249927Z",
     "shell.execute_reply.started": "2020-07-28T07:29:03.241916Z"
    }
   },
   "outputs": [
    {
     "name": "stdout",
     "output_type": "stream",
     "text": [
      "0\n",
      "1\n",
      "2\n",
      "3\n",
      "4\n",
      "5\n",
      "6\n",
      "7\n",
      "8\n",
      "9\n"
     ]
    }
   ],
   "source": [
    "for i in ds.as_numpy_iterator():\n",
    "    print(i)"
   ]
  },
  {
   "cell_type": "markdown",
   "metadata": {},
   "source": [
    "#### จัดข้อมูลให้เป็น windows ด้วย `.window()` \n",
    "\n",
    "```python\n",
    "ds = [...]\n",
    "ds = ds.window(window_size, shift=1, drop_remainder=True)\n",
    "```\n",
    "\n",
    "> `ds` บรรทัดล่างคือ list ของ window"
   ]
  },
  {
   "cell_type": "code",
   "execution_count": 16,
   "metadata": {
    "execution": {
     "iopub.execute_input": "2020-07-28T07:30:42.655587Z",
     "iopub.status.busy": "2020-07-28T07:30:42.655587Z",
     "iopub.status.idle": "2020-07-28T07:30:42.660588Z",
     "shell.execute_reply": "2020-07-28T07:30:42.660588Z",
     "shell.execute_reply.started": "2020-07-28T07:30:42.655587Z"
    }
   },
   "outputs": [
    {
     "data": {
      "text/plain": [
       "<WindowDataset shapes: DatasetSpec(TensorSpec(shape=(), dtype=tf.int64, name=None), TensorShape([])), types: DatasetSpec(TensorSpec(shape=(), dtype=tf.int64, name=None), TensorShape([]))>"
      ]
     },
     "execution_count": 16,
     "metadata": {},
     "output_type": "execute_result"
    }
   ],
   "source": [
    "ds = tf.data.Dataset.range(num_range)\n",
    "ds = ds.window(window_size, shift=1, drop_remainder=True)\n",
    "ds"
   ]
  },
  {
   "cell_type": "markdown",
   "metadata": {},
   "source": [
    "#### ตัวอย่างเมื่อนำข้อมูลในแต่ละ window มาแสดงผล\n",
    "```\n",
    "0 1 2 3 4 \n",
    "1 2 3 4 5 \n",
    "2 3 4 5 6 \n",
    "3 4 5 6 7 \n",
    "4 5 6 7 8 \n",
    "5 6 7 8 9 \n",
    "```"
   ]
  },
  {
   "cell_type": "code",
   "execution_count": 17,
   "metadata": {
    "execution": {
     "iopub.execute_input": "2020-07-28T07:30:49.935839Z",
     "iopub.status.busy": "2020-07-28T07:30:49.934837Z",
     "iopub.status.idle": "2020-07-28T07:30:49.968853Z",
     "shell.execute_reply": "2020-07-28T07:30:49.968853Z",
     "shell.execute_reply.started": "2020-07-28T07:30:49.935839Z"
    }
   },
   "outputs": [
    {
     "name": "stdout",
     "output_type": "stream",
     "text": [
      "0 1 2 3 4 \n",
      "1 2 3 4 5 \n",
      "2 3 4 5 6 \n",
      "3 4 5 6 7 \n",
      "4 5 6 7 8 \n",
      "5 6 7 8 9 \n"
     ]
    }
   ],
   "source": [
    "for window in ds:\n",
    "    for val in window:\n",
    "        print(val.numpy(), end=\" \")\n",
    "    print()"
   ]
  },
  {
   "cell_type": "code",
   "execution_count": 19,
   "metadata": {
    "execution": {
     "iopub.execute_input": "2020-07-28T07:31:23.251028Z",
     "iopub.status.busy": "2020-07-28T07:31:23.250028Z",
     "iopub.status.idle": "2020-07-28T07:31:23.262030Z",
     "shell.execute_reply": "2020-07-28T07:31:23.262030Z",
     "shell.execute_reply.started": "2020-07-28T07:31:23.251028Z"
    }
   },
   "outputs": [
    {
     "name": "stdout",
     "output_type": "stream",
     "text": [
      "[0 1 2 3 4]\n",
      "[1 2 3 4 5]\n",
      "[2 3 4 5 6]\n",
      "[3 4 5 6 7]\n",
      "[4 5 6 7 8]\n",
      "[5 6 7 8 9]\n"
     ]
    }
   ],
   "source": [
    "for window in ds.as_numpy_iterator():\n",
    "    print(window)"
   ]
  },
  {
   "cell_type": "markdown",
   "metadata": {},
   "source": [
    "#### นำข้อมูลออกจาก window ด้วย `flat_map`\n",
    "\n",
    "จากข้างบน จะเห็นว่า loop ใน windows จะไม่ได้ข้อมูล ต้อง loop อีกชั้นนึง\n",
    "\n",
    "ใช้\n",
    "\n",
    "```\n",
    "ds.flat_map(lambda window: window.batch(window_size))\n",
    "```"
   ]
  },
  {
   "cell_type": "code",
   "execution_count": 18,
   "metadata": {
    "execution": {
     "iopub.execute_input": "2020-07-28T07:31:03.641029Z",
     "iopub.status.busy": "2020-07-28T07:31:03.641029Z",
     "iopub.status.idle": "2020-07-28T07:31:03.858078Z",
     "shell.execute_reply": "2020-07-28T07:31:03.858078Z",
     "shell.execute_reply.started": "2020-07-28T07:31:03.641029Z"
    }
   },
   "outputs": [
    {
     "name": "stdout",
     "output_type": "stream",
     "text": [
      "[0 1 2 3 4]\n",
      "[1 2 3 4 5]\n",
      "[2 3 4 5 6]\n",
      "[3 4 5 6 7]\n",
      "[4 5 6 7 8]\n",
      "[5 6 7 8 9]\n"
     ]
    }
   ],
   "source": [
    "ds = tf.data.Dataset.range(num_range)\n",
    "ds = ds.window(window_size, shift=1, drop_remainder=True)\n",
    "ds = ds.flat_map(lambda window: window.batch(window_size))\n",
    "for window in ds:\n",
    "    print(window.numpy())"
   ]
  },
  {
   "cell_type": "markdown",
   "metadata": {},
   "source": [
    "#### แยกข้อมูล x, y\n",
    "\n",
    "แยกข้อมูลที่เป็น input x, และ output y\n",
    "\n",
    "- x คือข้อมูลอดีต ... วัน สำหรับทำนายอนาคต y ... วัน\n",
    "\n",
    "```python\n",
    "ds = ds.map(lambda window: [window[:-1], window[-1:]])\n",
    "```\n",
    "> แบ่งข้อมูลตัวแรกจนถึง `n-1` เป็น x และตัวที่ `n` เป็น y\n",
    "\n",
    "เช่น ใช้ข้อมูล 4 วันก่อน ทำนาย 1 วันในอนาคต\n",
    "```\n",
    "[0 1 2 3] -> [4]\n",
    "[1 2 3 4] -> [5]\n",
    "[2 3 4 5] -> [6]\n",
    "[3 4 5 6] -> [7]\n",
    "[4 5 6 7] -> [8]\n",
    "[5 6 7 8] -> [9]\n",
    "```"
   ]
  },
  {
   "cell_type": "code",
   "execution_count": 20,
   "metadata": {
    "execution": {
     "iopub.execute_input": "2020-07-28T07:31:56.379539Z",
     "iopub.status.busy": "2020-07-28T07:31:56.379539Z",
     "iopub.status.idle": "2020-07-28T07:31:56.451548Z",
     "shell.execute_reply": "2020-07-28T07:31:56.451548Z",
     "shell.execute_reply.started": "2020-07-28T07:31:56.379539Z"
    }
   },
   "outputs": [
    {
     "name": "stdout",
     "output_type": "stream",
     "text": [
      "[0 1 2 3] -> [4]\n",
      "[1 2 3 4] -> [5]\n",
      "[2 3 4 5] -> [6]\n",
      "[3 4 5 6] -> [7]\n",
      "[4 5 6 7] -> [8]\n",
      "[5 6 7 8] -> [9]\n"
     ]
    }
   ],
   "source": [
    "ds = tf.data.Dataset.range(num_range)\n",
    "ds = ds.window(window_size, shift=1, drop_remainder=True)\n",
    "ds = ds.flat_map(lambda window: window.batch(window_size))\n",
    "ds = ds.map(lambda window: [window[:-1], window[-1:]])\n",
    "for x, y in ds:\n",
    "    print(x.numpy(), \"->\", y.numpy())"
   ]
  },
  {
   "cell_type": "markdown",
   "metadata": {},
   "source": [
    "#### จัดกลุ่มเป็น batch size\n",
    "\n",
    "```python\n",
    "ds = ds.batch(batch_size).prefetch(1)\n",
    "```"
   ]
  },
  {
   "cell_type": "code",
   "execution_count": 21,
   "metadata": {
    "execution": {
     "iopub.execute_input": "2020-07-28T07:32:01.217608Z",
     "iopub.status.busy": "2020-07-28T07:32:01.217608Z",
     "iopub.status.idle": "2020-07-28T07:32:01.301627Z",
     "shell.execute_reply": "2020-07-28T07:32:01.301627Z",
     "shell.execute_reply.started": "2020-07-28T07:32:01.217608Z"
    }
   },
   "outputs": [
    {
     "name": "stdout",
     "output_type": "stream",
     "text": [
      "x:  [[0, 1, 2, 3], [1, 2, 3, 4]]\n",
      "y:  [[4], [5]]\n",
      "\n",
      "x:  [[2, 3, 4, 5], [3, 4, 5, 6]]\n",
      "y:  [[6], [7]]\n",
      "\n",
      "x:  [[4, 5, 6, 7], [5, 6, 7, 8]]\n",
      "y:  [[8], [9]]\n",
      "\n"
     ]
    }
   ],
   "source": [
    "ds = tf.data.Dataset.range(num_range)\n",
    "ds = ds.window(window_size, shift=1, drop_remainder=True)\n",
    "ds = ds.flat_map(lambda window: window.batch(window_size))\n",
    "ds = ds.map(lambda window: [window[:-1], window[-1:]])\n",
    "ds = ds.batch(batch_size).prefetch(1)\n",
    "for x, y in ds:\n",
    "    print(\"x: \", x.numpy().tolist())\n",
    "    print(\"y: \", y.numpy().tolist())\n",
    "    print()"
   ]
  },
  {
   "cell_type": "markdown",
   "metadata": {},
   "source": [
    "#### เพิ่มการ Shuffle\n",
    "```python\n",
    "ds = ds.map(lambda window: (window[:-1], window[-1:]))\n",
    "ds = ds.shuffle(buffer_size=shuffle_buffer)\n",
    "ds = ds.batch(batch_size).prefetch(1)\n",
    "```\n",
    "\n",
    "`shuffle_buffer` = จำนวน sample"
   ]
  },
  {
   "cell_type": "markdown",
   "metadata": {},
   "source": [
    "## Rolling windows from Dataframe(series)"
   ]
  },
  {
   "cell_type": "code",
   "execution_count": 24,
   "metadata": {
    "execution": {
     "iopub.execute_input": "2020-07-28T07:33:25.054986Z",
     "iopub.status.busy": "2020-07-28T07:33:25.054986Z",
     "iopub.status.idle": "2020-07-28T07:33:25.139005Z",
     "shell.execute_reply": "2020-07-28T07:33:25.139005Z",
     "shell.execute_reply.started": "2020-07-28T07:33:25.054986Z"
    }
   },
   "outputs": [
    {
     "name": "stdout",
     "output_type": "stream",
     "text": [
      "[0 1 2 3] -> [4]\n",
      "[1 2 3 4] -> [5]\n",
      "[2 3 4 5] -> [6]\n",
      "[3 4 5 6] -> [7]\n",
      "[4 5 6 7] -> [8]\n",
      "[5 6 7 8] -> [9]\n",
      "[6 7 8 9] -> [10]\n",
      "[ 7  8  9 10] -> [11]\n",
      "[ 8  9 10 11] -> [12]\n",
      "[ 9 10 11 12] -> [13]\n",
      "[10 11 12 13] -> [14]\n"
     ]
    }
   ],
   "source": [
    "# df series or numpy array\n",
    "num_range = 100\n",
    "series = np.arange(num_range)\n",
    "\n",
    "ds = tf.data.Dataset.from_tensor_slices(series)\n",
    "ds = ds.window(window_size, shift=1, drop_remainder=True)\n",
    "ds = ds.flat_map(lambda window: window.batch(window_size))\n",
    "ds = ds.map(lambda window: [window[:-1], window[-1:]])\n",
    "\n",
    "i = 0\n",
    "for window in ds:\n",
    "    x, y = window\n",
    "    print(x.numpy().round(), \"->\", y.numpy().round())\n",
    "    i += 1\n",
    "    if i > 10:\n",
    "        break"
   ]
  },
  {
   "cell_type": "markdown",
   "metadata": {},
   "source": [
    "## Windowed dataset function"
   ]
  },
  {
   "cell_type": "code",
   "execution_count": 25,
   "metadata": {
    "execution": {
     "iopub.execute_input": "2020-07-28T07:34:08.347106Z",
     "iopub.status.busy": "2020-07-28T07:34:08.347106Z",
     "iopub.status.idle": "2020-07-28T07:34:08.354107Z",
     "shell.execute_reply": "2020-07-28T07:34:08.353115Z",
     "shell.execute_reply.started": "2020-07-28T07:34:08.347106Z"
    }
   },
   "outputs": [],
   "source": [
    "def windowed_dataset(series, window_size, batch_size, shuffle_buffer):\n",
    "    ds = tf.data.Dataset.from_tensor_slices(series)\n",
    "    ds = ds.window(window_size + 1, shift=1, drop_remainder=True)\n",
    "    ds = ds.flat_map(lambda window: window.batch(window_size + 1))\n",
    "    ds = ds.shuffle(shuffle_buffer)\n",
    "    ds = ds.map(lambda window: (window[:-1], window[-1:]))\n",
    "    ds = ds.batch(batch_size).prefetch(1)\n",
    "    return ds"
   ]
  },
  {
   "cell_type": "code",
   "execution_count": 27,
   "metadata": {
    "execution": {
     "iopub.execute_input": "2020-07-28T07:34:17.201650Z",
     "iopub.status.busy": "2020-07-28T07:34:17.201650Z",
     "iopub.status.idle": "2020-07-28T07:34:17.276676Z",
     "shell.execute_reply": "2020-07-28T07:34:17.276676Z",
     "shell.execute_reply.started": "2020-07-28T07:34:17.201650Z"
    }
   },
   "outputs": [],
   "source": [
    "window_size = 24\n",
    "batch_size = 32\n",
    "shuffle_buffer = 10\n",
    "\n",
    "ds = windowed_dataset(series, window_size, batch_size, shuffle_buffer)"
   ]
  },
  {
   "cell_type": "markdown",
   "metadata": {},
   "source": [
    "#### จากนั้นสามารถนำไปเทรนโมเดลได้เลย\n",
    "\n",
    "```python\n",
    "model.fit(ds)\n",
    "```\n"
   ]
  },
  {
   "cell_type": "code",
   "execution_count": 28,
   "metadata": {
    "execution": {
     "iopub.execute_input": "2020-07-28T07:35:09.237102Z",
     "iopub.status.busy": "2020-07-28T07:35:09.236101Z",
     "iopub.status.idle": "2020-07-28T07:35:09.243103Z",
     "shell.execute_reply": "2020-07-28T07:35:09.243103Z",
     "shell.execute_reply.started": "2020-07-28T07:35:09.237102Z"
    }
   },
   "outputs": [],
   "source": [
    "def windowed_dataset_X_Y(series, window_size, batch_size, shuffle_buffer):\n",
    "    ds = tf.data.Dataset.from_tensor_slices(series)\n",
    "    ds = ds.window(window_size + 1, shift=1, drop_remainder=True)\n",
    "    ds = ds.flat_map(lambda window: window.batch(window_size + 1))\n",
    "    ds = ds.shuffle(shuffle_buffer)\n",
    "    ds = ds.map(lambda window: (window[:-1], window[-1:]))\n",
    "\n",
    "    \n",
    "    X = []\n",
    "    Y = []\n",
    "    \n",
    "    for window in ds:\n",
    "        x, y = window\n",
    "        X.append(x.numpy())\n",
    "        Y.append(y.numpy())\n",
    "    X = np.asarray(X)\n",
    "    Y = np.asarray(Y)\n",
    "    \n",
    "    return X, Y"
   ]
  },
  {
   "cell_type": "code",
   "execution_count": 30,
   "metadata": {
    "execution": {
     "iopub.execute_input": "2020-07-28T07:35:14.022818Z",
     "iopub.status.busy": "2020-07-28T07:35:14.022818Z",
     "iopub.status.idle": "2020-07-28T07:35:14.069828Z",
     "shell.execute_reply": "2020-07-28T07:35:14.069828Z",
     "shell.execute_reply.started": "2020-07-28T07:35:14.022818Z"
    }
   },
   "outputs": [],
   "source": [
    "X, Y = windowed_dataset_X_Y(series, window_size, batch_size, shuffle_buffer)"
   ]
  },
  {
   "cell_type": "code",
   "execution_count": 31,
   "metadata": {
    "execution": {
     "iopub.execute_input": "2020-07-28T07:35:14.493107Z",
     "iopub.status.busy": "2020-07-28T07:35:14.492100Z",
     "iopub.status.idle": "2020-07-28T07:35:14.497098Z",
     "shell.execute_reply": "2020-07-28T07:35:14.497098Z",
     "shell.execute_reply.started": "2020-07-28T07:35:14.493107Z"
    }
   },
   "outputs": [
    {
     "data": {
      "text/plain": [
       "(76, 24)"
      ]
     },
     "execution_count": 31,
     "metadata": {},
     "output_type": "execute_result"
    }
   ],
   "source": [
    "X.shape"
   ]
  },
  {
   "cell_type": "code",
   "execution_count": 32,
   "metadata": {
    "execution": {
     "iopub.execute_input": "2020-07-28T07:35:15.130007Z",
     "iopub.status.busy": "2020-07-28T07:35:15.130007Z",
     "iopub.status.idle": "2020-07-28T07:35:15.134008Z",
     "shell.execute_reply": "2020-07-28T07:35:15.134008Z",
     "shell.execute_reply.started": "2020-07-28T07:35:15.130007Z"
    }
   },
   "outputs": [
    {
     "data": {
      "text/plain": [
       "(76, 1)"
      ]
     },
     "execution_count": 32,
     "metadata": {},
     "output_type": "execute_result"
    }
   ],
   "source": [
    "Y.shape"
   ]
  },
  {
   "cell_type": "code",
   "execution_count": null,
   "metadata": {},
   "outputs": [],
   "source": []
  }
 ],
 "metadata": {
  "kernelspec": {
   "display_name": "Python 3",
   "language": "python",
   "name": "python3"
  },
  "language_info": {
   "codemirror_mode": {
    "name": "ipython",
    "version": 3
   },
   "file_extension": ".py",
   "mimetype": "text/x-python",
   "name": "python",
   "nbconvert_exporter": "python",
   "pygments_lexer": "ipython3",
   "version": "3.8.3"
  }
 },
 "nbformat": 4,
 "nbformat_minor": 4
}
