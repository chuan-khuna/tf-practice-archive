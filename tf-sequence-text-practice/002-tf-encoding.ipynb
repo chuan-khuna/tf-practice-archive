{
 "cells": [
  {
   "cell_type": "code",
   "execution_count": 1,
   "metadata": {
    "execution": {
     "iopub.execute_input": "2021-01-22T15:09:38.748336Z",
     "iopub.status.busy": "2021-01-22T15:09:38.748336Z",
     "iopub.status.idle": "2021-01-22T15:09:41.598658Z",
     "shell.execute_reply": "2021-01-22T15:09:41.598658Z",
     "shell.execute_reply.started": "2021-01-22T15:09:38.748336Z"
    }
   },
   "outputs": [],
   "source": [
    "import numpy as np\n",
    "import pandas as pd\n",
    "import tensorflow as tf"
   ]
  },
  {
   "cell_type": "markdown",
   "metadata": {},
   "source": [
    "# จะใช้ Tensorflow API มา Encoding word กัน\n",
    "\n",
    "- แทน word ด้วยตัวเลขอะไรก็ได้"
   ]
  },
  {
   "cell_type": "code",
   "execution_count": 2,
   "metadata": {
    "execution": {
     "iopub.execute_input": "2021-01-22T15:09:41.599670Z",
     "iopub.status.busy": "2021-01-22T15:09:41.599670Z",
     "iopub.status.idle": "2021-01-22T15:09:41.615665Z",
     "shell.execute_reply": "2021-01-22T15:09:41.614663Z",
     "shell.execute_reply.started": "2021-01-22T15:09:41.599670Z"
    }
   },
   "outputs": [],
   "source": [
    "with open(\"./data/ashes.txt\", \"r\", encoding='utf-8') as f:\n",
    "    lines = f.readlines()"
   ]
  },
  {
   "cell_type": "code",
   "execution_count": 3,
   "metadata": {
    "execution": {
     "iopub.execute_input": "2021-01-22T15:09:41.616665Z",
     "iopub.status.busy": "2021-01-22T15:09:41.616665Z",
     "iopub.status.idle": "2021-01-22T15:09:41.630669Z",
     "shell.execute_reply": "2021-01-22T15:09:41.630669Z",
     "shell.execute_reply.started": "2021-01-22T15:09:41.616665Z"
    }
   },
   "outputs": [],
   "source": [
    "# clean the texts\n",
    "# my favorite song lyric\n",
    "\n",
    "texts = [i.strip('\\n') for i in lines if i.strip('\\n') != '']"
   ]
  },
  {
   "cell_type": "code",
   "execution_count": 4,
   "metadata": {
    "execution": {
     "iopub.execute_input": "2021-01-22T15:09:41.632669Z",
     "iopub.status.busy": "2021-01-22T15:09:41.631668Z",
     "iopub.status.idle": "2021-01-22T15:09:41.647671Z",
     "shell.execute_reply": "2021-01-22T15:09:41.646672Z",
     "shell.execute_reply.started": "2021-01-22T15:09:41.632669Z"
    }
   },
   "outputs": [
    {
     "data": {
      "text/plain": [
       "['I could hear the signs calling out from the bottom of the fire',\n",
       " 'I am like a torch flickering in the wind as the saying goes',\n",
       " 'Lost all my precious',\n",
       " 'Rage ate me up',\n",
       " 'Endless forlornness has made me numb',\n",
       " \"I'd rather rise from here\",\n",
       " 'Or should I hold on to my past?',\n",
       " 'They’ve burnt to ashes',\n",
       " 'Faded to grey',\n",
       " 'Returned to the earth',\n",
       " \"Yes it's meant to be\",\n",
       " 'Uncertain flame of hope I found',\n",
       " 'Will you lead me back on the right track?']"
      ]
     },
     "execution_count": 4,
     "metadata": {},
     "output_type": "execute_result"
    }
   ],
   "source": [
    "texts"
   ]
  },
  {
   "cell_type": "markdown",
   "metadata": {},
   "source": [
    "## Tensorflow tokennizer\n",
    "\n",
    "มีหลายวิธีที่จะ encoding โฟกัสที่อันนี้ก่อน"
   ]
  },
  {
   "cell_type": "code",
   "execution_count": 5,
   "metadata": {
    "execution": {
     "iopub.execute_input": "2021-01-22T15:09:41.648671Z",
     "iopub.status.busy": "2021-01-22T15:09:41.647671Z",
     "iopub.status.idle": "2021-01-22T15:09:41.663675Z",
     "shell.execute_reply": "2021-01-22T15:09:41.662674Z",
     "shell.execute_reply.started": "2021-01-22T15:09:41.647671Z"
    }
   },
   "outputs": [],
   "source": [
    "# config\n",
    "\n",
    "num_words = 100"
   ]
  },
  {
   "cell_type": "markdown",
   "metadata": {},
   "source": [
    "### Tokenizer\n",
    "\n",
    "- กำหนดจำนวนคำมากที่สุดที่จะเก็บ (โดยความถี่ที่ปรากฏ)\n",
    "- tf lower case ให้, จัดการเรื่อง punctuation ให้"
   ]
  },
  {
   "cell_type": "code",
   "execution_count": 6,
   "metadata": {
    "execution": {
     "iopub.execute_input": "2021-01-22T15:09:41.664675Z",
     "iopub.status.busy": "2021-01-22T15:09:41.664675Z",
     "iopub.status.idle": "2021-01-22T15:09:41.679679Z",
     "shell.execute_reply": "2021-01-22T15:09:41.678679Z",
     "shell.execute_reply.started": "2021-01-22T15:09:41.664675Z"
    }
   },
   "outputs": [],
   "source": [
    "tokenizer = tf.keras.preprocessing.text.Tokenizer(num_words=num_words)\n",
    "tokenizer.fit_on_texts(texts)\n",
    "\n",
    "word_index = tokenizer.word_index"
   ]
  },
  {
   "cell_type": "markdown",
   "metadata": {
    "execution": {
     "iopub.execute_input": "2021-01-22T15:07:47.993575Z",
     "iopub.status.busy": "2021-01-22T15:07:47.993575Z",
     "iopub.status.idle": "2021-01-22T15:07:48.003579Z",
     "shell.execute_reply": "2021-01-22T15:07:48.002577Z",
     "shell.execute_reply.started": "2021-01-22T15:07:47.993575Z"
    }
   },
   "source": [
    "#### การกำหนด `num_words` จะทำในขั้น `texts_to_sequences`"
   ]
  },
  {
   "cell_type": "code",
   "execution_count": 7,
   "metadata": {
    "execution": {
     "iopub.execute_input": "2021-01-22T15:09:41.680678Z",
     "iopub.status.busy": "2021-01-22T15:09:41.680678Z",
     "iopub.status.idle": "2021-01-22T15:09:41.694682Z",
     "shell.execute_reply": "2021-01-22T15:09:41.694682Z",
     "shell.execute_reply.started": "2021-01-22T15:09:41.680678Z"
    }
   },
   "outputs": [
    {
     "name": "stdout",
     "output_type": "stream",
     "text": [
      "the: 1\n",
      "to: 2\n",
      "i: 3\n",
      "me: 4\n",
      "from: 5\n",
      "of: 6\n",
      "my: 7\n",
      "on: 8\n",
      "could: 9\n",
      "hear: 10\n"
     ]
    }
   ],
   "source": [
    "for k in list(word_index.keys())[:10]:\n",
    "    print(f\"{k}: {word_index[k]}\")"
   ]
  },
  {
   "cell_type": "markdown",
   "metadata": {},
   "source": [
    "## แปลงข้อความให้กลายเป็นตัวเลข\n",
    "\n",
    "sentence -> sequence"
   ]
  },
  {
   "cell_type": "code",
   "execution_count": 8,
   "metadata": {
    "execution": {
     "iopub.execute_input": "2021-01-22T15:09:41.696682Z",
     "iopub.status.busy": "2021-01-22T15:09:41.696682Z",
     "iopub.status.idle": "2021-01-22T15:09:41.710685Z",
     "shell.execute_reply": "2021-01-22T15:09:41.710685Z",
     "shell.execute_reply.started": "2021-01-22T15:09:41.696682Z"
    }
   },
   "outputs": [
    {
     "data": {
      "text/plain": [
       "[[3, 9, 10, 1, 11, 12, 13, 5, 1, 14, 6, 1, 15],\n",
       " [3, 16, 17, 18, 19, 20, 21, 1, 22, 23, 1, 24, 25],\n",
       " [26, 27, 7, 28],\n",
       " [29, 30, 4, 31],\n",
       " [32, 33, 34, 35, 4, 36],\n",
       " [37, 38, 39, 5, 40],\n",
       " [41, 42, 3, 43, 8, 2, 7, 44],\n",
       " [45, 46, 2, 47],\n",
       " [48, 2, 49],\n",
       " [50, 2, 1, 51],\n",
       " [52, 53, 54, 2, 55],\n",
       " [56, 57, 6, 58, 3, 59],\n",
       " [60, 61, 62, 4, 63, 8, 1, 64, 65]]"
      ]
     },
     "execution_count": 8,
     "metadata": {},
     "output_type": "execute_result"
    }
   ],
   "source": [
    "sequences = tokenizer.texts_to_sequences(texts)\n",
    "sequences"
   ]
  },
  {
   "cell_type": "markdown",
   "metadata": {
    "execution": {
     "iopub.execute_input": "2021-01-22T14:42:57.121022Z",
     "iopub.status.busy": "2021-01-22T14:42:57.121022Z",
     "iopub.status.idle": "2021-01-22T14:42:57.130024Z",
     "shell.execute_reply": "2021-01-22T14:42:57.129032Z",
     "shell.execute_reply.started": "2021-01-22T14:42:57.121022Z"
    }
   },
   "source": [
    "## ปัญหาถ้ามีคำที่ไม่รู้จัก\n",
    "\n",
    "จะไม่ encode ให้ ... ใน sequence จะมีแต่คำใน word index"
   ]
  },
  {
   "cell_type": "code",
   "execution_count": 9,
   "metadata": {
    "execution": {
     "iopub.execute_input": "2021-01-22T15:09:41.711686Z",
     "iopub.status.busy": "2021-01-22T15:09:41.711686Z",
     "iopub.status.idle": "2021-01-22T15:09:41.727690Z",
     "shell.execute_reply": "2021-01-22T15:09:41.726689Z",
     "shell.execute_reply.started": "2021-01-22T15:09:41.711686Z"
    }
   },
   "outputs": [
    {
     "data": {
      "text/plain": [
       "[[1, 35]]"
      ]
     },
     "execution_count": 9,
     "metadata": {},
     "output_type": "execute_result"
    }
   ],
   "source": [
    "tokenizer.texts_to_sequences([\"The peaceful times have made us blind\"])"
   ]
  },
  {
   "cell_type": "markdown",
   "metadata": {
    "execution": {
     "iopub.execute_input": "2021-01-22T14:37:01.619749Z",
     "iopub.status.busy": "2021-01-22T14:37:01.619749Z",
     "iopub.status.idle": "2021-01-22T14:37:01.631751Z",
     "shell.execute_reply": "2021-01-22T14:37:01.631751Z",
     "shell.execute_reply.started": "2021-01-22T14:37:01.619749Z"
    }
   },
   "source": [
    "## `oov_token`, Out of Vocab ใน Tokenizer\n",
    "\n",
    "เพื่อ handle ปัญหา การที่ประโยคมาใหม่ไม่พบคำใน word index ที่สร้างขึ้นมา"
   ]
  },
  {
   "cell_type": "code",
   "execution_count": 10,
   "metadata": {
    "execution": {
     "iopub.execute_input": "2021-01-22T15:09:41.728689Z",
     "iopub.status.busy": "2021-01-22T15:09:41.728689Z",
     "iopub.status.idle": "2021-01-22T15:09:41.742695Z",
     "shell.execute_reply": "2021-01-22T15:09:41.741692Z",
     "shell.execute_reply.started": "2021-01-22T15:09:41.728689Z"
    }
   },
   "outputs": [
    {
     "name": "stdout",
     "output_type": "stream",
     "text": [
      "<OOV>: 1\n",
      "the: 2\n",
      "to: 3\n",
      "i: 4\n",
      "me: 5\n",
      "from: 6\n",
      "of: 7\n",
      "my: 8\n",
      "on: 9\n",
      "could: 10\n"
     ]
    }
   ],
   "source": [
    "tokenizer = tf.keras.preprocessing.text.Tokenizer(num_words=num_words, oov_token=\"<OOV>\")\n",
    "tokenizer.fit_on_texts(texts)\n",
    "\n",
    "word_index = tokenizer.word_index\n",
    "\n",
    "for k in list(word_index.keys())[:10]:\n",
    "    print(f\"{k}: {word_index[k]}\")"
   ]
  },
  {
   "cell_type": "code",
   "execution_count": 11,
   "metadata": {
    "execution": {
     "iopub.execute_input": "2021-01-22T15:09:41.743694Z",
     "iopub.status.busy": "2021-01-22T15:09:41.743694Z",
     "iopub.status.idle": "2021-01-22T15:09:41.758699Z",
     "shell.execute_reply": "2021-01-22T15:09:41.757698Z",
     "shell.execute_reply.started": "2021-01-22T15:09:41.743694Z"
    }
   },
   "outputs": [
    {
     "data": {
      "text/plain": [
       "[[2, 1, 1, 1, 36, 1, 1]]"
      ]
     },
     "execution_count": 11,
     "metadata": {},
     "output_type": "execute_result"
    }
   ],
   "source": [
    "tokenizer.texts_to_sequences([\"The peaceful times have made us blind\"])"
   ]
  },
  {
   "cell_type": "markdown",
   "metadata": {},
   "source": [
    "## ปัญหาแต่ละ sequence ยาวไม่เท่ากัน"
   ]
  },
  {
   "cell_type": "code",
   "execution_count": 12,
   "metadata": {
    "execution": {
     "iopub.execute_input": "2021-01-22T15:09:41.760699Z",
     "iopub.status.busy": "2021-01-22T15:09:41.759697Z",
     "iopub.status.idle": "2021-01-22T15:09:41.774703Z",
     "shell.execute_reply": "2021-01-22T15:09:41.773700Z",
     "shell.execute_reply.started": "2021-01-22T15:09:41.760699Z"
    }
   },
   "outputs": [],
   "source": [
    "sequences = tokenizer.texts_to_sequences(texts)"
   ]
  },
  {
   "cell_type": "code",
   "execution_count": 13,
   "metadata": {
    "execution": {
     "iopub.execute_input": "2021-01-22T15:09:41.776700Z",
     "iopub.status.busy": "2021-01-22T15:09:41.775701Z",
     "iopub.status.idle": "2021-01-22T15:09:41.789704Z",
     "shell.execute_reply": "2021-01-22T15:09:41.789704Z",
     "shell.execute_reply.started": "2021-01-22T15:09:41.776700Z"
    }
   },
   "outputs": [
    {
     "data": {
      "text/plain": [
       "[[4, 10, 11, 2, 12, 13, 14, 6, 2, 15, 7, 2, 16],\n",
       " [4, 17, 18, 19, 20, 21, 22, 2, 23, 24, 2, 25, 26],\n",
       " [27, 28, 8, 29],\n",
       " [30, 31, 5, 32],\n",
       " [33, 34, 35, 36, 5, 37],\n",
       " [38, 39, 40, 6, 41],\n",
       " [42, 43, 4, 44, 9, 3, 8, 45],\n",
       " [46, 47, 3, 48],\n",
       " [49, 3, 50],\n",
       " [51, 3, 2, 52],\n",
       " [53, 54, 55, 3, 56],\n",
       " [57, 58, 7, 59, 4, 60],\n",
       " [61, 62, 63, 5, 64, 9, 2, 65, 66]]"
      ]
     },
     "execution_count": 13,
     "metadata": {},
     "output_type": "execute_result"
    }
   ],
   "source": [
    "sequences"
   ]
  },
  {
   "cell_type": "markdown",
   "metadata": {},
   "source": [
    "เมื่อต้องการ feed ข้อมูลเข้า NN ต้องการให้มี shape เดียวกัน\n",
    "\n",
    "แก้ปัญหา sequence ยาวไม่เท่ากันด้วย `padding`"
   ]
  },
  {
   "cell_type": "markdown",
   "metadata": {},
   "source": [
    "## Padding\n",
    "\n",
    "https://www.tensorflow.org/api_docs/python/tf/keras/preprocessing/sequence/pad_sequences"
   ]
  },
  {
   "cell_type": "code",
   "execution_count": 14,
   "metadata": {
    "execution": {
     "iopub.execute_input": "2021-01-22T15:09:41.791703Z",
     "iopub.status.busy": "2021-01-22T15:09:41.791703Z",
     "iopub.status.idle": "2021-01-22T15:09:41.806707Z",
     "shell.execute_reply": "2021-01-22T15:09:41.805707Z",
     "shell.execute_reply.started": "2021-01-22T15:09:41.791703Z"
    }
   },
   "outputs": [],
   "source": [
    "from tensorflow.keras.preprocessing.sequence import pad_sequences"
   ]
  },
  {
   "cell_type": "code",
   "execution_count": 15,
   "metadata": {
    "execution": {
     "iopub.execute_input": "2021-01-22T15:09:41.807708Z",
     "iopub.status.busy": "2021-01-22T15:09:41.807708Z",
     "iopub.status.idle": "2021-01-22T15:09:41.821710Z",
     "shell.execute_reply": "2021-01-22T15:09:41.821710Z",
     "shell.execute_reply.started": "2021-01-22T15:09:41.807708Z"
    }
   },
   "outputs": [
    {
     "data": {
      "text/plain": [
       "array([[ 4, 10, 11,  2, 12, 13, 14,  6,  2, 15,  7,  2, 16],\n",
       "       [ 4, 17, 18, 19, 20, 21, 22,  2, 23, 24,  2, 25, 26],\n",
       "       [ 0,  0,  0,  0,  0,  0,  0,  0,  0, 27, 28,  8, 29],\n",
       "       [ 0,  0,  0,  0,  0,  0,  0,  0,  0, 30, 31,  5, 32],\n",
       "       [ 0,  0,  0,  0,  0,  0,  0, 33, 34, 35, 36,  5, 37],\n",
       "       [ 0,  0,  0,  0,  0,  0,  0,  0, 38, 39, 40,  6, 41],\n",
       "       [ 0,  0,  0,  0,  0, 42, 43,  4, 44,  9,  3,  8, 45],\n",
       "       [ 0,  0,  0,  0,  0,  0,  0,  0,  0, 46, 47,  3, 48],\n",
       "       [ 0,  0,  0,  0,  0,  0,  0,  0,  0,  0, 49,  3, 50],\n",
       "       [ 0,  0,  0,  0,  0,  0,  0,  0,  0, 51,  3,  2, 52],\n",
       "       [ 0,  0,  0,  0,  0,  0,  0,  0, 53, 54, 55,  3, 56],\n",
       "       [ 0,  0,  0,  0,  0,  0,  0, 57, 58,  7, 59,  4, 60],\n",
       "       [ 0,  0,  0,  0, 61, 62, 63,  5, 64,  9,  2, 65, 66]])"
      ]
     },
     "execution_count": 15,
     "metadata": {},
     "output_type": "execute_result"
    }
   ],
   "source": [
    "pad_sequences(sequences)"
   ]
  },
  {
   "cell_type": "code",
   "execution_count": 16,
   "metadata": {
    "execution": {
     "iopub.execute_input": "2021-01-22T15:09:41.822710Z",
     "iopub.status.busy": "2021-01-22T15:09:41.822710Z",
     "iopub.status.idle": "2021-01-22T15:09:41.837714Z",
     "shell.execute_reply": "2021-01-22T15:09:41.837714Z",
     "shell.execute_reply.started": "2021-01-22T15:09:41.822710Z"
    }
   },
   "outputs": [
    {
     "data": {
      "text/plain": [
       "array([[ 4, 10, 11,  2, 12, 13, 14,  6,  2, 15,  7,  2, 16],\n",
       "       [ 4, 17, 18, 19, 20, 21, 22,  2, 23, 24,  2, 25, 26],\n",
       "       [27, 28,  8, 29,  0,  0,  0,  0,  0,  0,  0,  0,  0],\n",
       "       [30, 31,  5, 32,  0,  0,  0,  0,  0,  0,  0,  0,  0],\n",
       "       [33, 34, 35, 36,  5, 37,  0,  0,  0,  0,  0,  0,  0],\n",
       "       [38, 39, 40,  6, 41,  0,  0,  0,  0,  0,  0,  0,  0],\n",
       "       [42, 43,  4, 44,  9,  3,  8, 45,  0,  0,  0,  0,  0],\n",
       "       [46, 47,  3, 48,  0,  0,  0,  0,  0,  0,  0,  0,  0],\n",
       "       [49,  3, 50,  0,  0,  0,  0,  0,  0,  0,  0,  0,  0],\n",
       "       [51,  3,  2, 52,  0,  0,  0,  0,  0,  0,  0,  0,  0],\n",
       "       [53, 54, 55,  3, 56,  0,  0,  0,  0,  0,  0,  0,  0],\n",
       "       [57, 58,  7, 59,  4, 60,  0,  0,  0,  0,  0,  0,  0],\n",
       "       [61, 62, 63,  5, 64,  9,  2, 65, 66,  0,  0,  0,  0]])"
      ]
     },
     "execution_count": 16,
     "metadata": {},
     "output_type": "execute_result"
    }
   ],
   "source": [
    "pad_sequences(sequences, padding='post')"
   ]
  },
  {
   "cell_type": "code",
   "execution_count": 17,
   "metadata": {
    "execution": {
     "iopub.execute_input": "2021-01-22T15:09:41.838714Z",
     "iopub.status.busy": "2021-01-22T15:09:41.838714Z",
     "iopub.status.idle": "2021-01-22T15:09:41.854717Z",
     "shell.execute_reply": "2021-01-22T15:09:41.853726Z",
     "shell.execute_reply.started": "2021-01-22T15:09:41.838714Z"
    }
   },
   "outputs": [
    {
     "data": {
      "text/plain": [
       "array([[ 2, 12, 13, 14,  6,  2, 15,  7,  2, 16],\n",
       "       [19, 20, 21, 22,  2, 23, 24,  2, 25, 26],\n",
       "       [ 0,  0,  0,  0,  0,  0, 27, 28,  8, 29],\n",
       "       [ 0,  0,  0,  0,  0,  0, 30, 31,  5, 32],\n",
       "       [ 0,  0,  0,  0, 33, 34, 35, 36,  5, 37],\n",
       "       [ 0,  0,  0,  0,  0, 38, 39, 40,  6, 41],\n",
       "       [ 0,  0, 42, 43,  4, 44,  9,  3,  8, 45],\n",
       "       [ 0,  0,  0,  0,  0,  0, 46, 47,  3, 48],\n",
       "       [ 0,  0,  0,  0,  0,  0,  0, 49,  3, 50],\n",
       "       [ 0,  0,  0,  0,  0,  0, 51,  3,  2, 52],\n",
       "       [ 0,  0,  0,  0,  0, 53, 54, 55,  3, 56],\n",
       "       [ 0,  0,  0,  0, 57, 58,  7, 59,  4, 60],\n",
       "       [ 0, 61, 62, 63,  5, 64,  9,  2, 65, 66]])"
      ]
     },
     "execution_count": 17,
     "metadata": {},
     "output_type": "execute_result"
    }
   ],
   "source": [
    "pad_sequences(sequences, maxlen=10, truncating='pre')"
   ]
  },
  {
   "cell_type": "code",
   "execution_count": null,
   "metadata": {},
   "outputs": [],
   "source": []
  }
 ],
 "metadata": {
  "kernelspec": {
   "display_name": "Python 3",
   "language": "python",
   "name": "python3"
  },
  "language_info": {
   "codemirror_mode": {
    "name": "ipython",
    "version": 3
   },
   "file_extension": ".py",
   "mimetype": "text/x-python",
   "name": "python",
   "nbconvert_exporter": "python",
   "pygments_lexer": "ipython3",
   "version": "3.8.3"
  }
 },
 "nbformat": 4,
 "nbformat_minor": 4
}
