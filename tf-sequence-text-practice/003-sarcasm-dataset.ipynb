{
 "cells": [
  {
   "cell_type": "code",
   "execution_count": 1,
   "metadata": {
    "execution": {
     "iopub.execute_input": "2021-01-22T15:09:47.488100Z",
     "iopub.status.busy": "2021-01-22T15:09:47.487100Z",
     "iopub.status.idle": "2021-01-22T15:09:50.460774Z",
     "shell.execute_reply": "2021-01-22T15:09:50.459781Z",
     "shell.execute_reply.started": "2021-01-22T15:09:47.488100Z"
    }
   },
   "outputs": [],
   "source": [
    "import numpy as np\n",
    "import pandas as pd\n",
    "\n",
    "import tensorflow as tf\n",
    "import json"
   ]
  },
  {
   "cell_type": "markdown",
   "metadata": {},
   "source": [
    "## News Headlines Dataset For Sarcasm Detection\n",
    "\n",
    "https://www.kaggle.com/rmisra/news-headlines-dataset-for-sarcasm-detection"
   ]
  },
  {
   "cell_type": "code",
   "execution_count": 2,
   "metadata": {
    "execution": {
     "iopub.execute_input": "2021-01-22T15:09:50.461774Z",
     "iopub.status.busy": "2021-01-22T15:09:50.461774Z",
     "iopub.status.idle": "2021-01-22T15:09:50.585809Z",
     "shell.execute_reply": "2021-01-22T15:09:50.585809Z",
     "shell.execute_reply.started": "2021-01-22T15:09:50.461774Z"
    }
   },
   "outputs": [],
   "source": [
    "with open(\"./data/Sarcasm_Headlines_Dataset.json\", \"r\") as f:\n",
    "    json_data = [json.loads(line) for line in f.readlines()]"
   ]
  },
  {
   "cell_type": "code",
   "execution_count": 3,
   "metadata": {
    "execution": {
     "iopub.execute_input": "2021-01-22T15:09:50.586801Z",
     "iopub.status.busy": "2021-01-22T15:09:50.586801Z",
     "iopub.status.idle": "2021-01-22T15:09:50.633414Z",
     "shell.execute_reply": "2021-01-22T15:09:50.632414Z",
     "shell.execute_reply.started": "2021-01-22T15:09:50.586801Z"
    }
   },
   "outputs": [],
   "source": [
    "df = pd.DataFrame(json_data)"
   ]
  },
  {
   "cell_type": "code",
   "execution_count": 4,
   "metadata": {
    "execution": {
     "iopub.execute_input": "2021-01-22T15:09:50.633414Z",
     "iopub.status.busy": "2021-01-22T15:09:50.633414Z",
     "iopub.status.idle": "2021-01-22T15:09:50.665422Z",
     "shell.execute_reply": "2021-01-22T15:09:50.664430Z",
     "shell.execute_reply.started": "2021-01-22T15:09:50.633414Z"
    }
   },
   "outputs": [
    {
     "data": {
      "text/html": [
       "<div>\n",
       "<style scoped>\n",
       "    .dataframe tbody tr th:only-of-type {\n",
       "        vertical-align: middle;\n",
       "    }\n",
       "\n",
       "    .dataframe tbody tr th {\n",
       "        vertical-align: top;\n",
       "    }\n",
       "\n",
       "    .dataframe thead th {\n",
       "        text-align: right;\n",
       "    }\n",
       "</style>\n",
       "<table border=\"1\" class=\"dataframe\">\n",
       "  <thead>\n",
       "    <tr style=\"text-align: right;\">\n",
       "      <th></th>\n",
       "      <th>article_link</th>\n",
       "      <th>headline</th>\n",
       "      <th>is_sarcastic</th>\n",
       "    </tr>\n",
       "  </thead>\n",
       "  <tbody>\n",
       "    <tr>\n",
       "      <th>0</th>\n",
       "      <td>https://www.huffingtonpost.com/entry/versace-b...</td>\n",
       "      <td>former versace store clerk sues over secret 'b...</td>\n",
       "      <td>0</td>\n",
       "    </tr>\n",
       "    <tr>\n",
       "      <th>1</th>\n",
       "      <td>https://www.huffingtonpost.com/entry/roseanne-...</td>\n",
       "      <td>the 'roseanne' revival catches up to our thorn...</td>\n",
       "      <td>0</td>\n",
       "    </tr>\n",
       "    <tr>\n",
       "      <th>2</th>\n",
       "      <td>https://local.theonion.com/mom-starting-to-fea...</td>\n",
       "      <td>mom starting to fear son's web series closest ...</td>\n",
       "      <td>1</td>\n",
       "    </tr>\n",
       "    <tr>\n",
       "      <th>3</th>\n",
       "      <td>https://politics.theonion.com/boehner-just-wan...</td>\n",
       "      <td>boehner just wants wife to listen, not come up...</td>\n",
       "      <td>1</td>\n",
       "    </tr>\n",
       "    <tr>\n",
       "      <th>4</th>\n",
       "      <td>https://www.huffingtonpost.com/entry/jk-rowlin...</td>\n",
       "      <td>j.k. rowling wishes snape happy birthday in th...</td>\n",
       "      <td>0</td>\n",
       "    </tr>\n",
       "    <tr>\n",
       "      <th>...</th>\n",
       "      <td>...</td>\n",
       "      <td>...</td>\n",
       "      <td>...</td>\n",
       "    </tr>\n",
       "    <tr>\n",
       "      <th>26704</th>\n",
       "      <td>https://www.huffingtonpost.com/entry/american-...</td>\n",
       "      <td>american politics in moral free-fall</td>\n",
       "      <td>0</td>\n",
       "    </tr>\n",
       "    <tr>\n",
       "      <th>26705</th>\n",
       "      <td>https://www.huffingtonpost.com/entry/americas-...</td>\n",
       "      <td>america's best 20 hikes</td>\n",
       "      <td>0</td>\n",
       "    </tr>\n",
       "    <tr>\n",
       "      <th>26706</th>\n",
       "      <td>https://www.huffingtonpost.com/entry/reparatio...</td>\n",
       "      <td>reparations and obama</td>\n",
       "      <td>0</td>\n",
       "    </tr>\n",
       "    <tr>\n",
       "      <th>26707</th>\n",
       "      <td>https://www.huffingtonpost.com/entry/israeli-b...</td>\n",
       "      <td>israeli ban targeting boycott supporters raise...</td>\n",
       "      <td>0</td>\n",
       "    </tr>\n",
       "    <tr>\n",
       "      <th>26708</th>\n",
       "      <td>https://www.huffingtonpost.com/entry/gourmet-g...</td>\n",
       "      <td>gourmet gifts for the foodie 2014</td>\n",
       "      <td>0</td>\n",
       "    </tr>\n",
       "  </tbody>\n",
       "</table>\n",
       "<p>26709 rows × 3 columns</p>\n",
       "</div>"
      ],
      "text/plain": [
       "                                            article_link  \\\n",
       "0      https://www.huffingtonpost.com/entry/versace-b...   \n",
       "1      https://www.huffingtonpost.com/entry/roseanne-...   \n",
       "2      https://local.theonion.com/mom-starting-to-fea...   \n",
       "3      https://politics.theonion.com/boehner-just-wan...   \n",
       "4      https://www.huffingtonpost.com/entry/jk-rowlin...   \n",
       "...                                                  ...   \n",
       "26704  https://www.huffingtonpost.com/entry/american-...   \n",
       "26705  https://www.huffingtonpost.com/entry/americas-...   \n",
       "26706  https://www.huffingtonpost.com/entry/reparatio...   \n",
       "26707  https://www.huffingtonpost.com/entry/israeli-b...   \n",
       "26708  https://www.huffingtonpost.com/entry/gourmet-g...   \n",
       "\n",
       "                                                headline  is_sarcastic  \n",
       "0      former versace store clerk sues over secret 'b...             0  \n",
       "1      the 'roseanne' revival catches up to our thorn...             0  \n",
       "2      mom starting to fear son's web series closest ...             1  \n",
       "3      boehner just wants wife to listen, not come up...             1  \n",
       "4      j.k. rowling wishes snape happy birthday in th...             0  \n",
       "...                                                  ...           ...  \n",
       "26704               american politics in moral free-fall             0  \n",
       "26705                            america's best 20 hikes             0  \n",
       "26706                              reparations and obama             0  \n",
       "26707  israeli ban targeting boycott supporters raise...             0  \n",
       "26708                  gourmet gifts for the foodie 2014             0  \n",
       "\n",
       "[26709 rows x 3 columns]"
      ]
     },
     "execution_count": 4,
     "metadata": {},
     "output_type": "execute_result"
    }
   ],
   "source": [
    "df"
   ]
  },
  {
   "cell_type": "markdown",
   "metadata": {},
   "source": [
    "## Preprocess Tokenize the text\n",
    "\n",
    "การกำหนด `num_words` จะทำในขั้น `texts_to_sequences`"
   ]
  },
  {
   "cell_type": "code",
   "execution_count": 5,
   "metadata": {
    "execution": {
     "iopub.execute_input": "2021-01-22T15:09:50.666422Z",
     "iopub.status.busy": "2021-01-22T15:09:50.666422Z",
     "iopub.status.idle": "2021-01-22T15:09:50.681426Z",
     "shell.execute_reply": "2021-01-22T15:09:50.680434Z",
     "shell.execute_reply.started": "2021-01-22T15:09:50.666422Z"
    }
   },
   "outputs": [],
   "source": [
    "num_words = 1000"
   ]
  },
  {
   "cell_type": "code",
   "execution_count": 6,
   "metadata": {
    "execution": {
     "iopub.execute_input": "2021-01-22T15:09:50.682426Z",
     "iopub.status.busy": "2021-01-22T15:09:50.681426Z",
     "iopub.status.idle": "2021-01-22T15:09:51.105529Z",
     "shell.execute_reply": "2021-01-22T15:09:51.105529Z",
     "shell.execute_reply.started": "2021-01-22T15:09:50.681426Z"
    }
   },
   "outputs": [],
   "source": [
    "tokenizer = tf.keras.preprocessing.text.Tokenizer(\n",
    "    num_words=num_words, oov_token='<OOV>'\n",
    ")\n",
    "\n",
    "tokenizer.fit_on_texts(df['headline'])\n",
    "\n",
    "word_index = tokenizer.word_index"
   ]
  },
  {
   "cell_type": "code",
   "execution_count": 7,
   "metadata": {
    "execution": {
     "iopub.execute_input": "2021-01-22T15:09:51.106522Z",
     "iopub.status.busy": "2021-01-22T15:09:51.106522Z",
     "iopub.status.idle": "2021-01-22T15:09:51.420648Z",
     "shell.execute_reply": "2021-01-22T15:09:51.420648Z",
     "shell.execute_reply.started": "2021-01-22T15:09:51.106522Z"
    }
   },
   "outputs": [],
   "source": [
    "sequences = tokenizer.texts_to_sequences(df['headline'])"
   ]
  },
  {
   "cell_type": "code",
   "execution_count": 8,
   "metadata": {
    "execution": {
     "iopub.execute_input": "2021-01-22T15:09:51.421592Z",
     "iopub.status.busy": "2021-01-22T15:09:51.421592Z",
     "iopub.status.idle": "2021-01-22T15:09:51.436475Z",
     "shell.execute_reply": "2021-01-22T15:09:51.436475Z",
     "shell.execute_reply.started": "2021-01-22T15:09:51.421592Z"
    }
   },
   "outputs": [
    {
     "data": {
      "text/plain": [
       "[[308, 1, 679, 1, 1, 48, 382, 1, 1, 6, 1, 1],\n",
       " [4, 1, 1, 1, 22, 2, 166, 1, 416, 1, 6, 258, 9, 1],\n",
       " [145, 838, 2, 907, 1, 1, 582, 1, 221, 143, 39, 46, 2, 1],\n",
       " [1, 36, 224, 400, 2, 1, 29, 319, 22, 10, 1, 1, 1, 968],\n",
       " [767, 719, 1, 908, 1, 623, 594, 5, 4, 95, 1, 92],\n",
       " [1, 4, 365, 73],\n",
       " [4, 1, 351, 6, 461, 1, 1, 1],\n",
       " [19, 479, 39, 1, 31, 155, 2, 99, 83, 18, 158, 6, 32, 352],\n",
       " [249, 1, 1, 555, 1, 1, 141],\n",
       " [1, 326, 347, 401, 60, 1, 6, 4, 1]]"
      ]
     },
     "execution_count": 8,
     "metadata": {},
     "output_type": "execute_result"
    }
   ],
   "source": [
    "sequences[:10]"
   ]
  },
  {
   "cell_type": "code",
   "execution_count": 9,
   "metadata": {
    "execution": {
     "iopub.execute_input": "2021-01-22T15:09:51.438467Z",
     "iopub.status.busy": "2021-01-22T15:09:51.437467Z",
     "iopub.status.idle": "2021-01-22T15:09:51.578846Z",
     "shell.execute_reply": "2021-01-22T15:09:51.577847Z",
     "shell.execute_reply.started": "2021-01-22T15:09:51.438467Z"
    }
   },
   "outputs": [],
   "source": [
    "padded_sequences = tf.keras.preprocessing.sequence.pad_sequences(sequences)"
   ]
  },
  {
   "cell_type": "code",
   "execution_count": 10,
   "metadata": {
    "execution": {
     "iopub.execute_input": "2021-01-22T15:09:51.579845Z",
     "iopub.status.busy": "2021-01-22T15:09:51.578846Z",
     "iopub.status.idle": "2021-01-22T15:09:51.594851Z",
     "shell.execute_reply": "2021-01-22T15:09:51.593849Z",
     "shell.execute_reply.started": "2021-01-22T15:09:51.579845Z"
    }
   },
   "outputs": [
    {
     "data": {
      "text/plain": [
       "array([[  0,   0,   0,   0,   0,   0,   0,   0,   0,   0,   0,   0,   0,\n",
       "          0,   0,   0,   0,   0,   0,   0,   0,   0,   0,   0,   0,   0,\n",
       "          0,   0, 308,   1, 679,   1,   1,  48, 382,   1,   1,   6,   1,\n",
       "          1],\n",
       "       [  0,   0,   0,   0,   0,   0,   0,   0,   0,   0,   0,   0,   0,\n",
       "          0,   0,   0,   0,   0,   0,   0,   0,   0,   0,   0,   0,   0,\n",
       "          4,   1,   1,   1,  22,   2, 166,   1, 416,   1,   6, 258,   9,\n",
       "          1],\n",
       "       [  0,   0,   0,   0,   0,   0,   0,   0,   0,   0,   0,   0,   0,\n",
       "          0,   0,   0,   0,   0,   0,   0,   0,   0,   0,   0,   0,   0,\n",
       "        145, 838,   2, 907,   1,   1, 582,   1, 221, 143,  39,  46,   2,\n",
       "          1],\n",
       "       [  0,   0,   0,   0,   0,   0,   0,   0,   0,   0,   0,   0,   0,\n",
       "          0,   0,   0,   0,   0,   0,   0,   0,   0,   0,   0,   0,   0,\n",
       "          1,  36, 224, 400,   2,   1,  29, 319,  22,  10,   1,   1,   1,\n",
       "        968],\n",
       "       [  0,   0,   0,   0,   0,   0,   0,   0,   0,   0,   0,   0,   0,\n",
       "          0,   0,   0,   0,   0,   0,   0,   0,   0,   0,   0,   0,   0,\n",
       "          0,   0, 767, 719,   1, 908,   1, 623, 594,   5,   4,  95,   1,\n",
       "         92],\n",
       "       [  0,   0,   0,   0,   0,   0,   0,   0,   0,   0,   0,   0,   0,\n",
       "          0,   0,   0,   0,   0,   0,   0,   0,   0,   0,   0,   0,   0,\n",
       "          0,   0,   0,   0,   0,   0,   0,   0,   0,   0,   1,   4, 365,\n",
       "         73],\n",
       "       [  0,   0,   0,   0,   0,   0,   0,   0,   0,   0,   0,   0,   0,\n",
       "          0,   0,   0,   0,   0,   0,   0,   0,   0,   0,   0,   0,   0,\n",
       "          0,   0,   0,   0,   0,   0,   4,   1, 351,   6, 461,   1,   1,\n",
       "          1],\n",
       "       [  0,   0,   0,   0,   0,   0,   0,   0,   0,   0,   0,   0,   0,\n",
       "          0,   0,   0,   0,   0,   0,   0,   0,   0,   0,   0,   0,   0,\n",
       "         19, 479,  39,   1,  31, 155,   2,  99,  83,  18, 158,   6,  32,\n",
       "        352],\n",
       "       [  0,   0,   0,   0,   0,   0,   0,   0,   0,   0,   0,   0,   0,\n",
       "          0,   0,   0,   0,   0,   0,   0,   0,   0,   0,   0,   0,   0,\n",
       "          0,   0,   0,   0,   0,   0,   0, 249,   1,   1, 555,   1,   1,\n",
       "        141],\n",
       "       [  0,   0,   0,   0,   0,   0,   0,   0,   0,   0,   0,   0,   0,\n",
       "          0,   0,   0,   0,   0,   0,   0,   0,   0,   0,   0,   0,   0,\n",
       "          0,   0,   0,   0,   0,   1, 326, 347, 401,  60,   1,   6,   4,\n",
       "          1]])"
      ]
     },
     "execution_count": 10,
     "metadata": {},
     "output_type": "execute_result"
    }
   ],
   "source": [
    "padded_sequences[:10]"
   ]
  },
  {
   "cell_type": "code",
   "execution_count": null,
   "metadata": {},
   "outputs": [],
   "source": []
  }
 ],
 "metadata": {
  "kernelspec": {
   "display_name": "Python 3",
   "language": "python",
   "name": "python3"
  },
  "language_info": {
   "codemirror_mode": {
    "name": "ipython",
    "version": 3
   },
   "file_extension": ".py",
   "mimetype": "text/x-python",
   "name": "python",
   "nbconvert_exporter": "python",
   "pygments_lexer": "ipython3",
   "version": "3.8.3"
  }
 },
 "nbformat": 4,
 "nbformat_minor": 4
}
