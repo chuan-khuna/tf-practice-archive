{
 "cells": [
  {
   "cell_type": "code",
   "execution_count": 1,
   "metadata": {
    "execution": {
     "iopub.execute_input": "2021-01-22T16:00:01.934354Z",
     "iopub.status.busy": "2021-01-22T16:00:01.934354Z",
     "iopub.status.idle": "2021-01-22T16:00:05.699970Z",
     "shell.execute_reply": "2021-01-22T16:00:05.699970Z",
     "shell.execute_reply.started": "2021-01-22T16:00:01.934354Z"
    }
   },
   "outputs": [],
   "source": [
    "import tensorflow as tf\n",
    "import tensorflow_datasets as tfds\n",
    "import pandas as pd\n",
    "import numpy as np\n",
    "\n",
    "\n",
    "seed_ = 20200218\n",
    "np.random.seed(seed_)\n",
    "tf.random.set_seed(seed_)"
   ]
  },
  {
   "cell_type": "markdown",
   "metadata": {},
   "source": [
    "## Tensorflow Dataset\n",
    "\n",
    "https://www.tensorflow.org/datasets"
   ]
  },
  {
   "cell_type": "code",
   "execution_count": 2,
   "metadata": {
    "execution": {
     "iopub.execute_input": "2021-01-22T16:00:05.701971Z",
     "iopub.status.busy": "2021-01-22T16:00:05.700971Z",
     "iopub.status.idle": "2021-01-22T16:00:06.423648Z",
     "shell.execute_reply": "2021-01-22T16:00:06.423648Z",
     "shell.execute_reply.started": "2021-01-22T16:00:05.701971Z"
    }
   },
   "outputs": [],
   "source": [
    "dataset, info = tfds.load(\"imdb_reviews\", with_info=True, as_supervised=True)"
   ]
  },
  {
   "cell_type": "code",
   "execution_count": 3,
   "metadata": {
    "execution": {
     "iopub.execute_input": "2021-01-22T16:00:06.423648Z",
     "iopub.status.busy": "2021-01-22T16:00:06.423648Z",
     "iopub.status.idle": "2021-01-22T16:00:06.439067Z",
     "shell.execute_reply": "2021-01-22T16:00:06.439067Z",
     "shell.execute_reply.started": "2021-01-22T16:00:06.423648Z"
    }
   },
   "outputs": [
    {
     "data": {
      "text/plain": [
       "{'train': <PrefetchDataset shapes: ((), ()), types: (tf.string, tf.int64)>,\n",
       " 'test': <PrefetchDataset shapes: ((), ()), types: (tf.string, tf.int64)>,\n",
       " 'unsupervised': <PrefetchDataset shapes: ((), ()), types: (tf.string, tf.int64)>}"
      ]
     },
     "execution_count": 3,
     "metadata": {},
     "output_type": "execute_result"
    }
   ],
   "source": [
    "dataset"
   ]
  },
  {
   "cell_type": "code",
   "execution_count": 4,
   "metadata": {
    "execution": {
     "iopub.execute_input": "2021-01-22T16:00:06.440066Z",
     "iopub.status.busy": "2021-01-22T16:00:06.440066Z",
     "iopub.status.idle": "2021-01-22T16:00:11.960660Z",
     "shell.execute_reply": "2021-01-22T16:00:11.959660Z",
     "shell.execute_reply.started": "2021-01-22T16:00:06.440066Z"
    }
   },
   "outputs": [],
   "source": [
    "train_sentences = []\n",
    "train_labels = []\n",
    "\n",
    "for sentence, label in dataset['train']:\n",
    "    train_sentences.append(str(sentence.numpy(), encoding='utf-8'))\n",
    "    train_labels.append(label.numpy())\n",
    "    \n",
    "test_sentences = []\n",
    "test_labels = []\n",
    "\n",
    "for sentence, label in dataset['test']:\n",
    "    test_sentences.append(str(sentence.numpy(), encoding='utf-8'))\n",
    "    test_labels.append(label.numpy())"
   ]
  },
  {
   "cell_type": "code",
   "execution_count": 5,
   "metadata": {
    "execution": {
     "iopub.execute_input": "2021-01-22T16:00:11.961660Z",
     "iopub.status.busy": "2021-01-22T16:00:11.960660Z",
     "iopub.status.idle": "2021-01-22T16:00:12.008671Z",
     "shell.execute_reply": "2021-01-22T16:00:12.007671Z",
     "shell.execute_reply.started": "2021-01-22T16:00:11.961660Z"
    }
   },
   "outputs": [],
   "source": [
    "df_train = pd.DataFrame({\n",
    "    'sentence': train_sentences,\n",
    "    'label': train_labels\n",
    "})\n",
    "\n",
    "df_test = pd.DataFrame({\n",
    "    'sentence': test_sentences,\n",
    "    'label': test_labels\n",
    "})"
   ]
  },
  {
   "cell_type": "code",
   "execution_count": 6,
   "metadata": {
    "execution": {
     "iopub.execute_input": "2021-01-22T16:00:12.009671Z",
     "iopub.status.busy": "2021-01-22T16:00:12.009671Z",
     "iopub.status.idle": "2021-01-22T16:00:12.023675Z",
     "shell.execute_reply": "2021-01-22T16:00:12.023675Z",
     "shell.execute_reply.started": "2021-01-22T16:00:12.009671Z"
    }
   },
   "outputs": [
    {
     "data": {
      "text/plain": [
       "((25000, 2), (25000, 2))"
      ]
     },
     "execution_count": 6,
     "metadata": {},
     "output_type": "execute_result"
    }
   ],
   "source": [
    "df_train.shape, df_test.shape"
   ]
  },
  {
   "cell_type": "code",
   "execution_count": 7,
   "metadata": {
    "execution": {
     "iopub.execute_input": "2021-01-22T16:00:12.025677Z",
     "iopub.status.busy": "2021-01-22T16:00:12.025677Z",
     "iopub.status.idle": "2021-01-22T16:00:12.056688Z",
     "shell.execute_reply": "2021-01-22T16:00:12.055682Z",
     "shell.execute_reply.started": "2021-01-22T16:00:12.025677Z"
    }
   },
   "outputs": [
    {
     "data": {
      "text/html": [
       "<div>\n",
       "<style scoped>\n",
       "    .dataframe tbody tr th:only-of-type {\n",
       "        vertical-align: middle;\n",
       "    }\n",
       "\n",
       "    .dataframe tbody tr th {\n",
       "        vertical-align: top;\n",
       "    }\n",
       "\n",
       "    .dataframe thead th {\n",
       "        text-align: right;\n",
       "    }\n",
       "</style>\n",
       "<table border=\"1\" class=\"dataframe\">\n",
       "  <thead>\n",
       "    <tr style=\"text-align: right;\">\n",
       "      <th></th>\n",
       "      <th>sentence</th>\n",
       "      <th>label</th>\n",
       "    </tr>\n",
       "  </thead>\n",
       "  <tbody>\n",
       "    <tr>\n",
       "      <th>0</th>\n",
       "      <td>This was an absolutely terrible movie. Don't b...</td>\n",
       "      <td>0</td>\n",
       "    </tr>\n",
       "    <tr>\n",
       "      <th>1</th>\n",
       "      <td>I have been known to fall asleep during films,...</td>\n",
       "      <td>0</td>\n",
       "    </tr>\n",
       "    <tr>\n",
       "      <th>2</th>\n",
       "      <td>Mann photographs the Alberta Rocky Mountains i...</td>\n",
       "      <td>0</td>\n",
       "    </tr>\n",
       "    <tr>\n",
       "      <th>3</th>\n",
       "      <td>This is the kind of film for a snowy Sunday af...</td>\n",
       "      <td>1</td>\n",
       "    </tr>\n",
       "    <tr>\n",
       "      <th>4</th>\n",
       "      <td>As others have mentioned, all the women that g...</td>\n",
       "      <td>1</td>\n",
       "    </tr>\n",
       "  </tbody>\n",
       "</table>\n",
       "</div>"
      ],
      "text/plain": [
       "                                            sentence  label\n",
       "0  This was an absolutely terrible movie. Don't b...      0\n",
       "1  I have been known to fall asleep during films,...      0\n",
       "2  Mann photographs the Alberta Rocky Mountains i...      0\n",
       "3  This is the kind of film for a snowy Sunday af...      1\n",
       "4  As others have mentioned, all the women that g...      1"
      ]
     },
     "execution_count": 7,
     "metadata": {},
     "output_type": "execute_result"
    }
   ],
   "source": [
    "df_train.head()"
   ]
  },
  {
   "cell_type": "code",
   "execution_count": 8,
   "metadata": {
    "execution": {
     "iopub.execute_input": "2021-01-22T16:00:12.058684Z",
     "iopub.status.busy": "2021-01-22T16:00:12.058684Z",
     "iopub.status.idle": "2021-01-22T16:00:12.072687Z",
     "shell.execute_reply": "2021-01-22T16:00:12.071686Z",
     "shell.execute_reply.started": "2021-01-22T16:00:12.058684Z"
    }
   },
   "outputs": [
    {
     "data": {
      "text/html": [
       "<div>\n",
       "<style scoped>\n",
       "    .dataframe tbody tr th:only-of-type {\n",
       "        vertical-align: middle;\n",
       "    }\n",
       "\n",
       "    .dataframe tbody tr th {\n",
       "        vertical-align: top;\n",
       "    }\n",
       "\n",
       "    .dataframe thead th {\n",
       "        text-align: right;\n",
       "    }\n",
       "</style>\n",
       "<table border=\"1\" class=\"dataframe\">\n",
       "  <thead>\n",
       "    <tr style=\"text-align: right;\">\n",
       "      <th></th>\n",
       "      <th>sentence</th>\n",
       "      <th>label</th>\n",
       "    </tr>\n",
       "  </thead>\n",
       "  <tbody>\n",
       "    <tr>\n",
       "      <th>0</th>\n",
       "      <td>There are films that make careers. For George ...</td>\n",
       "      <td>1</td>\n",
       "    </tr>\n",
       "    <tr>\n",
       "      <th>1</th>\n",
       "      <td>A blackly comic tale of a down-trodden priest,...</td>\n",
       "      <td>1</td>\n",
       "    </tr>\n",
       "    <tr>\n",
       "      <th>2</th>\n",
       "      <td>Scary Movie 1-4, Epic Movie, Date Movie, Meet ...</td>\n",
       "      <td>0</td>\n",
       "    </tr>\n",
       "    <tr>\n",
       "      <th>3</th>\n",
       "      <td>Poor Shirley MacLaine tries hard to lend some ...</td>\n",
       "      <td>0</td>\n",
       "    </tr>\n",
       "    <tr>\n",
       "      <th>4</th>\n",
       "      <td>As a former Erasmus student I enjoyed this fil...</td>\n",
       "      <td>1</td>\n",
       "    </tr>\n",
       "  </tbody>\n",
       "</table>\n",
       "</div>"
      ],
      "text/plain": [
       "                                            sentence  label\n",
       "0  There are films that make careers. For George ...      1\n",
       "1  A blackly comic tale of a down-trodden priest,...      1\n",
       "2  Scary Movie 1-4, Epic Movie, Date Movie, Meet ...      0\n",
       "3  Poor Shirley MacLaine tries hard to lend some ...      0\n",
       "4  As a former Erasmus student I enjoyed this fil...      1"
      ]
     },
     "execution_count": 8,
     "metadata": {},
     "output_type": "execute_result"
    }
   ],
   "source": [
    "df_test.head()"
   ]
  },
  {
   "cell_type": "markdown",
   "metadata": {},
   "source": [
    "## Preprocess Data"
   ]
  },
  {
   "cell_type": "code",
   "execution_count": 9,
   "metadata": {
    "execution": {
     "iopub.execute_input": "2021-01-22T16:00:12.073687Z",
     "iopub.status.busy": "2021-01-22T16:00:12.072687Z",
     "iopub.status.idle": "2021-01-22T16:00:12.087967Z",
     "shell.execute_reply": "2021-01-22T16:00:12.086967Z",
     "shell.execute_reply.started": "2021-01-22T16:00:12.073687Z"
    }
   },
   "outputs": [],
   "source": [
    "# config\n",
    "\n",
    "# vocab size\n",
    "num_words = 10000\n",
    "\n",
    "embedding_dims = 16\n",
    "max_length = 120\n",
    "pad_trunc = 'post'\n",
    "oov_token = '<OOV>'"
   ]
  },
  {
   "cell_type": "code",
   "execution_count": 10,
   "metadata": {
    "execution": {
     "iopub.execute_input": "2021-01-22T16:00:12.089969Z",
     "iopub.status.busy": "2021-01-22T16:00:12.088968Z",
     "iopub.status.idle": "2021-01-22T16:00:16.758515Z",
     "shell.execute_reply": "2021-01-22T16:00:16.758515Z",
     "shell.execute_reply.started": "2021-01-22T16:00:12.088968Z"
    }
   },
   "outputs": [],
   "source": [
    "tokenizer = tf.keras.preprocessing.text.Tokenizer(num_words=num_words, \n",
    "                                                  oov_token=oov_token)\n",
    "\n",
    "tokenizer.fit_on_texts(df_train['sentence'])\n",
    "\n",
    "word_index = tokenizer.word_index"
   ]
  },
  {
   "cell_type": "code",
   "execution_count": 11,
   "metadata": {
    "execution": {
     "iopub.execute_input": "2021-01-22T16:00:16.759516Z",
     "iopub.status.busy": "2021-01-22T16:00:16.759516Z",
     "iopub.status.idle": "2021-01-22T16:00:16.775520Z",
     "shell.execute_reply": "2021-01-22T16:00:16.774520Z",
     "shell.execute_reply.started": "2021-01-22T16:00:16.759516Z"
    }
   },
   "outputs": [
    {
     "name": "stdout",
     "output_type": "stream",
     "text": [
      "<OOV>: 1\n",
      "the: 2\n",
      "and: 3\n",
      "a: 4\n",
      "of: 5\n",
      "to: 6\n",
      "is: 7\n",
      "br: 8\n",
      "in: 9\n",
      "it: 10\n"
     ]
    }
   ],
   "source": [
    "for k in list(word_index.keys())[:10]:\n",
    "    print(f\"{k}: {word_index[k]}\")"
   ]
  },
  {
   "cell_type": "code",
   "execution_count": 12,
   "metadata": {
    "execution": {
     "iopub.execute_input": "2021-01-22T16:00:16.776520Z",
     "iopub.status.busy": "2021-01-22T16:00:16.775520Z",
     "iopub.status.idle": "2021-01-22T16:00:20.152866Z",
     "shell.execute_reply": "2021-01-22T16:00:20.152866Z",
     "shell.execute_reply.started": "2021-01-22T16:00:16.776520Z"
    }
   },
   "outputs": [],
   "source": [
    "train_sequences = tokenizer.texts_to_sequences(df_train['sentence'])\n",
    "padded_train_sequences = tf.keras.preprocessing.sequence.pad_sequences(\n",
    "    train_sequences, truncating=pad_trunc, maxlen=max_length)"
   ]
  },
  {
   "cell_type": "code",
   "execution_count": 13,
   "metadata": {
    "execution": {
     "iopub.execute_input": "2021-01-22T16:00:20.153867Z",
     "iopub.status.busy": "2021-01-22T16:00:20.153867Z",
     "iopub.status.idle": "2021-01-22T16:00:23.651657Z",
     "shell.execute_reply": "2021-01-22T16:00:23.650656Z",
     "shell.execute_reply.started": "2021-01-22T16:00:20.153867Z"
    }
   },
   "outputs": [],
   "source": [
    "test_sequences = tokenizer.texts_to_sequences(df_test['sentence'])\n",
    "padded_test_sequences = tf.keras.preprocessing.sequence.pad_sequences(\n",
    "    test_sequences, truncating=pad_trunc, maxlen=max_length)"
   ]
  },
  {
   "cell_type": "markdown",
   "metadata": {},
   "source": [
    "## Embedding\n",
    "\n",
    "#### Embedding i.e. vector ของ word\n",
    "\n",
    "การทำงานของ Embedding ไม่อยู่ในคอร์สนี้\n",
    "\n",
    "### embedding คือ...\n",
    "- word มีหลายคำที่ความหมายเดียวกัน ใกล้เคียงกัน\n",
    "- dull = boring, fun = exiting\n",
    "- word ที่ความหมายใกล้เคียงกันจะมี vector ใกล้เคียงกัน\n",
    "\n",
    "### ในที่นี้ IMDB review\n",
    "- review (-) คำว่า dull-boring ปรากฏเยอะ แสดงว่ามันมี sentiment ใกล้เคียงกัน\n",
    "    - vector ใกล้เคียงกัน"
   ]
  },
  {
   "cell_type": "markdown",
   "metadata": {},
   "source": [
    "## Model"
   ]
  },
  {
   "cell_type": "markdown",
   "metadata": {},
   "source": [
    "### Model 1\n",
    "- model แบบง่าย NN\n",
    "- หลังจาก embedding จะได้ 2D array [sentence_length, embedding_dims]\n",
    "- ต้องการใส่ไปใน NN ปกติ ต้อง Flatten ก่อน"
   ]
  },
  {
   "cell_type": "code",
   "execution_count": 14,
   "metadata": {
    "execution": {
     "iopub.execute_input": "2021-01-22T16:00:23.652657Z",
     "iopub.status.busy": "2021-01-22T16:00:23.652657Z",
     "iopub.status.idle": "2021-01-22T16:00:24.077906Z",
     "shell.execute_reply": "2021-01-22T16:00:24.076906Z",
     "shell.execute_reply.started": "2021-01-22T16:00:23.652657Z"
    }
   },
   "outputs": [],
   "source": [
    "model_1 = tf.keras.Sequential([\n",
    "    tf.keras.layers.Embedding(num_words, embedding_dims, input_length=max_length),\n",
    "    tf.keras.layers.Flatten(),\n",
    "    tf.keras.layers.Dense(6, activation='relu'),\n",
    "    tf.keras.layers.Dense(1, activation='sigmoid'),\n",
    "])"
   ]
  },
  {
   "cell_type": "code",
   "execution_count": 15,
   "metadata": {
    "execution": {
     "iopub.execute_input": "2021-01-22T16:00:24.078907Z",
     "iopub.status.busy": "2021-01-22T16:00:24.078907Z",
     "iopub.status.idle": "2021-01-22T16:00:24.092582Z",
     "shell.execute_reply": "2021-01-22T16:00:24.092582Z",
     "shell.execute_reply.started": "2021-01-22T16:00:24.078907Z"
    }
   },
   "outputs": [
    {
     "name": "stdout",
     "output_type": "stream",
     "text": [
      "Model: \"sequential\"\n",
      "_________________________________________________________________\n",
      "Layer (type)                 Output Shape              Param #   \n",
      "=================================================================\n",
      "embedding (Embedding)        (None, 120, 16)           160000    \n",
      "_________________________________________________________________\n",
      "flatten (Flatten)            (None, 1920)              0         \n",
      "_________________________________________________________________\n",
      "dense (Dense)                (None, 6)                 11526     \n",
      "_________________________________________________________________\n",
      "dense_1 (Dense)              (None, 1)                 7         \n",
      "=================================================================\n",
      "Total params: 171,533\n",
      "Trainable params: 171,533\n",
      "Non-trainable params: 0\n",
      "_________________________________________________________________\n"
     ]
    }
   ],
   "source": [
    "model_1.summary()"
   ]
  },
  {
   "cell_type": "markdown",
   "metadata": {},
   "source": [
    "### model 1\n",
    "\n",
    "- params ใน dense เยอะ\n",
    "- params ที่ต้อง learn ใน embedding เกิดจาก dim*(n_words*n_words)"
   ]
  },
  {
   "cell_type": "code",
   "execution_count": 16,
   "metadata": {
    "execution": {
     "iopub.execute_input": "2021-01-22T16:00:24.093583Z",
     "iopub.status.busy": "2021-01-22T16:00:24.093583Z",
     "iopub.status.idle": "2021-01-22T16:00:24.140602Z",
     "shell.execute_reply": "2021-01-22T16:00:24.140602Z",
     "shell.execute_reply.started": "2021-01-22T16:00:24.093583Z"
    }
   },
   "outputs": [],
   "source": [
    "model_2 = tf.keras.Sequential([\n",
    "    tf.keras.layers.Embedding(num_words, embedding_dims, input_length=max_length),\n",
    "    tf.keras.layers.GlobalAveragePooling1D(),\n",
    "    tf.keras.layers.Dense(6, activation='relu'),\n",
    "    tf.keras.layers.Dense(1, activation='sigmoid'),\n",
    "])"
   ]
  },
  {
   "cell_type": "code",
   "execution_count": 17,
   "metadata": {
    "execution": {
     "iopub.execute_input": "2021-01-22T16:00:24.141593Z",
     "iopub.status.busy": "2021-01-22T16:00:24.141593Z",
     "iopub.status.idle": "2021-01-22T16:00:24.157598Z",
     "shell.execute_reply": "2021-01-22T16:00:24.156598Z",
     "shell.execute_reply.started": "2021-01-22T16:00:24.141593Z"
    }
   },
   "outputs": [
    {
     "name": "stdout",
     "output_type": "stream",
     "text": [
      "Model: \"sequential_1\"\n",
      "_________________________________________________________________\n",
      "Layer (type)                 Output Shape              Param #   \n",
      "=================================================================\n",
      "embedding_1 (Embedding)      (None, 120, 16)           160000    \n",
      "_________________________________________________________________\n",
      "global_average_pooling1d (Gl (None, 16)                0         \n",
      "_________________________________________________________________\n",
      "dense_2 (Dense)              (None, 6)                 102       \n",
      "_________________________________________________________________\n",
      "dense_3 (Dense)              (None, 1)                 7         \n",
      "=================================================================\n",
      "Total params: 160,109\n",
      "Trainable params: 160,109\n",
      "Non-trainable params: 0\n",
      "_________________________________________________________________\n"
     ]
    }
   ],
   "source": [
    "model_2.summary()"
   ]
  },
  {
   "cell_type": "markdown",
   "metadata": {},
   "source": [
    "## Optimizer"
   ]
  },
  {
   "cell_type": "code",
   "execution_count": 18,
   "metadata": {
    "execution": {
     "iopub.execute_input": "2021-01-22T16:00:24.158598Z",
     "iopub.status.busy": "2021-01-22T16:00:24.158598Z",
     "iopub.status.idle": "2021-01-22T16:00:24.171601Z",
     "shell.execute_reply": "2021-01-22T16:00:24.171601Z",
     "shell.execute_reply.started": "2021-01-22T16:00:24.158598Z"
    }
   },
   "outputs": [],
   "source": [
    "optimizer = tf.keras.optimizers.Adam()"
   ]
  },
  {
   "cell_type": "code",
   "execution_count": 19,
   "metadata": {
    "execution": {
     "iopub.execute_input": "2021-01-22T16:00:24.173601Z",
     "iopub.status.busy": "2021-01-22T16:00:24.172602Z",
     "iopub.status.idle": "2021-01-22T16:00:24.188604Z",
     "shell.execute_reply": "2021-01-22T16:00:24.187605Z",
     "shell.execute_reply.started": "2021-01-22T16:00:24.173601Z"
    }
   },
   "outputs": [],
   "source": [
    "model_2.compile(optimizer=optimizer, loss='binary_crossentropy', metrics=['accuracy'])"
   ]
  },
  {
   "cell_type": "code",
   "execution_count": 20,
   "metadata": {
    "execution": {
     "iopub.execute_input": "2021-01-22T16:00:24.189604Z",
     "iopub.status.busy": "2021-01-22T16:00:24.189604Z",
     "iopub.status.idle": "2021-01-22T16:01:03.343483Z",
     "shell.execute_reply": "2021-01-22T16:01:03.343483Z",
     "shell.execute_reply.started": "2021-01-22T16:00:24.189604Z"
    }
   },
   "outputs": [
    {
     "name": "stdout",
     "output_type": "stream",
     "text": [
      "Epoch 1/20\n",
      "391/391 [==============================] - 2s 5ms/step - loss: 0.6161 - accuracy: 0.7150\n",
      "Epoch 2/20\n",
      "391/391 [==============================] - 2s 5ms/step - loss: 0.3890 - accuracy: 0.8448\n",
      "Epoch 3/20\n",
      "391/391 [==============================] - 2s 6ms/step - loss: 0.3035 - accuracy: 0.8777\n",
      "Epoch 4/20\n",
      "391/391 [==============================] - 2s 5ms/step - loss: 0.2612 - accuracy: 0.8957\n",
      "Epoch 5/20\n",
      "391/391 [==============================] - 2s 5ms/step - loss: 0.2336 - accuracy: 0.9098\n",
      "Epoch 6/20\n",
      "391/391 [==============================] - 2s 5ms/step - loss: 0.2110 - accuracy: 0.9217\n",
      "Epoch 7/20\n",
      "391/391 [==============================] - 2s 5ms/step - loss: 0.1927 - accuracy: 0.9306\n",
      "Epoch 8/20\n",
      "391/391 [==============================] - 2s 6ms/step - loss: 0.1767 - accuracy: 0.9380\n",
      "Epoch 9/20\n",
      "391/391 [==============================] - 2s 4ms/step - loss: 0.1633 - accuracy: 0.9434\n",
      "Epoch 10/20\n",
      "391/391 [==============================] - 2s 5ms/step - loss: 0.1512 - accuracy: 0.9495\n",
      "Epoch 11/20\n",
      "391/391 [==============================] - 2s 5ms/step - loss: 0.1398 - accuracy: 0.9533\n",
      "Epoch 12/20\n",
      "391/391 [==============================] - 2s 4ms/step - loss: 0.1299 - accuracy: 0.9574\n",
      "Epoch 13/20\n",
      "391/391 [==============================] - 2s 5ms/step - loss: 0.1211 - accuracy: 0.9621\n",
      "Epoch 14/20\n",
      "391/391 [==============================] - 2s 5ms/step - loss: 0.1121 - accuracy: 0.9662\n",
      "Epoch 15/20\n",
      "391/391 [==============================] - 2s 5ms/step - loss: 0.1040 - accuracy: 0.9686\n",
      "Epoch 16/20\n",
      "391/391 [==============================] - 2s 5ms/step - loss: 0.0961 - accuracy: 0.9732\n",
      "Epoch 17/20\n",
      "391/391 [==============================] - 2s 4ms/step - loss: 0.0887 - accuracy: 0.9764\n",
      "Epoch 18/20\n",
      "391/391 [==============================] - 2s 5ms/step - loss: 0.0813 - accuracy: 0.9789\n",
      "Epoch 19/20\n",
      "391/391 [==============================] - 2s 4ms/step - loss: 0.0761 - accuracy: 0.9805\n",
      "Epoch 20/20\n",
      "391/391 [==============================] - 2s 5ms/step - loss: 0.0689 - accuracy: 0.9848\n"
     ]
    },
    {
     "data": {
      "text/plain": [
       "<tensorflow.python.keras.callbacks.History at 0x17e79b1d1c0>"
      ]
     },
     "execution_count": 20,
     "metadata": {},
     "output_type": "execute_result"
    }
   ],
   "source": [
    "model_2.fit(padded_train_sequences, df_train['label'], batch_size=64, epochs=20)"
   ]
  },
  {
   "cell_type": "code",
   "execution_count": 21,
   "metadata": {
    "execution": {
     "iopub.execute_input": "2021-01-22T16:01:03.344482Z",
     "iopub.status.busy": "2021-01-22T16:01:03.344482Z",
     "iopub.status.idle": "2021-01-22T16:01:04.935166Z",
     "shell.execute_reply": "2021-01-22T16:01:04.935166Z",
     "shell.execute_reply.started": "2021-01-22T16:01:03.344482Z"
    }
   },
   "outputs": [
    {
     "name": "stdout",
     "output_type": "stream",
     "text": [
      "782/782 [==============================] - 1s 2ms/step - loss: 0.0534 - accuracy: 0.9907\n"
     ]
    },
    {
     "data": {
      "text/plain": [
       "[0.053350143134593964, 0.9907199740409851]"
      ]
     },
     "execution_count": 21,
     "metadata": {},
     "output_type": "execute_result"
    }
   ],
   "source": [
    "model_2.evaluate(padded_train_sequences, df_train['label'])"
   ]
  },
  {
   "cell_type": "code",
   "execution_count": 22,
   "metadata": {
    "execution": {
     "iopub.execute_input": "2021-01-22T16:01:04.938168Z",
     "iopub.status.busy": "2021-01-22T16:01:04.938168Z",
     "iopub.status.idle": "2021-01-22T16:01:06.452249Z",
     "shell.execute_reply": "2021-01-22T16:01:06.451248Z",
     "shell.execute_reply.started": "2021-01-22T16:01:04.938168Z"
    }
   },
   "outputs": [
    {
     "name": "stdout",
     "output_type": "stream",
     "text": [
      "782/782 [==============================] - 1s 2ms/step - loss: 0.8712 - accuracy: 0.7870\n"
     ]
    },
    {
     "data": {
      "text/plain": [
       "[0.8712406158447266, 0.7870000004768372]"
      ]
     },
     "execution_count": 22,
     "metadata": {},
     "output_type": "execute_result"
    }
   ],
   "source": [
    "model_2.evaluate(padded_test_sequences, df_test['label'])"
   ]
  }
 ],
 "metadata": {
  "kernelspec": {
   "display_name": "Python 3",
   "language": "python",
   "name": "python3"
  },
  "language_info": {
   "codemirror_mode": {
    "name": "ipython",
    "version": 3
   },
   "file_extension": ".py",
   "mimetype": "text/x-python",
   "name": "python",
   "nbconvert_exporter": "python",
   "pygments_lexer": "ipython3",
   "version": "3.8.5"
  }
 },
 "nbformat": 4,
 "nbformat_minor": 4
}
