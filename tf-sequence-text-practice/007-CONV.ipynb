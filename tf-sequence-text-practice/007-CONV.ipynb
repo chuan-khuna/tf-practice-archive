{
 "cells": [
  {
   "cell_type": "code",
   "execution_count": 1,
   "metadata": {
    "execution": {
     "iopub.execute_input": "2021-01-23T04:51:30.021085Z",
     "iopub.status.busy": "2021-01-23T04:51:30.021085Z",
     "iopub.status.idle": "2021-01-23T04:51:33.323889Z",
     "shell.execute_reply": "2021-01-23T04:51:33.323889Z",
     "shell.execute_reply.started": "2021-01-23T04:51:30.021085Z"
    }
   },
   "outputs": [],
   "source": [
    "import numpy as np\n",
    "import pandas as pd\n",
    "import tensorflow as tf\n",
    "\n",
    "seed_ = 20200218\n",
    "tf.random.set_seed(seed_)\n",
    "np.random.seed(seed_)\n",
    "\n",
    "import matplotlib.pyplot as plt\n",
    "import seaborn as sns\n",
    "sns.set_theme(style=\"whitegrid\")\n",
    "\n",
    "import json"
   ]
  },
  {
   "cell_type": "code",
   "execution_count": 2,
   "metadata": {
    "execution": {
     "iopub.execute_input": "2021-01-23T04:51:33.325791Z",
     "iopub.status.busy": "2021-01-23T04:51:33.324788Z",
     "iopub.status.idle": "2021-01-23T04:51:33.418819Z",
     "shell.execute_reply": "2021-01-23T04:51:33.418819Z",
     "shell.execute_reply.started": "2021-01-23T04:51:33.325791Z"
    }
   },
   "outputs": [
    {
     "data": {
      "text/html": [
       "<div>\n",
       "<style scoped>\n",
       "    .dataframe tbody tr th:only-of-type {\n",
       "        vertical-align: middle;\n",
       "    }\n",
       "\n",
       "    .dataframe tbody tr th {\n",
       "        vertical-align: top;\n",
       "    }\n",
       "\n",
       "    .dataframe thead th {\n",
       "        text-align: right;\n",
       "    }\n",
       "</style>\n",
       "<table border=\"1\" class=\"dataframe\">\n",
       "  <thead>\n",
       "    <tr style=\"text-align: right;\">\n",
       "      <th></th>\n",
       "      <th>is_sarcastic</th>\n",
       "      <th>headline</th>\n",
       "      <th>article_link</th>\n",
       "    </tr>\n",
       "  </thead>\n",
       "  <tbody>\n",
       "    <tr>\n",
       "      <th>0</th>\n",
       "      <td>1</td>\n",
       "      <td>thirtysomething scientists unveil doomsday clo...</td>\n",
       "      <td>https://www.theonion.com/thirtysomething-scien...</td>\n",
       "    </tr>\n",
       "    <tr>\n",
       "      <th>1</th>\n",
       "      <td>0</td>\n",
       "      <td>dem rep. totally nails why congress is falling...</td>\n",
       "      <td>https://www.huffingtonpost.com/entry/donna-edw...</td>\n",
       "    </tr>\n",
       "    <tr>\n",
       "      <th>2</th>\n",
       "      <td>0</td>\n",
       "      <td>eat your veggies: 9 deliciously different recipes</td>\n",
       "      <td>https://www.huffingtonpost.com/entry/eat-your-...</td>\n",
       "    </tr>\n",
       "    <tr>\n",
       "      <th>3</th>\n",
       "      <td>1</td>\n",
       "      <td>inclement weather prevents liar from getting t...</td>\n",
       "      <td>https://local.theonion.com/inclement-weather-p...</td>\n",
       "    </tr>\n",
       "    <tr>\n",
       "      <th>4</th>\n",
       "      <td>1</td>\n",
       "      <td>mother comes pretty close to using word 'strea...</td>\n",
       "      <td>https://www.theonion.com/mother-comes-pretty-c...</td>\n",
       "    </tr>\n",
       "  </tbody>\n",
       "</table>\n",
       "</div>"
      ],
      "text/plain": [
       "   is_sarcastic                                           headline  \\\n",
       "0             1  thirtysomething scientists unveil doomsday clo...   \n",
       "1             0  dem rep. totally nails why congress is falling...   \n",
       "2             0  eat your veggies: 9 deliciously different recipes   \n",
       "3             1  inclement weather prevents liar from getting t...   \n",
       "4             1  mother comes pretty close to using word 'strea...   \n",
       "\n",
       "                                        article_link  \n",
       "0  https://www.theonion.com/thirtysomething-scien...  \n",
       "1  https://www.huffingtonpost.com/entry/donna-edw...  \n",
       "2  https://www.huffingtonpost.com/entry/eat-your-...  \n",
       "3  https://local.theonion.com/inclement-weather-p...  \n",
       "4  https://www.theonion.com/mother-comes-pretty-c...  "
      ]
     },
     "execution_count": 2,
     "metadata": {},
     "output_type": "execute_result"
    }
   ],
   "source": [
    "df = pd.read_csv(\"./data/Sarcasm_CSV.csv\")\n",
    "df.head()"
   ]
  },
  {
   "cell_type": "markdown",
   "metadata": {},
   "source": [
    "# Conv Layer\n",
    "\n",
    "## `tf.keras.layers.Conv1D(filters, kernel_size)`\n",
    "\n",
    "https://www.tensorflow.org/api_docs/python/tf/keras/layers/Conv1D\n",
    "\n",
    "- kernel_size = การ group word"
   ]
  },
  {
   "cell_type": "code",
   "execution_count": 3,
   "metadata": {
    "execution": {
     "iopub.execute_input": "2021-01-23T04:51:33.421787Z",
     "iopub.status.busy": "2021-01-23T04:51:33.420789Z",
     "iopub.status.idle": "2021-01-23T04:51:33.426791Z",
     "shell.execute_reply": "2021-01-23T04:51:33.425788Z",
     "shell.execute_reply.started": "2021-01-23T04:51:33.421787Z"
    }
   },
   "outputs": [],
   "source": [
    "# config\n",
    "\n",
    "num_words = 10000\n",
    "embedding_dims = 32\n",
    "max_length = 32\n",
    "pad_trunc = 'post'\n",
    "pad_type = 'pre'\n",
    "oov_token = '<OOV>'\n",
    "\n",
    "training_size = 20000\n",
    "num_epochs = 30"
   ]
  },
  {
   "cell_type": "code",
   "execution_count": 4,
   "metadata": {
    "execution": {
     "iopub.execute_input": "2021-01-23T04:51:33.428788Z",
     "iopub.status.busy": "2021-01-23T04:51:33.428788Z",
     "iopub.status.idle": "2021-01-23T04:51:33.440786Z",
     "shell.execute_reply": "2021-01-23T04:51:33.439787Z",
     "shell.execute_reply.started": "2021-01-23T04:51:33.428788Z"
    }
   },
   "outputs": [],
   "source": [
    "df_train = df.iloc[:training_size]\n",
    "df_test = df.iloc[training_size:]"
   ]
  },
  {
   "cell_type": "code",
   "execution_count": 5,
   "metadata": {
    "execution": {
     "iopub.execute_input": "2021-01-23T04:51:33.442791Z",
     "iopub.status.busy": "2021-01-23T04:51:33.441787Z",
     "iopub.status.idle": "2021-01-23T04:51:33.448788Z",
     "shell.execute_reply": "2021-01-23T04:51:33.447786Z",
     "shell.execute_reply.started": "2021-01-23T04:51:33.442791Z"
    }
   },
   "outputs": [],
   "source": [
    "# tokenizer\n",
    "tokenizer = tf.keras.preprocessing.text.Tokenizer(num_words=num_words, \n",
    "                                                  oov_token=oov_token)"
   ]
  },
  {
   "cell_type": "code",
   "execution_count": 6,
   "metadata": {
    "execution": {
     "iopub.execute_input": "2021-01-23T04:51:33.450790Z",
     "iopub.status.busy": "2021-01-23T04:51:33.449789Z",
     "iopub.status.idle": "2021-01-23T04:51:34.035787Z",
     "shell.execute_reply": "2021-01-23T04:51:34.034820Z",
     "shell.execute_reply.started": "2021-01-23T04:51:33.450790Z"
    }
   },
   "outputs": [
    {
     "name": "stdout",
     "output_type": "stream",
     "text": [
      "<OOV>:\t1\n",
      "to:\t2\n",
      "of:\t3\n",
      "the:\t4\n",
      "in:\t5\n",
      "for:\t6\n",
      "a:\t7\n",
      "on:\t8\n",
      "and:\t9\n",
      "with:\t10\n"
     ]
    }
   ],
   "source": [
    "tokenizer.fit_on_texts(df_train['headline'])\n",
    "word_index = tokenizer.word_index\n",
    "\n",
    "for k in list(word_index.keys())[:10]:\n",
    "    print(f\"{k}:\\t{word_index[k]}\")"
   ]
  },
  {
   "cell_type": "code",
   "execution_count": 7,
   "metadata": {
    "execution": {
     "iopub.execute_input": "2021-01-23T04:51:34.037791Z",
     "iopub.status.busy": "2021-01-23T04:51:34.036789Z",
     "iopub.status.idle": "2021-01-23T04:51:34.423793Z",
     "shell.execute_reply": "2021-01-23T04:51:34.422886Z",
     "shell.execute_reply.started": "2021-01-23T04:51:34.037791Z"
    }
   },
   "outputs": [],
   "source": [
    "train_sequences = tokenizer.texts_to_sequences(df_train['headline'])\n",
    "test_sequences = tokenizer.texts_to_sequences(df_test['headline'])"
   ]
  },
  {
   "cell_type": "code",
   "execution_count": 8,
   "metadata": {
    "execution": {
     "iopub.execute_input": "2021-01-23T04:51:34.425788Z",
     "iopub.status.busy": "2021-01-23T04:51:34.424789Z",
     "iopub.status.idle": "2021-01-23T04:51:34.604788Z",
     "shell.execute_reply": "2021-01-23T04:51:34.603787Z",
     "shell.execute_reply.started": "2021-01-23T04:51:34.425788Z"
    }
   },
   "outputs": [],
   "source": [
    "padded_train = tf.keras.preprocessing.sequence.pad_sequences(\n",
    "    train_sequences, maxlen=max_length, padding=pad_type, truncating=pad_trunc\n",
    ")\n",
    "\n",
    "padded_test = tf.keras.preprocessing.sequence.pad_sequences(\n",
    "    test_sequences, maxlen=max_length, padding=pad_type, truncating=pad_trunc\n",
    ")"
   ]
  },
  {
   "cell_type": "markdown",
   "metadata": {},
   "source": [
    "# Model"
   ]
  },
  {
   "cell_type": "code",
   "execution_count": 9,
   "metadata": {
    "execution": {
     "iopub.execute_input": "2021-01-23T04:51:34.606789Z",
     "iopub.status.busy": "2021-01-23T04:51:34.605787Z",
     "iopub.status.idle": "2021-01-23T04:51:37.426659Z",
     "shell.execute_reply": "2021-01-23T04:51:37.425763Z",
     "shell.execute_reply.started": "2021-01-23T04:51:34.606789Z"
    }
   },
   "outputs": [],
   "source": [
    "model = tf.keras.Sequential([\n",
    "    tf.keras.layers.Embedding(num_words, embedding_dims),\n",
    "    tf.keras.layers.Conv1D(128, 5, activation='relu'),\n",
    "    tf.keras.layers.GlobalAveragePooling1D(),\n",
    "    tf.keras.layers.Dense(16, activation='relu'),\n",
    "    tf.keras.layers.Dense(1, activation='sigmoid')\n",
    "])"
   ]
  },
  {
   "cell_type": "code",
   "execution_count": 10,
   "metadata": {
    "execution": {
     "iopub.execute_input": "2021-01-23T04:51:37.428659Z",
     "iopub.status.busy": "2021-01-23T04:51:37.427658Z",
     "iopub.status.idle": "2021-01-23T04:51:37.434659Z",
     "shell.execute_reply": "2021-01-23T04:51:37.432661Z",
     "shell.execute_reply.started": "2021-01-23T04:51:37.428659Z"
    }
   },
   "outputs": [],
   "source": [
    "optimizer = tf.keras.optimizers.Adam()"
   ]
  },
  {
   "cell_type": "code",
   "execution_count": 11,
   "metadata": {
    "execution": {
     "iopub.execute_input": "2021-01-23T04:51:37.440659Z",
     "iopub.status.busy": "2021-01-23T04:51:37.438671Z",
     "iopub.status.idle": "2021-01-23T04:51:37.465661Z",
     "shell.execute_reply": "2021-01-23T04:51:37.463659Z",
     "shell.execute_reply.started": "2021-01-23T04:51:37.440659Z"
    }
   },
   "outputs": [],
   "source": [
    "model.compile(optimizer=optimizer, metrics=['accuracy'], loss='binary_crossentropy')"
   ]
  },
  {
   "cell_type": "code",
   "execution_count": 12,
   "metadata": {
    "execution": {
     "iopub.execute_input": "2021-01-23T04:51:37.467659Z",
     "iopub.status.busy": "2021-01-23T04:51:37.467659Z",
     "iopub.status.idle": "2021-01-23T04:51:37.476657Z",
     "shell.execute_reply": "2021-01-23T04:51:37.474667Z",
     "shell.execute_reply.started": "2021-01-23T04:51:37.467659Z"
    }
   },
   "outputs": [
    {
     "name": "stdout",
     "output_type": "stream",
     "text": [
      "Model: \"sequential\"\n",
      "_________________________________________________________________\n",
      "Layer (type)                 Output Shape              Param #   \n",
      "=================================================================\n",
      "embedding (Embedding)        (None, None, 32)          320000    \n",
      "_________________________________________________________________\n",
      "conv1d (Conv1D)              (None, None, 128)         20608     \n",
      "_________________________________________________________________\n",
      "global_average_pooling1d (Gl (None, 128)               0         \n",
      "_________________________________________________________________\n",
      "dense (Dense)                (None, 16)                2064      \n",
      "_________________________________________________________________\n",
      "dense_1 (Dense)              (None, 1)                 17        \n",
      "=================================================================\n",
      "Total params: 342,689\n",
      "Trainable params: 342,689\n",
      "Non-trainable params: 0\n",
      "_________________________________________________________________\n"
     ]
    }
   ],
   "source": [
    "model.summary()"
   ]
  },
  {
   "cell_type": "code",
   "execution_count": 13,
   "metadata": {
    "execution": {
     "iopub.execute_input": "2021-01-23T04:51:37.479659Z",
     "iopub.status.busy": "2021-01-23T04:51:37.478659Z",
     "iopub.status.idle": "2021-01-23T04:53:43.244585Z",
     "shell.execute_reply": "2021-01-23T04:53:43.243558Z",
     "shell.execute_reply.started": "2021-01-23T04:51:37.479659Z"
    }
   },
   "outputs": [
    {
     "name": "stdout",
     "output_type": "stream",
     "text": [
      "Epoch 1/30\n",
      "313/313 [==============================] - 4s 13ms/step - loss: 0.4663 - accuracy: 0.7656 - val_loss: 0.3394 - val_accuracy: 0.8498\n",
      "Epoch 2/30\n",
      "313/313 [==============================] - 4s 12ms/step - loss: 0.2550 - accuracy: 0.8950 - val_loss: 0.3527 - val_accuracy: 0.8491\n",
      "Epoch 3/30\n",
      "313/313 [==============================] - 4s 11ms/step - loss: 0.1863 - accuracy: 0.9284 - val_loss: 0.4091 - val_accuracy: 0.8330\n",
      "Epoch 4/30\n",
      "313/313 [==============================] - 4s 13ms/step - loss: 0.1421 - accuracy: 0.9491 - val_loss: 0.4600 - val_accuracy: 0.8308\n",
      "Epoch 5/30\n",
      "313/313 [==============================] - 4s 13ms/step - loss: 0.1145 - accuracy: 0.9599 - val_loss: 0.5019 - val_accuracy: 0.8277\n",
      "Epoch 6/30\n",
      "313/313 [==============================] - 4s 12ms/step - loss: 0.0892 - accuracy: 0.9693 - val_loss: 0.5813 - val_accuracy: 0.8264\n",
      "Epoch 7/30\n",
      "313/313 [==============================] - 4s 13ms/step - loss: 0.0694 - accuracy: 0.9789 - val_loss: 0.6661 - val_accuracy: 0.8229\n",
      "Epoch 8/30\n",
      "313/313 [==============================] - 4s 14ms/step - loss: 0.0530 - accuracy: 0.9841 - val_loss: 0.8118 - val_accuracy: 0.8169\n",
      "Epoch 9/30\n",
      "313/313 [==============================] - 4s 13ms/step - loss: 0.0377 - accuracy: 0.9890 - val_loss: 0.8092 - val_accuracy: 0.8188\n",
      "Epoch 10/30\n",
      "313/313 [==============================] - 4s 13ms/step - loss: 0.0265 - accuracy: 0.9931 - val_loss: 0.9239 - val_accuracy: 0.8185\n",
      "Epoch 11/30\n",
      "313/313 [==============================] - 4s 13ms/step - loss: 0.0199 - accuracy: 0.9949 - val_loss: 0.9925 - val_accuracy: 0.8211\n",
      "Epoch 12/30\n",
      "313/313 [==============================] - 4s 13ms/step - loss: 0.0152 - accuracy: 0.9967 - val_loss: 1.0966 - val_accuracy: 0.8184\n",
      "Epoch 13/30\n",
      "313/313 [==============================] - 4s 14ms/step - loss: 0.0097 - accuracy: 0.9982 - val_loss: 1.1642 - val_accuracy: 0.8151\n",
      "Epoch 14/30\n",
      "313/313 [==============================] - 4s 14ms/step - loss: 0.0074 - accuracy: 0.9985 - val_loss: 1.2724 - val_accuracy: 0.8174\n",
      "Epoch 15/30\n",
      "313/313 [==============================] - 4s 12ms/step - loss: 0.0055 - accuracy: 0.9990 - val_loss: 1.3436 - val_accuracy: 0.8168\n",
      "Epoch 16/30\n",
      "313/313 [==============================] - 4s 14ms/step - loss: 0.0039 - accuracy: 0.9992 - val_loss: 1.4700 - val_accuracy: 0.8136\n",
      "Epoch 17/30\n",
      "313/313 [==============================] - 4s 13ms/step - loss: 0.0031 - accuracy: 0.9995 - val_loss: 1.4826 - val_accuracy: 0.8138\n",
      "Epoch 18/30\n",
      "313/313 [==============================] - 5s 14ms/step - loss: 0.0033 - accuracy: 0.9995 - val_loss: 1.4858 - val_accuracy: 0.8147\n",
      "Epoch 19/30\n",
      "313/313 [==============================] - 5s 14ms/step - loss: 0.0044 - accuracy: 0.9988 - val_loss: 1.6460 - val_accuracy: 0.8117\n",
      "Epoch 20/30\n",
      "313/313 [==============================] - 4s 13ms/step - loss: 0.0109 - accuracy: 0.9965 - val_loss: 1.4599 - val_accuracy: 0.8136\n",
      "Epoch 21/30\n",
      "313/313 [==============================] - 4s 12ms/step - loss: 0.0118 - accuracy: 0.9962 - val_loss: 1.4328 - val_accuracy: 0.8159\n",
      "Epoch 22/30\n",
      "313/313 [==============================] - 4s 14ms/step - loss: 0.0075 - accuracy: 0.9974 - val_loss: 1.4939 - val_accuracy: 0.8176\n",
      "Epoch 23/30\n",
      "313/313 [==============================] - 4s 13ms/step - loss: 0.0057 - accuracy: 0.9984 - val_loss: 1.6280 - val_accuracy: 0.8146\n",
      "Epoch 24/30\n",
      "313/313 [==============================] - 4s 13ms/step - loss: 0.0028 - accuracy: 0.9995 - val_loss: 1.5300 - val_accuracy: 0.8168\n",
      "Epoch 25/30\n",
      "313/313 [==============================] - 4s 13ms/step - loss: 0.0015 - accuracy: 0.9998 - val_loss: 1.6587 - val_accuracy: 0.8149\n",
      "Epoch 26/30\n",
      "313/313 [==============================] - 4s 13ms/step - loss: 0.0014 - accuracy: 0.9998 - val_loss: 1.5992 - val_accuracy: 0.8152\n",
      "Epoch 27/30\n",
      "313/313 [==============================] - 4s 13ms/step - loss: 0.0011 - accuracy: 0.9998 - val_loss: 1.6665 - val_accuracy: 0.8154\n",
      "Epoch 28/30\n",
      "313/313 [==============================] - 4s 13ms/step - loss: 9.0882e-04 - accuracy: 0.9998 - val_loss: 1.7533 - val_accuracy: 0.8130\n",
      "Epoch 29/30\n",
      "313/313 [==============================] - 4s 13ms/step - loss: 0.0011 - accuracy: 0.9998 - val_loss: 1.6472 - val_accuracy: 0.8122\n",
      "Epoch 30/30\n",
      "313/313 [==============================] - 4s 13ms/step - loss: 0.0010 - accuracy: 0.9997 - val_loss: 1.8444 - val_accuracy: 0.8119\n"
     ]
    }
   ],
   "source": [
    "hist = model.fit(padded_train, \n",
    "          df_train['is_sarcastic'], \n",
    "          batch_size=64, epochs=num_epochs, \n",
    "          validation_data=(padded_test, df_test['is_sarcastic']))"
   ]
  },
  {
   "cell_type": "code",
   "execution_count": 14,
   "metadata": {
    "execution": {
     "iopub.execute_input": "2021-01-23T04:53:43.246557Z",
     "iopub.status.busy": "2021-01-23T04:53:43.246557Z",
     "iopub.status.idle": "2021-01-23T04:53:43.591559Z",
     "shell.execute_reply": "2021-01-23T04:53:43.590559Z",
     "shell.execute_reply.started": "2021-01-23T04:53:43.246557Z"
    }
   },
   "outputs": [
    {
     "name": "stderr",
     "output_type": "stream",
     "text": [
      "c:\\users\\chuan\\appdata\\local\\programs\\python\\python38\\lib\\site-packages\\seaborn\\_decorators.py:36: FutureWarning: Pass the following variables as keyword args: x, y. From version 0.12, the only valid positional argument will be `data`, and passing other arguments without an explicit keyword will result in an error or misinterpretation.\n",
      "  warnings.warn(\n",
      "c:\\users\\chuan\\appdata\\local\\programs\\python\\python38\\lib\\site-packages\\seaborn\\_decorators.py:36: FutureWarning: Pass the following variables as keyword args: x, y. From version 0.12, the only valid positional argument will be `data`, and passing other arguments without an explicit keyword will result in an error or misinterpretation.\n",
      "  warnings.warn(\n"
     ]
    },
    {
     "data": {
      "image/png": "[encoded data removed]",
      "text/plain": [
       "<Figure size 432x288 with 1 Axes>"
      ]
     },
     "metadata": {},
     "output_type": "display_data"
    }
   ],
   "source": [
    "epochs = np.arange(1, num_epochs+1)\n",
    "\n",
    "sns.lineplot(epochs, hist.history['loss'], label='train loss')\n",
    "sns.lineplot(epochs, hist.history['val_loss'], label='validation loss')\n",
    "plt.show()"
   ]
  },
  {
   "cell_type": "code",
   "execution_count": 15,
   "metadata": {
    "execution": {
     "iopub.execute_input": "2021-01-23T04:53:43.596557Z",
     "iopub.status.busy": "2021-01-23T04:53:43.595558Z",
     "iopub.status.idle": "2021-01-23T04:53:43.955560Z",
     "shell.execute_reply": "2021-01-23T04:53:43.954588Z",
     "shell.execute_reply.started": "2021-01-23T04:53:43.596557Z"
    }
   },
   "outputs": [
    {
     "name": "stderr",
     "output_type": "stream",
     "text": [
      "c:\\users\\chuan\\appdata\\local\\programs\\python\\python38\\lib\\site-packages\\seaborn\\_decorators.py:36: FutureWarning: Pass the following variables as keyword args: x, y. From version 0.12, the only valid positional argument will be `data`, and passing other arguments without an explicit keyword will result in an error or misinterpretation.\n",
      "  warnings.warn(\n",
      "c:\\users\\chuan\\appdata\\local\\programs\\python\\python38\\lib\\site-packages\\seaborn\\_decorators.py:36: FutureWarning: Pass the following variables as keyword args: x, y. From version 0.12, the only valid positional argument will be `data`, and passing other arguments without an explicit keyword will result in an error or misinterpretation.\n",
      "  warnings.warn(\n"
     ]
    },
    {
     "data": {
      "image/png": "[encoded data removed]",
      "text/plain": [
       "<Figure size 432x288 with 1 Axes>"
      ]
     },
     "metadata": {},
     "output_type": "display_data"
    }
   ],
   "source": [
    "sns.lineplot(epochs, hist.history['accuracy'], label='train accuracy')\n",
    "sns.lineplot(epochs, hist.history['val_accuracy'], label='validation accuracy')\n",
    "plt.show()"
   ]
  },
  {
   "cell_type": "code",
   "execution_count": null,
   "metadata": {},
   "outputs": [],
   "source": []
  }
 ],
 "metadata": {
  "kernelspec": {
   "display_name": "Python 3",
   "language": "python",
   "name": "python3"
  },
  "language_info": {
   "codemirror_mode": {
    "name": "ipython",
    "version": 3
   },
   "file_extension": ".py",
   "mimetype": "text/x-python",
   "name": "python",
   "nbconvert_exporter": "python",
   "pygments_lexer": "ipython3",
   "version": "3.8.5"
  }
 },
 "nbformat": 4,
 "nbformat_minor": 4
}
