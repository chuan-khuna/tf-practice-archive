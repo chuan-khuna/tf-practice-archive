{
 "cells": [
  {
   "cell_type": "code",
   "execution_count": 1,
   "metadata": {
    "execution": {
     "iopub.execute_input": "2021-01-23T03:58:20.142798Z",
     "iopub.status.busy": "2021-01-23T03:58:20.142798Z",
     "iopub.status.idle": "2021-01-23T03:58:24.034784Z",
     "shell.execute_reply": "2021-01-23T03:58:24.034784Z",
     "shell.execute_reply.started": "2021-01-23T03:58:20.142798Z"
    }
   },
   "outputs": [],
   "source": [
    "import numpy as np\n",
    "import pandas as pd\n",
    "import json\n",
    "import tensorflow as tf\n",
    "\n",
    "seed_ = 20200218\n",
    "tf.random.set_seed(seed_)\n",
    "np.random.seed(seed_)\n",
    "\n",
    "import seaborn as sns\n",
    "import matplotlib.pyplot as plt\n",
    "\n",
    "sns.set_theme(style=\"whitegrid\")"
   ]
  },
  {
   "cell_type": "markdown",
   "metadata": {},
   "source": [
    "# Sarcasm\n",
    "\n",
    "ทำ classifier กับข้อมูล Sarcasm"
   ]
  },
  {
   "cell_type": "markdown",
   "metadata": {},
   "source": [
    "## Load Data"
   ]
  },
  {
   "cell_type": "code",
   "execution_count": 2,
   "metadata": {
    "execution": {
     "iopub.execute_input": "2021-01-23T03:58:24.037786Z",
     "iopub.status.busy": "2021-01-23T03:58:24.036787Z",
     "iopub.status.idle": "2021-01-23T03:58:24.175783Z",
     "shell.execute_reply": "2021-01-23T03:58:24.174783Z",
     "shell.execute_reply.started": "2021-01-23T03:58:24.037786Z"
    }
   },
   "outputs": [],
   "source": [
    "with open(\"./data/Sarcasm_Headlines_Dataset_v2.json\", \"r\", encoding=\"utf-8\") as f:\n",
    "    lines = f.readlines()\n",
    "    json_data = [json.loads(line) for line in lines]"
   ]
  },
  {
   "cell_type": "code",
   "execution_count": 3,
   "metadata": {
    "execution": {
     "iopub.execute_input": "2021-01-23T03:58:24.177785Z",
     "iopub.status.busy": "2021-01-23T03:58:24.176819Z",
     "iopub.status.idle": "2021-01-23T03:58:24.188788Z",
     "shell.execute_reply": "2021-01-23T03:58:24.186786Z",
     "shell.execute_reply.started": "2021-01-23T03:58:24.177785Z"
    }
   },
   "outputs": [
    {
     "data": {
      "text/plain": [
       "[{'is_sarcastic': 1,\n",
       "  'headline': 'thirtysomething scientists unveil doomsday clock of hair loss',\n",
       "  'article_link': 'https://www.theonion.com/thirtysomething-scientists-unveil-doomsday-clock-of-hai-1819586205'},\n",
       " {'is_sarcastic': 0,\n",
       "  'headline': 'dem rep. totally nails why congress is falling short on gender, racial equality',\n",
       "  'article_link': 'https://www.huffingtonpost.com/entry/donna-edwards-inequality_us_57455f7fe4b055bb1170b207'},\n",
       " {'is_sarcastic': 0,\n",
       "  'headline': 'eat your veggies: 9 deliciously different recipes',\n",
       "  'article_link': 'https://www.huffingtonpost.com/entry/eat-your-veggies-9-delici_b_8899742.html'},\n",
       " {'is_sarcastic': 1,\n",
       "  'headline': 'inclement weather prevents liar from getting to work',\n",
       "  'article_link': 'https://local.theonion.com/inclement-weather-prevents-liar-from-getting-to-work-1819576031'},\n",
       " {'is_sarcastic': 1,\n",
       "  'headline': \"mother comes pretty close to using word 'streaming' correctly\",\n",
       "  'article_link': 'https://www.theonion.com/mother-comes-pretty-close-to-using-word-streaming-cor-1819575546'}]"
      ]
     },
     "execution_count": 3,
     "metadata": {},
     "output_type": "execute_result"
    }
   ],
   "source": [
    "json_data[:5]"
   ]
  },
  {
   "cell_type": "code",
   "execution_count": 4,
   "metadata": {
    "execution": {
     "iopub.execute_input": "2021-01-23T03:58:24.193785Z",
     "iopub.status.busy": "2021-01-23T03:58:24.192785Z",
     "iopub.status.idle": "2021-01-23T03:58:24.249787Z",
     "shell.execute_reply": "2021-01-23T03:58:24.247787Z",
     "shell.execute_reply.started": "2021-01-23T03:58:24.193785Z"
    }
   },
   "outputs": [],
   "source": [
    "df = pd.DataFrame(json_data)"
   ]
  },
  {
   "cell_type": "code",
   "execution_count": 5,
   "metadata": {
    "execution": {
     "iopub.execute_input": "2021-01-23T03:58:24.252787Z",
     "iopub.status.busy": "2021-01-23T03:58:24.251785Z",
     "iopub.status.idle": "2021-01-23T03:58:24.272785Z",
     "shell.execute_reply": "2021-01-23T03:58:24.271785Z",
     "shell.execute_reply.started": "2021-01-23T03:58:24.252787Z"
    }
   },
   "outputs": [
    {
     "data": {
      "text/html": [
       "<div>\n",
       "<style scoped>\n",
       "    .dataframe tbody tr th:only-of-type {\n",
       "        vertical-align: middle;\n",
       "    }\n",
       "\n",
       "    .dataframe tbody tr th {\n",
       "        vertical-align: top;\n",
       "    }\n",
       "\n",
       "    .dataframe thead th {\n",
       "        text-align: right;\n",
       "    }\n",
       "</style>\n",
       "<table border=\"1\" class=\"dataframe\">\n",
       "  <thead>\n",
       "    <tr style=\"text-align: right;\">\n",
       "      <th></th>\n",
       "      <th>is_sarcastic</th>\n",
       "      <th>headline</th>\n",
       "      <th>article_link</th>\n",
       "    </tr>\n",
       "  </thead>\n",
       "  <tbody>\n",
       "    <tr>\n",
       "      <th>0</th>\n",
       "      <td>1</td>\n",
       "      <td>thirtysomething scientists unveil doomsday clo...</td>\n",
       "      <td>https://www.theonion.com/thirtysomething-scien...</td>\n",
       "    </tr>\n",
       "    <tr>\n",
       "      <th>1</th>\n",
       "      <td>0</td>\n",
       "      <td>dem rep. totally nails why congress is falling...</td>\n",
       "      <td>https://www.huffingtonpost.com/entry/donna-edw...</td>\n",
       "    </tr>\n",
       "    <tr>\n",
       "      <th>2</th>\n",
       "      <td>0</td>\n",
       "      <td>eat your veggies: 9 deliciously different recipes</td>\n",
       "      <td>https://www.huffingtonpost.com/entry/eat-your-...</td>\n",
       "    </tr>\n",
       "    <tr>\n",
       "      <th>3</th>\n",
       "      <td>1</td>\n",
       "      <td>inclement weather prevents liar from getting t...</td>\n",
       "      <td>https://local.theonion.com/inclement-weather-p...</td>\n",
       "    </tr>\n",
       "    <tr>\n",
       "      <th>4</th>\n",
       "      <td>1</td>\n",
       "      <td>mother comes pretty close to using word 'strea...</td>\n",
       "      <td>https://www.theonion.com/mother-comes-pretty-c...</td>\n",
       "    </tr>\n",
       "  </tbody>\n",
       "</table>\n",
       "</div>"
      ],
      "text/plain": [
       "   is_sarcastic                                           headline  \\\n",
       "0             1  thirtysomething scientists unveil doomsday clo...   \n",
       "1             0  dem rep. totally nails why congress is falling...   \n",
       "2             0  eat your veggies: 9 deliciously different recipes   \n",
       "3             1  inclement weather prevents liar from getting t...   \n",
       "4             1  mother comes pretty close to using word 'strea...   \n",
       "\n",
       "                                        article_link  \n",
       "0  https://www.theonion.com/thirtysomething-scien...  \n",
       "1  https://www.huffingtonpost.com/entry/donna-edw...  \n",
       "2  https://www.huffingtonpost.com/entry/eat-your-...  \n",
       "3  https://local.theonion.com/inclement-weather-p...  \n",
       "4  https://www.theonion.com/mother-comes-pretty-c...  "
      ]
     },
     "execution_count": 5,
     "metadata": {},
     "output_type": "execute_result"
    }
   ],
   "source": [
    "df.head()"
   ]
  },
  {
   "cell_type": "code",
   "execution_count": 6,
   "metadata": {
    "execution": {
     "iopub.execute_input": "2021-01-23T03:58:24.277789Z",
     "iopub.status.busy": "2021-01-23T03:58:24.276787Z",
     "iopub.status.idle": "2021-01-23T03:58:24.288784Z",
     "shell.execute_reply": "2021-01-23T03:58:24.285786Z",
     "shell.execute_reply.started": "2021-01-23T03:58:24.277547Z"
    }
   },
   "outputs": [
    {
     "data": {
      "text/plain": [
       "(28619, 3)"
      ]
     },
     "execution_count": 6,
     "metadata": {},
     "output_type": "execute_result"
    }
   ],
   "source": [
    "df.shape"
   ]
  },
  {
   "cell_type": "markdown",
   "metadata": {},
   "source": [
    "## Model"
   ]
  },
  {
   "cell_type": "markdown",
   "metadata": {},
   "source": [
    "### prepare data"
   ]
  },
  {
   "cell_type": "code",
   "execution_count": 7,
   "metadata": {
    "execution": {
     "iopub.execute_input": "2021-01-23T03:58:24.292785Z",
     "iopub.status.busy": "2021-01-23T03:58:24.292785Z",
     "iopub.status.idle": "2021-01-23T03:58:24.300785Z",
     "shell.execute_reply": "2021-01-23T03:58:24.298785Z",
     "shell.execute_reply.started": "2021-01-23T03:58:24.292785Z"
    }
   },
   "outputs": [],
   "source": [
    "# config\n",
    "\n",
    "num_words = 10000\n",
    "embedding_dims = 16\n",
    "max_length = 32\n",
    "pad_trunc = 'post'\n",
    "pad_type = 'pre'\n",
    "oov_token = '<OOV>'\n",
    "\n",
    "training_size = 20000"
   ]
  },
  {
   "cell_type": "code",
   "execution_count": 8,
   "metadata": {
    "execution": {
     "iopub.execute_input": "2021-01-23T03:58:24.304787Z",
     "iopub.status.busy": "2021-01-23T03:58:24.303797Z",
     "iopub.status.idle": "2021-01-23T03:58:24.313785Z",
     "shell.execute_reply": "2021-01-23T03:58:24.312787Z",
     "shell.execute_reply.started": "2021-01-23T03:58:24.304787Z"
    }
   },
   "outputs": [],
   "source": [
    "df_train = df.iloc[:training_size]\n",
    "df_test = df.iloc[training_size:]"
   ]
  },
  {
   "cell_type": "code",
   "execution_count": 9,
   "metadata": {
    "execution": {
     "iopub.execute_input": "2021-01-23T03:58:24.316786Z",
     "iopub.status.busy": "2021-01-23T03:58:24.316786Z",
     "iopub.status.idle": "2021-01-23T03:58:24.321785Z",
     "shell.execute_reply": "2021-01-23T03:58:24.320785Z",
     "shell.execute_reply.started": "2021-01-23T03:58:24.316786Z"
    }
   },
   "outputs": [],
   "source": [
    "# tokenizer\n",
    "tokenizer = tf.keras.preprocessing.text.Tokenizer(num_words=num_words, \n",
    "                                                  oov_token=oov_token)"
   ]
  },
  {
   "cell_type": "code",
   "execution_count": 10,
   "metadata": {
    "execution": {
     "iopub.execute_input": "2021-01-23T03:58:24.323784Z",
     "iopub.status.busy": "2021-01-23T03:58:24.323784Z",
     "iopub.status.idle": "2021-01-23T03:58:24.896794Z",
     "shell.execute_reply": "2021-01-23T03:58:24.895788Z",
     "shell.execute_reply.started": "2021-01-23T03:58:24.323784Z"
    }
   },
   "outputs": [
    {
     "name": "stdout",
     "output_type": "stream",
     "text": [
      "<OOV>:\t1\n",
      "to:\t2\n",
      "of:\t3\n",
      "the:\t4\n",
      "in:\t5\n",
      "for:\t6\n",
      "a:\t7\n",
      "on:\t8\n",
      "and:\t9\n",
      "with:\t10\n"
     ]
    }
   ],
   "source": [
    "tokenizer.fit_on_texts(df_train['headline'])\n",
    "word_index = tokenizer.word_index\n",
    "\n",
    "for k in list(word_index.keys())[:10]:\n",
    "    print(f\"{k}:\\t{word_index[k]}\")"
   ]
  },
  {
   "cell_type": "code",
   "execution_count": 11,
   "metadata": {
    "execution": {
     "iopub.execute_input": "2021-01-23T03:58:24.898787Z",
     "iopub.status.busy": "2021-01-23T03:58:24.898787Z",
     "iopub.status.idle": "2021-01-23T03:58:25.311786Z",
     "shell.execute_reply": "2021-01-23T03:58:25.310786Z",
     "shell.execute_reply.started": "2021-01-23T03:58:24.898787Z"
    }
   },
   "outputs": [],
   "source": [
    "train_sequences = tokenizer.texts_to_sequences(df_train['headline'])\n",
    "test_sequences = tokenizer.texts_to_sequences(df_test['headline'])"
   ]
  },
  {
   "cell_type": "code",
   "execution_count": 12,
   "metadata": {
    "execution": {
     "iopub.execute_input": "2021-01-23T03:58:25.313784Z",
     "iopub.status.busy": "2021-01-23T03:58:25.313784Z",
     "iopub.status.idle": "2021-01-23T03:58:25.477788Z",
     "shell.execute_reply": "2021-01-23T03:58:25.476884Z",
     "shell.execute_reply.started": "2021-01-23T03:58:25.313784Z"
    }
   },
   "outputs": [],
   "source": [
    "padded_train = tf.keras.preprocessing.sequence.pad_sequences(\n",
    "    train_sequences, maxlen=max_length, padding=pad_type, truncating=pad_trunc\n",
    ")\n",
    "\n",
    "padded_test = tf.keras.preprocessing.sequence.pad_sequences(\n",
    "    test_sequences, maxlen=max_length, padding=pad_type, truncating=pad_trunc\n",
    ")"
   ]
  },
  {
   "cell_type": "markdown",
   "metadata": {},
   "source": [
    "### model"
   ]
  },
  {
   "cell_type": "code",
   "execution_count": 13,
   "metadata": {
    "execution": {
     "iopub.execute_input": "2021-01-23T03:58:25.478785Z",
     "iopub.status.busy": "2021-01-23T03:58:25.478785Z",
     "iopub.status.idle": "2021-01-23T03:58:28.250776Z",
     "shell.execute_reply": "2021-01-23T03:58:28.249848Z",
     "shell.execute_reply.started": "2021-01-23T03:58:25.478785Z"
    }
   },
   "outputs": [],
   "source": [
    "model = tf.keras.Sequential([\n",
    "    tf.keras.layers.Embedding(num_words, embedding_dims, input_length=max_length),\n",
    "    tf.keras.layers.GlobalAveragePooling1D(),\n",
    "    tf.keras.layers.Dense(24, activation='relu'),\n",
    "    tf.keras.layers.Dense(1, activation='sigmoid')\n",
    "])"
   ]
  },
  {
   "cell_type": "code",
   "execution_count": 14,
   "metadata": {
    "execution": {
     "iopub.execute_input": "2021-01-23T03:58:28.252774Z",
     "iopub.status.busy": "2021-01-23T03:58:28.251773Z",
     "iopub.status.idle": "2021-01-23T03:58:28.258775Z",
     "shell.execute_reply": "2021-01-23T03:58:28.257776Z",
     "shell.execute_reply.started": "2021-01-23T03:58:28.252774Z"
    }
   },
   "outputs": [],
   "source": [
    "optimizer = tf.keras.optimizers.Adam()"
   ]
  },
  {
   "cell_type": "code",
   "execution_count": 15,
   "metadata": {
    "execution": {
     "iopub.execute_input": "2021-01-23T03:58:28.261774Z",
     "iopub.status.busy": "2021-01-23T03:58:28.261774Z",
     "iopub.status.idle": "2021-01-23T03:58:28.284775Z",
     "shell.execute_reply": "2021-01-23T03:58:28.283776Z",
     "shell.execute_reply.started": "2021-01-23T03:58:28.261774Z"
    }
   },
   "outputs": [],
   "source": [
    "model.compile(optimizer=optimizer, metrics=['accuracy'], loss='binary_crossentropy')"
   ]
  },
  {
   "cell_type": "code",
   "execution_count": 16,
   "metadata": {
    "execution": {
     "iopub.execute_input": "2021-01-23T03:58:28.287774Z",
     "iopub.status.busy": "2021-01-23T03:58:28.286777Z",
     "iopub.status.idle": "2021-01-23T03:58:28.297774Z",
     "shell.execute_reply": "2021-01-23T03:58:28.296784Z",
     "shell.execute_reply.started": "2021-01-23T03:58:28.287774Z"
    }
   },
   "outputs": [
    {
     "name": "stdout",
     "output_type": "stream",
     "text": [
      "Model: \"sequential\"\n",
      "_________________________________________________________________\n",
      "Layer (type)                 Output Shape              Param #   \n",
      "=================================================================\n",
      "embedding (Embedding)        (None, 32, 16)            160000    \n",
      "_________________________________________________________________\n",
      "global_average_pooling1d (Gl (None, 16)                0         \n",
      "_________________________________________________________________\n",
      "dense (Dense)                (None, 24)                408       \n",
      "_________________________________________________________________\n",
      "dense_1 (Dense)              (None, 1)                 25        \n",
      "=================================================================\n",
      "Total params: 160,433\n",
      "Trainable params: 160,433\n",
      "Non-trainable params: 0\n",
      "_________________________________________________________________\n"
     ]
    }
   ],
   "source": [
    "model.summary()"
   ]
  },
  {
   "cell_type": "code",
   "execution_count": 17,
   "metadata": {
    "execution": {
     "iopub.execute_input": "2021-01-23T03:58:28.300774Z",
     "iopub.status.busy": "2021-01-23T03:58:28.299774Z",
     "iopub.status.idle": "2021-01-23T03:59:38.075288Z",
     "shell.execute_reply": "2021-01-23T03:59:38.074290Z",
     "shell.execute_reply.started": "2021-01-23T03:58:28.300774Z"
    }
   },
   "outputs": [
    {
     "name": "stdout",
     "output_type": "stream",
     "text": [
      "Epoch 1/30\n",
      "313/313 [==============================] - 2s 8ms/step - loss: 0.6319 - accuracy: 0.6619 - val_loss: 0.4891 - val_accuracy: 0.8176\n",
      "Epoch 2/30\n",
      "313/313 [==============================] - 3s 8ms/step - loss: 0.3765 - accuracy: 0.8515 - val_loss: 0.3501 - val_accuracy: 0.8520\n",
      "Epoch 3/30\n",
      "313/313 [==============================] - 2s 7ms/step - loss: 0.2759 - accuracy: 0.8932 - val_loss: 0.3294 - val_accuracy: 0.8557\n",
      "Epoch 4/30\n",
      "313/313 [==============================] - 2s 7ms/step - loss: 0.2243 - accuracy: 0.9157 - val_loss: 0.3300 - val_accuracy: 0.8572\n",
      "Epoch 5/30\n",
      "313/313 [==============================] - 2s 7ms/step - loss: 0.1896 - accuracy: 0.9296 - val_loss: 0.3429 - val_accuracy: 0.8547\n",
      "Epoch 6/30\n",
      "313/313 [==============================] - 2s 7ms/step - loss: 0.1624 - accuracy: 0.9416 - val_loss: 0.3671 - val_accuracy: 0.8453\n",
      "Epoch 7/30\n",
      "313/313 [==============================] - 2s 7ms/step - loss: 0.1412 - accuracy: 0.9508 - val_loss: 0.3872 - val_accuracy: 0.8442\n",
      "Epoch 8/30\n",
      "313/313 [==============================] - 2s 8ms/step - loss: 0.1252 - accuracy: 0.9575 - val_loss: 0.4337 - val_accuracy: 0.8339\n",
      "Epoch 9/30\n",
      "313/313 [==============================] - 2s 7ms/step - loss: 0.1105 - accuracy: 0.9622 - val_loss: 0.4483 - val_accuracy: 0.8372\n",
      "Epoch 10/30\n",
      "313/313 [==============================] - 2s 7ms/step - loss: 0.0971 - accuracy: 0.9690 - val_loss: 0.4802 - val_accuracy: 0.8349\n",
      "Epoch 11/30\n",
      "313/313 [==============================] - 2s 7ms/step - loss: 0.0867 - accuracy: 0.9729 - val_loss: 0.5184 - val_accuracy: 0.8314\n",
      "Epoch 12/30\n",
      "313/313 [==============================] - 2s 7ms/step - loss: 0.0768 - accuracy: 0.9765 - val_loss: 0.5697 - val_accuracy: 0.8275\n",
      "Epoch 13/30\n",
      "313/313 [==============================] - 2s 7ms/step - loss: 0.0685 - accuracy: 0.9796 - val_loss: 0.6034 - val_accuracy: 0.8229\n",
      "Epoch 14/30\n",
      "313/313 [==============================] - 2s 7ms/step - loss: 0.0611 - accuracy: 0.9821 - val_loss: 0.6413 - val_accuracy: 0.8210\n",
      "Epoch 15/30\n",
      "313/313 [==============================] - 2s 7ms/step - loss: 0.0541 - accuracy: 0.9854 - val_loss: 0.6864 - val_accuracy: 0.8213\n",
      "Epoch 16/30\n",
      "313/313 [==============================] - 2s 7ms/step - loss: 0.0484 - accuracy: 0.9869 - val_loss: 0.7333 - val_accuracy: 0.8191\n",
      "Epoch 17/30\n",
      "313/313 [==============================] - 2s 7ms/step - loss: 0.0429 - accuracy: 0.9891 - val_loss: 0.7837 - val_accuracy: 0.8171\n",
      "Epoch 18/30\n",
      "313/313 [==============================] - 2s 7ms/step - loss: 0.0379 - accuracy: 0.9905 - val_loss: 0.8384 - val_accuracy: 0.8161\n",
      "Epoch 19/30\n",
      "313/313 [==============================] - 2s 7ms/step - loss: 0.0342 - accuracy: 0.9918 - val_loss: 0.8967 - val_accuracy: 0.8125\n",
      "Epoch 20/30\n",
      "313/313 [==============================] - 2s 7ms/step - loss: 0.0305 - accuracy: 0.9928 - val_loss: 0.9336 - val_accuracy: 0.8074\n",
      "Epoch 21/30\n",
      "313/313 [==============================] - 2s 7ms/step - loss: 0.0272 - accuracy: 0.9937 - val_loss: 0.9895 - val_accuracy: 0.8071\n",
      "Epoch 22/30\n",
      "313/313 [==============================] - 2s 7ms/step - loss: 0.0243 - accuracy: 0.9937 - val_loss: 1.0516 - val_accuracy: 0.8088\n",
      "Epoch 23/30\n",
      "313/313 [==============================] - 2s 7ms/step - loss: 0.0219 - accuracy: 0.9948 - val_loss: 1.1065 - val_accuracy: 0.8062\n",
      "Epoch 24/30\n",
      "313/313 [==============================] - 2s 8ms/step - loss: 0.0188 - accuracy: 0.9961 - val_loss: 1.1819 - val_accuracy: 0.8060\n",
      "Epoch 25/30\n",
      "313/313 [==============================] - 2s 7ms/step - loss: 0.0162 - accuracy: 0.9966 - val_loss: 1.2139 - val_accuracy: 0.8031\n",
      "Epoch 26/30\n",
      "313/313 [==============================] - 2s 7ms/step - loss: 0.0141 - accuracy: 0.9972 - val_loss: 1.2692 - val_accuracy: 0.8025\n",
      "Epoch 27/30\n",
      "313/313 [==============================] - 2s 7ms/step - loss: 0.0128 - accuracy: 0.9974 - val_loss: 1.3277 - val_accuracy: 0.8015\n",
      "Epoch 28/30\n",
      "313/313 [==============================] - 2s 7ms/step - loss: 0.0120 - accuracy: 0.9976 - val_loss: 1.3989 - val_accuracy: 0.8006\n",
      "Epoch 29/30\n",
      "313/313 [==============================] - 2s 7ms/step - loss: 0.0108 - accuracy: 0.9979 - val_loss: 1.4407 - val_accuracy: 0.7961\n",
      "Epoch 30/30\n",
      "313/313 [==============================] - 2s 7ms/step - loss: 0.0100 - accuracy: 0.9977 - val_loss: 1.5104 - val_accuracy: 0.7964\n"
     ]
    }
   ],
   "source": [
    "hist = model.fit(padded_train, \n",
    "          df_train['is_sarcastic'], \n",
    "          batch_size=64, epochs=30, \n",
    "          validation_data=(padded_test, df_test['is_sarcastic']))"
   ]
  },
  {
   "cell_type": "code",
   "execution_count": 18,
   "metadata": {
    "execution": {
     "iopub.execute_input": "2021-01-23T03:59:38.079287Z",
     "iopub.status.busy": "2021-01-23T03:59:38.078289Z",
     "iopub.status.idle": "2021-01-23T03:59:38.495287Z",
     "shell.execute_reply": "2021-01-23T03:59:38.494285Z",
     "shell.execute_reply.started": "2021-01-23T03:59:38.079287Z"
    }
   },
   "outputs": [
    {
     "name": "stderr",
     "output_type": "stream",
     "text": [
      "c:\\users\\chuan\\appdata\\local\\programs\\python\\python38\\lib\\site-packages\\seaborn\\_decorators.py:36: FutureWarning: Pass the following variables as keyword args: x, y. From version 0.12, the only valid positional argument will be `data`, and passing other arguments without an explicit keyword will result in an error or misinterpretation.\n",
      "  warnings.warn(\n",
      "c:\\users\\chuan\\appdata\\local\\programs\\python\\python38\\lib\\site-packages\\seaborn\\_decorators.py:36: FutureWarning: Pass the following variables as keyword args: x, y. From version 0.12, the only valid positional argument will be `data`, and passing other arguments without an explicit keyword will result in an error or misinterpretation.\n",
      "  warnings.warn(\n"
     ]
    },
    {
     "data": {
      "text/plain": [
       "<AxesSubplot:>"
      ]
     },
     "execution_count": 18,
     "metadata": {},
     "output_type": "execute_result"
    },
    {
     "data": {
      "image/png": "[encoded data removed]",
      "text/plain": [
       "<Figure size 432x288 with 1 Axes>"
      ]
     },
     "metadata": {},
     "output_type": "display_data"
    }
   ],
   "source": [
    "num_epochs = len(hist.history['loss'])\n",
    "epochs = np.arange(1, num_epochs+1)\n",
    "\n",
    "sns.lineplot(epochs, hist.history['loss'], label='train loss')\n",
    "sns.lineplot(epochs, hist.history['val_loss'], label='validation loss')"
   ]
  },
  {
   "cell_type": "code",
   "execution_count": 19,
   "metadata": {
    "execution": {
     "iopub.execute_input": "2021-01-23T03:59:38.497288Z",
     "iopub.status.busy": "2021-01-23T03:59:38.496296Z",
     "iopub.status.idle": "2021-01-23T03:59:38.784315Z",
     "shell.execute_reply": "2021-01-23T03:59:38.784315Z",
     "shell.execute_reply.started": "2021-01-23T03:59:38.497288Z"
    }
   },
   "outputs": [
    {
     "name": "stderr",
     "output_type": "stream",
     "text": [
      "c:\\users\\chuan\\appdata\\local\\programs\\python\\python38\\lib\\site-packages\\seaborn\\_decorators.py:36: FutureWarning: Pass the following variables as keyword args: x, y. From version 0.12, the only valid positional argument will be `data`, and passing other arguments without an explicit keyword will result in an error or misinterpretation.\n",
      "  warnings.warn(\n",
      "c:\\users\\chuan\\appdata\\local\\programs\\python\\python38\\lib\\site-packages\\seaborn\\_decorators.py:36: FutureWarning: Pass the following variables as keyword args: x, y. From version 0.12, the only valid positional argument will be `data`, and passing other arguments without an explicit keyword will result in an error or misinterpretation.\n",
      "  warnings.warn(\n"
     ]
    },
    {
     "data": {
      "text/plain": [
       "<AxesSubplot:>"
      ]
     },
     "execution_count": 19,
     "metadata": {},
     "output_type": "execute_result"
    },
    {
     "data": {
      "image/png": "[encoded data removed]",
      "text/plain": [
       "<Figure size 432x288 with 1 Axes>"
      ]
     },
     "metadata": {},
     "output_type": "display_data"
    }
   ],
   "source": [
    "sns.lineplot(epochs, hist.history['accuracy'], label='train accuracy')\n",
    "sns.lineplot(epochs, hist.history['val_accuracy'], label='validation accuracy')"
   ]
  },
  {
   "cell_type": "code",
   "execution_count": null,
   "metadata": {},
   "outputs": [],
   "source": []
  }
 ],
 "metadata": {
  "kernelspec": {
   "display_name": "Python 3",
   "language": "python",
   "name": "python3"
  },
  "language_info": {
   "codemirror_mode": {
    "name": "ipython",
    "version": 3
   },
   "file_extension": ".py",
   "mimetype": "text/x-python",
   "name": "python",
   "nbconvert_exporter": "python",
   "pygments_lexer": "ipython3",
   "version": "3.8.5"
  }
 },
 "nbformat": 4,
 "nbformat_minor": 4
}
