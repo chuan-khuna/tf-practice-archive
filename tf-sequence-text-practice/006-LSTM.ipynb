{
 "cells": [
  {
   "cell_type": "code",
   "execution_count": 1,
   "metadata": {
    "execution": {
     "iopub.execute_input": "2021-01-23T04:20:54.299272Z",
     "iopub.status.busy": "2021-01-23T04:20:54.298273Z",
     "iopub.status.idle": "2021-01-23T04:20:57.635025Z",
     "shell.execute_reply": "2021-01-23T04:20:57.635025Z",
     "shell.execute_reply.started": "2021-01-23T04:20:54.299272Z"
    }
   },
   "outputs": [],
   "source": [
    "import numpy as np\n",
    "import pandas as pd\n",
    "import tensorflow as tf\n",
    "\n",
    "seed_ = 20200218\n",
    "tf.random.set_seed(seed_)\n",
    "np.random.seed(seed_)\n",
    "\n",
    "import matplotlib.pyplot as plt\n",
    "import seaborn as sns\n",
    "sns.set_theme(style=\"whitegrid\")\n",
    "\n",
    "import json"
   ]
  },
  {
   "cell_type": "markdown",
   "metadata": {},
   "source": [
    "# RNN-LSTM (long short-term memory)\n",
    "\n",
    "## Stack LSTM ต้องมี `return_sequences`\n",
    "\n",
    "```\n",
    "tf.keras.layers.LSTM(64, return_sequences=True)\n",
    "tf.keras.layers.LSTM(32)\n",
    "```"
   ]
  },
  {
   "cell_type": "markdown",
   "metadata": {},
   "source": [
    "# Sacarsm"
   ]
  },
  {
   "cell_type": "markdown",
   "metadata": {},
   "source": [
    "## Load Data"
   ]
  },
  {
   "cell_type": "code",
   "execution_count": 2,
   "metadata": {
    "execution": {
     "iopub.execute_input": "2021-01-23T04:20:57.636989Z",
     "iopub.status.busy": "2021-01-23T04:20:57.636989Z",
     "iopub.status.idle": "2021-01-23T04:20:57.774990Z",
     "shell.execute_reply": "2021-01-23T04:20:57.773990Z",
     "shell.execute_reply.started": "2021-01-23T04:20:57.636989Z"
    }
   },
   "outputs": [],
   "source": [
    "with open(\"./data/Sarcasm_Headlines_Dataset_v2.json\", \"r\", encoding=\"utf-8\") as f:\n",
    "    lines = f.readlines()\n",
    "    json_data = [json.loads(line) for line in lines]"
   ]
  },
  {
   "cell_type": "code",
   "execution_count": 3,
   "metadata": {
    "execution": {
     "iopub.execute_input": "2021-01-23T04:20:57.776990Z",
     "iopub.status.busy": "2021-01-23T04:20:57.776990Z",
     "iopub.status.idle": "2021-01-23T04:20:57.787991Z",
     "shell.execute_reply": "2021-01-23T04:20:57.786992Z",
     "shell.execute_reply.started": "2021-01-23T04:20:57.776990Z"
    }
   },
   "outputs": [
    {
     "data": {
      "text/plain": [
       "[{'is_sarcastic': 1,\n",
       "  'headline': 'thirtysomething scientists unveil doomsday clock of hair loss',\n",
       "  'article_link': 'https://www.theonion.com/thirtysomething-scientists-unveil-doomsday-clock-of-hai-1819586205'},\n",
       " {'is_sarcastic': 0,\n",
       "  'headline': 'dem rep. totally nails why congress is falling short on gender, racial equality',\n",
       "  'article_link': 'https://www.huffingtonpost.com/entry/donna-edwards-inequality_us_57455f7fe4b055bb1170b207'},\n",
       " {'is_sarcastic': 0,\n",
       "  'headline': 'eat your veggies: 9 deliciously different recipes',\n",
       "  'article_link': 'https://www.huffingtonpost.com/entry/eat-your-veggies-9-delici_b_8899742.html'},\n",
       " {'is_sarcastic': 1,\n",
       "  'headline': 'inclement weather prevents liar from getting to work',\n",
       "  'article_link': 'https://local.theonion.com/inclement-weather-prevents-liar-from-getting-to-work-1819576031'},\n",
       " {'is_sarcastic': 1,\n",
       "  'headline': \"mother comes pretty close to using word 'streaming' correctly\",\n",
       "  'article_link': 'https://www.theonion.com/mother-comes-pretty-close-to-using-word-streaming-cor-1819575546'}]"
      ]
     },
     "execution_count": 3,
     "metadata": {},
     "output_type": "execute_result"
    }
   ],
   "source": [
    "json_data[:5]"
   ]
  },
  {
   "cell_type": "code",
   "execution_count": 4,
   "metadata": {
    "execution": {
     "iopub.execute_input": "2021-01-23T04:20:57.793992Z",
     "iopub.status.busy": "2021-01-23T04:20:57.791992Z",
     "iopub.status.idle": "2021-01-23T04:20:57.862990Z",
     "shell.execute_reply": "2021-01-23T04:20:57.861991Z",
     "shell.execute_reply.started": "2021-01-23T04:20:57.793992Z"
    }
   },
   "outputs": [],
   "source": [
    "df = pd.DataFrame(json_data)"
   ]
  },
  {
   "cell_type": "code",
   "execution_count": 5,
   "metadata": {
    "execution": {
     "iopub.execute_input": "2021-01-23T04:20:57.864990Z",
     "iopub.status.busy": "2021-01-23T04:20:57.864990Z",
     "iopub.status.idle": "2021-01-23T04:20:57.882990Z",
     "shell.execute_reply": "2021-01-23T04:20:57.881992Z",
     "shell.execute_reply.started": "2021-01-23T04:20:57.864990Z"
    }
   },
   "outputs": [
    {
     "data": {
      "text/html": [
       "<div>\n",
       "<style scoped>\n",
       "    .dataframe tbody tr th:only-of-type {\n",
       "        vertical-align: middle;\n",
       "    }\n",
       "\n",
       "    .dataframe tbody tr th {\n",
       "        vertical-align: top;\n",
       "    }\n",
       "\n",
       "    .dataframe thead th {\n",
       "        text-align: right;\n",
       "    }\n",
       "</style>\n",
       "<table border=\"1\" class=\"dataframe\">\n",
       "  <thead>\n",
       "    <tr style=\"text-align: right;\">\n",
       "      <th></th>\n",
       "      <th>is_sarcastic</th>\n",
       "      <th>headline</th>\n",
       "      <th>article_link</th>\n",
       "    </tr>\n",
       "  </thead>\n",
       "  <tbody>\n",
       "    <tr>\n",
       "      <th>0</th>\n",
       "      <td>1</td>\n",
       "      <td>thirtysomething scientists unveil doomsday clo...</td>\n",
       "      <td>https://www.theonion.com/thirtysomething-scien...</td>\n",
       "    </tr>\n",
       "    <tr>\n",
       "      <th>1</th>\n",
       "      <td>0</td>\n",
       "      <td>dem rep. totally nails why congress is falling...</td>\n",
       "      <td>https://www.huffingtonpost.com/entry/donna-edw...</td>\n",
       "    </tr>\n",
       "    <tr>\n",
       "      <th>2</th>\n",
       "      <td>0</td>\n",
       "      <td>eat your veggies: 9 deliciously different recipes</td>\n",
       "      <td>https://www.huffingtonpost.com/entry/eat-your-...</td>\n",
       "    </tr>\n",
       "    <tr>\n",
       "      <th>3</th>\n",
       "      <td>1</td>\n",
       "      <td>inclement weather prevents liar from getting t...</td>\n",
       "      <td>https://local.theonion.com/inclement-weather-p...</td>\n",
       "    </tr>\n",
       "    <tr>\n",
       "      <th>4</th>\n",
       "      <td>1</td>\n",
       "      <td>mother comes pretty close to using word 'strea...</td>\n",
       "      <td>https://www.theonion.com/mother-comes-pretty-c...</td>\n",
       "    </tr>\n",
       "  </tbody>\n",
       "</table>\n",
       "</div>"
      ],
      "text/plain": [
       "   is_sarcastic                                           headline  \\\n",
       "0             1  thirtysomething scientists unveil doomsday clo...   \n",
       "1             0  dem rep. totally nails why congress is falling...   \n",
       "2             0  eat your veggies: 9 deliciously different recipes   \n",
       "3             1  inclement weather prevents liar from getting t...   \n",
       "4             1  mother comes pretty close to using word 'strea...   \n",
       "\n",
       "                                        article_link  \n",
       "0  https://www.theonion.com/thirtysomething-scien...  \n",
       "1  https://www.huffingtonpost.com/entry/donna-edw...  \n",
       "2  https://www.huffingtonpost.com/entry/eat-your-...  \n",
       "3  https://local.theonion.com/inclement-weather-p...  \n",
       "4  https://www.theonion.com/mother-comes-pretty-c...  "
      ]
     },
     "execution_count": 5,
     "metadata": {},
     "output_type": "execute_result"
    }
   ],
   "source": [
    "df.head()"
   ]
  },
  {
   "cell_type": "code",
   "execution_count": 6,
   "metadata": {
    "execution": {
     "iopub.execute_input": "2021-01-23T04:20:57.885991Z",
     "iopub.status.busy": "2021-01-23T04:20:57.884992Z",
     "iopub.status.idle": "2021-01-23T04:20:57.895992Z",
     "shell.execute_reply": "2021-01-23T04:20:57.894991Z",
     "shell.execute_reply.started": "2021-01-23T04:20:57.885991Z"
    }
   },
   "outputs": [
    {
     "data": {
      "text/plain": [
       "(28619, 3)"
      ]
     },
     "execution_count": 6,
     "metadata": {},
     "output_type": "execute_result"
    }
   ],
   "source": [
    "df.shape"
   ]
  },
  {
   "cell_type": "markdown",
   "metadata": {},
   "source": [
    "## Model"
   ]
  },
  {
   "cell_type": "markdown",
   "metadata": {},
   "source": [
    "### prepare data"
   ]
  },
  {
   "cell_type": "code",
   "execution_count": 7,
   "metadata": {
    "execution": {
     "iopub.execute_input": "2021-01-23T04:20:57.899991Z",
     "iopub.status.busy": "2021-01-23T04:20:57.898991Z",
     "iopub.status.idle": "2021-01-23T04:20:57.908991Z",
     "shell.execute_reply": "2021-01-23T04:20:57.906992Z",
     "shell.execute_reply.started": "2021-01-23T04:20:57.899991Z"
    }
   },
   "outputs": [],
   "source": [
    "# config\n",
    "\n",
    "num_words = 10000\n",
    "embedding_dims = 32\n",
    "max_length = 32\n",
    "pad_trunc = 'post'\n",
    "pad_type = 'pre'\n",
    "oov_token = '<OOV>'\n",
    "\n",
    "training_size = 20000"
   ]
  },
  {
   "cell_type": "code",
   "execution_count": 8,
   "metadata": {
    "execution": {
     "iopub.execute_input": "2021-01-23T04:20:57.911994Z",
     "iopub.status.busy": "2021-01-23T04:20:57.911994Z",
     "iopub.status.idle": "2021-01-23T04:20:57.919990Z",
     "shell.execute_reply": "2021-01-23T04:20:57.918992Z",
     "shell.execute_reply.started": "2021-01-23T04:20:57.911994Z"
    }
   },
   "outputs": [],
   "source": [
    "df_train = df.iloc[:training_size]\n",
    "df_test = df.iloc[training_size:]"
   ]
  },
  {
   "cell_type": "code",
   "execution_count": 9,
   "metadata": {
    "execution": {
     "iopub.execute_input": "2021-01-23T04:20:57.924990Z",
     "iopub.status.busy": "2021-01-23T04:20:57.923993Z",
     "iopub.status.idle": "2021-01-23T04:20:57.931990Z",
     "shell.execute_reply": "2021-01-23T04:20:57.929990Z",
     "shell.execute_reply.started": "2021-01-23T04:20:57.924990Z"
    }
   },
   "outputs": [],
   "source": [
    "# tokenizer\n",
    "tokenizer = tf.keras.preprocessing.text.Tokenizer(num_words=num_words, \n",
    "                                                  oov_token=oov_token)"
   ]
  },
  {
   "cell_type": "code",
   "execution_count": 10,
   "metadata": {
    "execution": {
     "iopub.execute_input": "2021-01-23T04:20:57.933992Z",
     "iopub.status.busy": "2021-01-23T04:20:57.932990Z",
     "iopub.status.idle": "2021-01-23T04:20:58.464989Z",
     "shell.execute_reply": "2021-01-23T04:20:58.463992Z",
     "shell.execute_reply.started": "2021-01-23T04:20:57.933992Z"
    }
   },
   "outputs": [
    {
     "name": "stdout",
     "output_type": "stream",
     "text": [
      "<OOV>:\t1\n",
      "to:\t2\n",
      "of:\t3\n",
      "the:\t4\n",
      "in:\t5\n",
      "for:\t6\n",
      "a:\t7\n",
      "on:\t8\n",
      "and:\t9\n",
      "with:\t10\n"
     ]
    }
   ],
   "source": [
    "tokenizer.fit_on_texts(df_train['headline'])\n",
    "word_index = tokenizer.word_index\n",
    "\n",
    "for k in list(word_index.keys())[:10]:\n",
    "    print(f\"{k}:\\t{word_index[k]}\")"
   ]
  },
  {
   "cell_type": "code",
   "execution_count": 11,
   "metadata": {
    "execution": {
     "iopub.execute_input": "2021-01-23T04:20:58.466990Z",
     "iopub.status.busy": "2021-01-23T04:20:58.465989Z",
     "iopub.status.idle": "2021-01-23T04:20:58.827989Z",
     "shell.execute_reply": "2021-01-23T04:20:58.827989Z",
     "shell.execute_reply.started": "2021-01-23T04:20:58.466990Z"
    }
   },
   "outputs": [],
   "source": [
    "train_sequences = tokenizer.texts_to_sequences(df_train['headline'])\n",
    "test_sequences = tokenizer.texts_to_sequences(df_test['headline'])"
   ]
  },
  {
   "cell_type": "code",
   "execution_count": 12,
   "metadata": {
    "execution": {
     "iopub.execute_input": "2021-01-23T04:20:58.829990Z",
     "iopub.status.busy": "2021-01-23T04:20:58.829990Z",
     "iopub.status.idle": "2021-01-23T04:20:58.986988Z",
     "shell.execute_reply": "2021-01-23T04:20:58.986009Z",
     "shell.execute_reply.started": "2021-01-23T04:20:58.829990Z"
    }
   },
   "outputs": [],
   "source": [
    "padded_train = tf.keras.preprocessing.sequence.pad_sequences(\n",
    "    train_sequences, maxlen=max_length, padding=pad_type, truncating=pad_trunc\n",
    ")\n",
    "\n",
    "padded_test = tf.keras.preprocessing.sequence.pad_sequences(\n",
    "    test_sequences, maxlen=max_length, padding=pad_type, truncating=pad_trunc\n",
    ")"
   ]
  },
  {
   "cell_type": "markdown",
   "metadata": {},
   "source": [
    "# Model"
   ]
  },
  {
   "cell_type": "code",
   "execution_count": 13,
   "metadata": {
    "execution": {
     "iopub.execute_input": "2021-01-23T04:20:58.987989Z",
     "iopub.status.busy": "2021-01-23T04:20:58.987989Z",
     "iopub.status.idle": "2021-01-23T04:21:02.670301Z",
     "shell.execute_reply": "2021-01-23T04:21:02.669404Z",
     "shell.execute_reply.started": "2021-01-23T04:20:58.987989Z"
    }
   },
   "outputs": [],
   "source": [
    "model = tf.keras.Sequential([\n",
    "    tf.keras.layers.Embedding(num_words, embedding_dims),\n",
    "    tf.keras.layers.Bidirectional(\n",
    "        tf.keras.layers.LSTM(64, return_sequences=True)\n",
    "    ),\n",
    "    tf.keras.layers.Bidirectional(\n",
    "        tf.keras.layers.LSTM(32)\n",
    "    ),\n",
    "    tf.keras.layers.Dense(16, activation='relu'),\n",
    "    tf.keras.layers.Dense(1, activation='sigmoid')\n",
    "])"
   ]
  },
  {
   "cell_type": "code",
   "execution_count": 14,
   "metadata": {
    "execution": {
     "iopub.execute_input": "2021-01-23T04:21:02.671297Z",
     "iopub.status.busy": "2021-01-23T04:21:02.671297Z",
     "iopub.status.idle": "2021-01-23T04:21:02.676301Z",
     "shell.execute_reply": "2021-01-23T04:21:02.675332Z",
     "shell.execute_reply.started": "2021-01-23T04:21:02.671297Z"
    }
   },
   "outputs": [],
   "source": [
    "optimizer = tf.keras.optimizers.Adam()"
   ]
  },
  {
   "cell_type": "code",
   "execution_count": 15,
   "metadata": {
    "execution": {
     "iopub.execute_input": "2021-01-23T04:21:02.679299Z",
     "iopub.status.busy": "2021-01-23T04:21:02.677297Z",
     "iopub.status.idle": "2021-01-23T04:21:02.710308Z",
     "shell.execute_reply": "2021-01-23T04:21:02.707299Z",
     "shell.execute_reply.started": "2021-01-23T04:21:02.679299Z"
    }
   },
   "outputs": [],
   "source": [
    "model.compile(optimizer=optimizer, metrics=['accuracy'], loss='binary_crossentropy')"
   ]
  },
  {
   "cell_type": "code",
   "execution_count": 16,
   "metadata": {
    "execution": {
     "iopub.execute_input": "2021-01-23T04:21:02.713299Z",
     "iopub.status.busy": "2021-01-23T04:21:02.713299Z",
     "iopub.status.idle": "2021-01-23T04:21:02.729299Z",
     "shell.execute_reply": "2021-01-23T04:21:02.728298Z",
     "shell.execute_reply.started": "2021-01-23T04:21:02.713299Z"
    }
   },
   "outputs": [
    {
     "name": "stdout",
     "output_type": "stream",
     "text": [
      "Model: \"sequential\"\n",
      "_________________________________________________________________\n",
      "Layer (type)                 Output Shape              Param #   \n",
      "=================================================================\n",
      "embedding (Embedding)        (None, None, 32)          320000    \n",
      "_________________________________________________________________\n",
      "bidirectional (Bidirectional (None, None, 128)         49664     \n",
      "_________________________________________________________________\n",
      "bidirectional_1 (Bidirection (None, 64)                41216     \n",
      "_________________________________________________________________\n",
      "dense (Dense)                (None, 16)                1040      \n",
      "_________________________________________________________________\n",
      "dense_1 (Dense)              (None, 1)                 17        \n",
      "=================================================================\n",
      "Total params: 411,937\n",
      "Trainable params: 411,937\n",
      "Non-trainable params: 0\n",
      "_________________________________________________________________\n"
     ]
    }
   ],
   "source": [
    "model.summary()"
   ]
  },
  {
   "cell_type": "code",
   "execution_count": 18,
   "metadata": {
    "execution": {
     "iopub.execute_input": "2021-01-23T04:21:44.829214Z",
     "iopub.status.busy": "2021-01-23T04:21:44.829214Z",
     "iopub.status.idle": "2021-01-23T04:24:32.821929Z",
     "shell.execute_reply": "2021-01-23T04:24:32.819929Z",
     "shell.execute_reply.started": "2021-01-23T04:21:44.829214Z"
    }
   },
   "outputs": [
    {
     "name": "stdout",
     "output_type": "stream",
     "text": [
      "Epoch 1/15\n",
      "313/313 [==============================] - 12s 37ms/step - loss: 0.4307 - accuracy: 0.7852 - val_loss: 0.3291 - val_accuracy: 0.8535\n",
      "Epoch 2/15\n",
      "313/313 [==============================] - 10s 33ms/step - loss: 0.2284 - accuracy: 0.9093 - val_loss: 0.3436 - val_accuracy: 0.8467\n",
      "Epoch 3/15\n",
      "313/313 [==============================] - 10s 32ms/step - loss: 0.1442 - accuracy: 0.9470 - val_loss: 0.4265 - val_accuracy: 0.8448\n",
      "Epoch 4/15\n",
      "313/313 [==============================] - 10s 33ms/step - loss: 0.0940 - accuracy: 0.9676 - val_loss: 0.4499 - val_accuracy: 0.8387\n",
      "Epoch 5/15\n",
      "313/313 [==============================] - 10s 34ms/step - loss: 0.0637 - accuracy: 0.9804 - val_loss: 0.5097 - val_accuracy: 0.8420\n",
      "Epoch 6/15\n",
      "313/313 [==============================] - 10s 33ms/step - loss: 0.0437 - accuracy: 0.9859 - val_loss: 0.6379 - val_accuracy: 0.8391\n",
      "Epoch 7/15\n",
      "313/313 [==============================] - 10s 33ms/step - loss: 0.0316 - accuracy: 0.9906 - val_loss: 0.7295 - val_accuracy: 0.8334\n",
      "Epoch 8/15\n",
      "313/313 [==============================] - 11s 34ms/step - loss: 0.0258 - accuracy: 0.9920 - val_loss: 0.7107 - val_accuracy: 0.8314\n",
      "Epoch 9/15\n",
      "313/313 [==============================] - 10s 33ms/step - loss: 0.0219 - accuracy: 0.9936 - val_loss: 0.8243 - val_accuracy: 0.8312\n",
      "Epoch 10/15\n",
      "313/313 [==============================] - 10s 33ms/step - loss: 0.0192 - accuracy: 0.9938 - val_loss: 0.8494 - val_accuracy: 0.8231\n",
      "Epoch 11/15\n",
      "313/313 [==============================] - 11s 34ms/step - loss: 0.0175 - accuracy: 0.9945 - val_loss: 0.8518 - val_accuracy: 0.8330\n",
      "Epoch 12/15\n",
      "313/313 [==============================] - 10s 34ms/step - loss: 0.0142 - accuracy: 0.9955 - val_loss: 0.8925 - val_accuracy: 0.8301\n",
      "Epoch 13/15\n",
      "313/313 [==============================] - 10s 33ms/step - loss: 0.0102 - accuracy: 0.9965 - val_loss: 0.8890 - val_accuracy: 0.8296\n",
      "Epoch 14/15\n",
      "313/313 [==============================] - 11s 34ms/step - loss: 0.0065 - accuracy: 0.9981 - val_loss: 1.1044 - val_accuracy: 0.8294\n",
      "Epoch 15/15\n",
      "313/313 [==============================] - 12s 38ms/step - loss: 0.0083 - accuracy: 0.9974 - val_loss: 0.9747 - val_accuracy: 0.8264\n"
     ]
    }
   ],
   "source": [
    "hist = model.fit(padded_train, \n",
    "          df_train['is_sarcastic'], \n",
    "          batch_size=64, epochs=15, \n",
    "          validation_data=(padded_test, df_test['is_sarcastic']))"
   ]
  },
  {
   "cell_type": "code",
   "execution_count": 19,
   "metadata": {
    "execution": {
     "iopub.execute_input": "2021-01-23T04:24:32.824926Z",
     "iopub.status.busy": "2021-01-23T04:24:32.823929Z",
     "iopub.status.idle": "2021-01-23T04:24:33.195927Z",
     "shell.execute_reply": "2021-01-23T04:24:33.194927Z",
     "shell.execute_reply.started": "2021-01-23T04:24:32.824926Z"
    }
   },
   "outputs": [
    {
     "name": "stderr",
     "output_type": "stream",
     "text": [
      "c:\\users\\chuan\\appdata\\local\\programs\\python\\python38\\lib\\site-packages\\seaborn\\_decorators.py:36: FutureWarning: Pass the following variables as keyword args: x, y. From version 0.12, the only valid positional argument will be `data`, and passing other arguments without an explicit keyword will result in an error or misinterpretation.\n",
      "  warnings.warn(\n",
      "c:\\users\\chuan\\appdata\\local\\programs\\python\\python38\\lib\\site-packages\\seaborn\\_decorators.py:36: FutureWarning: Pass the following variables as keyword args: x, y. From version 0.12, the only valid positional argument will be `data`, and passing other arguments without an explicit keyword will result in an error or misinterpretation.\n",
      "  warnings.warn(\n"
     ]
    },
    {
     "data": {
      "image/png": "[encoded data removed]",
      "text/plain": [
       "<Figure size 432x288 with 1 Axes>"
      ]
     },
     "metadata": {},
     "output_type": "display_data"
    }
   ],
   "source": [
    "num_epochs = len(hist.history['loss'])\n",
    "epochs = np.arange(1, num_epochs+1)\n",
    "\n",
    "sns.lineplot(epochs, hist.history['loss'], label='train loss')\n",
    "sns.lineplot(epochs, hist.history['val_loss'], label='validation loss')\n",
    "plt.show()"
   ]
  },
  {
   "cell_type": "code",
   "execution_count": 20,
   "metadata": {
    "execution": {
     "iopub.execute_input": "2021-01-23T04:24:33.202928Z",
     "iopub.status.busy": "2021-01-23T04:24:33.202928Z",
     "iopub.status.idle": "2021-01-23T04:24:33.577928Z",
     "shell.execute_reply": "2021-01-23T04:24:33.576934Z",
     "shell.execute_reply.started": "2021-01-23T04:24:33.202928Z"
    }
   },
   "outputs": [
    {
     "name": "stderr",
     "output_type": "stream",
     "text": [
      "c:\\users\\chuan\\appdata\\local\\programs\\python\\python38\\lib\\site-packages\\seaborn\\_decorators.py:36: FutureWarning: Pass the following variables as keyword args: x, y. From version 0.12, the only valid positional argument will be `data`, and passing other arguments without an explicit keyword will result in an error or misinterpretation.\n",
      "  warnings.warn(\n",
      "c:\\users\\chuan\\appdata\\local\\programs\\python\\python38\\lib\\site-packages\\seaborn\\_decorators.py:36: FutureWarning: Pass the following variables as keyword args: x, y. From version 0.12, the only valid positional argument will be `data`, and passing other arguments without an explicit keyword will result in an error or misinterpretation.\n",
      "  warnings.warn(\n"
     ]
    },
    {
     "data": {
      "image/png": "[encoded data removed]",
      "text/plain": [
       "<Figure size 432x288 with 1 Axes>"
      ]
     },
     "metadata": {},
     "output_type": "display_data"
    }
   ],
   "source": [
    "sns.lineplot(epochs, hist.history['accuracy'], label='train accuracy')\n",
    "sns.lineplot(epochs, hist.history['val_accuracy'], label='validation accuracy')\n",
    "plt.show()"
   ]
  },
  {
   "cell_type": "markdown",
   "metadata": {},
   "source": [
    "## LSTM vs Simple NN\n",
    "\n",
    "- acc ของ LSTM ไปได้สูงกว่า sim NN (ใน couse simple ตันที่ ~85%, lstm ~97.5%)\n",
    "- acc validation drop แสดงว่าเกิด overfitting"
   ]
  },
  {
   "cell_type": "code",
   "execution_count": 21,
   "metadata": {
    "execution": {
     "iopub.execute_input": "2021-01-23T04:46:08.464181Z",
     "iopub.status.busy": "2021-01-23T04:46:08.464181Z",
     "iopub.status.idle": "2021-01-23T04:46:08.685176Z",
     "shell.execute_reply": "2021-01-23T04:46:08.684174Z",
     "shell.execute_reply.started": "2021-01-23T04:46:08.464181Z"
    }
   },
   "outputs": [],
   "source": [
    "df.to_csv(\"./data/Sarcasm_CSV.csv\", index=False)"
   ]
  },
  {
   "cell_type": "code",
   "execution_count": null,
   "metadata": {},
   "outputs": [],
   "source": []
  }
 ],
 "metadata": {
  "kernelspec": {
   "display_name": "Python 3",
   "language": "python",
   "name": "python3"
  },
  "language_info": {
   "codemirror_mode": {
    "name": "ipython",
    "version": 3
   },
   "file_extension": ".py",
   "mimetype": "text/x-python",
   "name": "python",
   "nbconvert_exporter": "python",
   "pygments_lexer": "ipython3",
   "version": "3.8.5"
  }
 },
 "nbformat": 4,
 "nbformat_minor": 4
}
