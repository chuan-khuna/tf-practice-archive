{
 "cells": [
  {
   "cell_type": "code",
   "execution_count": 1,
   "metadata": {
    "execution": {
     "iopub.execute_input": "2021-01-23T05:59:50.010732Z",
     "iopub.status.busy": "2021-01-23T05:59:50.009733Z",
     "iopub.status.idle": "2021-01-23T05:59:53.667245Z",
     "shell.execute_reply": "2021-01-23T05:59:53.666249Z",
     "shell.execute_reply.started": "2021-01-23T05:59:50.010732Z"
    }
   },
   "outputs": [],
   "source": [
    "import numpy as np\n",
    "import pandas as pd\n",
    "import tensorflow as tf\n",
    "\n",
    "seed_ = 20200218\n",
    "tf.random.set_seed(seed_)\n",
    "np.random.seed(seed_)\n",
    "\n",
    "import matplotlib.pyplot as plt\n",
    "import seaborn as sns\n",
    "sns.set_theme(style=\"whitegrid\")\n",
    "\n",
    "import json\n",
    "from tensorflow.keras.preprocessing.sequence import pad_sequences"
   ]
  },
  {
   "cell_type": "markdown",
   "metadata": {},
   "source": [
    "# Generate New Text\n",
    "\n",
    "- ก่อนหน้านี้ลองทำ classification text ไปแล้ว\n",
    "- generate ?\n",
    "- คิดว่ามันเป็น prediction (คำต่อไป)\n",
    "\n",
    "ข้อมูลสำหรับ train\n",
    "\n",
    "```text\n",
    "twinkle twinkle little star\n",
    "```\n",
    "\n",
    "เมื่อต้องการ predict คำต่อไป\n",
    "\n",
    "```test\n",
    "twinkle twinkle little ...?\n",
    "```\n",
    "\n",
    "NN จะรู้ว่าคำต่อไปคือ `star`\n",
    "\n",
    "\n",
    "ถ้าให้ **corpus** แล้ว NN train กับ แต่ละประโยคใน corpus\n",
    "จะสามารถทำ text generation ได้"
   ]
  },
  {
   "cell_type": "code",
   "execution_count": 2,
   "metadata": {
    "execution": {
     "iopub.execute_input": "2021-01-23T05:59:53.668247Z",
     "iopub.status.busy": "2021-01-23T05:59:53.668247Z",
     "iopub.status.idle": "2021-01-23T05:59:53.674247Z",
     "shell.execute_reply": "2021-01-23T05:59:53.673246Z",
     "shell.execute_reply.started": "2021-01-23T05:59:53.668247Z"
    }
   },
   "outputs": [],
   "source": [
    "with open(\"./data/ashes.txt\", \"r\", encoding=\"utf-8\") as f:\n",
    "    corpus = [line for line in f.readlines() if line != '\\n']"
   ]
  },
  {
   "cell_type": "code",
   "execution_count": 3,
   "metadata": {
    "execution": {
     "iopub.execute_input": "2021-01-23T05:59:53.678254Z",
     "iopub.status.busy": "2021-01-23T05:59:53.677246Z",
     "iopub.status.idle": "2021-01-23T05:59:53.691248Z",
     "shell.execute_reply": "2021-01-23T05:59:53.690246Z",
     "shell.execute_reply.started": "2021-01-23T05:59:53.678254Z"
    }
   },
   "outputs": [
    {
     "data": {
      "text/plain": [
       "['I could hear the signs calling out from the bottom of the fire\\n',\n",
       " 'I am like a torch flickering in the wind as the saying goes\\n',\n",
       " 'Lost all my precious\\n',\n",
       " 'Rage ate me up\\n',\n",
       " 'Endless forlornness has made me numb\\n',\n",
       " \"I'd rather rise from here\\n\",\n",
       " 'Or should I hold on to my past?\\n',\n",
       " 'They’ve burnt to ashes\\n',\n",
       " 'Faded to grey\\n',\n",
       " 'Returned to the earth\\n',\n",
       " \"Yes it's meant to be\\n\",\n",
       " 'Uncertain flame of hope I found\\n',\n",
       " 'Will you lead me back on the right track?']"
      ]
     },
     "execution_count": 3,
     "metadata": {},
     "output_type": "execute_result"
    }
   ],
   "source": [
    "corpus"
   ]
  },
  {
   "cell_type": "code",
   "execution_count": 4,
   "metadata": {
    "execution": {
     "iopub.execute_input": "2021-01-23T05:59:53.694248Z",
     "iopub.status.busy": "2021-01-23T05:59:53.693248Z",
     "iopub.status.idle": "2021-01-23T05:59:53.699249Z",
     "shell.execute_reply": "2021-01-23T05:59:53.698248Z",
     "shell.execute_reply.started": "2021-01-23T05:59:53.694248Z"
    }
   },
   "outputs": [],
   "source": [
    "# config\n",
    "\n",
    "num_words = 200\n",
    "oov_token = '<OOV>'"
   ]
  },
  {
   "cell_type": "code",
   "execution_count": 5,
   "metadata": {
    "execution": {
     "iopub.execute_input": "2021-01-23T05:59:53.701246Z",
     "iopub.status.busy": "2021-01-23T05:59:53.701246Z",
     "iopub.status.idle": "2021-01-23T05:59:53.716246Z",
     "shell.execute_reply": "2021-01-23T05:59:53.706249Z",
     "shell.execute_reply.started": "2021-01-23T05:59:53.701246Z"
    }
   },
   "outputs": [],
   "source": [
    "tokenizer = tf.keras.preprocessing.text.Tokenizer(num_words=num_words, \n",
    "                                                  oov_token=oov_token)\n",
    "tokenizer.fit_on_texts(corpus)"
   ]
  },
  {
   "cell_type": "code",
   "execution_count": 6,
   "metadata": {
    "execution": {
     "iopub.execute_input": "2021-01-23T05:59:53.719248Z",
     "iopub.status.busy": "2021-01-23T05:59:53.718249Z",
     "iopub.status.idle": "2021-01-23T05:59:53.730247Z",
     "shell.execute_reply": "2021-01-23T05:59:53.729244Z",
     "shell.execute_reply.started": "2021-01-23T05:59:53.719248Z"
    }
   },
   "outputs": [
    {
     "name": "stdout",
     "output_type": "stream",
     "text": [
      "<OOV>:\t1\n",
      "the:\t2\n",
      "to:\t3\n",
      "i:\t4\n",
      "me:\t5\n",
      "from:\t6\n",
      "of:\t7\n",
      "my:\t8\n",
      "on:\t9\n",
      "could:\t10\n"
     ]
    }
   ],
   "source": [
    "word_index = tokenizer.word_index\n",
    "\n",
    "for k in list(word_index.keys())[:10]:\n",
    "    print(f\"{k}:\\t{word_index[k]}\")\n",
    "    \n",
    "index_word = {i: w for w, i in word_index.items()}"
   ]
  },
  {
   "cell_type": "code",
   "execution_count": 7,
   "metadata": {
    "execution": {
     "iopub.execute_input": "2021-01-23T05:59:53.733246Z",
     "iopub.status.busy": "2021-01-23T05:59:53.732247Z",
     "iopub.status.idle": "2021-01-23T05:59:53.740248Z",
     "shell.execute_reply": "2021-01-23T05:59:53.738247Z",
     "shell.execute_reply.started": "2021-01-23T05:59:53.733246Z"
    }
   },
   "outputs": [
    {
     "data": {
      "text/plain": [
       "66"
      ]
     },
     "execution_count": 7,
     "metadata": {},
     "output_type": "execute_result"
    }
   ],
   "source": [
    "# total word in vocab, include oov\n",
    "len(tokenizer.word_index)"
   ]
  },
  {
   "cell_type": "code",
   "execution_count": 8,
   "metadata": {
    "execution": {
     "iopub.execute_input": "2021-01-23T05:59:53.742249Z",
     "iopub.status.busy": "2021-01-23T05:59:53.741246Z",
     "iopub.status.idle": "2021-01-23T05:59:53.748246Z",
     "shell.execute_reply": "2021-01-23T05:59:53.747246Z",
     "shell.execute_reply.started": "2021-01-23T05:59:53.742249Z"
    }
   },
   "outputs": [],
   "source": [
    "sequences = tokenizer.texts_to_sequences(corpus)"
   ]
  },
  {
   "cell_type": "code",
   "execution_count": 9,
   "metadata": {
    "execution": {
     "iopub.execute_input": "2021-01-23T05:59:53.752247Z",
     "iopub.status.busy": "2021-01-23T05:59:53.751248Z",
     "iopub.status.idle": "2021-01-23T05:59:53.763247Z",
     "shell.execute_reply": "2021-01-23T05:59:53.761248Z",
     "shell.execute_reply.started": "2021-01-23T05:59:53.752247Z"
    }
   },
   "outputs": [
    {
     "data": {
      "text/plain": [
       "[[4, 10, 11, 2, 12, 13, 14, 6, 2, 15, 7, 2, 16],\n",
       " [4, 17, 18, 19, 20, 21, 22, 2, 23, 24, 2, 25, 26],\n",
       " [27, 28, 8, 29]]"
      ]
     },
     "execution_count": 9,
     "metadata": {},
     "output_type": "execute_result"
    }
   ],
   "source": [
    "sequences[:3]"
   ]
  },
  {
   "cell_type": "markdown",
   "metadata": {},
   "source": [
    "# n-gram"
   ]
  },
  {
   "cell_type": "code",
   "execution_count": 10,
   "metadata": {
    "execution": {
     "iopub.execute_input": "2021-01-23T05:59:53.769247Z",
     "iopub.status.busy": "2021-01-23T05:59:53.767260Z",
     "iopub.status.idle": "2021-01-23T05:59:53.777247Z",
     "shell.execute_reply": "2021-01-23T05:59:53.776252Z",
     "shell.execute_reply.started": "2021-01-23T05:59:53.769247Z"
    }
   },
   "outputs": [],
   "source": [
    "input_sequences = []\n",
    "for sequence in sequences:\n",
    "    for i in range(1, len(sequence)):\n",
    "        n_gram_seq = sequence[:i+1]\n",
    "        input_sequences.append(n_gram_seq)"
   ]
  },
  {
   "cell_type": "code",
   "execution_count": 11,
   "metadata": {
    "execution": {
     "iopub.execute_input": "2021-01-23T05:59:53.779247Z",
     "iopub.status.busy": "2021-01-23T05:59:53.779247Z",
     "iopub.status.idle": "2021-01-23T05:59:53.789247Z",
     "shell.execute_reply": "2021-01-23T05:59:53.788246Z",
     "shell.execute_reply.started": "2021-01-23T05:59:53.779247Z"
    }
   },
   "outputs": [
    {
     "data": {
      "text/plain": [
       "[[4, 10],\n",
       " [4, 10, 11],\n",
       " [4, 10, 11, 2],\n",
       " [4, 10, 11, 2, 12],\n",
       " [4, 10, 11, 2, 12, 13],\n",
       " [4, 10, 11, 2, 12, 13, 14],\n",
       " [4, 10, 11, 2, 12, 13, 14, 6],\n",
       " [4, 10, 11, 2, 12, 13, 14, 6, 2],\n",
       " [4, 10, 11, 2, 12, 13, 14, 6, 2, 15],\n",
       " [4, 10, 11, 2, 12, 13, 14, 6, 2, 15, 7]]"
      ]
     },
     "execution_count": 11,
     "metadata": {},
     "output_type": "execute_result"
    }
   ],
   "source": [
    "input_sequences[:10]"
   ]
  },
  {
   "cell_type": "code",
   "execution_count": 12,
   "metadata": {
    "execution": {
     "iopub.execute_input": "2021-01-23T05:59:53.792249Z",
     "iopub.status.busy": "2021-01-23T05:59:53.791261Z",
     "iopub.status.idle": "2021-01-23T05:59:53.796249Z",
     "shell.execute_reply": "2021-01-23T05:59:53.795246Z",
     "shell.execute_reply.started": "2021-01-23T05:59:53.792249Z"
    }
   },
   "outputs": [],
   "source": [
    "max_length = max([len(seq) for seq in input_sequences])"
   ]
  },
  {
   "cell_type": "code",
   "execution_count": 13,
   "metadata": {
    "execution": {
     "iopub.execute_input": "2021-01-23T05:59:53.799248Z",
     "iopub.status.busy": "2021-01-23T05:59:53.798245Z",
     "iopub.status.idle": "2021-01-23T05:59:53.805246Z",
     "shell.execute_reply": "2021-01-23T05:59:53.804248Z",
     "shell.execute_reply.started": "2021-01-23T05:59:53.799248Z"
    }
   },
   "outputs": [],
   "source": [
    "padded_input_sequences = pad_sequences(input_sequences, maxlen=max_length, padding='pre')"
   ]
  },
  {
   "cell_type": "code",
   "execution_count": 14,
   "metadata": {
    "execution": {
     "iopub.execute_input": "2021-01-23T05:59:53.807246Z",
     "iopub.status.busy": "2021-01-23T05:59:53.807246Z",
     "iopub.status.idle": "2021-01-23T05:59:53.816247Z",
     "shell.execute_reply": "2021-01-23T05:59:53.815248Z",
     "shell.execute_reply.started": "2021-01-23T05:59:53.807246Z"
    }
   },
   "outputs": [
    {
     "data": {
      "text/plain": [
       "array([[ 0,  0,  0,  0,  0,  0,  0,  0,  0,  0,  0,  4, 10],\n",
       "       [ 0,  0,  0,  0,  0,  0,  0,  0,  0,  0,  4, 10, 11],\n",
       "       [ 0,  0,  0,  0,  0,  0,  0,  0,  0,  4, 10, 11,  2]])"
      ]
     },
     "execution_count": 14,
     "metadata": {},
     "output_type": "execute_result"
    }
   ],
   "source": [
    "padded_input_sequences[:3]"
   ]
  },
  {
   "cell_type": "code",
   "execution_count": 15,
   "metadata": {
    "execution": {
     "iopub.execute_input": "2021-01-23T05:59:53.818248Z",
     "iopub.status.busy": "2021-01-23T05:59:53.818248Z",
     "iopub.status.idle": "2021-01-23T05:59:53.825247Z",
     "shell.execute_reply": "2021-01-23T05:59:53.824247Z",
     "shell.execute_reply.started": "2021-01-23T05:59:53.818248Z"
    }
   },
   "outputs": [],
   "source": [
    "x = padded_input_sequences[:, :-1]\n",
    "y = padded_input_sequences[:, -1:]"
   ]
  },
  {
   "cell_type": "code",
   "execution_count": 16,
   "metadata": {
    "execution": {
     "iopub.execute_input": "2021-01-23T05:59:53.827247Z",
     "iopub.status.busy": "2021-01-23T05:59:53.827247Z",
     "iopub.status.idle": "2021-01-23T05:59:53.832245Z",
     "shell.execute_reply": "2021-01-23T05:59:53.831247Z",
     "shell.execute_reply.started": "2021-01-23T05:59:53.827247Z"
    }
   },
   "outputs": [],
   "source": [
    "y_onehot = tf.keras.utils.to_categorical(y, num_classes=num_words)"
   ]
  },
  {
   "cell_type": "code",
   "execution_count": 17,
   "metadata": {
    "execution": {
     "iopub.execute_input": "2021-01-23T05:59:53.834246Z",
     "iopub.status.busy": "2021-01-23T05:59:53.834246Z",
     "iopub.status.idle": "2021-01-23T05:59:53.841252Z",
     "shell.execute_reply": "2021-01-23T05:59:53.840246Z",
     "shell.execute_reply.started": "2021-01-23T05:59:53.834246Z"
    }
   },
   "outputs": [
    {
     "data": {
      "text/plain": [
       "array([[0., 0., 0., ..., 0., 0., 0.],\n",
       "       [0., 0., 0., ..., 0., 0., 0.],\n",
       "       [0., 0., 1., ..., 0., 0., 0.],\n",
       "       ...,\n",
       "       [0., 0., 1., ..., 0., 0., 0.],\n",
       "       [0., 0., 0., ..., 0., 0., 0.],\n",
       "       [0., 0., 0., ..., 0., 0., 0.]], dtype=float32)"
      ]
     },
     "execution_count": 17,
     "metadata": {},
     "output_type": "execute_result"
    }
   ],
   "source": [
    "y_onehot"
   ]
  },
  {
   "cell_type": "markdown",
   "metadata": {},
   "source": [
    "# Model"
   ]
  },
  {
   "cell_type": "code",
   "execution_count": 18,
   "metadata": {
    "execution": {
     "iopub.execute_input": "2021-01-23T05:59:53.843247Z",
     "iopub.status.busy": "2021-01-23T05:59:53.843247Z",
     "iopub.status.idle": "2021-01-23T05:59:53.848245Z",
     "shell.execute_reply": "2021-01-23T05:59:53.847247Z",
     "shell.execute_reply.started": "2021-01-23T05:59:53.843247Z"
    }
   },
   "outputs": [],
   "source": [
    "embedding_dims = 32\n",
    "num_epochs = 1500"
   ]
  },
  {
   "cell_type": "code",
   "execution_count": 19,
   "metadata": {
    "execution": {
     "iopub.execute_input": "2021-01-23T05:59:53.850246Z",
     "iopub.status.busy": "2021-01-23T05:59:53.850246Z",
     "iopub.status.idle": "2021-01-23T05:59:56.433965Z",
     "shell.execute_reply": "2021-01-23T05:59:56.433965Z",
     "shell.execute_reply.started": "2021-01-23T05:59:53.850246Z"
    }
   },
   "outputs": [],
   "source": [
    "model = tf.keras.Sequential([\n",
    "    tf.keras.layers.Embedding(num_words, embedding_dims, input_length=max_length-1),\n",
    "    tf.keras.layers.LSTM(20),\n",
    "    tf.keras.layers.Dense(num_words, activation='softmax')\n",
    "])"
   ]
  },
  {
   "cell_type": "code",
   "execution_count": 20,
   "metadata": {
    "execution": {
     "iopub.execute_input": "2021-01-23T05:59:56.435945Z",
     "iopub.status.busy": "2021-01-23T05:59:56.434944Z",
     "iopub.status.idle": "2021-01-23T05:59:56.440947Z",
     "shell.execute_reply": "2021-01-23T05:59:56.439950Z",
     "shell.execute_reply.started": "2021-01-23T05:59:56.435945Z"
    }
   },
   "outputs": [],
   "source": [
    "optimizer = tf.keras.optimizers.Adam(learning_rate=0.01)"
   ]
  },
  {
   "cell_type": "code",
   "execution_count": 21,
   "metadata": {
    "execution": {
     "iopub.execute_input": "2021-01-23T05:59:56.444950Z",
     "iopub.status.busy": "2021-01-23T05:59:56.443948Z",
     "iopub.status.idle": "2021-01-23T05:59:56.465946Z",
     "shell.execute_reply": "2021-01-23T05:59:56.464946Z",
     "shell.execute_reply.started": "2021-01-23T05:59:56.444950Z"
    }
   },
   "outputs": [],
   "source": [
    "model.compile(optimizer=optimizer, \n",
    "              metrics=['accuracy'], loss='categorical_crossentropy')"
   ]
  },
  {
   "cell_type": "code",
   "execution_count": 22,
   "metadata": {
    "execution": {
     "iopub.execute_input": "2021-01-23T05:59:56.467946Z",
     "iopub.status.busy": "2021-01-23T05:59:56.467946Z",
     "iopub.status.idle": "2021-01-23T05:59:56.475948Z",
     "shell.execute_reply": "2021-01-23T05:59:56.474947Z",
     "shell.execute_reply.started": "2021-01-23T05:59:56.467946Z"
    }
   },
   "outputs": [
    {
     "name": "stdout",
     "output_type": "stream",
     "text": [
      "Model: \"sequential\"\n",
      "_________________________________________________________________\n",
      "Layer (type)                 Output Shape              Param #   \n",
      "=================================================================\n",
      "embedding (Embedding)        (None, 12, 32)            6400      \n",
      "_________________________________________________________________\n",
      "lstm (LSTM)                  (None, 20)                4240      \n",
      "_________________________________________________________________\n",
      "dense (Dense)                (None, 200)               4200      \n",
      "=================================================================\n",
      "Total params: 14,840\n",
      "Trainable params: 14,840\n",
      "Non-trainable params: 0\n",
      "_________________________________________________________________\n"
     ]
    }
   ],
   "source": [
    "model.summary()"
   ]
  },
  {
   "cell_type": "code",
   "execution_count": 23,
   "metadata": {
    "execution": {
     "iopub.execute_input": "2021-01-23T05:59:56.479949Z",
     "iopub.status.busy": "2021-01-23T05:59:56.477946Z",
     "iopub.status.idle": "2021-01-23T05:59:56.488947Z",
     "shell.execute_reply": "2021-01-23T05:59:56.487952Z",
     "shell.execute_reply.started": "2021-01-23T05:59:56.479949Z"
    }
   },
   "outputs": [],
   "source": [
    "class CustomCallback(tf.keras.callbacks.Callback):\n",
    "    def on_epoch_end(self, epoch, logs=None):\n",
    "        keys = list(logs.keys())\n",
    "        if (epoch+1) % 250 == 0:\n",
    "            print(f\"End epoch {epoch+1} of training;\\n\\tloss: {logs['loss']}, accuracy: {logs['accuracy']}\")"
   ]
  },
  {
   "cell_type": "code",
   "execution_count": 24,
   "metadata": {
    "execution": {
     "iopub.execute_input": "2021-01-23T05:59:56.491948Z",
     "iopub.status.busy": "2021-01-23T05:59:56.490946Z",
     "iopub.status.idle": "2021-01-23T06:00:26.058945Z",
     "shell.execute_reply": "2021-01-23T06:00:26.057946Z",
     "shell.execute_reply.started": "2021-01-23T05:59:56.491948Z"
    }
   },
   "outputs": [
    {
     "name": "stdout",
     "output_type": "stream",
     "text": [
      "End epoch 250 of training;\n",
      "\tloss: 0.34464094042778015, accuracy: 0.8873239159584045\n",
      "End epoch 500 of training;\n",
      "\tloss: 0.16501201689243317, accuracy: 0.9436619877815247\n",
      "End epoch 750 of training;\n",
      "\tloss: 0.08032507449388504, accuracy: 0.9577465057373047\n",
      "End epoch 1000 of training;\n",
      "\tloss: 0.05213554576039314, accuracy: 0.9718309640884399\n",
      "End epoch 1250 of training;\n",
      "\tloss: 0.026708466932177544, accuracy: 0.98591548204422\n",
      "End epoch 1500 of training;\n",
      "\tloss: 0.023481542244553566, accuracy: 0.98591548204422\n"
     ]
    }
   ],
   "source": [
    "hist = model.fit(x, y_onehot, epochs=num_epochs, verbose=0, callbacks=[CustomCallback()])"
   ]
  },
  {
   "cell_type": "code",
   "execution_count": 25,
   "metadata": {
    "execution": {
     "iopub.execute_input": "2021-01-23T06:00:26.060948Z",
     "iopub.status.busy": "2021-01-23T06:00:26.059945Z",
     "iopub.status.idle": "2021-01-23T06:00:26.499946Z",
     "shell.execute_reply": "2021-01-23T06:00:26.498946Z",
     "shell.execute_reply.started": "2021-01-23T06:00:26.060948Z"
    }
   },
   "outputs": [
    {
     "name": "stderr",
     "output_type": "stream",
     "text": [
      "c:\\users\\chuan\\appdata\\local\\programs\\python\\python38\\lib\\site-packages\\seaborn\\_decorators.py:36: FutureWarning: Pass the following variables as keyword args: x, y. From version 0.12, the only valid positional argument will be `data`, and passing other arguments without an explicit keyword will result in an error or misinterpretation.\n",
      "  warnings.warn(\n"
     ]
    },
    {
     "data": {
      "image/png": "[encoded data removed]",
      "text/plain": [
       "<Figure size 432x288 with 1 Axes>"
      ]
     },
     "metadata": {},
     "output_type": "display_data"
    }
   ],
   "source": [
    "epochs = np.arange(num_epochs)\n",
    "sns.lineplot(epochs, hist.history['loss'])\n",
    "plt.show()"
   ]
  },
  {
   "cell_type": "code",
   "execution_count": 26,
   "metadata": {
    "execution": {
     "iopub.execute_input": "2021-01-23T06:00:26.502948Z",
     "iopub.status.busy": "2021-01-23T06:00:26.501947Z",
     "iopub.status.idle": "2021-01-23T06:00:26.860947Z",
     "shell.execute_reply": "2021-01-23T06:00:26.859977Z",
     "shell.execute_reply.started": "2021-01-23T06:00:26.502948Z"
    }
   },
   "outputs": [
    {
     "name": "stderr",
     "output_type": "stream",
     "text": [
      "c:\\users\\chuan\\appdata\\local\\programs\\python\\python38\\lib\\site-packages\\seaborn\\_decorators.py:36: FutureWarning: Pass the following variables as keyword args: x, y. From version 0.12, the only valid positional argument will be `data`, and passing other arguments without an explicit keyword will result in an error or misinterpretation.\n",
      "  warnings.warn(\n"
     ]
    },
    {
     "data": {
      "image/png": "[encoded data removed]",
      "text/plain": [
       "<Figure size 432x288 with 1 Axes>"
      ]
     },
     "metadata": {},
     "output_type": "display_data"
    }
   ],
   "source": [
    "epochs = np.arange(num_epochs)\n",
    "sns.lineplot(epochs, hist.history['accuracy'])\n",
    "plt.show()"
   ]
  },
  {
   "cell_type": "markdown",
   "metadata": {},
   "source": [
    "## มีคำซ้ำในการ predict\n",
    "\n",
    "ใช้ bidirectional LSTM แก้ปัญหาได้(บ้าง)"
   ]
  },
  {
   "cell_type": "markdown",
   "metadata": {},
   "source": [
    "## ไหน ลอง predict ดิ้"
   ]
  },
  {
   "cell_type": "code",
   "execution_count": 28,
   "metadata": {
    "execution": {
     "iopub.execute_input": "2021-01-23T06:00:26.872945Z",
     "iopub.status.busy": "2021-01-23T06:00:26.872945Z",
     "iopub.status.idle": "2021-01-23T06:00:26.882946Z",
     "shell.execute_reply": "2021-01-23T06:00:26.881946Z",
     "shell.execute_reply.started": "2021-01-23T06:00:26.872945Z"
    }
   },
   "outputs": [],
   "source": [
    "text = \"I could hear the signs calling out from the bottom of the fire\""
   ]
  },
  {
   "cell_type": "code",
   "execution_count": 29,
   "metadata": {
    "execution": {
     "iopub.execute_input": "2021-01-23T06:00:26.885946Z",
     "iopub.status.busy": "2021-01-23T06:00:26.884945Z",
     "iopub.status.idle": "2021-01-23T06:00:26.900946Z",
     "shell.execute_reply": "2021-01-23T06:00:26.899946Z",
     "shell.execute_reply.started": "2021-01-23T06:00:26.885946Z"
    }
   },
   "outputs": [
    {
     "data": {
      "text/plain": [
       "[4, 10, 11, 2, 12, 13, 14, 6, 2, 15, 7, 2, 16]"
      ]
     },
     "execution_count": 29,
     "metadata": {},
     "output_type": "execute_result"
    }
   ],
   "source": [
    "tokenized_text = tokenizer.texts_to_sequences([text])[0]\n",
    "tokenized_text"
   ]
  },
  {
   "cell_type": "code",
   "execution_count": 30,
   "metadata": {
    "execution": {
     "iopub.execute_input": "2021-01-23T06:00:26.903956Z",
     "iopub.status.busy": "2021-01-23T06:00:26.902946Z",
     "iopub.status.idle": "2021-01-23T06:00:26.907946Z",
     "shell.execute_reply": "2021-01-23T06:00:26.906946Z",
     "shell.execute_reply.started": "2021-01-23T06:00:26.903956Z"
    }
   },
   "outputs": [],
   "source": [
    "first_n_word = 5\n",
    "padded_tokenized_text = pad_sequences([tokenized_text[:first_n_word]], padding='pre', maxlen=max_length)"
   ]
  },
  {
   "cell_type": "code",
   "execution_count": 31,
   "metadata": {
    "execution": {
     "iopub.execute_input": "2021-01-23T06:00:26.909945Z",
     "iopub.status.busy": "2021-01-23T06:00:26.909945Z",
     "iopub.status.idle": "2021-01-23T06:00:26.917945Z",
     "shell.execute_reply": "2021-01-23T06:00:26.916946Z",
     "shell.execute_reply.started": "2021-01-23T06:00:26.909945Z"
    }
   },
   "outputs": [
    {
     "data": {
      "text/plain": [
       "array([[ 0,  0,  0,  0,  0,  0,  0,  0,  4, 10, 11,  2, 12]])"
      ]
     },
     "execution_count": 31,
     "metadata": {},
     "output_type": "execute_result"
    }
   ],
   "source": [
    "padded_tokenized_text"
   ]
  },
  {
   "cell_type": "code",
   "execution_count": 42,
   "metadata": {
    "execution": {
     "iopub.execute_input": "2021-01-23T06:06:47.463210Z",
     "iopub.status.busy": "2021-01-23T06:06:47.462210Z",
     "iopub.status.idle": "2021-01-23T06:06:47.812171Z",
     "shell.execute_reply": "2021-01-23T06:06:47.811273Z",
     "shell.execute_reply.started": "2021-01-23T06:06:47.463210Z"
    }
   },
   "outputs": [],
   "source": [
    "predicted = model.predict(padded_tokenized_text)\n",
    "predicted_index = np.argmax(predicted)\n",
    "predicted_word = index_word[predicted_index]"
   ]
  },
  {
   "cell_type": "code",
   "execution_count": 49,
   "metadata": {
    "execution": {
     "iopub.execute_input": "2021-01-23T06:08:17.956995Z",
     "iopub.status.busy": "2021-01-23T06:08:17.956995Z",
     "iopub.status.idle": "2021-01-23T06:08:17.964996Z",
     "shell.execute_reply": "2021-01-23T06:08:17.963994Z",
     "shell.execute_reply.started": "2021-01-23T06:08:17.956995Z"
    }
   },
   "outputs": [
    {
     "name": "stdout",
     "output_type": "stream",
     "text": [
      "i could hear the signs | calling\n"
     ]
    }
   ],
   "source": [
    "input_text = []\n",
    "for token in padded_tokenized_text[0][-first_n_word:]:\n",
    "    input_text.append(index_word[token])\n",
    "\n",
    "print(f\"{' '.join(input_text)} | {predicted_word}\")"
   ]
  },
  {
   "cell_type": "code",
   "execution_count": 48,
   "metadata": {
    "execution": {
     "iopub.execute_input": "2021-01-23T06:08:04.729685Z",
     "iopub.status.busy": "2021-01-23T06:08:04.729685Z",
     "iopub.status.idle": "2021-01-23T06:08:04.735651Z",
     "shell.execute_reply": "2021-01-23T06:08:04.734652Z",
     "shell.execute_reply.started": "2021-01-23T06:08:04.729685Z"
    }
   },
   "outputs": [
    {
     "name": "stdout",
     "output_type": "stream",
     "text": [
      "I could hear the signs calling out from the bottom of the fire\n"
     ]
    }
   ],
   "source": [
    "print(text)"
   ]
  },
  {
   "cell_type": "code",
   "execution_count": 50,
   "metadata": {
    "execution": {
     "iopub.execute_input": "2021-01-23T06:09:27.334013Z",
     "iopub.status.busy": "2021-01-23T06:09:27.334013Z",
     "iopub.status.idle": "2021-01-23T06:09:27.341012Z",
     "shell.execute_reply": "2021-01-23T06:09:27.340013Z",
     "shell.execute_reply.started": "2021-01-23T06:09:27.334013Z"
    }
   },
   "outputs": [
    {
     "data": {
      "text/plain": [
       "[4, 10, 11, 2, 12, 13, 14, 6, 2, 15, 7, 2, 16]"
      ]
     },
     "execution_count": 50,
     "metadata": {},
     "output_type": "execute_result"
    }
   ],
   "source": [
    "tokenized_text"
   ]
  },
  {
   "cell_type": "code",
   "execution_count": 60,
   "metadata": {
    "execution": {
     "iopub.execute_input": "2021-01-23T06:13:44.118769Z",
     "iopub.status.busy": "2021-01-23T06:13:44.117769Z",
     "iopub.status.idle": "2021-01-23T06:13:44.591042Z",
     "shell.execute_reply": "2021-01-23T06:13:44.591042Z",
     "shell.execute_reply.started": "2021-01-23T06:13:44.117769Z"
    }
   },
   "outputs": [],
   "source": [
    "predict_next_n = 5\n",
    "first_n = 5\n",
    "input_text = tokenized_text[:first_n]\n",
    "predicted_words = []\n",
    "\n",
    "for i in range(predict_next_n):\n",
    "    padded_tokenized_text = pad_sequences([input_text], padding='pre', maxlen=max_length)    \n",
    "    predicted = model.predict(padded_tokenized_text)\n",
    "    predicted_index = np.argmax(predicted)\n",
    "    predicted_words.append(predicted_index)\n",
    "    input_text.append(predicted_index)"
   ]
  },
  {
   "cell_type": "code",
   "execution_count": 64,
   "metadata": {
    "execution": {
     "iopub.execute_input": "2021-01-23T06:15:59.563797Z",
     "iopub.status.busy": "2021-01-23T06:15:59.562798Z",
     "iopub.status.idle": "2021-01-23T06:15:59.569797Z",
     "shell.execute_reply": "2021-01-23T06:15:59.568800Z",
     "shell.execute_reply.started": "2021-01-23T06:15:59.563797Z"
    }
   },
   "outputs": [],
   "source": [
    "x = ' '.join([index_word[token] for token in input_text[:first_n]])\n",
    "y = ' '.join([index_word[token] for token in predicted_words])"
   ]
  },
  {
   "cell_type": "code",
   "execution_count": 68,
   "metadata": {
    "execution": {
     "iopub.execute_input": "2021-01-23T06:17:17.184976Z",
     "iopub.status.busy": "2021-01-23T06:17:17.184976Z",
     "iopub.status.idle": "2021-01-23T06:17:17.190978Z",
     "shell.execute_reply": "2021-01-23T06:17:17.189977Z",
     "shell.execute_reply.started": "2021-01-23T06:17:17.184976Z"
    }
   },
   "outputs": [
    {
     "name": "stdout",
     "output_type": "stream",
     "text": [
      "i could hear the signs | calling out from the bottom\n",
      "original text:\n",
      "I could hear the signs calling out from the bottom of the fire\n"
     ]
    }
   ],
   "source": [
    "print(f\"{x} | {y}\")\n",
    "\n",
    "\n",
    "print(\"original text:\")\n",
    "print(text)"
   ]
  },
  {
   "cell_type": "markdown",
   "metadata": {},
   "source": [
    "## ลอง predict หลายๆ คำ"
   ]
  },
  {
   "cell_type": "code",
   "execution_count": 69,
   "metadata": {
    "execution": {
     "iopub.execute_input": "2021-01-23T06:19:16.017846Z",
     "iopub.status.busy": "2021-01-23T06:19:16.017846Z",
     "iopub.status.idle": "2021-01-23T06:19:16.804490Z",
     "shell.execute_reply": "2021-01-23T06:19:16.804490Z",
     "shell.execute_reply.started": "2021-01-23T06:19:16.017846Z"
    }
   },
   "outputs": [],
   "source": [
    "predict_next_n = 15\n",
    "first_n = 5\n",
    "input_text = tokenized_text[:first_n]\n",
    "predicted_words = []\n",
    "\n",
    "for i in range(predict_next_n):\n",
    "    padded_tokenized_text = pad_sequences([input_text], padding='pre', maxlen=max_length)    \n",
    "    predicted = model.predict(padded_tokenized_text)\n",
    "    predicted_index = np.argmax(predicted)\n",
    "    predicted_words.append(predicted_index)\n",
    "    input_text.append(predicted_index)"
   ]
  },
  {
   "cell_type": "code",
   "execution_count": 70,
   "metadata": {
    "execution": {
     "iopub.execute_input": "2021-01-23T06:19:16.809390Z",
     "iopub.status.busy": "2021-01-23T06:19:16.808390Z",
     "iopub.status.idle": "2021-01-23T06:19:16.815392Z",
     "shell.execute_reply": "2021-01-23T06:19:16.814393Z",
     "shell.execute_reply.started": "2021-01-23T06:19:16.809390Z"
    }
   },
   "outputs": [],
   "source": [
    "x = ' '.join([index_word[token] for token in input_text[:first_n]])\n",
    "y = ' '.join([index_word[token] for token in predicted_words])"
   ]
  },
  {
   "cell_type": "code",
   "execution_count": 72,
   "metadata": {
    "execution": {
     "iopub.execute_input": "2021-01-23T06:19:33.401648Z",
     "iopub.status.busy": "2021-01-23T06:19:33.400650Z",
     "iopub.status.idle": "2021-01-23T06:19:33.406649Z",
     "shell.execute_reply": "2021-01-23T06:19:33.405649Z",
     "shell.execute_reply.started": "2021-01-23T06:19:33.401648Z"
    }
   },
   "outputs": [
    {
     "name": "stdout",
     "output_type": "stream",
     "text": [
      "i could hear the signs | calling out from the bottom of the fire rather rise from the bottom of the\n"
     ]
    }
   ],
   "source": [
    "print(f\"{x} | {y}\")"
   ]
  },
  {
   "cell_type": "code",
   "execution_count": null,
   "metadata": {},
   "outputs": [],
   "source": []
  }
 ],
 "metadata": {
  "kernelspec": {
   "display_name": "Python 3",
   "language": "python",
   "name": "python3"
  },
  "language_info": {
   "codemirror_mode": {
    "name": "ipython",
    "version": 3
   },
   "file_extension": ".py",
   "mimetype": "text/x-python",
   "name": "python",
   "nbconvert_exporter": "python",
   "pygments_lexer": "ipython3",
   "version": "3.8.5"
  }
 },
 "nbformat": 4,
 "nbformat_minor": 4
}
