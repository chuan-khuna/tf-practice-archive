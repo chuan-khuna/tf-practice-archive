{
 "cells": [
  {
   "cell_type": "markdown",
   "metadata": {},
   "source": [
    "# Encoding"
   ]
  },
  {
   "cell_type": "markdown",
   "metadata": {},
   "source": [
    "## เราจะแทน Word เป็นตัวเลขได้ยังไง?\n",
    "\n",
    "- ข้อมูลที่เป็นรูปภาพ แต่ละ pixel เป็นตัวเลขอยู่แล้ว\n",
    "\n",
    "### แล้วข้อมูลที่เป็น text ล่ะ จะแปลงเป็นตัวเลขให้เพื่อเทรนโมเดลยังไง?"
   ]
  },
  {
   "cell_type": "markdown",
   "metadata": {},
   "source": [
    "### แทนเป็น ASCII ?\n",
    "\n",
    "ก็ไม่ดี เพราะแต่ละตัวอักษรไม่ได้มีความหมาย"
   ]
  },
  {
   "cell_type": "code",
   "execution_count": 1,
   "metadata": {
    "execution": {
     "iopub.execute_input": "2021-01-22T14:18:22.040971Z",
     "iopub.status.busy": "2021-01-22T14:18:22.039971Z",
     "iopub.status.idle": "2021-01-22T14:18:22.055974Z",
     "shell.execute_reply": "2021-01-22T14:18:22.054974Z",
     "shell.execute_reply.started": "2021-01-22T14:18:22.040971Z"
    }
   },
   "outputs": [
    {
     "name": "stdout",
     "output_type": "stream",
     "text": [
      "listen\n",
      "[108, 105, 115, 116, 101, 110]\n",
      "silent\n",
      "[115, 105, 108, 101, 110, 116]\n"
     ]
    }
   ],
   "source": [
    "word = 'listen'\n",
    "ascii_list = []\n",
    "\n",
    "for c in word:\n",
    "    ascii_list.append(ord(c))\n",
    "    \n",
    "print(word)\n",
    "print(ascii_list)\n",
    "\n",
    "word = 'silent'\n",
    "ascii_list = []\n",
    "for c in word:\n",
    "    ascii_list.append(ord(c))\n",
    "    \n",
    "print(word)\n",
    "print(ascii_list)"
   ]
  },
  {
   "cell_type": "markdown",
   "metadata": {},
   "source": [
    "### แทนคำเป็นค่าอะไรก็ได้"
   ]
  },
  {
   "cell_type": "code",
   "execution_count": 4,
   "metadata": {
    "execution": {
     "iopub.execute_input": "2021-01-22T14:18:56.395971Z",
     "iopub.status.busy": "2021-01-22T14:18:56.394970Z",
     "iopub.status.idle": "2021-01-22T14:18:56.412967Z",
     "shell.execute_reply": "2021-01-22T14:18:56.412967Z",
     "shell.execute_reply.started": "2021-01-22T14:18:56.395971Z"
    }
   },
   "outputs": [
    {
     "data": {
      "text/plain": [
       "['I could hear the signs calling out from the bottom of the fire\\n',\n",
       " 'I am like a torch flickering in the wind as the saying goes\\n',\n",
       " '\\n',\n",
       " 'Lost all my precious\\n',\n",
       " 'Rage ate me up\\n',\n",
       " 'Endless forlornness has made me numb\\n',\n",
       " \"I'd rather rise from here\\n\",\n",
       " 'Or should I hold on to my past?\\n',\n",
       " '\\n',\n",
       " 'They’ve burnt to ashes\\n',\n",
       " 'Faded to grey\\n',\n",
       " 'Returned to the earth\\n',\n",
       " \"Yes it's meant to be\\n\",\n",
       " 'Uncertain flame of hope I found\\n',\n",
       " 'Will you lead me back on the right track?']"
      ]
     },
     "execution_count": 4,
     "metadata": {},
     "output_type": "execute_result"
    }
   ],
   "source": [
    "with open(\"./data/ashes.txt\", \"r\", encoding=\"utf-8\") as f:\n",
    "    lines = f.readlines()\n",
    "    \n",
    "lines"
   ]
  },
  {
   "cell_type": "code",
   "execution_count": 8,
   "metadata": {
    "execution": {
     "iopub.execute_input": "2021-01-22T14:19:20.291295Z",
     "iopub.status.busy": "2021-01-22T14:19:20.291295Z",
     "iopub.status.idle": "2021-01-22T14:19:20.301305Z",
     "shell.execute_reply": "2021-01-22T14:19:20.301305Z",
     "shell.execute_reply.started": "2021-01-22T14:19:20.291295Z"
    }
   },
   "outputs": [
    {
     "data": {
      "text/plain": [
       "'I could hear the signs calling out from the bottom of the fire'"
      ]
     },
     "execution_count": 8,
     "metadata": {},
     "output_type": "execute_result"
    }
   ],
   "source": [
    "text = lines[0].strip('\\n')\n",
    "text"
   ]
  },
  {
   "cell_type": "code",
   "execution_count": 12,
   "metadata": {
    "execution": {
     "iopub.execute_input": "2021-01-22T14:20:46.123392Z",
     "iopub.status.busy": "2021-01-22T14:20:46.123392Z",
     "iopub.status.idle": "2021-01-22T14:20:46.140395Z",
     "shell.execute_reply": "2021-01-22T14:20:46.140395Z",
     "shell.execute_reply.started": "2021-01-22T14:20:46.123392Z"
    }
   },
   "outputs": [],
   "source": [
    "word_value = {}\n",
    "val = 0\n",
    "for word in text.split(' '):\n",
    "    if word not in word_value.keys():\n",
    "        word_value[word] = val\n",
    "        val += 1"
   ]
  },
  {
   "cell_type": "code",
   "execution_count": 13,
   "metadata": {
    "execution": {
     "iopub.execute_input": "2021-01-22T14:20:47.516806Z",
     "iopub.status.busy": "2021-01-22T14:20:47.515797Z",
     "iopub.status.idle": "2021-01-22T14:20:47.521807Z",
     "shell.execute_reply": "2021-01-22T14:20:47.521807Z",
     "shell.execute_reply.started": "2021-01-22T14:20:47.516806Z"
    }
   },
   "outputs": [
    {
     "data": {
      "text/plain": [
       "{'I': 0,\n",
       " 'could': 1,\n",
       " 'hear': 2,\n",
       " 'the': 3,\n",
       " 'signs': 4,\n",
       " 'calling': 5,\n",
       " 'out': 6,\n",
       " 'from': 7,\n",
       " 'bottom': 8,\n",
       " 'of': 9,\n",
       " 'fire': 10}"
      ]
     },
     "execution_count": 13,
     "metadata": {},
     "output_type": "execute_result"
    }
   ],
   "source": [
    "word_value"
   ]
  },
  {
   "cell_type": "code",
   "execution_count": null,
   "metadata": {},
   "outputs": [],
   "source": []
  }
 ],
 "metadata": {
  "kernelspec": {
   "display_name": "Python 3",
   "language": "python",
   "name": "python3"
  },
  "language_info": {
   "codemirror_mode": {
    "name": "ipython",
    "version": 3
   },
   "file_extension": ".py",
   "mimetype": "text/x-python",
   "name": "python",
   "nbconvert_exporter": "python",
   "pygments_lexer": "ipython3",
   "version": "3.8.3"
  }
 },
 "nbformat": 4,
 "nbformat_minor": 4
}
