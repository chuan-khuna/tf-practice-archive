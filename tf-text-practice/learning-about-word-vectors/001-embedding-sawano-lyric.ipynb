{
 "cells": [
  {
   "cell_type": "code",
   "execution_count": 1,
   "metadata": {
    "execution": {
     "iopub.execute_input": "2021-01-25T01:36:55.527712Z",
     "iopub.status.busy": "2021-01-25T01:36:55.527712Z",
     "iopub.status.idle": "2021-01-25T01:37:00.720712Z",
     "shell.execute_reply": "2021-01-25T01:37:00.719712Z",
     "shell.execute_reply.started": "2021-01-25T01:36:55.527712Z"
    }
   },
   "outputs": [],
   "source": [
    "import numpy as np\n",
    "import pandas as pd\n",
    "\n",
    "import nltk\n",
    "from nltk.corpus import stopwords\n",
    "from nltk.tokenize import word_tokenize\n",
    "\n",
    "\n",
    "seed_ = 20200218\n",
    "np.random.seed(seed_)\n",
    "\n",
    "import tensorflow as tf\n",
    "tf.random.set_seed(seed_)\n",
    "\n",
    "from tensorflow.keras.preprocessing.text import Tokenizer"
   ]
  },
  {
   "cell_type": "code",
   "execution_count": 2,
   "metadata": {
    "execution": {
     "iopub.execute_input": "2021-01-25T01:37:00.724712Z",
     "iopub.status.busy": "2021-01-25T01:37:00.723713Z",
     "iopub.status.idle": "2021-01-25T01:37:01.922713Z",
     "shell.execute_reply": "2021-01-25T01:37:01.921708Z",
     "shell.execute_reply.started": "2021-01-25T01:37:00.724712Z"
    }
   },
   "outputs": [],
   "source": [
    "import matplotlib.pyplot as plt\n",
    "import seaborn as sns\n",
    "\n",
    "sns.set_theme(style=\"whitegrid\", \n",
    "              context=\"paper\", \n",
    "              font='Dank Mono', \n",
    "              font_scale=1.25, \n",
    "              rc={\"figure.figsize\": (10.5, 4.5), \"figure.dpi\": 150, \"grid.alpha\": 0.5}\n",
    "             )\n",
    "_30k = [\"#202f66\", \"#ff7048\", \"#7f68d0\", \"#f3d36e\", \"#d869ab\", \"#1b262c\"]\n",
    "sns.set_palette(_30k)\n",
    "\n",
    "import plotly.graph_objects as go\n",
    "import plotly.express as px\n",
    "import plotly.io as pio\n",
    "\n",
    "pio.templates.default = \"plotly_dark\"\n",
    "\n",
    "import wordcloud\n",
    "\n",
    "import warnings\n",
    "warnings.filterwarnings('ignore')"
   ]
  },
  {
   "cell_type": "markdown",
   "metadata": {},
   "source": [
    "# Introduction to Word2Vec\n",
    "\n",
    "ทำตาม บทความ \n",
    "\n",
    "https://blog.pjjop.org/word2vec-model-for-kincentric/"
   ]
  },
  {
   "cell_type": "markdown",
   "metadata": {},
   "source": [
    "## The dataset\n",
    "\n",
    "my favorite song lyric, ashes from sawano hiroyuki"
   ]
  },
  {
   "cell_type": "code",
   "execution_count": 3,
   "metadata": {
    "execution": {
     "iopub.execute_input": "2021-01-25T01:37:01.923711Z",
     "iopub.status.busy": "2021-01-25T01:37:01.923711Z",
     "iopub.status.idle": "2021-01-25T01:37:01.942713Z",
     "shell.execute_reply": "2021-01-25T01:37:01.941711Z",
     "shell.execute_reply.started": "2021-01-25T01:37:01.923711Z"
    }
   },
   "outputs": [],
   "source": [
    "with open(\"./data/sawano-ashes.txt\", \"r\", encoding=\"utf-8\") as f:\n",
    "    texts = [text.strip(\"\\n\") for text in f.readlines() if text.strip(\"\\n\") != '']"
   ]
  },
  {
   "cell_type": "code",
   "execution_count": 4,
   "metadata": {
    "execution": {
     "iopub.execute_input": "2021-01-25T01:37:01.944713Z",
     "iopub.status.busy": "2021-01-25T01:37:01.943712Z",
     "iopub.status.idle": "2021-01-25T01:37:01.954714Z",
     "shell.execute_reply": "2021-01-25T01:37:01.953712Z",
     "shell.execute_reply.started": "2021-01-25T01:37:01.944713Z"
    }
   },
   "outputs": [
    {
     "data": {
      "text/plain": [
       "['I could hear the signs calling out from the bottom of the fire',\n",
       " 'I am like a torch flickering in the wind as the saying goes',\n",
       " 'Lost all my precious',\n",
       " 'Rage ate me up',\n",
       " 'Endless forlornness has made me numb',\n",
       " \"I'd rather rise from here\",\n",
       " 'Or should I hold on to my past?',\n",
       " \"They've burnt to ashes\",\n",
       " 'Faded to grey',\n",
       " 'Returned to the earth',\n",
       " \"Yes it's meant to be\",\n",
       " 'Uncertain flame of hope I found',\n",
       " 'Will you lead me back on the right track?']"
      ]
     },
     "execution_count": 4,
     "metadata": {},
     "output_type": "execute_result"
    }
   ],
   "source": [
    "texts"
   ]
  },
  {
   "cell_type": "markdown",
   "metadata": {},
   "source": [
    "## สร้าง vocab"
   ]
  },
  {
   "cell_type": "code",
   "execution_count": 5,
   "metadata": {
    "execution": {
     "iopub.execute_input": "2021-01-25T01:37:01.956713Z",
     "iopub.status.busy": "2021-01-25T01:37:01.955712Z",
     "iopub.status.idle": "2021-01-25T01:37:01.964712Z",
     "shell.execute_reply": "2021-01-25T01:37:01.963723Z",
     "shell.execute_reply.started": "2021-01-25T01:37:01.955712Z"
    }
   },
   "outputs": [
    {
     "data": {
      "text/plain": [
       "{'the': 1,\n",
       " 'to': 2,\n",
       " 'i': 3,\n",
       " 'me': 4,\n",
       " 'from': 5,\n",
       " 'of': 6,\n",
       " 'my': 7,\n",
       " 'on': 8,\n",
       " 'could': 9,\n",
       " 'hear': 10,\n",
       " 'signs': 11,\n",
       " 'calling': 12,\n",
       " 'out': 13,\n",
       " 'bottom': 14,\n",
       " 'fire': 15,\n",
       " 'am': 16,\n",
       " 'like': 17,\n",
       " 'a': 18,\n",
       " 'torch': 19,\n",
       " 'flickering': 20,\n",
       " 'in': 21,\n",
       " 'wind': 22,\n",
       " 'as': 23,\n",
       " 'saying': 24,\n",
       " 'goes': 25,\n",
       " 'lost': 26,\n",
       " 'all': 27,\n",
       " 'precious': 28,\n",
       " 'rage': 29,\n",
       " 'ate': 30,\n",
       " 'up': 31,\n",
       " 'endless': 32,\n",
       " 'forlornness': 33,\n",
       " 'has': 34,\n",
       " 'made': 35,\n",
       " 'numb': 36,\n",
       " \"i'd\": 37,\n",
       " 'rather': 38,\n",
       " 'rise': 39,\n",
       " 'here': 40,\n",
       " 'or': 41,\n",
       " 'should': 42,\n",
       " 'hold': 43,\n",
       " 'past': 44,\n",
       " \"they've\": 45,\n",
       " 'burnt': 46,\n",
       " 'ashes': 47,\n",
       " 'faded': 48,\n",
       " 'grey': 49,\n",
       " 'returned': 50,\n",
       " 'earth': 51,\n",
       " 'yes': 52,\n",
       " \"it's\": 53,\n",
       " 'meant': 54,\n",
       " 'be': 55,\n",
       " 'uncertain': 56,\n",
       " 'flame': 57,\n",
       " 'hope': 58,\n",
       " 'found': 59,\n",
       " 'will': 60,\n",
       " 'you': 61,\n",
       " 'lead': 62,\n",
       " 'back': 63,\n",
       " 'right': 64,\n",
       " 'track': 65}"
      ]
     },
     "execution_count": 5,
     "metadata": {},
     "output_type": "execute_result"
    }
   ],
   "source": [
    "tokenizer = Tokenizer()\n",
    "tokenizer.fit_on_texts(texts)\n",
    "\n",
    "word_index = tokenizer.word_index\n",
    "index_word = {i: w for w, i in word_index.items()}\n",
    "word_index"
   ]
  },
  {
   "cell_type": "code",
   "execution_count": 6,
   "metadata": {
    "execution": {
     "iopub.execute_input": "2021-01-25T01:37:01.968715Z",
     "iopub.status.busy": "2021-01-25T01:37:01.966714Z",
     "iopub.status.idle": "2021-01-25T01:37:01.974713Z",
     "shell.execute_reply": "2021-01-25T01:37:01.973714Z",
     "shell.execute_reply.started": "2021-01-25T01:37:01.968715Z"
    }
   },
   "outputs": [
    {
     "data": {
      "text/plain": [
       "65"
      ]
     },
     "execution_count": 6,
     "metadata": {},
     "output_type": "execute_result"
    }
   ],
   "source": [
    "vocab_size = len(word_index)\n",
    "vocab_size"
   ]
  },
  {
   "cell_type": "code",
   "execution_count": 7,
   "metadata": {
    "execution": {
     "iopub.execute_input": "2021-01-25T01:37:01.975714Z",
     "iopub.status.busy": "2021-01-25T01:37:01.975714Z",
     "iopub.status.idle": "2021-01-25T01:37:01.987711Z",
     "shell.execute_reply": "2021-01-25T01:37:01.986712Z",
     "shell.execute_reply.started": "2021-01-25T01:37:01.975714Z"
    }
   },
   "outputs": [
    {
     "data": {
      "text/plain": [
       "[[3, 9, 10, 1, 11, 12, 13, 5, 1, 14, 6, 1, 15],\n",
       " [3, 16, 17, 18, 19, 20, 21, 1, 22, 23, 1, 24, 25],\n",
       " [26, 27, 7, 28],\n",
       " [29, 30, 4, 31],\n",
       " [32, 33, 34, 35, 4, 36],\n",
       " [37, 38, 39, 5, 40],\n",
       " [41, 42, 3, 43, 8, 2, 7, 44],\n",
       " [45, 46, 2, 47],\n",
       " [48, 2, 49],\n",
       " [50, 2, 1, 51],\n",
       " [52, 53, 54, 2, 55],\n",
       " [56, 57, 6, 58, 3, 59],\n",
       " [60, 61, 62, 4, 63, 8, 1, 64, 65]]"
      ]
     },
     "execution_count": 7,
     "metadata": {},
     "output_type": "execute_result"
    }
   ],
   "source": [
    "sequnces = tokenizer.texts_to_sequences(texts)\n",
    "sequnces"
   ]
  },
  {
   "cell_type": "markdown",
   "metadata": {},
   "source": [
    "# Skip gram\n",
    "\n",
    "สร้าง window ขนาด `window_size` ครอบพื้นที่ก่อน/หลังคำ (รวมคำตัวเอง)\n",
    "\n",
    "\n",
    "```txt\n",
    "window = 3\n",
    "[2, 1, w], [w, 1, 2]\n",
    "```"
   ]
  },
  {
   "cell_type": "code",
   "execution_count": 8,
   "metadata": {
    "execution": {
     "iopub.execute_input": "2021-01-25T01:37:01.991711Z",
     "iopub.status.busy": "2021-01-25T01:37:01.990711Z",
     "iopub.status.idle": "2021-01-25T01:37:01.995718Z",
     "shell.execute_reply": "2021-01-25T01:37:01.994712Z",
     "shell.execute_reply.started": "2021-01-25T01:37:01.991711Z"
    }
   },
   "outputs": [],
   "source": [
    "window_size = 3"
   ]
  },
  {
   "cell_type": "code",
   "execution_count": 9,
   "metadata": {
    "execution": {
     "iopub.execute_input": "2021-01-25T01:37:01.999712Z",
     "iopub.status.busy": "2021-01-25T01:37:01.999712Z",
     "iopub.status.idle": "2021-01-25T01:37:02.008711Z",
     "shell.execute_reply": "2021-01-25T01:37:02.007712Z",
     "shell.execute_reply.started": "2021-01-25T01:37:01.999712Z"
    }
   },
   "outputs": [],
   "source": [
    "data = []\n",
    "\n",
    "for seq in sequnces:\n",
    "    # current word index\n",
    "    for i in range(len(seq)):\n",
    "        # pairing current word and another nearby word in window range\n",
    "        for near_word_index in range(\n",
    "            max(i-window_size, 0), min(len(seq), i+window_size)\n",
    "        ):\n",
    "            if near_word_index != i:\n",
    "                data.append([seq[i], seq[near_word_index]])\n",
    "            "
   ]
  },
  {
   "cell_type": "code",
   "execution_count": 10,
   "metadata": {
    "execution": {
     "iopub.execute_input": "2021-01-25T01:37:02.010712Z",
     "iopub.status.busy": "2021-01-25T01:37:02.009711Z",
     "iopub.status.idle": "2021-01-25T01:37:02.020714Z",
     "shell.execute_reply": "2021-01-25T01:37:02.019715Z",
     "shell.execute_reply.started": "2021-01-25T01:37:02.010712Z"
    }
   },
   "outputs": [
    {
     "data": {
      "text/plain": [
       "[[3, 9],\n",
       " [3, 10],\n",
       " [9, 3],\n",
       " [9, 10],\n",
       " [9, 1],\n",
       " [10, 3],\n",
       " [10, 9],\n",
       " [10, 1],\n",
       " [10, 11],\n",
       " [1, 3]]"
      ]
     },
     "execution_count": 10,
     "metadata": {},
     "output_type": "execute_result"
    }
   ],
   "source": [
    "data[:10]"
   ]
  },
  {
   "cell_type": "markdown",
   "metadata": {},
   "source": [
    "# Encode Data"
   ]
  },
  {
   "cell_type": "code",
   "execution_count": 11,
   "metadata": {
    "execution": {
     "iopub.execute_input": "2021-01-25T01:37:02.022715Z",
     "iopub.status.busy": "2021-01-25T01:37:02.022715Z",
     "iopub.status.idle": "2021-01-25T01:37:02.027711Z",
     "shell.execute_reply": "2021-01-25T01:37:02.026712Z",
     "shell.execute_reply.started": "2021-01-25T01:37:02.022715Z"
    }
   },
   "outputs": [],
   "source": [
    "def one_hot(ind, vocab_size):\n",
    "    one_hot_encoded = np.zeros(vocab_size)\n",
    "    one_hot_encoded[ind-1] = 1\n",
    "    return one_hot_encoded\n",
    "\n",
    "def one_hot_to_word_index(onehot):\n",
    "    return np.argmax(onehot) + 1"
   ]
  },
  {
   "cell_type": "code",
   "execution_count": 12,
   "metadata": {
    "execution": {
     "iopub.execute_input": "2021-01-25T01:37:02.031712Z",
     "iopub.status.busy": "2021-01-25T01:37:02.029712Z",
     "iopub.status.idle": "2021-01-25T01:37:02.038713Z",
     "shell.execute_reply": "2021-01-25T01:37:02.037714Z",
     "shell.execute_reply.started": "2021-01-25T01:37:02.031712Z"
    }
   },
   "outputs": [],
   "source": [
    "x_train = []\n",
    "y_train = []\n",
    "\n",
    "for pair in data:\n",
    "    x_train.append(one_hot(pair[0], vocab_size))\n",
    "    y_train.append(one_hot(pair[1], vocab_size))    "
   ]
  },
  {
   "cell_type": "code",
   "execution_count": 13,
   "metadata": {
    "execution": {
     "iopub.execute_input": "2021-01-25T01:37:02.040714Z",
     "iopub.status.busy": "2021-01-25T01:37:02.039711Z",
     "iopub.status.idle": "2021-01-25T01:37:02.047711Z",
     "shell.execute_reply": "2021-01-25T01:37:02.045713Z",
     "shell.execute_reply.started": "2021-01-25T01:37:02.040714Z"
    }
   },
   "outputs": [],
   "source": [
    "x_train = np.array(x_train)\n",
    "y_train = np.array(y_train)"
   ]
  },
  {
   "cell_type": "code",
   "execution_count": 14,
   "metadata": {
    "execution": {
     "iopub.execute_input": "2021-01-25T01:37:02.050714Z",
     "iopub.status.busy": "2021-01-25T01:37:02.049716Z",
     "iopub.status.idle": "2021-01-25T01:37:02.058713Z",
     "shell.execute_reply": "2021-01-25T01:37:02.057712Z",
     "shell.execute_reply.started": "2021-01-25T01:37:02.050714Z"
    }
   },
   "outputs": [
    {
     "data": {
      "text/plain": [
       "((303, 65), (303, 65))"
      ]
     },
     "execution_count": 14,
     "metadata": {},
     "output_type": "execute_result"
    }
   ],
   "source": [
    "x_train.shape, y_train.shape"
   ]
  },
  {
   "cell_type": "code",
   "execution_count": 15,
   "metadata": {
    "execution": {
     "iopub.execute_input": "2021-01-25T01:37:02.060713Z",
     "iopub.status.busy": "2021-01-25T01:37:02.059714Z",
     "iopub.status.idle": "2021-01-25T01:37:02.068712Z",
     "shell.execute_reply": "2021-01-25T01:37:02.067713Z",
     "shell.execute_reply.started": "2021-01-25T01:37:02.060713Z"
    }
   },
   "outputs": [
    {
     "data": {
      "text/plain": [
       "array([[0., 0., 1., ..., 0., 0., 0.],\n",
       "       [0., 0., 1., ..., 0., 0., 0.],\n",
       "       [0., 0., 0., ..., 0., 0., 0.],\n",
       "       ...,\n",
       "       [0., 0., 0., ..., 0., 0., 1.],\n",
       "       [0., 0., 0., ..., 0., 0., 1.],\n",
       "       [0., 0., 0., ..., 0., 0., 1.]])"
      ]
     },
     "execution_count": 15,
     "metadata": {},
     "output_type": "execute_result"
    }
   ],
   "source": [
    "x_train"
   ]
  },
  {
   "cell_type": "markdown",
   "metadata": {},
   "source": [
    "# Model"
   ]
  },
  {
   "cell_type": "code",
   "execution_count": 16,
   "metadata": {
    "execution": {
     "iopub.execute_input": "2021-01-25T01:37:02.070713Z",
     "iopub.status.busy": "2021-01-25T01:37:02.069714Z",
     "iopub.status.idle": "2021-01-25T01:37:02.076711Z",
     "shell.execute_reply": "2021-01-25T01:37:02.075709Z",
     "shell.execute_reply.started": "2021-01-25T01:37:02.070713Z"
    }
   },
   "outputs": [],
   "source": [
    "embedding_dims = 8"
   ]
  },
  {
   "cell_type": "code",
   "execution_count": 17,
   "metadata": {
    "execution": {
     "iopub.execute_input": "2021-01-25T01:37:02.078711Z",
     "iopub.status.busy": "2021-01-25T01:37:02.077713Z",
     "iopub.status.idle": "2021-01-25T01:37:09.973242Z",
     "shell.execute_reply": "2021-01-25T01:37:09.972244Z",
     "shell.execute_reply.started": "2021-01-25T01:37:02.077713Z"
    }
   },
   "outputs": [],
   "source": [
    "model = tf.keras.models.Sequential()\n",
    "\n",
    "# 2 hidden layers nn: 1.encoder  - 2. output\n",
    "model.add(tf.keras.layers.Dense(embedding_dims, activation='relu', input_shape=(vocab_size,)))\n",
    "model.add(tf.keras.layers.Dropout(0.1))\n",
    "model.add(tf.keras.layers.Dense(vocab_size, activation='softmax'))"
   ]
  },
  {
   "cell_type": "code",
   "execution_count": 18,
   "metadata": {
    "execution": {
     "iopub.execute_input": "2021-01-25T01:37:09.975243Z",
     "iopub.status.busy": "2021-01-25T01:37:09.975243Z",
     "iopub.status.idle": "2021-01-25T01:37:10.003245Z",
     "shell.execute_reply": "2021-01-25T01:37:10.001245Z",
     "shell.execute_reply.started": "2021-01-25T01:37:09.975243Z"
    }
   },
   "outputs": [],
   "source": [
    "optimizer = tf.keras.optimizers.Adam(lr=0.01)\n",
    "model.compile(optimizer=optimizer, loss='categorical_crossentropy', metrics=['accuracy'])"
   ]
  },
  {
   "cell_type": "code",
   "execution_count": 19,
   "metadata": {
    "execution": {
     "iopub.execute_input": "2021-01-25T01:37:10.012252Z",
     "iopub.status.busy": "2021-01-25T01:37:10.010242Z",
     "iopub.status.idle": "2021-01-25T01:37:10.023244Z",
     "shell.execute_reply": "2021-01-25T01:37:10.022244Z",
     "shell.execute_reply.started": "2021-01-25T01:37:10.012252Z"
    }
   },
   "outputs": [
    {
     "name": "stdout",
     "output_type": "stream",
     "text": [
      "Model: \"sequential\"\n",
      "_________________________________________________________________\n",
      "Layer (type)                 Output Shape              Param #   \n",
      "=================================================================\n",
      "dense (Dense)                (None, 8)                 528       \n",
      "_________________________________________________________________\n",
      "dropout (Dropout)            (None, 8)                 0         \n",
      "_________________________________________________________________\n",
      "dense_1 (Dense)              (None, 65)                585       \n",
      "=================================================================\n",
      "Total params: 1,113\n",
      "Trainable params: 1,113\n",
      "Non-trainable params: 0\n",
      "_________________________________________________________________\n"
     ]
    }
   ],
   "source": [
    "model.summary()"
   ]
  },
  {
   "cell_type": "markdown",
   "metadata": {},
   "source": [
    "## Embedding layer weight shape\n",
    "\n",
    "= embedding_dims * num_words .... bias(embedding_dims)"
   ]
  },
  {
   "cell_type": "code",
   "execution_count": 20,
   "metadata": {
    "execution": {
     "iopub.execute_input": "2021-01-25T01:37:10.025245Z",
     "iopub.status.busy": "2021-01-25T01:37:10.025245Z",
     "iopub.status.idle": "2021-01-25T01:37:10.033243Z",
     "shell.execute_reply": "2021-01-25T01:37:10.032243Z",
     "shell.execute_reply.started": "2021-01-25T01:37:10.025245Z"
    }
   },
   "outputs": [],
   "source": [
    "num_epochs = 1000"
   ]
  },
  {
   "cell_type": "code",
   "execution_count": 21,
   "metadata": {
    "execution": {
     "iopub.execute_input": "2021-01-25T01:37:10.035245Z",
     "iopub.status.busy": "2021-01-25T01:37:10.035245Z",
     "iopub.status.idle": "2021-01-25T01:37:37.428244Z",
     "shell.execute_reply": "2021-01-25T01:37:37.427244Z",
     "shell.execute_reply.started": "2021-01-25T01:37:10.035245Z"
    }
   },
   "outputs": [],
   "source": [
    "hist = model.fit(x_train, y_train, epochs=num_epochs, verbose=0)"
   ]
  },
  {
   "cell_type": "code",
   "execution_count": 22,
   "metadata": {
    "execution": {
     "iopub.execute_input": "2021-01-25T01:37:37.431244Z",
     "iopub.status.busy": "2021-01-25T01:37:37.430245Z",
     "iopub.status.idle": "2021-01-25T01:37:37.437245Z",
     "shell.execute_reply": "2021-01-25T01:37:37.436245Z",
     "shell.execute_reply.started": "2021-01-25T01:37:37.431244Z"
    }
   },
   "outputs": [],
   "source": [
    "epochs = np.arange(1, num_epochs+1)"
   ]
  },
  {
   "cell_type": "code",
   "execution_count": 23,
   "metadata": {
    "execution": {
     "iopub.execute_input": "2021-01-25T01:37:37.439247Z",
     "iopub.status.busy": "2021-01-25T01:37:37.439247Z",
     "iopub.status.idle": "2021-01-25T01:37:37.855240Z",
     "shell.execute_reply": "2021-01-25T01:37:37.855240Z",
     "shell.execute_reply.started": "2021-01-25T01:37:37.439247Z"
    }
   },
   "outputs": [
    {
     "data": {
      "image/png": "[encoded data removed]",
      "text/plain": [
       "<Figure size 1575x675 with 1 Axes>"
      ]
     },
     "metadata": {},
     "output_type": "display_data"
    }
   ],
   "source": [
    "sns.lineplot(epochs, hist.history['loss'])\n",
    "plt.show()"
   ]
  },
  {
   "cell_type": "code",
   "execution_count": 24,
   "metadata": {
    "execution": {
     "iopub.execute_input": "2021-01-25T01:37:37.857242Z",
     "iopub.status.busy": "2021-01-25T01:37:37.857242Z",
     "iopub.status.idle": "2021-01-25T01:37:37.958240Z",
     "shell.execute_reply": "2021-01-25T01:37:37.958240Z",
     "shell.execute_reply.started": "2021-01-25T01:37:37.857242Z"
    }
   },
   "outputs": [],
   "source": [
    "tf.keras.models.save_model(model, \"./outputs/my_embedding.h5\", save_format='h5')"
   ]
  },
  {
   "cell_type": "markdown",
   "metadata": {},
   "source": [
    "# Word Vector"
   ]
  },
  {
   "cell_type": "code",
   "execution_count": 25,
   "metadata": {
    "execution": {
     "iopub.execute_input": "2021-01-25T01:37:37.960241Z",
     "iopub.status.busy": "2021-01-25T01:37:37.960241Z",
     "iopub.status.idle": "2021-01-25T01:37:37.966244Z",
     "shell.execute_reply": "2021-01-25T01:37:37.966244Z",
     "shell.execute_reply.started": "2021-01-25T01:37:37.960241Z"
    }
   },
   "outputs": [],
   "source": [
    "weight_layer0 = model.layers[0].get_weights()"
   ]
  },
  {
   "cell_type": "code",
   "execution_count": 26,
   "metadata": {
    "execution": {
     "iopub.execute_input": "2021-01-25T01:37:37.970250Z",
     "iopub.status.busy": "2021-01-25T01:37:37.969242Z",
     "iopub.status.idle": "2021-01-25T01:37:37.976243Z",
     "shell.execute_reply": "2021-01-25T01:37:37.975242Z",
     "shell.execute_reply.started": "2021-01-25T01:37:37.970250Z"
    }
   },
   "outputs": [
    {
     "data": {
      "text/plain": [
       "(65, 8)"
      ]
     },
     "execution_count": 26,
     "metadata": {},
     "output_type": "execute_result"
    }
   ],
   "source": [
    "weight_layer0[0].shape"
   ]
  },
  {
   "cell_type": "code",
   "execution_count": 27,
   "metadata": {
    "execution": {
     "iopub.execute_input": "2021-01-25T01:37:37.978244Z",
     "iopub.status.busy": "2021-01-25T01:37:37.978244Z",
     "iopub.status.idle": "2021-01-25T01:37:37.985243Z",
     "shell.execute_reply": "2021-01-25T01:37:37.984242Z",
     "shell.execute_reply.started": "2021-01-25T01:37:37.978244Z"
    }
   },
   "outputs": [
    {
     "data": {
      "text/plain": [
       "(8,)"
      ]
     },
     "execution_count": 27,
     "metadata": {},
     "output_type": "execute_result"
    }
   ],
   "source": [
    "weight_layer0[1].shape"
   ]
  },
  {
   "cell_type": "code",
   "execution_count": 28,
   "metadata": {
    "execution": {
     "iopub.execute_input": "2021-01-25T01:37:37.987246Z",
     "iopub.status.busy": "2021-01-25T01:37:37.986243Z",
     "iopub.status.idle": "2021-01-25T01:37:37.992241Z",
     "shell.execute_reply": "2021-01-25T01:37:37.991242Z",
     "shell.execute_reply.started": "2021-01-25T01:37:37.987246Z"
    }
   },
   "outputs": [],
   "source": [
    "word_vectors = weight_layer0[0] + weight_layer0[1] "
   ]
  },
  {
   "cell_type": "code",
   "execution_count": 29,
   "metadata": {
    "execution": {
     "iopub.execute_input": "2021-01-25T01:37:37.994252Z",
     "iopub.status.busy": "2021-01-25T01:37:37.993242Z",
     "iopub.status.idle": "2021-01-25T01:37:38.001241Z",
     "shell.execute_reply": "2021-01-25T01:37:38.000243Z",
     "shell.execute_reply.started": "2021-01-25T01:37:37.994252Z"
    }
   },
   "outputs": [
    {
     "data": {
      "text/plain": [
       "(65, 8)"
      ]
     },
     "execution_count": 29,
     "metadata": {},
     "output_type": "execute_result"
    }
   ],
   "source": [
    "word_vectors.shape"
   ]
  },
  {
   "cell_type": "code",
   "execution_count": 30,
   "metadata": {
    "execution": {
     "iopub.execute_input": "2021-01-25T01:37:38.003245Z",
     "iopub.status.busy": "2021-01-25T01:37:38.002242Z",
     "iopub.status.idle": "2021-01-25T01:37:38.010242Z",
     "shell.execute_reply": "2021-01-25T01:37:38.009241Z",
     "shell.execute_reply.started": "2021-01-25T01:37:38.003245Z"
    }
   },
   "outputs": [
    {
     "data": {
      "text/plain": [
       "array([ 0.24090269,  0.50388175,  0.20009199, -0.2374739 , -0.21176487,\n",
       "        0.42122588, -0.13323689, -0.15874082], dtype=float32)"
      ]
     },
     "execution_count": 30,
     "metadata": {},
     "output_type": "execute_result"
    }
   ],
   "source": [
    "word_vectors[0]"
   ]
  },
  {
   "cell_type": "code",
   "execution_count": 31,
   "metadata": {
    "execution": {
     "iopub.execute_input": "2021-01-25T01:37:38.011241Z",
     "iopub.status.busy": "2021-01-25T01:37:38.011241Z",
     "iopub.status.idle": "2021-01-25T01:37:38.026242Z",
     "shell.execute_reply": "2021-01-25T01:37:38.025242Z",
     "shell.execute_reply.started": "2021-01-25T01:37:38.011241Z"
    }
   },
   "outputs": [],
   "source": [
    "vec_df = pd.DataFrame(word_vectors)\n",
    "vec_df.to_csv(\"./outputs/vecs.csv\", index=False)\n",
    "word_df = pd.DataFrame(word_index.keys())\n",
    "word_df.to_csv(\"./outputs/word_lookup.csv\", index=False)"
   ]
  },
  {
   "cell_type": "code",
   "execution_count": 32,
   "metadata": {
    "execution": {
     "iopub.execute_input": "2021-01-25T01:37:38.027242Z",
     "iopub.status.busy": "2021-01-25T01:37:38.027242Z",
     "iopub.status.idle": "2021-01-25T01:37:38.031241Z",
     "shell.execute_reply": "2021-01-25T01:37:38.030242Z",
     "shell.execute_reply.started": "2021-01-25T01:37:38.027242Z"
    }
   },
   "outputs": [],
   "source": [
    "# vec_df.to_csv(\"./outputs/vecs.tsv\", sep='\\t', index=False, header=False)\n",
    "# word_df.to_csv(\"./outputs/word_lookup.tsv\", sep='\\t', index=False, header=False)"
   ]
  },
  {
   "cell_type": "code",
   "execution_count": null,
   "metadata": {},
   "outputs": [],
   "source": []
  }
 ],
 "metadata": {
  "kernelspec": {
   "display_name": "Python 3",
   "language": "python",
   "name": "python3"
  },
  "language_info": {
   "codemirror_mode": {
    "name": "ipython",
    "version": 3
   },
   "file_extension": ".py",
   "mimetype": "text/x-python",
   "name": "python",
   "nbconvert_exporter": "python",
   "pygments_lexer": "ipython3",
   "version": "3.8.5"
  }
 },
 "nbformat": 4,
 "nbformat_minor": 4
}
