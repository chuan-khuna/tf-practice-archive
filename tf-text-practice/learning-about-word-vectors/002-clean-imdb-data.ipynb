{
 "cells": [
  {
   "cell_type": "code",
   "execution_count": 1,
   "metadata": {
    "execution": {
     "iopub.execute_input": "2021-01-24T13:49:41.225819Z",
     "iopub.status.busy": "2021-01-24T13:49:41.225819Z",
     "iopub.status.idle": "2021-01-24T13:49:44.410295Z",
     "shell.execute_reply": "2021-01-24T13:49:44.410295Z",
     "shell.execute_reply.started": "2021-01-24T13:49:41.225819Z"
    }
   },
   "outputs": [],
   "source": [
    "import numpy as np\n",
    "import pandas as pd\n",
    "\n",
    "import tensorflow as tf\n",
    "\n",
    "seed_ = 20200218\n",
    "np.random.seed(seed_)\n",
    "tf.random.set_seed(seed_)\n",
    "\n",
    "from tensorflow.keras.preprocessing.text import Tokenizer"
   ]
  },
  {
   "cell_type": "code",
   "execution_count": 2,
   "metadata": {
    "execution": {
     "iopub.execute_input": "2021-01-24T13:49:44.411287Z",
     "iopub.status.busy": "2021-01-24T13:49:44.411287Z",
     "iopub.status.idle": "2021-01-24T13:49:45.898289Z",
     "shell.execute_reply": "2021-01-24T13:49:45.897288Z",
     "shell.execute_reply.started": "2021-01-24T13:49:44.411287Z"
    }
   },
   "outputs": [],
   "source": [
    "import matplotlib.pyplot as plt\n",
    "import seaborn as sns\n",
    "\n",
    "sns.set_theme(style=\"whitegrid\",\n",
    "              context=\"paper\",\n",
    "              font_scale=1.25,\n",
    "              rc={\n",
    "                  \"figure.figsize\": (10.5, 4.5),\n",
    "                  \"figure.dpi\": 150,\n",
    "                  \"grid.alpha\": 0.1,\n",
    "                  \"grid.color\": \"#1b262c\",\n",
    "                  \"grid.linewidth\": 0.5,\n",
    "                  \"font.family\": \"Operator Mono\"\n",
    "              })\n",
    "\n",
    "_30k = [\"#202f66\", \"#ff7048\", \"#7f68d0\", \"#f3d36e\", \"#d869ab\", \"#48ADA9\", \"#1b262c\"]\n",
    "sns.set_palette(_30k)\n",
    "\n",
    "import warnings\n",
    "warnings.filterwarnings('ignore')\n",
    "\n",
    "import plotly.graph_objects as go\n",
    "import plotly.express as px\n",
    "import plotly.io as pio\n",
    "\n",
    "pio.templates.default = \"plotly_dark\"\n",
    "\n",
    "plotly_config = {\n",
    "  'toImageButtonOptions': {\n",
    "    'format': 'png', # one of png, svg, jpeg, webp\n",
    "    'filename': 'custom_image',\n",
    "    'height': 900,\n",
    "    'width': 2100,\n",
    "    'scale': 1 # Multiply title/legend/axis/canvas sizes by this factor\n",
    "  }\n",
    "}"
   ]
  },
  {
   "cell_type": "code",
   "execution_count": 3,
   "metadata": {
    "execution": {
     "iopub.execute_input": "2021-01-24T13:49:45.899291Z",
     "iopub.status.busy": "2021-01-24T13:49:45.899291Z",
     "iopub.status.idle": "2021-01-24T13:49:46.512708Z",
     "shell.execute_reply": "2021-01-24T13:49:46.512358Z",
     "shell.execute_reply.started": "2021-01-24T13:49:45.899291Z"
    }
   },
   "outputs": [],
   "source": [
    "import tensorflow_datasets as tfds"
   ]
  },
  {
   "cell_type": "code",
   "execution_count": 4,
   "metadata": {
    "execution": {
     "iopub.execute_input": "2021-01-24T13:49:46.513708Z",
     "iopub.status.busy": "2021-01-24T13:49:46.513708Z",
     "iopub.status.idle": "2021-01-24T13:49:46.891446Z",
     "shell.execute_reply": "2021-01-24T13:49:46.891446Z",
     "shell.execute_reply.started": "2021-01-24T13:49:46.513708Z"
    }
   },
   "outputs": [],
   "source": [
    "import nltk\n",
    "from nltk.corpus import stopwords\n",
    "from nltk.tokenize import word_tokenize\n",
    "from nltk.corpus import stopwords"
   ]
  },
  {
   "cell_type": "code",
   "execution_count": 5,
   "metadata": {
    "execution": {
     "iopub.execute_input": "2021-01-24T13:49:46.892447Z",
     "iopub.status.busy": "2021-01-24T13:49:46.892447Z",
     "iopub.status.idle": "2021-01-24T13:49:46.970515Z",
     "shell.execute_reply": "2021-01-24T13:49:46.970515Z",
     "shell.execute_reply.started": "2021-01-24T13:49:46.892447Z"
    }
   },
   "outputs": [],
   "source": [
    "from bs4 import BeautifulSoup"
   ]
  },
  {
   "cell_type": "markdown",
   "metadata": {},
   "source": [
    "# Load Data"
   ]
  },
  {
   "cell_type": "code",
   "execution_count": 6,
   "metadata": {
    "execution": {
     "iopub.execute_input": "2021-01-24T13:49:46.971507Z",
     "iopub.status.busy": "2021-01-24T13:49:46.971507Z",
     "iopub.status.idle": "2021-01-24T13:49:47.741748Z",
     "shell.execute_reply": "2021-01-24T13:49:47.741748Z",
     "shell.execute_reply.started": "2021-01-24T13:49:46.971507Z"
    }
   },
   "outputs": [],
   "source": [
    "imdb, info = tfds.load(\"imdb_reviews\", with_info=True, as_supervised=True)"
   ]
  },
  {
   "cell_type": "code",
   "execution_count": 7,
   "metadata": {
    "execution": {
     "iopub.execute_input": "2021-01-24T13:49:47.742757Z",
     "iopub.status.busy": "2021-01-24T13:49:47.742757Z",
     "iopub.status.idle": "2021-01-24T13:49:47.756755Z",
     "shell.execute_reply": "2021-01-24T13:49:47.756755Z",
     "shell.execute_reply.started": "2021-01-24T13:49:47.742757Z"
    }
   },
   "outputs": [
    {
     "data": {
      "text/plain": [
       "{'train': <PrefetchDataset shapes: ((), ()), types: (tf.string, tf.int64)>,\n",
       " 'test': <PrefetchDataset shapes: ((), ()), types: (tf.string, tf.int64)>,\n",
       " 'unsupervised': <PrefetchDataset shapes: ((), ()), types: (tf.string, tf.int64)>}"
      ]
     },
     "execution_count": 7,
     "metadata": {},
     "output_type": "execute_result"
    }
   ],
   "source": [
    "imdb"
   ]
  },
  {
   "cell_type": "code",
   "execution_count": 8,
   "metadata": {
    "execution": {
     "iopub.execute_input": "2021-01-24T13:49:47.758758Z",
     "iopub.status.busy": "2021-01-24T13:49:47.758758Z",
     "iopub.status.idle": "2021-01-24T13:49:47.771768Z",
     "shell.execute_reply": "2021-01-24T13:49:47.771768Z",
     "shell.execute_reply.started": "2021-01-24T13:49:47.758758Z"
    }
   },
   "outputs": [
    {
     "data": {
      "text/plain": [
       "tfds.core.DatasetInfo(\n",
       "    name='imdb_reviews',\n",
       "    full_name='imdb_reviews/plain_text/1.0.0',\n",
       "    description=\"\"\"\n",
       "    Large Movie Review Dataset.\n",
       "    This is a dataset for binary sentiment classification containing substantially more data than previous benchmark datasets. We provide a set of 25,000 highly polar movie reviews for training, and 25,000 for testing. There is additional unlabeled data for use as well.\n",
       "    \"\"\",\n",
       "    config_description=\"\"\"\n",
       "    Plain text\n",
       "    \"\"\",\n",
       "    homepage='http://ai.stanford.edu/~amaas/data/sentiment/',\n",
       "    data_path='C:\\\\Users\\\\Chuan\\\\tensorflow_datasets\\\\imdb_reviews\\\\plain_text\\\\1.0.0',\n",
       "    download_size=80.23 MiB,\n",
       "    dataset_size=129.83 MiB,\n",
       "    features=FeaturesDict({\n",
       "        'label': ClassLabel(shape=(), dtype=tf.int64, num_classes=2),\n",
       "        'text': Text(shape=(), dtype=tf.string),\n",
       "    }),\n",
       "    supervised_keys=('text', 'label'),\n",
       "    splits={\n",
       "        'test': <SplitInfo num_examples=25000, num_shards=1>,\n",
       "        'train': <SplitInfo num_examples=25000, num_shards=1>,\n",
       "        'unsupervised': <SplitInfo num_examples=50000, num_shards=1>,\n",
       "    },\n",
       "    citation=\"\"\"@InProceedings{maas-EtAl:2011:ACL-HLT2011,\n",
       "      author    = {Maas, Andrew L.  and  Daly, Raymond E.  and  Pham, Peter T.  and  Huang, Dan  and  Ng, Andrew Y.  and  Potts, Christopher},\n",
       "      title     = {Learning Word Vectors for Sentiment Analysis},\n",
       "      booktitle = {Proceedings of the 49th Annual Meeting of the Association for Computational Linguistics: Human Language Technologies},\n",
       "      month     = {June},\n",
       "      year      = {2011},\n",
       "      address   = {Portland, Oregon, USA},\n",
       "      publisher = {Association for Computational Linguistics},\n",
       "      pages     = {142--150},\n",
       "      url       = {http://www.aclweb.org/anthology/P11-1015}\n",
       "    }\"\"\",\n",
       ")"
      ]
     },
     "execution_count": 8,
     "metadata": {},
     "output_type": "execute_result"
    }
   ],
   "source": [
    "info"
   ]
  },
  {
   "cell_type": "code",
   "execution_count": 9,
   "metadata": {
    "execution": {
     "iopub.execute_input": "2021-01-24T13:49:47.773768Z",
     "iopub.status.busy": "2021-01-24T13:49:47.773768Z",
     "iopub.status.idle": "2021-01-24T13:49:52.960929Z",
     "shell.execute_reply": "2021-01-24T13:49:52.959928Z",
     "shell.execute_reply.started": "2021-01-24T13:49:47.773768Z"
    }
   },
   "outputs": [],
   "source": [
    "train_sentences = []\n",
    "train_labels = []\n",
    "\n",
    "test_sentences = []\n",
    "test_labels = []\n",
    "\n",
    "for sentence, label in imdb['train']:\n",
    "        train_sentences.append(str(sentence.numpy(), encoding='utf-8'))\n",
    "        train_labels.append(label.numpy())\n",
    "        \n",
    "for sentence, label in imdb['test']:\n",
    "        test_sentences.append(str(sentence.numpy(), encoding='utf-8'))\n",
    "        test_labels.append(label.numpy())"
   ]
  },
  {
   "cell_type": "code",
   "execution_count": 10,
   "metadata": {
    "execution": {
     "iopub.execute_input": "2021-01-24T13:49:52.961928Z",
     "iopub.status.busy": "2021-01-24T13:49:52.960929Z",
     "iopub.status.idle": "2021-01-24T13:49:53.006939Z",
     "shell.execute_reply": "2021-01-24T13:49:53.006939Z",
     "shell.execute_reply.started": "2021-01-24T13:49:52.961928Z"
    }
   },
   "outputs": [],
   "source": [
    "df = pd.DataFrame({\n",
    "    \"sentence\": train_sentences+test_sentences, \n",
    "    \"label\": train_labels+test_labels\n",
    "})"
   ]
  },
  {
   "cell_type": "code",
   "execution_count": 11,
   "metadata": {
    "execution": {
     "iopub.execute_input": "2021-01-24T13:49:53.007939Z",
     "iopub.status.busy": "2021-01-24T13:49:53.007939Z",
     "iopub.status.idle": "2021-01-24T13:49:53.022944Z",
     "shell.execute_reply": "2021-01-24T13:49:53.022944Z",
     "shell.execute_reply.started": "2021-01-24T13:49:53.007939Z"
    }
   },
   "outputs": [
    {
     "data": {
      "text/html": [
       "<div>\n",
       "<style scoped>\n",
       "    .dataframe tbody tr th:only-of-type {\n",
       "        vertical-align: middle;\n",
       "    }\n",
       "\n",
       "    .dataframe tbody tr th {\n",
       "        vertical-align: top;\n",
       "    }\n",
       "\n",
       "    .dataframe thead th {\n",
       "        text-align: right;\n",
       "    }\n",
       "</style>\n",
       "<table border=\"1\" class=\"dataframe\">\n",
       "  <thead>\n",
       "    <tr style=\"text-align: right;\">\n",
       "      <th></th>\n",
       "      <th>sentence</th>\n",
       "      <th>label</th>\n",
       "    </tr>\n",
       "  </thead>\n",
       "  <tbody>\n",
       "    <tr>\n",
       "      <th>0</th>\n",
       "      <td>This was an absolutely terrible movie. Don't b...</td>\n",
       "      <td>0</td>\n",
       "    </tr>\n",
       "    <tr>\n",
       "      <th>1</th>\n",
       "      <td>I have been known to fall asleep during films,...</td>\n",
       "      <td>0</td>\n",
       "    </tr>\n",
       "    <tr>\n",
       "      <th>2</th>\n",
       "      <td>Mann photographs the Alberta Rocky Mountains i...</td>\n",
       "      <td>0</td>\n",
       "    </tr>\n",
       "    <tr>\n",
       "      <th>3</th>\n",
       "      <td>This is the kind of film for a snowy Sunday af...</td>\n",
       "      <td>1</td>\n",
       "    </tr>\n",
       "    <tr>\n",
       "      <th>4</th>\n",
       "      <td>As others have mentioned, all the women that g...</td>\n",
       "      <td>1</td>\n",
       "    </tr>\n",
       "  </tbody>\n",
       "</table>\n",
       "</div>"
      ],
      "text/plain": [
       "                                            sentence  label\n",
       "0  This was an absolutely terrible movie. Don't b...      0\n",
       "1  I have been known to fall asleep during films,...      0\n",
       "2  Mann photographs the Alberta Rocky Mountains i...      0\n",
       "3  This is the kind of film for a snowy Sunday af...      1\n",
       "4  As others have mentioned, all the women that g...      1"
      ]
     },
     "execution_count": 11,
     "metadata": {},
     "output_type": "execute_result"
    }
   ],
   "source": [
    "df.head()"
   ]
  },
  {
   "cell_type": "code",
   "execution_count": 12,
   "metadata": {
    "execution": {
     "iopub.execute_input": "2021-01-24T13:49:53.023943Z",
     "iopub.status.busy": "2021-01-24T13:49:53.023943Z",
     "iopub.status.idle": "2021-01-24T13:49:53.055951Z",
     "shell.execute_reply": "2021-01-24T13:49:53.054951Z",
     "shell.execute_reply.started": "2021-01-24T13:49:53.023943Z"
    }
   },
   "outputs": [
    {
     "name": "stdout",
     "output_type": "stream",
     "text": [
      "<class 'pandas.core.frame.DataFrame'>\n",
      "RangeIndex: 50000 entries, 0 to 49999\n",
      "Data columns (total 2 columns):\n",
      " #   Column    Non-Null Count  Dtype \n",
      "---  ------    --------------  ----- \n",
      " 0   sentence  50000 non-null  object\n",
      " 1   label     50000 non-null  int64 \n",
      "dtypes: int64(1), object(1)\n",
      "memory usage: 781.4+ KB\n"
     ]
    }
   ],
   "source": [
    "df.info()"
   ]
  },
  {
   "cell_type": "code",
   "execution_count": 13,
   "metadata": {
    "execution": {
     "iopub.execute_input": "2021-01-24T13:49:53.056951Z",
     "iopub.status.busy": "2021-01-24T13:49:53.056951Z",
     "iopub.status.idle": "2021-01-24T13:49:53.071955Z",
     "shell.execute_reply": "2021-01-24T13:49:53.070954Z",
     "shell.execute_reply.started": "2021-01-24T13:49:53.056951Z"
    }
   },
   "outputs": [],
   "source": [
    "del train_labels\n",
    "del test_labels\n",
    "del test_sentences\n",
    "del train_sentences"
   ]
  },
  {
   "cell_type": "markdown",
   "metadata": {},
   "source": [
    "# Prepare Data For Train Word Embedding"
   ]
  },
  {
   "cell_type": "code",
   "execution_count": 14,
   "metadata": {
    "execution": {
     "iopub.execute_input": "2021-01-24T13:49:53.072953Z",
     "iopub.status.busy": "2021-01-24T13:49:53.072953Z",
     "iopub.status.idle": "2021-01-24T13:49:53.103961Z",
     "shell.execute_reply": "2021-01-24T13:49:53.102961Z",
     "shell.execute_reply.started": "2021-01-24T13:49:53.072953Z"
    }
   },
   "outputs": [
    {
     "data": {
      "text/plain": [
       "[\"This was an absolutely terrible movie. Don't be lured in by Christopher Walken or Michael Ironside. Both are great actors, but this must simply be their worst role in history. Even their great acting could not redeem this movie's ridiculous storyline. This movie is an early nineties US propaganda piece. The most pathetic scenes were those when the Columbian rebels were making their cases for revolutions. Maria Conchita Alonso appeared phony, and her pseudo-love affair with Walken was nothing but a pathetic emotional plug in a movie that was devoid of any real meaning. I am disappointed that there are movies like this, ruining actor's like Christopher Walken's good name. I could barely sit through it.\",\n",
       " 'I have been known to fall asleep during films, but this is usually due to a combination of things including, really tired, being warm and comfortable on the sette and having just eaten a lot. However on this occasion I fell asleep because the film was rubbish. The plot development was constant. Constantly slow and boring. Things seemed to happen, but with no explanation of what was causing them or why. I admit, I may have missed part of the film, but i watched the majority of it and everything just seemed to happen of its own accord without any real concern for anything else. I cant recommend this film at all.',\n",
       " 'Mann photographs the Alberta Rocky Mountains in a superb fashion, and Jimmy Stewart and Walter Brennan give enjoyable performances as they always seem to do. <br /><br />But come on Hollywood - a Mountie telling the people of Dawson City, Yukon to elect themselves a marshal (yes a marshal!) and to enforce the law themselves, then gunfighters battling it out on the streets for control of the town? <br /><br />Nothing even remotely resembling that happened on the Canadian side of the border during the Klondike gold rush. Mr. Mann and company appear to have mistaken Dawson City for Deadwood, the Canadian North for the American Wild West.<br /><br />Canadian viewers be prepared for a Reefer Madness type of enjoyable howl with this ludicrous plot, or, to shake your head in disgust.']"
      ]
     },
     "execution_count": 14,
     "metadata": {},
     "output_type": "execute_result"
    }
   ],
   "source": [
    "list(df['sentence'])[:3]"
   ]
  },
  {
   "cell_type": "markdown",
   "metadata": {},
   "source": [
    "> ลองดูข้อมูลแบบเร็วๆ พบว่ามี html ปนมา ... ต้อง clean ก่อน"
   ]
  },
  {
   "cell_type": "markdown",
   "metadata": {},
   "source": [
    "## Clean HTML"
   ]
  },
  {
   "cell_type": "code",
   "execution_count": 15,
   "metadata": {
    "execution": {
     "iopub.execute_input": "2021-01-24T13:49:53.104961Z",
     "iopub.status.busy": "2021-01-24T13:49:53.104961Z",
     "iopub.status.idle": "2021-01-24T13:49:53.119966Z",
     "shell.execute_reply": "2021-01-24T13:49:53.118965Z",
     "shell.execute_reply.started": "2021-01-24T13:49:53.104961Z"
    }
   },
   "outputs": [],
   "source": [
    "def clean_html(text):\n",
    "    soup = BeautifulSoup(text)\n",
    "    return soup.text"
   ]
  },
  {
   "cell_type": "code",
   "execution_count": 16,
   "metadata": {
    "execution": {
     "iopub.execute_input": "2021-01-24T13:49:53.120966Z",
     "iopub.status.busy": "2021-01-24T13:49:53.120966Z",
     "iopub.status.idle": "2021-01-24T13:50:05.855854Z",
     "shell.execute_reply": "2021-01-24T13:50:05.855854Z",
     "shell.execute_reply.started": "2021-01-24T13:49:53.120966Z"
    }
   },
   "outputs": [],
   "source": [
    "df['sentence'] = df['sentence'].apply(clean_html)"
   ]
  },
  {
   "cell_type": "code",
   "execution_count": 17,
   "metadata": {
    "execution": {
     "iopub.execute_input": "2021-01-24T13:50:05.856854Z",
     "iopub.status.busy": "2021-01-24T13:50:05.856854Z",
     "iopub.status.idle": "2021-01-24T13:50:05.871848Z",
     "shell.execute_reply": "2021-01-24T13:50:05.871848Z",
     "shell.execute_reply.started": "2021-01-24T13:50:05.856854Z"
    }
   },
   "outputs": [
    {
     "data": {
      "text/plain": [
       "[\"This was an absolutely terrible movie. Don't be lured in by Christopher Walken or Michael Ironside. Both are great actors, but this must simply be their worst role in history. Even their great acting could not redeem this movie's ridiculous storyline. This movie is an early nineties US propaganda piece. The most pathetic scenes were those when the Columbian rebels were making their cases for revolutions. Maria Conchita Alonso appeared phony, and her pseudo-love affair with Walken was nothing but a pathetic emotional plug in a movie that was devoid of any real meaning. I am disappointed that there are movies like this, ruining actor's like Christopher Walken's good name. I could barely sit through it.\",\n",
       " 'I have been known to fall asleep during films, but this is usually due to a combination of things including, really tired, being warm and comfortable on the sette and having just eaten a lot. However on this occasion I fell asleep because the film was rubbish. The plot development was constant. Constantly slow and boring. Things seemed to happen, but with no explanation of what was causing them or why. I admit, I may have missed part of the film, but i watched the majority of it and everything just seemed to happen of its own accord without any real concern for anything else. I cant recommend this film at all.',\n",
       " 'Mann photographs the Alberta Rocky Mountains in a superb fashion, and Jimmy Stewart and Walter Brennan give enjoyable performances as they always seem to do. But come on Hollywood - a Mountie telling the people of Dawson City, Yukon to elect themselves a marshal (yes a marshal!) and to enforce the law themselves, then gunfighters battling it out on the streets for control of the town? Nothing even remotely resembling that happened on the Canadian side of the border during the Klondike gold rush. Mr. Mann and company appear to have mistaken Dawson City for Deadwood, the Canadian North for the American Wild West.Canadian viewers be prepared for a Reefer Madness type of enjoyable howl with this ludicrous plot, or, to shake your head in disgust.']"
      ]
     },
     "execution_count": 17,
     "metadata": {},
     "output_type": "execute_result"
    }
   ],
   "source": [
    "list(df['sentence'])[:3]"
   ]
  },
  {
   "cell_type": "markdown",
   "metadata": {},
   "source": [
    "## Tokenize and Remove stopword"
   ]
  },
  {
   "cell_type": "code",
   "execution_count": 18,
   "metadata": {
    "execution": {
     "iopub.execute_input": "2021-01-24T13:50:05.872849Z",
     "iopub.status.busy": "2021-01-24T13:50:05.872849Z",
     "iopub.status.idle": "2021-01-24T13:50:05.902864Z",
     "shell.execute_reply": "2021-01-24T13:50:05.902864Z",
     "shell.execute_reply.started": "2021-01-24T13:50:05.872849Z"
    }
   },
   "outputs": [
    {
     "data": {
      "text/plain": [
       "['a', 'about', 'above', 'after', 'again', 'against', 'ain', 'all', 'am', 'an']"
      ]
     },
     "execution_count": 18,
     "metadata": {},
     "output_type": "execute_result"
    }
   ],
   "source": [
    "# load stop word\n",
    "stop_words = stopwords.words('english')\n",
    "\n",
    "sorted(stop_words)[:10]"
   ]
  },
  {
   "cell_type": "code",
   "execution_count": 19,
   "metadata": {
    "execution": {
     "iopub.execute_input": "2021-01-24T13:50:05.903855Z",
     "iopub.status.busy": "2021-01-24T13:50:05.903855Z",
     "iopub.status.idle": "2021-01-24T13:51:49.913420Z",
     "shell.execute_reply": "2021-01-24T13:51:49.913420Z",
     "shell.execute_reply.started": "2021-01-24T13:50:05.903855Z"
    }
   },
   "outputs": [],
   "source": [
    "sentences = []\n",
    "for sentence in df['sentence']:\n",
    "    tokenized_sentence = nltk.word_tokenize(sentence.lower())\n",
    "    tokenized_sentence = [word for word in tokenized_sentence if word not in stop_words]\n",
    "    tokenized_sentence = [word for word in tokenized_sentence if word.isalpha()]\n",
    "    sentences.append(tokenized_sentence)"
   ]
  },
  {
   "cell_type": "code",
   "execution_count": 20,
   "metadata": {
    "execution": {
     "iopub.execute_input": "2021-01-24T13:51:49.914421Z",
     "iopub.status.busy": "2021-01-24T13:51:49.914421Z",
     "iopub.status.idle": "2021-01-24T13:51:49.929425Z",
     "shell.execute_reply": "2021-01-24T13:51:49.928424Z",
     "shell.execute_reply.started": "2021-01-24T13:51:49.914421Z"
    }
   },
   "outputs": [
    {
     "data": {
      "text/plain": [
       "[['absolutely',\n",
       "  'terrible',\n",
       "  'movie',\n",
       "  'lured',\n",
       "  'christopher',\n",
       "  'walken',\n",
       "  'michael',\n",
       "  'ironside',\n",
       "  'great',\n",
       "  'actors',\n",
       "  'must',\n",
       "  'simply',\n",
       "  'worst',\n",
       "  'role',\n",
       "  'history',\n",
       "  'even',\n",
       "  'great',\n",
       "  'acting',\n",
       "  'could',\n",
       "  'redeem',\n",
       "  'movie',\n",
       "  'ridiculous',\n",
       "  'storyline',\n",
       "  'movie',\n",
       "  'early',\n",
       "  'nineties',\n",
       "  'us',\n",
       "  'propaganda',\n",
       "  'piece',\n",
       "  'pathetic',\n",
       "  'scenes',\n",
       "  'columbian',\n",
       "  'rebels',\n",
       "  'making',\n",
       "  'cases',\n",
       "  'revolutions',\n",
       "  'maria',\n",
       "  'conchita',\n",
       "  'alonso',\n",
       "  'appeared',\n",
       "  'phony',\n",
       "  'affair',\n",
       "  'walken',\n",
       "  'nothing',\n",
       "  'pathetic',\n",
       "  'emotional',\n",
       "  'plug',\n",
       "  'movie',\n",
       "  'devoid',\n",
       "  'real',\n",
       "  'meaning',\n",
       "  'disappointed',\n",
       "  'movies',\n",
       "  'like',\n",
       "  'ruining',\n",
       "  'actor',\n",
       "  'like',\n",
       "  'christopher',\n",
       "  'walken',\n",
       "  'good',\n",
       "  'name',\n",
       "  'could',\n",
       "  'barely',\n",
       "  'sit'],\n",
       " ['known',\n",
       "  'fall',\n",
       "  'asleep',\n",
       "  'films',\n",
       "  'usually',\n",
       "  'due',\n",
       "  'combination',\n",
       "  'things',\n",
       "  'including',\n",
       "  'really',\n",
       "  'tired',\n",
       "  'warm',\n",
       "  'comfortable',\n",
       "  'sette',\n",
       "  'eaten',\n",
       "  'lot',\n",
       "  'however',\n",
       "  'occasion',\n",
       "  'fell',\n",
       "  'asleep',\n",
       "  'film',\n",
       "  'rubbish',\n",
       "  'plot',\n",
       "  'development',\n",
       "  'constant',\n",
       "  'constantly',\n",
       "  'slow',\n",
       "  'boring',\n",
       "  'things',\n",
       "  'seemed',\n",
       "  'happen',\n",
       "  'explanation',\n",
       "  'causing',\n",
       "  'admit',\n",
       "  'may',\n",
       "  'missed',\n",
       "  'part',\n",
       "  'film',\n",
       "  'watched',\n",
       "  'majority',\n",
       "  'everything',\n",
       "  'seemed',\n",
       "  'happen',\n",
       "  'accord',\n",
       "  'without',\n",
       "  'real',\n",
       "  'concern',\n",
       "  'anything',\n",
       "  'else',\n",
       "  'cant',\n",
       "  'recommend',\n",
       "  'film'],\n",
       " ['mann',\n",
       "  'photographs',\n",
       "  'alberta',\n",
       "  'rocky',\n",
       "  'mountains',\n",
       "  'superb',\n",
       "  'fashion',\n",
       "  'jimmy',\n",
       "  'stewart',\n",
       "  'walter',\n",
       "  'brennan',\n",
       "  'give',\n",
       "  'enjoyable',\n",
       "  'performances',\n",
       "  'always',\n",
       "  'seem',\n",
       "  'come',\n",
       "  'hollywood',\n",
       "  'mountie',\n",
       "  'telling',\n",
       "  'people',\n",
       "  'dawson',\n",
       "  'city',\n",
       "  'yukon',\n",
       "  'elect',\n",
       "  'marshal',\n",
       "  'yes',\n",
       "  'marshal',\n",
       "  'enforce',\n",
       "  'law',\n",
       "  'gunfighters',\n",
       "  'battling',\n",
       "  'streets',\n",
       "  'control',\n",
       "  'town',\n",
       "  'nothing',\n",
       "  'even',\n",
       "  'remotely',\n",
       "  'resembling',\n",
       "  'happened',\n",
       "  'canadian',\n",
       "  'side',\n",
       "  'border',\n",
       "  'klondike',\n",
       "  'gold',\n",
       "  'rush',\n",
       "  'mann',\n",
       "  'company',\n",
       "  'appear',\n",
       "  'mistaken',\n",
       "  'dawson',\n",
       "  'city',\n",
       "  'deadwood',\n",
       "  'canadian',\n",
       "  'north',\n",
       "  'american',\n",
       "  'wild',\n",
       "  'viewers',\n",
       "  'prepared',\n",
       "  'reefer',\n",
       "  'madness',\n",
       "  'type',\n",
       "  'enjoyable',\n",
       "  'howl',\n",
       "  'ludicrous',\n",
       "  'plot',\n",
       "  'shake',\n",
       "  'head',\n",
       "  'disgust'],\n",
       " ['kind',\n",
       "  'film',\n",
       "  'snowy',\n",
       "  'sunday',\n",
       "  'afternoon',\n",
       "  'rest',\n",
       "  'world',\n",
       "  'go',\n",
       "  'ahead',\n",
       "  'business',\n",
       "  'descend',\n",
       "  'big',\n",
       "  'mellow',\n",
       "  'couple',\n",
       "  'hours',\n",
       "  'wonderful',\n",
       "  'performances',\n",
       "  'cher',\n",
       "  'nicolas',\n",
       "  'cage',\n",
       "  'always',\n",
       "  'gently',\n",
       "  'row',\n",
       "  'plot',\n",
       "  'along',\n",
       "  'rapids',\n",
       "  'cross',\n",
       "  'dangerous',\n",
       "  'waters',\n",
       "  'warm',\n",
       "  'witty',\n",
       "  'paddle',\n",
       "  'new',\n",
       "  'york',\n",
       "  'life',\n",
       "  'best',\n",
       "  'family',\n",
       "  'film',\n",
       "  'every',\n",
       "  'sense',\n",
       "  'one',\n",
       "  'deserves',\n",
       "  'praise',\n",
       "  'received'],\n",
       " ['others',\n",
       "  'mentioned',\n",
       "  'women',\n",
       "  'go',\n",
       "  'nude',\n",
       "  'film',\n",
       "  'mostly',\n",
       "  'absolutely',\n",
       "  'gorgeous',\n",
       "  'plot',\n",
       "  'ably',\n",
       "  'shows',\n",
       "  'hypocrisy',\n",
       "  'female',\n",
       "  'libido',\n",
       "  'men',\n",
       "  'around',\n",
       "  'want',\n",
       "  'pursued',\n",
       "  'men',\n",
       "  'around',\n",
       "  'become',\n",
       "  'pursuers',\n",
       "  'year',\n",
       "  'old',\n",
       "  'boy',\n",
       "  'boy',\n",
       "  'becomes',\n",
       "  'man',\n",
       "  'really',\n",
       "  'fast',\n",
       "  'lucky',\n",
       "  'age',\n",
       "  'gets',\n",
       "  'courage',\n",
       "  'pursue',\n",
       "  'true',\n",
       "  'love']]"
      ]
     },
     "execution_count": 20,
     "metadata": {},
     "output_type": "execute_result"
    }
   ],
   "source": [
    "sentences[:5]"
   ]
  },
  {
   "cell_type": "code",
   "execution_count": 21,
   "metadata": {
    "execution": {
     "iopub.execute_input": "2021-01-24T13:51:49.931426Z",
     "iopub.status.busy": "2021-01-24T13:51:49.931426Z",
     "iopub.status.idle": "2021-01-24T13:51:50.260498Z",
     "shell.execute_reply": "2021-01-24T13:51:50.260498Z",
     "shell.execute_reply.started": "2021-01-24T13:51:49.931426Z"
    }
   },
   "outputs": [],
   "source": [
    "with open(\"./outputs/imdb_cleaned_sentences.txt\", \"w\", encoding=\"utf-8\") as f:\n",
    "    for line in sentences:\n",
    "        f.write(' '.join(line)+'\\n')"
   ]
  },
  {
   "cell_type": "code",
   "execution_count": null,
   "metadata": {},
   "outputs": [],
   "source": []
  }
 ],
 "metadata": {
  "kernelspec": {
   "display_name": "Python 3",
   "language": "python",
   "name": "python3"
  },
  "language_info": {
   "codemirror_mode": {
    "name": "ipython",
    "version": 3
   },
   "file_extension": ".py",
   "mimetype": "text/x-python",
   "name": "python",
   "nbconvert_exporter": "python",
   "pygments_lexer": "ipython3",
   "version": "3.8.3"
  }
 },
 "nbformat": 4,
 "nbformat_minor": 4
}
