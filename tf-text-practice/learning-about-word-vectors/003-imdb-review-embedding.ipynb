{
 "cells": [
  {
   "cell_type": "code",
   "execution_count": 1,
   "metadata": {
    "execution": {
     "iopub.execute_input": "2021-01-25T02:29:58.827956Z",
     "iopub.status.busy": "2021-01-25T02:29:58.826968Z",
     "iopub.status.idle": "2021-01-25T02:30:01.795289Z",
     "shell.execute_reply": "2021-01-25T02:30:01.795289Z",
     "shell.execute_reply.started": "2021-01-25T02:29:58.827956Z"
    }
   },
   "outputs": [],
   "source": [
    "import numpy as np\n",
    "import pandas as pd\n",
    "\n",
    "import tensorflow as tf\n",
    "\n",
    "seed_ = 20200218\n",
    "np.random.seed(seed_)\n",
    "tf.random.set_seed(seed_)\n",
    "\n",
    "from tensorflow.keras.preprocessing.text import Tokenizer"
   ]
  },
  {
   "cell_type": "code",
   "execution_count": 2,
   "metadata": {
    "execution": {
     "iopub.execute_input": "2021-01-25T02:30:01.797282Z",
     "iopub.status.busy": "2021-01-25T02:30:01.797282Z",
     "iopub.status.idle": "2021-01-25T02:30:03.100279Z",
     "shell.execute_reply": "2021-01-25T02:30:03.099283Z",
     "shell.execute_reply.started": "2021-01-25T02:30:01.797282Z"
    }
   },
   "outputs": [],
   "source": [
    "import matplotlib.pyplot as plt\n",
    "import seaborn as sns\n",
    "\n",
    "sns.set_theme(style=\"whitegrid\",\n",
    "              context=\"paper\",\n",
    "              font_scale=1.25,\n",
    "              rc={\n",
    "                  \"figure.figsize\": (10.5, 4.5),\n",
    "                  \"figure.dpi\": 150,\n",
    "                  \"grid.alpha\": 0.1,\n",
    "                  \"grid.color\": \"#1b262c\",\n",
    "                  \"grid.linewidth\": 0.5,\n",
    "                  \"font.family\": \"Operator Mono\"\n",
    "              })\n",
    "\n",
    "_30k = [\"#202f66\", \"#ff7048\", \"#7f68d0\", \"#f3d36e\", \"#d869ab\", \"#48ADA9\", \"#1b262c\"]\n",
    "sns.set_palette(_30k)\n",
    "\n",
    "import warnings\n",
    "warnings.filterwarnings('ignore')\n",
    "\n",
    "import plotly.graph_objects as go\n",
    "import plotly.express as px\n",
    "import plotly.io as pio\n",
    "\n",
    "pio.templates.default = \"plotly_dark\"\n",
    "\n",
    "plotly_config = {\n",
    "  'toImageButtonOptions': {\n",
    "    'format': 'png', # one of png, svg, jpeg, webp\n",
    "    'filename': 'custom_image',\n",
    "    'height': 900,\n",
    "    'width': 2100,\n",
    "    'scale': 1 # Multiply title/legend/axis/canvas sizes by this factor\n",
    "  }\n",
    "}"
   ]
  },
  {
   "cell_type": "code",
   "execution_count": 3,
   "metadata": {
    "execution": {
     "iopub.execute_input": "2021-01-25T02:30:03.102279Z",
     "iopub.status.busy": "2021-01-25T02:30:03.101280Z",
     "iopub.status.idle": "2021-01-25T02:30:03.697278Z",
     "shell.execute_reply": "2021-01-25T02:30:03.696301Z",
     "shell.execute_reply.started": "2021-01-25T02:30:03.102279Z"
    }
   },
   "outputs": [],
   "source": [
    "import tensorflow_datasets as tfds"
   ]
  },
  {
   "cell_type": "code",
   "execution_count": 4,
   "metadata": {
    "execution": {
     "iopub.execute_input": "2021-01-25T02:30:03.698278Z",
     "iopub.status.busy": "2021-01-25T02:30:03.698278Z",
     "iopub.status.idle": "2021-01-25T02:30:04.330201Z",
     "shell.execute_reply": "2021-01-25T02:30:04.330201Z",
     "shell.execute_reply.started": "2021-01-25T02:30:03.698278Z"
    }
   },
   "outputs": [],
   "source": [
    "import nltk\n",
    "from nltk.corpus import stopwords\n",
    "from nltk.tokenize import word_tokenize\n",
    "from nltk.corpus import stopwords\n",
    "import re\n",
    "import gensim\n",
    "from gensim.models import Word2Vec\n",
    "from gensim.models.callbacks import CallbackAny2Vec\n",
    "\n",
    "# tensorflow text preprocessing function\n",
    "\n",
    "from tensorflow.keras.preprocessing.text import Tokenizer\n",
    "from tensorflow.keras.preprocessing.sequence import pad_sequences"
   ]
  },
  {
   "cell_type": "code",
   "execution_count": 5,
   "metadata": {
    "execution": {
     "iopub.execute_input": "2021-01-25T02:30:04.332181Z",
     "iopub.status.busy": "2021-01-25T02:30:04.331178Z",
     "iopub.status.idle": "2021-01-25T02:30:04.423197Z",
     "shell.execute_reply": "2021-01-25T02:30:04.423197Z",
     "shell.execute_reply.started": "2021-01-25T02:30:04.332181Z"
    }
   },
   "outputs": [],
   "source": [
    "from bs4 import BeautifulSoup"
   ]
  },
  {
   "cell_type": "markdown",
   "metadata": {},
   "source": [
    "# Load Data"
   ]
  },
  {
   "cell_type": "code",
   "execution_count": 6,
   "metadata": {
    "execution": {
     "iopub.execute_input": "2021-01-25T02:30:04.425180Z",
     "iopub.status.busy": "2021-01-25T02:30:04.425180Z",
     "iopub.status.idle": "2021-01-25T02:30:04.567198Z",
     "shell.execute_reply": "2021-01-25T02:30:04.567198Z",
     "shell.execute_reply.started": "2021-01-25T02:30:04.425180Z"
    }
   },
   "outputs": [],
   "source": [
    "with open(\"./outputs/imdb_cleaned_sentences.txt\", \"r\", encoding=\"utf-8\") as f:\n",
    "    sentences = f.readlines()"
   ]
  },
  {
   "cell_type": "code",
   "execution_count": 7,
   "metadata": {
    "execution": {
     "iopub.execute_input": "2021-01-25T02:30:04.570182Z",
     "iopub.status.busy": "2021-01-25T02:30:04.569182Z",
     "iopub.status.idle": "2021-01-25T02:30:05.128182Z",
     "shell.execute_reply": "2021-01-25T02:30:05.127282Z",
     "shell.execute_reply.started": "2021-01-25T02:30:04.570182Z"
    }
   },
   "outputs": [],
   "source": [
    "sentences = [sentence.strip(\"\\n\").split(' ') for sentence in sentences]"
   ]
  },
  {
   "cell_type": "code",
   "execution_count": 8,
   "metadata": {
    "execution": {
     "iopub.execute_input": "2021-01-25T02:30:05.130181Z",
     "iopub.status.busy": "2021-01-25T02:30:05.129185Z",
     "iopub.status.idle": "2021-01-25T02:30:05.137181Z",
     "shell.execute_reply": "2021-01-25T02:30:05.136184Z",
     "shell.execute_reply.started": "2021-01-25T02:30:05.130181Z"
    }
   },
   "outputs": [
    {
     "data": {
      "text/plain": [
       "['known',\n",
       " 'fall',\n",
       " 'asleep',\n",
       " 'films',\n",
       " 'usually',\n",
       " 'due',\n",
       " 'combination',\n",
       " 'things',\n",
       " 'including',\n",
       " 'really',\n",
       " 'tired',\n",
       " 'warm',\n",
       " 'comfortable',\n",
       " 'sette',\n",
       " 'eaten',\n",
       " 'lot',\n",
       " 'however',\n",
       " 'occasion',\n",
       " 'fell',\n",
       " 'asleep',\n",
       " 'film',\n",
       " 'rubbish',\n",
       " 'plot',\n",
       " 'development',\n",
       " 'constant',\n",
       " 'constantly',\n",
       " 'slow',\n",
       " 'boring',\n",
       " 'things',\n",
       " 'seemed',\n",
       " 'happen',\n",
       " 'explanation',\n",
       " 'causing',\n",
       " 'admit',\n",
       " 'may',\n",
       " 'missed',\n",
       " 'part',\n",
       " 'film',\n",
       " 'watched',\n",
       " 'majority',\n",
       " 'everything',\n",
       " 'seemed',\n",
       " 'happen',\n",
       " 'accord',\n",
       " 'without',\n",
       " 'real',\n",
       " 'concern',\n",
       " 'anything',\n",
       " 'else',\n",
       " 'cant',\n",
       " 'recommend',\n",
       " 'film']"
      ]
     },
     "execution_count": 8,
     "metadata": {},
     "output_type": "execute_result"
    }
   ],
   "source": [
    "sentences[1]"
   ]
  },
  {
   "cell_type": "markdown",
   "metadata": {},
   "source": [
    "## Another Preprocess"
   ]
  },
  {
   "cell_type": "code",
   "execution_count": 9,
   "metadata": {
    "execution": {
     "iopub.execute_input": "2021-01-25T02:30:05.143181Z",
     "iopub.status.busy": "2021-01-25T02:30:05.141181Z",
     "iopub.status.idle": "2021-01-25T02:30:05.152183Z",
     "shell.execute_reply": "2021-01-25T02:30:05.151185Z",
     "shell.execute_reply.started": "2021-01-25T02:30:05.143181Z"
    }
   },
   "outputs": [],
   "source": [
    "def substitution_repeated_word(word):\n",
    "    repeat_pattern = r\"(\\w)\\1{2,}\"\n",
    "    substitution_pattern = r\"\\1\"\n",
    "    return re.compile(repeat_pattern).sub(substitution_pattern, word)"
   ]
  },
  {
   "cell_type": "code",
   "execution_count": 10,
   "metadata": {
    "execution": {
     "iopub.execute_input": "2021-01-25T02:30:05.157181Z",
     "iopub.status.busy": "2021-01-25T02:30:05.156182Z",
     "iopub.status.idle": "2021-01-25T02:30:19.104183Z",
     "shell.execute_reply": "2021-01-25T02:30:19.103278Z",
     "shell.execute_reply.started": "2021-01-25T02:30:05.157181Z"
    }
   },
   "outputs": [],
   "source": [
    "for i in range(len(sentences)):\n",
    "    for j in range(len(sentences[i])):\n",
    "        sentences[i][j] = substitution_repeated_word(sentences[i][j])"
   ]
  },
  {
   "cell_type": "markdown",
   "metadata": {},
   "source": [
    "# Build the word vectors by gensim\n",
    "\n",
    "- print loss https://stackoverflow.com/questions/52038651/loss-does-not-decrease-during-training-word2vec-gensim\n",
    "- loss increasing https://stackoverflow.com/questions/58186670/gensim-word2vec-model-getting-worse-by-increasing-the-number-of-epochs"
   ]
  },
  {
   "cell_type": "code",
   "execution_count": 11,
   "metadata": {
    "execution": {
     "iopub.execute_input": "2021-01-25T02:30:19.106181Z",
     "iopub.status.busy": "2021-01-25T02:30:19.105180Z",
     "iopub.status.idle": "2021-01-25T02:30:19.115180Z",
     "shell.execute_reply": "2021-01-25T02:30:19.113180Z",
     "shell.execute_reply.started": "2021-01-25T02:30:19.106181Z"
    }
   },
   "outputs": [],
   "source": [
    "class MyCallBack(CallbackAny2Vec):\n",
    "    def __init__(self):\n",
    "        self.epochs = 0\n",
    "    \n",
    "    def on_epoch_end(self, model):\n",
    "        loss = model.get_latest_training_loss()\n",
    "        if self.epochs != 0 and self.epochs % 5 == 0:\n",
    "            print(f\"{self.epochs}:\\t{round(loss - self.prev_loss, 2)}\")\n",
    "        self.epochs += 1\n",
    "        self.prev_loss = loss"
   ]
  },
  {
   "cell_type": "code",
   "execution_count": 12,
   "metadata": {
    "execution": {
     "iopub.execute_input": "2021-01-25T02:30:19.118181Z",
     "iopub.status.busy": "2021-01-25T02:30:19.117183Z",
     "iopub.status.idle": "2021-01-25T02:30:19.428197Z",
     "shell.execute_reply": "2021-01-25T02:30:19.428197Z",
     "shell.execute_reply.started": "2021-01-25T02:30:19.118181Z"
    }
   },
   "outputs": [],
   "source": [
    "# select only some sentences for train\n",
    "lim = 100\n",
    "sentences_ = np.random.choice(sentences, replace=False, size=lim).tolist()"
   ]
  },
  {
   "cell_type": "code",
   "execution_count": 13,
   "metadata": {
    "execution": {
     "iopub.execute_input": "2021-01-25T02:30:19.430184Z",
     "iopub.status.busy": "2021-01-25T02:30:19.430184Z",
     "iopub.status.idle": "2021-01-25T02:30:19.438181Z",
     "shell.execute_reply": "2021-01-25T02:30:19.437181Z",
     "shell.execute_reply.started": "2021-01-25T02:30:19.430184Z"
    }
   },
   "outputs": [],
   "source": [
    "embedding_dims = 128\n",
    "window_size =  5\n",
    "max_vocab_size = 2500\n",
    "min_count = 5"
   ]
  },
  {
   "cell_type": "code",
   "execution_count": 14,
   "metadata": {
    "execution": {
     "iopub.execute_input": "2021-01-25T02:30:19.442183Z",
     "iopub.status.busy": "2021-01-25T02:30:19.440180Z",
     "iopub.status.idle": "2021-01-25T02:30:19.634178Z",
     "shell.execute_reply": "2021-01-25T02:30:19.633181Z",
     "shell.execute_reply.started": "2021-01-25T02:30:19.442183Z"
    }
   },
   "outputs": [],
   "source": [
    "w2v = Word2Vec(sentences=sentences_,\n",
    "               size=embedding_dims,\n",
    "               window=window_size,\n",
    "               max_vocab_size=max_vocab_size,\n",
    "               min_count=min_count,\n",
    "               compute_loss=True, callbacks=[MyCallBack()])"
   ]
  },
  {
   "cell_type": "code",
   "execution_count": 15,
   "metadata": {
    "execution": {
     "iopub.execute_input": "2021-01-25T02:30:19.635178Z",
     "iopub.status.busy": "2021-01-25T02:30:19.635178Z",
     "iopub.status.idle": "2021-01-25T02:30:19.645182Z",
     "shell.execute_reply": "2021-01-25T02:30:19.643181Z",
     "shell.execute_reply.started": "2021-01-25T02:30:19.635178Z"
    }
   },
   "outputs": [
    {
     "data": {
      "text/plain": [
       "[('movie', 0.9751654863357544),\n",
       " ('also', 0.9720869064331055),\n",
       " ('film', 0.9709030389785767),\n",
       " ('one', 0.9698842763900757),\n",
       " ('like', 0.9693364500999451),\n",
       " ('good', 0.9680224657058716),\n",
       " ('family', 0.9677156805992126),\n",
       " ('think', 0.9667198061943054),\n",
       " ('big', 0.9657655954360962),\n",
       " ('movies', 0.9652640223503113)]"
      ]
     },
     "execution_count": 15,
     "metadata": {},
     "output_type": "execute_result"
    }
   ],
   "source": [
    "w2v.most_similar(positive=['funny'])"
   ]
  },
  {
   "cell_type": "code",
   "execution_count": 16,
   "metadata": {
    "execution": {
     "iopub.execute_input": "2021-01-25T02:30:19.646179Z",
     "iopub.status.busy": "2021-01-25T02:30:19.646179Z",
     "iopub.status.idle": "2021-01-25T02:30:19.656183Z",
     "shell.execute_reply": "2021-01-25T02:30:19.655184Z",
     "shell.execute_reply.started": "2021-01-25T02:30:19.646179Z"
    }
   },
   "outputs": [
    {
     "data": {
      "text/plain": [
       "[('movie', 0.9770684838294983),\n",
       " ('get', 0.9733237028121948),\n",
       " ('one', 0.9731695652008057),\n",
       " ('also', 0.9730850458145142),\n",
       " ('family', 0.9713889956474304),\n",
       " ('would', 0.970788836479187),\n",
       " ('first', 0.9705204367637634),\n",
       " ('film', 0.9704143404960632),\n",
       " ('think', 0.9701133966445923),\n",
       " ('life', 0.9696893095970154)]"
      ]
     },
     "execution_count": 16,
     "metadata": {},
     "output_type": "execute_result"
    }
   ],
   "source": [
    "w2v.most_similar(positive=['bad'])"
   ]
  },
  {
   "cell_type": "code",
   "execution_count": 17,
   "metadata": {
    "execution": {
     "iopub.execute_input": "2021-01-25T02:30:19.658181Z",
     "iopub.status.busy": "2021-01-25T02:30:19.657179Z",
     "iopub.status.idle": "2021-01-25T02:30:50.316179Z",
     "shell.execute_reply": "2021-01-25T02:30:50.315180Z",
     "shell.execute_reply.started": "2021-01-25T02:30:19.658181Z"
    }
   },
   "outputs": [
    {
     "name": "stdout",
     "output_type": "stream",
     "text": [
      "5:\t1102849.0\n",
      "10:\t1055825.0\n",
      "15:\t1191562.0\n"
     ]
    },
    {
     "data": {
      "text/plain": [
       "(36247415, 112763320)"
      ]
     },
     "execution_count": 17,
     "metadata": {},
     "output_type": "execute_result"
    }
   ],
   "source": [
    "w2v_train_epochs = 20\n",
    "w2v.train(\n",
    "    sentences=sentences, \n",
    "    total_examples=w2v.corpus_count, \n",
    "    epochs=w2v_train_epochs,\n",
    "    start_alpha=0.001,\n",
    "    compute_loss=1, \n",
    "    callbacks=[MyCallBack()])"
   ]
  },
  {
   "cell_type": "code",
   "execution_count": 18,
   "metadata": {
    "execution": {
     "iopub.execute_input": "2021-01-25T02:30:50.318180Z",
     "iopub.status.busy": "2021-01-25T02:30:50.317181Z",
     "iopub.status.idle": "2021-01-25T02:30:50.326181Z",
     "shell.execute_reply": "2021-01-25T02:30:50.325182Z",
     "shell.execute_reply.started": "2021-01-25T02:30:50.318180Z"
    }
   },
   "outputs": [
    {
     "data": {
      "text/plain": [
       "[('laugh', 0.9997960329055786),\n",
       " ('fun', 0.9997955560684204),\n",
       " ('felt', 0.9997910857200623),\n",
       " ('lot', 0.9997721910476685),\n",
       " ('boring', 0.9997698068618774),\n",
       " ('interesting', 0.9997669458389282),\n",
       " ('really', 0.9997642636299133),\n",
       " ('ending', 0.9997607469558716),\n",
       " ('quite', 0.9997581243515015),\n",
       " ('maybe', 0.9997577667236328)]"
      ]
     },
     "execution_count": 18,
     "metadata": {},
     "output_type": "execute_result"
    }
   ],
   "source": [
    "w2v.most_similar(positive=['funny'])"
   ]
  },
  {
   "cell_type": "code",
   "execution_count": 19,
   "metadata": {
    "execution": {
     "iopub.execute_input": "2021-01-25T02:30:50.331181Z",
     "iopub.status.busy": "2021-01-25T02:30:50.328181Z",
     "iopub.status.idle": "2021-01-25T02:30:50.353181Z",
     "shell.execute_reply": "2021-01-25T02:30:50.352180Z",
     "shell.execute_reply.started": "2021-01-25T02:30:50.330181Z"
    }
   },
   "outputs": [
    {
     "data": {
      "text/plain": [
       "[('movie', 0.9997435808181763),\n",
       " ('really', 0.9996969103813171),\n",
       " ('awful', 0.9996936321258545),\n",
       " ('say', 0.9996858835220337),\n",
       " ('terrible', 0.9996750354766846),\n",
       " ('think', 0.9996659755706787),\n",
       " ('better', 0.999651312828064),\n",
       " ('acting', 0.9996463656425476),\n",
       " ('made', 0.9996272921562195),\n",
       " ('thought', 0.9996194839477539)]"
      ]
     },
     "execution_count": 19,
     "metadata": {},
     "output_type": "execute_result"
    }
   ],
   "source": [
    "w2v.most_similar(positive=['bad'])"
   ]
  },
  {
   "cell_type": "code",
   "execution_count": 20,
   "metadata": {
    "execution": {
     "iopub.execute_input": "2021-01-25T02:30:50.359181Z",
     "iopub.status.busy": "2021-01-25T02:30:50.356180Z",
     "iopub.status.idle": "2021-01-25T02:33:32.516181Z",
     "shell.execute_reply": "2021-01-25T02:33:32.515179Z",
     "shell.execute_reply.started": "2021-01-25T02:30:50.358182Z"
    }
   },
   "outputs": [
    {
     "name": "stdout",
     "output_type": "stream",
     "text": [
      "5:\t1243566.5\n",
      "10:\t1039379.0\n",
      "15:\t1185738.0\n",
      "20:\t1160756.0\n",
      "25:\t1133308.0\n",
      "30:\t515208.0\n",
      "35:\t505496.0\n",
      "40:\t519876.0\n",
      "45:\t507544.0\n",
      "50:\t519872.0\n",
      "55:\t500448.0\n",
      "60:\t520376.0\n",
      "65:\t519196.0\n",
      "70:\t520788.0\n",
      "75:\t511612.0\n",
      "80:\t519628.0\n",
      "85:\t528060.0\n",
      "90:\t526144.0\n",
      "95:\t3192.0\n"
     ]
    },
    {
     "data": {
      "text/plain": [
       "(181220130, 563816600)"
      ]
     },
     "execution_count": 20,
     "metadata": {},
     "output_type": "execute_result"
    }
   ],
   "source": [
    "w2v_train_epochs = 100\n",
    "w2v.train(\n",
    "    sentences=sentences, \n",
    "    total_examples=w2v.corpus_count, \n",
    "    epochs=w2v_train_epochs,\n",
    "    start_alpha=0.001,\n",
    "    compute_loss=1, \n",
    "    callbacks=[MyCallBack()])"
   ]
  },
  {
   "cell_type": "code",
   "execution_count": 21,
   "metadata": {
    "execution": {
     "iopub.execute_input": "2021-01-25T02:33:32.518182Z",
     "iopub.status.busy": "2021-01-25T02:33:32.518182Z",
     "iopub.status.idle": "2021-01-25T02:33:32.530180Z",
     "shell.execute_reply": "2021-01-25T02:33:32.529181Z",
     "shell.execute_reply.started": "2021-01-25T02:33:32.518182Z"
    }
   },
   "outputs": [
    {
     "data": {
      "text/plain": [
       "[('laughs', 0.8263293504714966),\n",
       " ('humor', 0.7667121887207031),\n",
       " ('comedy', 0.734045684337616),\n",
       " ('laugh', 0.7217087745666504),\n",
       " ('parts', 0.6550390720367432),\n",
       " ('bits', 0.6472859382629395),\n",
       " ('really', 0.6034287214279175),\n",
       " ('fun', 0.5920424461364746),\n",
       " ('lame', 0.5882127285003662),\n",
       " ('cool', 0.5822098851203918)]"
      ]
     },
     "execution_count": 21,
     "metadata": {},
     "output_type": "execute_result"
    }
   ],
   "source": [
    "w2v.most_similar(positive=['funny'])"
   ]
  },
  {
   "cell_type": "code",
   "execution_count": 30,
   "metadata": {
    "execution": {
     "iopub.execute_input": "2021-01-25T02:34:38.801679Z",
     "iopub.status.busy": "2021-01-25T02:34:38.800680Z",
     "iopub.status.idle": "2021-01-25T02:34:38.808680Z",
     "shell.execute_reply": "2021-01-25T02:34:38.807680Z",
     "shell.execute_reply.started": "2021-01-25T02:34:38.801679Z"
    }
   },
   "outputs": [
    {
     "data": {
      "text/plain": [
       "[('awful', 0.8887099027633667),\n",
       " ('terrible', 0.8773662447929382),\n",
       " ('lame', 0.8500813245773315),\n",
       " ('ok', 0.8014817237854004),\n",
       " ('worse', 0.7903109788894653),\n",
       " ('mean', 0.7554093599319458),\n",
       " ('acting', 0.7259005904197693),\n",
       " ('poor', 0.7052242755889893),\n",
       " ('really', 0.6994863748550415),\n",
       " ('boring', 0.6783396005630493)]"
      ]
     },
     "execution_count": 30,
     "metadata": {},
     "output_type": "execute_result"
    }
   ],
   "source": [
    "w2v.most_similar(positive=['bad'])"
   ]
  },
  {
   "cell_type": "markdown",
   "metadata": {},
   "source": [
    "# Save Model"
   ]
  },
  {
   "cell_type": "code",
   "execution_count": 23,
   "metadata": {
    "execution": {
     "iopub.execute_input": "2021-01-25T02:33:32.544182Z",
     "iopub.status.busy": "2021-01-25T02:33:32.543181Z",
     "iopub.status.idle": "2021-01-25T02:33:32.569183Z",
     "shell.execute_reply": "2021-01-25T02:33:32.566178Z",
     "shell.execute_reply.started": "2021-01-25T02:33:32.544182Z"
    }
   },
   "outputs": [],
   "source": [
    "w2v.save(\"./outputs/imdb-w2v-gensim.model\")"
   ]
  },
  {
   "cell_type": "code",
   "execution_count": 24,
   "metadata": {
    "execution": {
     "iopub.execute_input": "2021-01-25T02:33:32.572182Z",
     "iopub.status.busy": "2021-01-25T02:33:32.571180Z",
     "iopub.status.idle": "2021-01-25T02:33:32.581180Z",
     "shell.execute_reply": "2021-01-25T02:33:32.580179Z",
     "shell.execute_reply.started": "2021-01-25T02:33:32.572182Z"
    }
   },
   "outputs": [
    {
     "data": {
      "text/plain": [
       "(444, 128)"
      ]
     },
     "execution_count": 24,
     "metadata": {},
     "output_type": "execute_result"
    }
   ],
   "source": [
    "words = w2v.wv.vocab.keys()\n",
    "vecs = w2v.wv.vectors\n",
    "vecs.shape"
   ]
  },
  {
   "cell_type": "code",
   "execution_count": 25,
   "metadata": {
    "execution": {
     "iopub.execute_input": "2021-01-25T02:33:32.616181Z",
     "iopub.status.busy": "2021-01-25T02:33:32.615181Z",
     "iopub.status.idle": "2021-01-25T02:33:32.625183Z",
     "shell.execute_reply": "2021-01-25T02:33:32.624181Z",
     "shell.execute_reply.started": "2021-01-25T02:33:32.616181Z"
    }
   },
   "outputs": [
    {
     "data": {
      "text/plain": [
       "444"
      ]
     },
     "execution_count": 25,
     "metadata": {},
     "output_type": "execute_result"
    }
   ],
   "source": [
    "len(words)"
   ]
  },
  {
   "cell_type": "code",
   "execution_count": 26,
   "metadata": {
    "execution": {
     "iopub.execute_input": "2021-01-25T02:33:32.628183Z",
     "iopub.status.busy": "2021-01-25T02:33:32.627181Z",
     "iopub.status.idle": "2021-01-25T02:33:32.636181Z",
     "shell.execute_reply": "2021-01-25T02:33:32.635183Z",
     "shell.execute_reply.started": "2021-01-25T02:33:32.628183Z"
    }
   },
   "outputs": [],
   "source": [
    "vecs_df = pd.DataFrame(vecs)\n",
    "words_df = pd.DataFrame(words)"
   ]
  },
  {
   "cell_type": "code",
   "execution_count": 27,
   "metadata": {
    "execution": {
     "iopub.execute_input": "2021-01-25T02:33:32.642180Z",
     "iopub.status.busy": "2021-01-25T02:33:32.642180Z",
     "iopub.status.idle": "2021-01-25T02:33:32.929183Z",
     "shell.execute_reply": "2021-01-25T02:33:32.927182Z",
     "shell.execute_reply.started": "2021-01-25T02:33:32.642180Z"
    }
   },
   "outputs": [],
   "source": [
    "vecs_df.to_csv(\"./outputs/imdb-vecs.tsv\", sep='\\t', header=False, index=False)\n",
    "words_df.to_csv(\"./outputs/imdb-words.tsv\", sep='\\t', header=False, index=False)"
   ]
  },
  {
   "cell_type": "markdown",
   "metadata": {},
   "source": [
    "# Explore Result"
   ]
  },
  {
   "cell_type": "code",
   "execution_count": 64,
   "metadata": {
    "execution": {
     "iopub.execute_input": "2021-01-25T02:49:22.435603Z",
     "iopub.status.busy": "2021-01-25T02:49:22.435603Z",
     "iopub.status.idle": "2021-01-25T02:49:22.444601Z",
     "shell.execute_reply": "2021-01-25T02:49:22.443603Z",
     "shell.execute_reply.started": "2021-01-25T02:49:22.435603Z"
    }
   },
   "outputs": [
    {
     "data": {
      "text/plain": [
       "[('romantic', 0.9145389795303345),\n",
       " ('drama', 0.88703453540802),\n",
       " ('typical', 0.8631957769393921),\n",
       " ('charming', 0.8135483860969543),\n",
       " ('subtle', 0.8103457689285278),\n",
       " ('adds', 0.7703721523284912),\n",
       " ('light', 0.7587342858314514),\n",
       " ('adventure', 0.7583597898483276),\n",
       " ('dramatic', 0.7565268874168396),\n",
       " ('strong', 0.7531163692474365)]"
      ]
     },
     "execution_count": 64,
     "metadata": {},
     "output_type": "execute_result"
    }
   ],
   "source": [
    "w2v.most_similar(positive=['romance'])"
   ]
  },
  {
   "cell_type": "code",
   "execution_count": 63,
   "metadata": {
    "execution": {
     "iopub.execute_input": "2021-01-25T02:49:18.758214Z",
     "iopub.status.busy": "2021-01-25T02:49:18.757214Z",
     "iopub.status.idle": "2021-01-25T02:49:18.765219Z",
     "shell.execute_reply": "2021-01-25T02:49:18.764211Z",
     "shell.execute_reply.started": "2021-01-25T02:49:18.757214Z"
    }
   },
   "outputs": [
    {
     "data": {
      "text/plain": [
       "[('pretty', 0.7499832510948181),\n",
       " ('ok', 0.7430225610733032),\n",
       " ('cool', 0.7426775097846985),\n",
       " ('overall', 0.713636577129364),\n",
       " ('really', 0.7088854312896729),\n",
       " ('acting', 0.6756110191345215),\n",
       " ('bad', 0.6623809933662415),\n",
       " ('laughs', 0.648076057434082),\n",
       " ('great', 0.6459245681762695),\n",
       " ('rest', 0.6380834579467773)]"
      ]
     },
     "execution_count": 63,
     "metadata": {},
     "output_type": "execute_result"
    }
   ],
   "source": [
    "w2v.most_similar(positive=['good'])"
   ]
  },
  {
   "cell_type": "code",
   "execution_count": 62,
   "metadata": {
    "execution": {
     "iopub.execute_input": "2021-01-25T02:49:14.484237Z",
     "iopub.status.busy": "2021-01-25T02:49:14.484237Z",
     "iopub.status.idle": "2021-01-25T02:49:14.491229Z",
     "shell.execute_reply": "2021-01-25T02:49:14.490230Z",
     "shell.execute_reply.started": "2021-01-25T02:49:14.484237Z"
    }
   },
   "outputs": [
    {
     "data": {
      "text/plain": [
       "[('actress', 0.9585381150245667),\n",
       " ('role', 0.9257036447525024),\n",
       " ('performance', 0.9061633348464966),\n",
       " ('roles', 0.8646007776260376),\n",
       " ('talented', 0.8518898487091064),\n",
       " ('career', 0.8168497085571289),\n",
       " ('voice', 0.8128608465194702),\n",
       " ('scott', 0.7891513705253601),\n",
       " ('plays', 0.7793706655502319),\n",
       " ('john', 0.7726655602455139)]"
      ]
     },
     "execution_count": 62,
     "metadata": {},
     "output_type": "execute_result"
    }
   ],
   "source": [
    "w2v.most_similar(positive=[\"actor\"])"
   ]
  },
  {
   "cell_type": "code",
   "execution_count": 60,
   "metadata": {
    "execution": {
     "iopub.execute_input": "2021-01-25T02:49:05.053115Z",
     "iopub.status.busy": "2021-01-25T02:49:05.053115Z",
     "iopub.status.idle": "2021-01-25T02:49:05.061113Z",
     "shell.execute_reply": "2021-01-25T02:49:05.060114Z",
     "shell.execute_reply.started": "2021-01-25T02:49:05.053115Z"
    }
   },
   "outputs": [
    {
     "data": {
      "text/plain": [
       "[('actress', 0.9597461223602295),\n",
       " ('role', 0.9129691123962402),\n",
       " ('performance', 0.8907528519630432),\n",
       " ('roles', 0.8451204895973206),\n",
       " ('talented', 0.8351970911026001),\n",
       " ('career', 0.7961633801460266),\n",
       " ('voice', 0.7956693172454834),\n",
       " ('plays', 0.7613451480865479),\n",
       " ('scott', 0.7585989832878113),\n",
       " ('john', 0.7364364266395569)]"
      ]
     },
     "execution_count": 60,
     "metadata": {},
     "output_type": "execute_result"
    }
   ],
   "source": [
    "# actor // father\n",
    "# ? // mother\n",
    "\n",
    "# actor - father = ? - mother\n",
    "# ? = (actor + mother) - father\n",
    "\n",
    "w2v.most_similar(positive=[\"actor\", \"mother\"], negative=[\"father\"])"
   ]
  },
  {
   "cell_type": "code",
   "execution_count": 66,
   "metadata": {
    "execution": {
     "iopub.execute_input": "2021-01-25T02:50:52.431972Z",
     "iopub.status.busy": "2021-01-25T02:50:52.430965Z",
     "iopub.status.idle": "2021-01-25T02:50:52.439960Z",
     "shell.execute_reply": "2021-01-25T02:50:52.438964Z",
     "shell.execute_reply.started": "2021-01-25T02:50:52.431972Z"
    }
   },
   "outputs": [
    {
     "data": {
      "text/plain": [
       "[('woman', 0.9423226118087769),\n",
       " ('hand', 0.8159111738204956),\n",
       " ('hero', 0.8105056285858154),\n",
       " ('turns', 0.8059001564979553),\n",
       " ('meets', 0.7977406978607178),\n",
       " ('tough', 0.7710468173027039),\n",
       " ('evil', 0.7701187133789062),\n",
       " ('becomes', 0.7620344161987305),\n",
       " ('young', 0.7597670555114746),\n",
       " ('whose', 0.756074070930481)]"
      ]
     },
     "execution_count": 66,
     "metadata": {},
     "output_type": "execute_result"
    }
   ],
   "source": [
    "w2v.most_similar(positive=[\"man\", \"girl\"], negative=[\"boy\"])"
   ]
  },
  {
   "cell_type": "code",
   "execution_count": null,
   "metadata": {},
   "outputs": [],
   "source": []
  }
 ],
 "metadata": {
  "kernelspec": {
   "display_name": "Python 3",
   "language": "python",
   "name": "python3"
  },
  "language_info": {
   "codemirror_mode": {
    "name": "ipython",
    "version": 3
   },
   "file_extension": ".py",
   "mimetype": "text/x-python",
   "name": "python",
   "nbconvert_exporter": "python",
   "pygments_lexer": "ipython3",
   "version": "3.8.5"
  }
 },
 "nbformat": 4,
 "nbformat_minor": 4
}
