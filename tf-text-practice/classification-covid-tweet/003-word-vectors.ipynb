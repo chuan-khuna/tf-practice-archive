{
 "cells": [
  {
   "cell_type": "markdown",
   "metadata": {},
   "source": [
    "# WordVectors"
   ]
  },
  {
   "cell_type": "markdown",
   "metadata": {},
   "source": [
    "# Import Libraries"
   ]
  },
  {
   "cell_type": "code",
   "execution_count": 1,
   "metadata": {
    "execution": {
     "iopub.execute_input": "2021-01-26T13:25:27.603128Z",
     "iopub.status.busy": "2021-01-26T13:25:27.602128Z",
     "iopub.status.idle": "2021-01-26T13:25:30.626308Z",
     "shell.execute_reply": "2021-01-26T13:25:30.626308Z",
     "shell.execute_reply.started": "2021-01-26T13:25:27.603128Z"
    }
   },
   "outputs": [],
   "source": [
    "import numpy as np\n",
    "import pandas as pd\n",
    "import tensorflow as tf\n",
    "\n",
    "seed_ = 20200218\n",
    "np.random.seed(seed_)\n",
    "tf.random.set_seed(seed_)"
   ]
  },
  {
   "cell_type": "code",
   "execution_count": 2,
   "metadata": {
    "execution": {
     "iopub.execute_input": "2021-01-26T13:25:30.628308Z",
     "iopub.status.busy": "2021-01-26T13:25:30.628308Z",
     "iopub.status.idle": "2021-01-26T13:25:31.245526Z",
     "shell.execute_reply": "2021-01-26T13:25:31.245526Z",
     "shell.execute_reply.started": "2021-01-26T13:25:30.628308Z"
    }
   },
   "outputs": [],
   "source": [
    "import matplotlib.pyplot as plt\n",
    "import seaborn as sns\n",
    "\n",
    "sns.set_theme(style=\"whitegrid\",\n",
    "              context=\"paper\",\n",
    "              font_scale=1.25,\n",
    "              rc={\n",
    "                  \"figure.figsize\": (10.5, 4.5),\n",
    "                  \"figure.dpi\": 150,\n",
    "                  \"grid.alpha\": 0.1,\n",
    "                  \"grid.color\": \"#1b262c\",\n",
    "                  \"grid.linewidth\": 0.5,\n",
    "                  \"font.family\": \"Operator Mono\",\n",
    "              })\n",
    "# original first color is #202f66\n",
    "_30k = [\"#3a5b91\", \"#ff7048\", \"#7f68d0\", \"#f3d36e\", \"#d869ab\", \"#48ADA9\", \"#1b262c\"]\n",
    "sns.set_palette(_30k)\n",
    "\n",
    "import warnings\n",
    "warnings.filterwarnings('ignore')"
   ]
  },
  {
   "cell_type": "code",
   "execution_count": 3,
   "metadata": {
    "execution": {
     "iopub.execute_input": "2021-01-26T13:25:31.247536Z",
     "iopub.status.busy": "2021-01-26T13:25:31.246536Z",
     "iopub.status.idle": "2021-01-26T13:25:32.213770Z",
     "shell.execute_reply": "2021-01-26T13:25:32.212768Z",
     "shell.execute_reply.started": "2021-01-26T13:25:31.247536Z"
    }
   },
   "outputs": [],
   "source": [
    "import re\n",
    "import string\n",
    "\n",
    "import nltk\n",
    "from nltk.corpus import stopwords\n",
    "import wordcloud\n",
    "\n",
    "import gensim\n",
    "from gensim.models import Word2Vec"
   ]
  },
  {
   "cell_type": "code",
   "execution_count": 4,
   "metadata": {
    "execution": {
     "iopub.execute_input": "2021-01-26T13:25:32.214770Z",
     "iopub.status.busy": "2021-01-26T13:25:32.214770Z",
     "iopub.status.idle": "2021-01-26T13:25:32.229775Z",
     "shell.execute_reply": "2021-01-26T13:25:32.228773Z",
     "shell.execute_reply.started": "2021-01-26T13:25:32.214770Z"
    }
   },
   "outputs": [],
   "source": [
    "stop_words = stopwords.words(\"english\")"
   ]
  },
  {
   "cell_type": "code",
   "execution_count": 5,
   "metadata": {
    "execution": {
     "iopub.execute_input": "2021-01-26T13:25:32.230775Z",
     "iopub.status.busy": "2021-01-26T13:25:32.230775Z",
     "iopub.status.idle": "2021-01-26T13:25:32.260780Z",
     "shell.execute_reply": "2021-01-26T13:25:32.260780Z",
     "shell.execute_reply.started": "2021-01-26T13:25:32.230775Z"
    }
   },
   "outputs": [],
   "source": [
    "from sklearn.decomposition import PCA"
   ]
  },
  {
   "cell_type": "markdown",
   "metadata": {},
   "source": [
    "# Load Data"
   ]
  },
  {
   "cell_type": "code",
   "execution_count": 6,
   "metadata": {
    "execution": {
     "iopub.execute_input": "2021-01-26T13:25:32.262781Z",
     "iopub.status.busy": "2021-01-26T13:25:32.261781Z",
     "iopub.status.idle": "2021-01-26T13:25:32.516290Z",
     "shell.execute_reply": "2021-01-26T13:25:32.516290Z",
     "shell.execute_reply.started": "2021-01-26T13:25:32.262781Z"
    }
   },
   "outputs": [],
   "source": [
    "train_df = pd.read_csv(\"./cleaned/train.csv\")"
   ]
  },
  {
   "cell_type": "code",
   "execution_count": 7,
   "metadata": {
    "execution": {
     "iopub.execute_input": "2021-01-26T13:25:32.517290Z",
     "iopub.status.busy": "2021-01-26T13:25:32.517290Z",
     "iopub.status.idle": "2021-01-26T13:25:32.532294Z",
     "shell.execute_reply": "2021-01-26T13:25:32.532294Z",
     "shell.execute_reply.started": "2021-01-26T13:25:32.517290Z"
    }
   },
   "outputs": [
    {
     "data": {
      "text/html": [
       "<div>\n",
       "<style scoped>\n",
       "    .dataframe tbody tr th:only-of-type {\n",
       "        vertical-align: middle;\n",
       "    }\n",
       "\n",
       "    .dataframe tbody tr th {\n",
       "        vertical-align: top;\n",
       "    }\n",
       "\n",
       "    .dataframe thead th {\n",
       "        text-align: right;\n",
       "    }\n",
       "</style>\n",
       "<table border=\"1\" class=\"dataframe\">\n",
       "  <thead>\n",
       "    <tr style=\"text-align: right;\">\n",
       "      <th></th>\n",
       "      <th>UserName</th>\n",
       "      <th>ScreenName</th>\n",
       "      <th>Location</th>\n",
       "      <th>TweetAt</th>\n",
       "      <th>OriginalTweet</th>\n",
       "      <th>Sentiment</th>\n",
       "      <th>Sentiment_new</th>\n",
       "      <th>cleaned_text</th>\n",
       "    </tr>\n",
       "  </thead>\n",
       "  <tbody>\n",
       "    <tr>\n",
       "      <th>0</th>\n",
       "      <td>3799</td>\n",
       "      <td>48751</td>\n",
       "      <td>London</td>\n",
       "      <td>2020-03-16</td>\n",
       "      <td>@MeNyrbie @Phil_Gahan @Chrisitv https://t.co/i...</td>\n",
       "      <td>Neutral</td>\n",
       "      <td>neutral</td>\n",
       "      <td>and  and</td>\n",
       "    </tr>\n",
       "    <tr>\n",
       "      <th>1</th>\n",
       "      <td>3800</td>\n",
       "      <td>48752</td>\n",
       "      <td>UK</td>\n",
       "      <td>2020-03-16</td>\n",
       "      <td>advice Talk to your neighbours family to excha...</td>\n",
       "      <td>Positive</td>\n",
       "      <td>positive</td>\n",
       "      <td>advice Talk to your neighbours family to excha...</td>\n",
       "    </tr>\n",
       "    <tr>\n",
       "      <th>2</th>\n",
       "      <td>3801</td>\n",
       "      <td>48753</td>\n",
       "      <td>Vagabonds</td>\n",
       "      <td>2020-03-16</td>\n",
       "      <td>Coronavirus Australia: Woolworths to give elde...</td>\n",
       "      <td>Positive</td>\n",
       "      <td>positive</td>\n",
       "      <td>Coronavirus Australia: Woolworths to give elde...</td>\n",
       "    </tr>\n",
       "    <tr>\n",
       "      <th>3</th>\n",
       "      <td>3802</td>\n",
       "      <td>48754</td>\n",
       "      <td>NaN</td>\n",
       "      <td>2020-03-16</td>\n",
       "      <td>My food stock is not the only one which is emp...</td>\n",
       "      <td>Positive</td>\n",
       "      <td>positive</td>\n",
       "      <td>My food stock is not the only one which is emp...</td>\n",
       "    </tr>\n",
       "    <tr>\n",
       "      <th>4</th>\n",
       "      <td>3803</td>\n",
       "      <td>48755</td>\n",
       "      <td>NaN</td>\n",
       "      <td>2020-03-16</td>\n",
       "      <td>Me, ready to go at supermarket during the #COV...</td>\n",
       "      <td>Extremely Negative</td>\n",
       "      <td>negative</td>\n",
       "      <td>Me, ready to go at supermarket during the  out...</td>\n",
       "    </tr>\n",
       "  </tbody>\n",
       "</table>\n",
       "</div>"
      ],
      "text/plain": [
       "   UserName  ScreenName   Location     TweetAt  \\\n",
       "0      3799       48751     London  2020-03-16   \n",
       "1      3800       48752         UK  2020-03-16   \n",
       "2      3801       48753  Vagabonds  2020-03-16   \n",
       "3      3802       48754        NaN  2020-03-16   \n",
       "4      3803       48755        NaN  2020-03-16   \n",
       "\n",
       "                                       OriginalTweet           Sentiment  \\\n",
       "0  @MeNyrbie @Phil_Gahan @Chrisitv https://t.co/i...             Neutral   \n",
       "1  advice Talk to your neighbours family to excha...            Positive   \n",
       "2  Coronavirus Australia: Woolworths to give elde...            Positive   \n",
       "3  My food stock is not the only one which is emp...            Positive   \n",
       "4  Me, ready to go at supermarket during the #COV...  Extremely Negative   \n",
       "\n",
       "  Sentiment_new                                       cleaned_text  \n",
       "0       neutral                                          and  and   \n",
       "1      positive  advice Talk to your neighbours family to excha...  \n",
       "2      positive  Coronavirus Australia: Woolworths to give elde...  \n",
       "3      positive  My food stock is not the only one which is emp...  \n",
       "4      negative  Me, ready to go at supermarket during the  out...  "
      ]
     },
     "execution_count": 7,
     "metadata": {},
     "output_type": "execute_result"
    }
   ],
   "source": [
    "train_df.head()"
   ]
  },
  {
   "cell_type": "markdown",
   "metadata": {},
   "source": [
    "# Tekenize sentence"
   ]
  },
  {
   "cell_type": "code",
   "execution_count": 8,
   "metadata": {
    "execution": {
     "iopub.execute_input": "2021-01-26T13:25:32.535294Z",
     "iopub.status.busy": "2021-01-26T13:25:32.535294Z",
     "iopub.status.idle": "2021-01-26T13:25:44.526901Z",
     "shell.execute_reply": "2021-01-26T13:25:44.526901Z",
     "shell.execute_reply.started": "2021-01-26T13:25:32.535294Z"
    }
   },
   "outputs": [],
   "source": [
    "sentences = []\n",
    "for text in train_df['cleaned_text']:\n",
    "    sentence = nltk.tokenize.word_tokenize(str(text).lower())\n",
    "    # clean stop word\n",
    "    sentence = [word for word in sentence if (word not in stop_words)]\n",
    "    # clean punct\n",
    "    sentence = [word for word in sentence if word.isalpha()]\n",
    "    if len(sentence) > 0:\n",
    "        sentences.append(sentence)"
   ]
  },
  {
   "cell_type": "code",
   "execution_count": 9,
   "metadata": {
    "execution": {
     "iopub.execute_input": "2021-01-26T13:25:44.528902Z",
     "iopub.status.busy": "2021-01-26T13:25:44.527901Z",
     "iopub.status.idle": "2021-01-26T13:25:44.543905Z",
     "shell.execute_reply": "2021-01-26T13:25:44.542906Z",
     "shell.execute_reply.started": "2021-01-26T13:25:44.528902Z"
    }
   },
   "outputs": [
    {
     "data": {
      "text/plain": [
       "[['advice',\n",
       "  'talk',\n",
       "  'neighbours',\n",
       "  'family',\n",
       "  'exchange',\n",
       "  'phone',\n",
       "  'numbers',\n",
       "  'create',\n",
       "  'contact',\n",
       "  'list',\n",
       "  'phone',\n",
       "  'numbers',\n",
       "  'neighbours',\n",
       "  'schools',\n",
       "  'employer',\n",
       "  'chemist',\n",
       "  'gp',\n",
       "  'set',\n",
       "  'online',\n",
       "  'shopping',\n",
       "  'accounts',\n",
       "  'poss',\n",
       "  'adequate',\n",
       "  'supplies',\n",
       "  'regular',\n",
       "  'meds',\n",
       "  'order'],\n",
       " ['coronavirus',\n",
       "  'australia',\n",
       "  'woolworths',\n",
       "  'give',\n",
       "  'elderly',\n",
       "  'disabled',\n",
       "  'dedicated',\n",
       "  'shopping',\n",
       "  'hours',\n",
       "  'amid',\n",
       "  'outbreak'],\n",
       " ['food',\n",
       "  'stock',\n",
       "  'one',\n",
       "  'empty',\n",
       "  'please',\n",
       "  'panic',\n",
       "  'enough',\n",
       "  'food',\n",
       "  'everyone',\n",
       "  'take',\n",
       "  'need',\n",
       "  'stay',\n",
       "  'calm',\n",
       "  'stay',\n",
       "  'safe']]"
      ]
     },
     "execution_count": 9,
     "metadata": {},
     "output_type": "execute_result"
    }
   ],
   "source": [
    "sentences[:3]"
   ]
  },
  {
   "cell_type": "code",
   "execution_count": 10,
   "metadata": {
    "execution": {
     "iopub.execute_input": "2021-01-26T13:25:44.544907Z",
     "iopub.status.busy": "2021-01-26T13:25:44.544907Z",
     "iopub.status.idle": "2021-01-26T13:25:44.559911Z",
     "shell.execute_reply": "2021-01-26T13:25:44.558910Z",
     "shell.execute_reply.started": "2021-01-26T13:25:44.544907Z"
    }
   },
   "outputs": [
    {
     "data": {
      "text/plain": [
       "41097"
      ]
     },
     "execution_count": 10,
     "metadata": {},
     "output_type": "execute_result"
    }
   ],
   "source": [
    "len(sentences)"
   ]
  },
  {
   "cell_type": "markdown",
   "metadata": {},
   "source": [
    "# Word2Vec Model"
   ]
  },
  {
   "cell_type": "code",
   "execution_count": 11,
   "metadata": {
    "execution": {
     "iopub.execute_input": "2021-01-26T13:25:44.560910Z",
     "iopub.status.busy": "2021-01-26T13:25:44.560910Z",
     "iopub.status.idle": "2021-01-26T13:25:44.575917Z",
     "shell.execute_reply": "2021-01-26T13:25:44.574911Z",
     "shell.execute_reply.started": "2021-01-26T13:25:44.560910Z"
    }
   },
   "outputs": [],
   "source": [
    "class MyCallBack(gensim.models.callbacks.CallbackAny2Vec):\n",
    "    def __init__(self, log_step=10):\n",
    "        self.epochs = 0\n",
    "        self.log_step = log_step\n",
    "        \n",
    "    def on_epoch_end(self, model):\n",
    "        loss = model.get_latest_training_loss()\n",
    "        if self.epochs != 0 and self.epochs % self.log_step == 0:\n",
    "            print(f\"{self.epochs}:\\t{round(loss - self.prev_loss, 2)}\")\n",
    "        self.epochs += 1\n",
    "        self.prev_loss = loss"
   ]
  },
  {
   "cell_type": "code",
   "execution_count": 12,
   "metadata": {
    "execution": {
     "iopub.execute_input": "2021-01-26T13:25:44.577914Z",
     "iopub.status.busy": "2021-01-26T13:25:44.577914Z",
     "iopub.status.idle": "2021-01-26T13:25:44.639927Z",
     "shell.execute_reply": "2021-01-26T13:25:44.638927Z",
     "shell.execute_reply.started": "2021-01-26T13:25:44.577914Z"
    }
   },
   "outputs": [
    {
     "data": {
      "text/plain": [
       "[['corg',\n",
       "  'otc',\n",
       "  'stock',\n",
       "  'like',\n",
       "  'aprn',\n",
       "  'wtrh',\n",
       "  'food',\n",
       "  'delivery',\n",
       "  'ghost',\n",
       "  'kitchen'],\n",
       " ['property',\n",
       "  'prices',\n",
       "  'increase',\n",
       "  'post',\n",
       "  'want',\n",
       "  'sell',\n",
       "  'land',\n",
       "  'everything',\n",
       "  'hold',\n",
       "  'due',\n",
       "  'say'],\n",
       " ['starting',\n",
       "  'see',\n",
       "  'grocery',\n",
       "  'store',\n",
       "  'workers',\n",
       "  'contract',\n",
       "  'die',\n",
       "  'think',\n",
       "  'stores',\n",
       "  'strict',\n",
       "  'mask',\n",
       "  'service',\n",
       "  'policies',\n",
       "  'place',\n",
       "  'enforce']]"
      ]
     },
     "execution_count": 12,
     "metadata": {},
     "output_type": "execute_result"
    }
   ],
   "source": [
    "num_sentences = 5000\n",
    "\n",
    "sentences_ = np.random.choice(sentences, replace=False, size=num_sentences).tolist()\n",
    "\n",
    "sentences_[:3]"
   ]
  },
  {
   "cell_type": "code",
   "execution_count": 13,
   "metadata": {
    "execution": {
     "iopub.execute_input": "2021-01-26T13:25:44.640928Z",
     "iopub.status.busy": "2021-01-26T13:25:44.640928Z",
     "iopub.status.idle": "2021-01-26T13:25:44.655931Z",
     "shell.execute_reply": "2021-01-26T13:25:44.654930Z",
     "shell.execute_reply.started": "2021-01-26T13:25:44.640928Z"
    }
   },
   "outputs": [],
   "source": [
    "# word 2 vec setting\n",
    "\n",
    "embedding_dims = 32\n",
    "window_size = 10\n",
    "max_vocab_size = 3000\n",
    "min_count = 5"
   ]
  },
  {
   "cell_type": "code",
   "execution_count": 14,
   "metadata": {
    "execution": {
     "iopub.execute_input": "2021-01-26T13:25:44.656930Z",
     "iopub.status.busy": "2021-01-26T13:25:44.656930Z",
     "iopub.status.idle": "2021-01-26T13:25:45.066197Z",
     "shell.execute_reply": "2021-01-26T13:25:45.066197Z",
     "shell.execute_reply.started": "2021-01-26T13:25:44.656930Z"
    }
   },
   "outputs": [],
   "source": [
    "model = Word2Vec(\n",
    "    sentences=sentences_,\n",
    "    size=embedding_dims,window=window_size, \n",
    "    max_vocab_size=max_vocab_size, \n",
    "    min_count=min_count,\n",
    "    compute_loss=True,\n",
    "    callbacks=[MyCallBack()]\n",
    ")"
   ]
  },
  {
   "cell_type": "code",
   "execution_count": 15,
   "metadata": {
    "execution": {
     "iopub.execute_input": "2021-01-26T13:25:45.068197Z",
     "iopub.status.busy": "2021-01-26T13:25:45.067197Z",
     "iopub.status.idle": "2021-01-26T13:25:45.083201Z",
     "shell.execute_reply": "2021-01-26T13:25:45.081205Z",
     "shell.execute_reply.started": "2021-01-26T13:25:45.068197Z"
    }
   },
   "outputs": [
    {
     "data": {
      "text/plain": [
       "229928.546875"
      ]
     },
     "execution_count": 15,
     "metadata": {},
     "output_type": "execute_result"
    }
   ],
   "source": [
    "model.get_latest_training_loss()"
   ]
  },
  {
   "cell_type": "code",
   "execution_count": 16,
   "metadata": {
    "execution": {
     "iopub.execute_input": "2021-01-26T13:25:45.084203Z",
     "iopub.status.busy": "2021-01-26T13:25:45.084203Z",
     "iopub.status.idle": "2021-01-26T13:25:45.098204Z",
     "shell.execute_reply": "2021-01-26T13:25:45.097206Z",
     "shell.execute_reply.started": "2021-01-26T13:25:45.084203Z"
    }
   },
   "outputs": [
    {
     "data": {
      "text/plain": [
       "['stock',\n",
       " 'like',\n",
       " 'food',\n",
       " 'delivery',\n",
       " 'prices',\n",
       " 'increase',\n",
       " 'want',\n",
       " 'sell',\n",
       " 'everything',\n",
       " 'hold']"
      ]
     },
     "execution_count": 16,
     "metadata": {},
     "output_type": "execute_result"
    }
   ],
   "source": [
    "list(model.wv.vocab.keys())[:10]"
   ]
  },
  {
   "cell_type": "markdown",
   "metadata": {},
   "source": [
    "## Train Model"
   ]
  },
  {
   "cell_type": "code",
   "execution_count": 17,
   "metadata": {
    "execution": {
     "iopub.execute_input": "2021-01-26T13:25:45.099205Z",
     "iopub.status.busy": "2021-01-26T13:25:45.099205Z",
     "iopub.status.idle": "2021-01-26T13:27:23.628649Z",
     "shell.execute_reply": "2021-01-26T13:27:23.627649Z",
     "shell.execute_reply.started": "2021-01-26T13:25:45.099205Z"
    }
   },
   "outputs": [
    {
     "name": "stdout",
     "output_type": "stream",
     "text": [
      "50:\t41713.88\n",
      "100:\t20279.0\n",
      "150:\t31304.5\n",
      "200:\t31192.0\n",
      "250:\t25250.0\n",
      "300:\t25020.0\n",
      "350:\t24688.0\n",
      "400:\t24376.0\n",
      "450:\t24086.0\n",
      "500:\t23951.0\n",
      "550:\t23738.0\n",
      "600:\t20374.0\n",
      "650:\t19880.0\n",
      "700:\t19698.0\n",
      "750:\t19434.0\n",
      "800:\t18974.0\n",
      "850:\t19054.0\n",
      "900:\t19034.0\n",
      "950:\t18994.0\n",
      "1000:\t12634.0\n",
      "1050:\t18722.0\n",
      "1100:\t19086.0\n",
      "1150:\t18986.0\n",
      "1200:\t12504.0\n",
      "1250:\t18630.0\n",
      "1300:\t18588.0\n",
      "1350:\t18540.0\n",
      "1400:\t18684.0\n",
      "1450:\t18394.0\n",
      "1500:\t7900.0\n",
      "1550:\t8224.0\n",
      "1600:\t7900.0\n",
      "1650:\t7924.0\n",
      "1700:\t7964.0\n",
      "1750:\t8092.0\n",
      "1800:\t7888.0\n",
      "1850:\t7556.0\n",
      "1900:\t7588.0\n",
      "1950:\t7792.0\n",
      "2000:\t7976.0\n",
      "2050:\t7716.0\n",
      "2100:\t7656.0\n",
      "2150:\t7712.0\n",
      "2200:\t7848.0\n",
      "2250:\t7676.0\n",
      "2300:\t7776.0\n",
      "2350:\t7980.0\n",
      "2400:\t7828.0\n",
      "2450:\t5328.0\n",
      "2500:\t7784.0\n",
      "2550:\t7956.0\n",
      "2600:\t7672.0\n",
      "2650:\t7556.0\n",
      "2700:\t7900.0\n",
      "2750:\t7560.0\n",
      "2800:\t7832.0\n",
      "2850:\t7648.0\n",
      "2900:\t7416.0\n",
      "2950:\t7252.0\n"
     ]
    },
    {
     "data": {
      "text/plain": [
       "(110509455, 220002000)"
      ]
     },
     "execution_count": 17,
     "metadata": {},
     "output_type": "execute_result"
    }
   ],
   "source": [
    "train_epochs = 3000\n",
    "\n",
    "model.train(\n",
    "    sentences=sentences_, \n",
    "    total_examples=model.corpus_count, \n",
    "    epochs=train_epochs,\n",
    "    start_alpha=0.001,\n",
    "    compute_loss=1, \n",
    "    callbacks=[MyCallBack(50)]\n",
    ")"
   ]
  },
  {
   "cell_type": "markdown",
   "metadata": {},
   "source": [
    "## Explore Result"
   ]
  },
  {
   "cell_type": "code",
   "execution_count": 18,
   "metadata": {
    "execution": {
     "iopub.execute_input": "2021-01-26T13:27:23.629650Z",
     "iopub.status.busy": "2021-01-26T13:27:23.628649Z",
     "iopub.status.idle": "2021-01-26T13:27:23.644654Z",
     "shell.execute_reply": "2021-01-26T13:27:23.643654Z",
     "shell.execute_reply.started": "2021-01-26T13:27:23.629650Z"
    }
   },
   "outputs": [],
   "source": [
    "model.save(\"./outputs/covid-word2vec.model\")"
   ]
  },
  {
   "cell_type": "code",
   "execution_count": 19,
   "metadata": {
    "execution": {
     "iopub.execute_input": "2021-01-26T13:27:23.646655Z",
     "iopub.status.busy": "2021-01-26T13:27:23.645655Z",
     "iopub.status.idle": "2021-01-26T13:27:23.676662Z",
     "shell.execute_reply": "2021-01-26T13:27:23.675661Z",
     "shell.execute_reply.started": "2021-01-26T13:27:23.645655Z"
    }
   },
   "outputs": [
    {
     "data": {
      "text/plain": [
       "array(['able', 'access', 'across', 'act', 'action', 'actually', 'add',\n",
       "       'advantage', 'advice', 'affect', 'affected', 'ago', 'air', 'aisle',\n",
       "       'alcohol', 'alert', 'allow', 'allowed', 'almost', 'alone',\n",
       "       'already', 'also', 'always', 'amazing', 'amazon', 'american',\n",
       "       'americans', 'amid', 'amidst', 'among', 'amount', 'amp',\n",
       "       'announced', 'another', 'anyone', 'anything', 'apart', 'app',\n",
       "       'apparently', 'april', 'arabia', 'area', 'areas', 'around',\n",
       "       'article', 'asian', 'ask', 'asked', 'asking', 'australia',\n",
       "       'available', 'average', 'avoid', 'aware', 'away', 'b', 'baby',\n",
       "       'back', 'bad', 'bag', 'bank', 'banks', 'based', 'basic', 'become',\n",
       "       'behavior', 'behind', 'believe', 'benefit', 'best', 'better',\n",
       "       'beyond', 'big', 'bottle', 'bought', 'brands', 'bread', 'breaking',\n",
       "       'bring', 'british', 'brought', 'business', 'businesses', 'busy',\n",
       "       'buy', 'buying', 'c', 'ca', 'california', 'call', 'car', 'care',\n",
       "       'cart', 'case', 'cases', 'cause', 'caused', 'ceo', 'chain',\n",
       "       'chains', 'challenges', 'change', 'changed', 'changes', 'changing',\n",
       "       'charge', 'cheap', 'check', 'checkout', 'china', 'citizens',\n",
       "       'city', 'clear', 'clerks', 'click', 'close', 'closed', 'closing',\n",
       "       'collapse', 'come', 'comes', 'coming', 'communities', 'community',\n",
       "       'companies', 'company', 'completely', 'concerns', 'confidence',\n",
       "       'consider', 'consumer', 'consumers', 'contact', 'continue',\n",
       "       'continues', 'control', 'corona', 'coronavirus', 'cost', 'cough',\n",
       "       'coughed', 'could', 'countries', 'country', 'covid', 'crazy',\n",
       "       'created', 'credit', 'crisis', 'cure', 'current', 'currently',\n",
       "       'customer', 'customers', 'cut', 'daily', 'data', 'day', 'days',\n",
       "       'deal', 'decided', 'delivered', 'delivery', 'demand', 'despite',\n",
       "       'die', 'died', 'difference', 'difficult', 'direct', 'disabled',\n",
       "       'distance', 'distancing', 'distribution', 'doctors', 'donate',\n",
       "       'donations', 'done', 'door', 'doors', 'drive', 'drivers', 'drop',\n",
       "       'due', 'dying', 'e', 'early', 'eat', 'economic', 'economy',\n",
       "       'effect', 'effects', 'efforts', 'eggs', 'either', 'elderly',\n",
       "       'else', 'email', 'emergency', 'employee', 'employees', 'empty',\n",
       "       'end', 'energy', 'enough', 'ensure', 'enter', 'equipment',\n",
       "       'especially', 'essential', 'essentials', 'etc', 'even', 'events',\n",
       "       'ever', 'every', 'everyone', 'everything', 'example', 'expected',\n",
       "       'experience', 'expert', 'experts', 'extra', 'face', 'facing',\n",
       "       'fair', 'fake', 'fall', 'falling', 'families', 'family', 'far',\n",
       "       'farmers', 'fear', 'fears', 'fed', 'federal', 'feel', 'felt',\n",
       "       'fight', 'fighting', 'financial', 'find', 'finding', 'first',\n",
       "       'follow', 'following', 'food', 'forced', 'forget', 'found', 'free',\n",
       "       'fresh', 'friend', 'friends', 'front', 'frontline', 'fucking',\n",
       "       'full', 'fully', 'gallon', 'gas', 'general', 'get', 'gets',\n",
       "       'getting', 'gift', 'give', 'given', 'giving', 'global', 'gloves',\n",
       "       'go', 'god', 'goes', 'going', 'gon', 'gone', 'good', 'goods',\n",
       "       'got', 'gouging', 'government', 'governor', 'govt', 'great',\n",
       "       'groceries', 'grocery', 'group', 'guess', 'half', 'hand', 'handle',\n",
       "       'hands', 'happen', 'happens', 'hard', 'head', 'health',\n",
       "       'healthcare', 'healthy', 'hear', 'help', 'helping', 'heroes',\n",
       "       'hey', 'high', 'higher', 'hit', 'hoarding', 'hold', 'home', 'hope',\n",
       "       'hospital', 'hour', 'hours', 'house', 'however', 'huge', 'human',\n",
       "       'husband', 'imagine', 'impact', 'important', 'include',\n",
       "       'including', 'income', 'increase', 'increased', 'increases',\n",
       "       'india', 'industry', 'information', 'inside', 'insights',\n",
       "       'instead', 'insurance', 'interesting', 'isolation', 'issue',\n",
       "       'italy', 'items', 'job', 'jobs', 'join', 'keep', 'keeping',\n",
       "       'keeps', 'key', 'kids', 'kind', 'know', 'large', 'last', 'later',\n",
       "       'latest', 'law', 'lead', 'leading', 'learn', 'least', 'leave',\n",
       "       'left', 'less', 'let', 'levels', 'life', 'light', 'like', 'likely',\n",
       "       'limit', 'limited', 'line', 'lines', 'link', 'list', 'listen',\n",
       "       'little', 'live', 'lives', 'living', 'local', 'lock', 'lockdown',\n",
       "       'london', 'long', 'longer', 'look', 'looking', 'looks', 'lost',\n",
       "       'lot', 'lots', 'love', 'low', 'lower', 'made', 'major', 'make',\n",
       "       'makes', 'making', 'man', 'manufacturing', 'many', 'march',\n",
       "       'market', 'marketing', 'markets', 'mask', 'masks', 'may', 'maybe',\n",
       "       'mean', 'means', 'measures', 'meat', 'media', 'medical', 'meet',\n",
       "       'message', 'might', 'milk', 'million', 'minister', 'minutes',\n",
       "       'moment', 'money', 'month', 'months', 'morning', 'much', 'mum',\n",
       "       'must', 'n', 'na', 'nation', 'national', 'near', 'necessary',\n",
       "       'need', 'needed', 'needs', 'negative', 'never', 'new', 'news',\n",
       "       'next', 'nhs', 'nigeria', 'nobody', 'non', 'normal', 'note',\n",
       "       'nothing', 'novel', 'number', 'nurses', 'offer', 'offers',\n",
       "       'office', 'officials', 'often', 'oil', 'ok', 'older', 'one',\n",
       "       'ones', 'ongoing', 'online', 'open', 'opportunity', 'options',\n",
       "       'order', 'orders', 'others', 'outbreak', 'outside', 'paid',\n",
       "       'pandemic', 'panic', 'paper', 'part', 'past', 'pasta', 'patients',\n",
       "       'pay', 'paying', 'people', 'per', 'period', 'person', 'personal',\n",
       "       'petrol', 'pharmacies', 'pharmacy', 'phone', 'pick', 'place',\n",
       "       'plan', 'please', 'plenty', 'pm', 'point', 'police', 'positive',\n",
       "       'possible', 'post', 'potential', 'power', 'ppe', 'ppl',\n",
       "       'president', 'prevent', 'price', 'prices', 'priorities',\n",
       "       'priority', 'private', 'problem', 'produce', 'product',\n",
       "       'production', 'products', 'profit', 'protect', 'protection',\n",
       "       'provide', 'provided', 'providing', 'public', 'purchase', 'put',\n",
       "       'putting', 'quarantine', 'quickly', 'raise', 'rather', 'read',\n",
       "       'ready', 'real', 'really', 'reason', 'recent', 'recently',\n",
       "       'recession', 'reduce', 'reduced', 'regular', 'related', 'released',\n",
       "       'relief', 'remain', 'remember', 'remote', 'report', 'reports',\n",
       "       'residents', 'resources', 'responders', 'response', 'restaurant',\n",
       "       'restaurants', 'restrictions', 'result', 'retail', 'retailers',\n",
       "       'right', 'rights', 'rise', 'risk', 'roll', 'rt', 'rules', 'run',\n",
       "       'running', 'russia', 'safe', 'safety', 'said', 'sale', 'sales',\n",
       "       'sanitizer', 'sanitizers', 'saudi', 'save', 'saw', 'say', 'says',\n",
       "       'scammers', 'scams', 'school', 'schools', 'second', 'sector',\n",
       "       'security', 'see', 'seeing', 'seems', 'seen', 'self', 'selfish',\n",
       "       'sell', 'selling', 'send', 'senior', 'seniors', 'sentiment',\n",
       "       'seriously', 'service', 'services', 'set', 'share', 'shelf',\n",
       "       'shelves', 'shock', 'shop', 'shoppers', 'shopping', 'shops',\n",
       "       'short', 'shortage', 'shortages', 'show', 'shows', 'shut', 'sick',\n",
       "       'sign', 'simple', 'since', 'single', 'situation', 'slots', 'small',\n",
       "       'soap', 'social', 'society', 'sold', 'someone', 'something', 'son',\n",
       "       'soon', 'sorry', 'south', 'special', 'spend', 'spending', 'spot',\n",
       "       'spread', 'spreads', 'staff', 'start', 'started', 'starting',\n",
       "       'state', 'states', 'stay', 'staying', 'steps', 'still', 'stock',\n",
       "       'stocked', 'stocking', 'stocks', 'stop', 'store', 'stores',\n",
       "       'stories', 'story', 'street', 'struggling', 'study', 'stuff',\n",
       "       'supermarket', 'supermarkets', 'suppliers', 'supplies', 'supply',\n",
       "       'support', 'sure', 'surge', 'take', 'taken', 'takes', 'taking',\n",
       "       'team', 'tell', 'temporarily', 'temporary', 'term', 'test',\n",
       "       'tested', 'testing', 'tests', 'thank', 'thanks', 'thing', 'things',\n",
       "       'think', 'though', 'thought', 'threat', 'three', 'thursday',\n",
       "       'time', 'times', 'tips', 'today', 'together', 'toilet', 'told',\n",
       "       'tonight', 'top', 'touch', 'towards', 'tp', 'track', 'trade',\n",
       "       'traffic', 'travel', 'trip', 'trips', 'true', 'trump', 'try',\n",
       "       'trying', 'two', 'u', 'uk', 'unable', 'understand', 'unemployment',\n",
       "       'update', 'us', 'use', 'used', 'using', 'vegetables', 'via',\n",
       "       'video', 'virus', 'visit', 'vulnerable', 'w', 'wage', 'wait',\n",
       "       'waiting', 'walk', 'walking', 'walmart', 'want', 'war', 'warning',\n",
       "       'wash', 'washing', 'waste', 'watch', 'water', 'way', 'ways',\n",
       "       'wear', 'wearing', 'week', 'weekly', 'weeks', 'well', 'went',\n",
       "       'whilst', 'whole', 'wipes', 'without', 'wo', 'woman', 'work',\n",
       "       'worker', 'workers', 'working', 'works', 'world', 'worried',\n",
       "       'worse', 'worth', 'would', 'wrong', 'wtf', 'year', 'years', 'yes',\n",
       "       'yesterday', 'yet', 'â'], dtype='<U13')"
      ]
     },
     "execution_count": 19,
     "metadata": {},
     "output_type": "execute_result"
    }
   ],
   "source": [
    "np.array(sorted(list(model.wv.vocab.keys())))[:]"
   ]
  },
  {
   "cell_type": "code",
   "execution_count": 20,
   "metadata": {
    "execution": {
     "iopub.execute_input": "2021-01-26T13:27:23.677660Z",
     "iopub.status.busy": "2021-01-26T13:27:23.677660Z",
     "iopub.status.idle": "2021-01-26T13:27:23.691664Z",
     "shell.execute_reply": "2021-01-26T13:27:23.691664Z",
     "shell.execute_reply.started": "2021-01-26T13:27:23.677660Z"
    }
   },
   "outputs": [
    {
     "data": {
      "text/plain": [
       "[('coronavirus', 0.6751353740692139),\n",
       " ('countries', 0.569097101688385),\n",
       " ('demand', 0.5309261083602905),\n",
       " ('national', 0.5219695568084717),\n",
       " ('lower', 0.47922608256340027),\n",
       " ('novel', 0.4686873257160187),\n",
       " ('benefit', 0.46148666739463806),\n",
       " ('india', 0.45818910002708435),\n",
       " ('continues', 0.45539015531539917),\n",
       " ('fears', 0.44877728819847107)]"
      ]
     },
     "execution_count": 20,
     "metadata": {},
     "output_type": "execute_result"
    }
   ],
   "source": [
    "model.most_similar('covid')"
   ]
  },
  {
   "cell_type": "code",
   "execution_count": 21,
   "metadata": {
    "execution": {
     "iopub.execute_input": "2021-01-26T13:27:23.693664Z",
     "iopub.status.busy": "2021-01-26T13:27:23.692664Z",
     "iopub.status.idle": "2021-01-26T13:27:23.708668Z",
     "shell.execute_reply": "2021-01-26T13:27:23.707667Z",
     "shell.execute_reply.started": "2021-01-26T13:27:23.693664Z"
    }
   },
   "outputs": [
    {
     "data": {
      "text/plain": [
       "[('hand', 0.7414911985397339),\n",
       " ('soap', 0.7407985925674438),\n",
       " ('alcohol', 0.6949029564857483),\n",
       " ('hands', 0.6280527114868164),\n",
       " ('washing', 0.5997336506843567),\n",
       " ('sanitizers', 0.5673113465309143),\n",
       " ('bottle', 0.5527368187904358),\n",
       " ('face', 0.5202052593231201),\n",
       " ('using', 0.5083763599395752),\n",
       " ('wipes', 0.5021522045135498)]"
      ]
     },
     "execution_count": 21,
     "metadata": {},
     "output_type": "execute_result"
    }
   ],
   "source": [
    "model.most_similar('sanitizer')"
   ]
  },
  {
   "cell_type": "code",
   "execution_count": 22,
   "metadata": {
    "execution": {
     "iopub.execute_input": "2021-01-26T13:27:23.709669Z",
     "iopub.status.busy": "2021-01-26T13:27:23.709669Z",
     "iopub.status.idle": "2021-01-26T13:27:23.724672Z",
     "shell.execute_reply": "2021-01-26T13:27:23.723671Z",
     "shell.execute_reply.started": "2021-01-26T13:27:23.709669Z"
    }
   },
   "outputs": [
    {
     "data": {
      "text/plain": [
       "[('hand', 0.7171080112457275),\n",
       " ('soap', 0.7122159004211426),\n",
       " ('sanitizer', 0.6949028372764587),\n",
       " ('wipes', 0.60732102394104),\n",
       " ('hands', 0.5364012122154236),\n",
       " ('bottle', 0.5272758603096008),\n",
       " ('washing', 0.5235663652420044),\n",
       " ('sell', 0.47474536299705505),\n",
       " ('sanitizers', 0.46785497665405273),\n",
       " ('resources', 0.46315622329711914)]"
      ]
     },
     "execution_count": 22,
     "metadata": {},
     "output_type": "execute_result"
    }
   ],
   "source": [
    "model.most_similar('alcohol')"
   ]
  },
  {
   "cell_type": "code",
   "execution_count": 23,
   "metadata": {
    "execution": {
     "iopub.execute_input": "2021-01-26T13:27:23.725672Z",
     "iopub.status.busy": "2021-01-26T13:27:23.725672Z",
     "iopub.status.idle": "2021-01-26T13:27:23.740675Z",
     "shell.execute_reply": "2021-01-26T13:27:23.739675Z",
     "shell.execute_reply.started": "2021-01-26T13:27:23.725672Z"
    }
   },
   "outputs": [
    {
     "data": {
      "text/plain": [
       "[('nurses', 0.7639095783233643),\n",
       " ('drivers', 0.6703668236732483),\n",
       " ('workers', 0.6046469211578369),\n",
       " ('clerks', 0.5538270473480225),\n",
       " ('worker', 0.5219735503196716),\n",
       " ('healthcare', 0.5127167701721191),\n",
       " ('hospital', 0.5048482418060303),\n",
       " ('medical', 0.5035487413406372),\n",
       " ('ppe', 0.4805341958999634),\n",
       " ('key', 0.48036712408065796)]"
      ]
     },
     "execution_count": 23,
     "metadata": {},
     "output_type": "execute_result"
    }
   ],
   "source": [
    "model.most_similar(positive=['doctors', 'woman'], negative=['man'])"
   ]
  },
  {
   "cell_type": "markdown",
   "metadata": {},
   "source": [
    "## Export weight"
   ]
  },
  {
   "cell_type": "code",
   "execution_count": 24,
   "metadata": {
    "execution": {
     "iopub.execute_input": "2021-01-26T13:27:23.742677Z",
     "iopub.status.busy": "2021-01-26T13:27:23.742677Z",
     "iopub.status.idle": "2021-01-26T13:27:23.756683Z",
     "shell.execute_reply": "2021-01-26T13:27:23.755679Z",
     "shell.execute_reply.started": "2021-01-26T13:27:23.742677Z"
    }
   },
   "outputs": [],
   "source": [
    "# export vector\n",
    "vocab = []\n",
    "vectors = []\n",
    "for word in list(model.wv.vocab.keys()):\n",
    "    vocab.append(word)\n",
    "    vectors.append(model.wv[word])"
   ]
  },
  {
   "cell_type": "code",
   "execution_count": 25,
   "metadata": {
    "execution": {
     "iopub.execute_input": "2021-01-26T13:27:23.758683Z",
     "iopub.status.busy": "2021-01-26T13:27:23.757680Z",
     "iopub.status.idle": "2021-01-26T13:27:23.788688Z",
     "shell.execute_reply": "2021-01-26T13:27:23.787687Z",
     "shell.execute_reply.started": "2021-01-26T13:27:23.758683Z"
    }
   },
   "outputs": [],
   "source": [
    "vec_df = pd.DataFrame(vectors)\n",
    "word_df = pd.DataFrame(vocab)"
   ]
  },
  {
   "cell_type": "code",
   "execution_count": 26,
   "metadata": {
    "execution": {
     "iopub.execute_input": "2021-01-26T13:27:23.789688Z",
     "iopub.status.busy": "2021-01-26T13:27:23.789688Z",
     "iopub.status.idle": "2021-01-26T13:27:23.851700Z",
     "shell.execute_reply": "2021-01-26T13:27:23.851700Z",
     "shell.execute_reply.started": "2021-01-26T13:27:23.789688Z"
    }
   },
   "outputs": [],
   "source": [
    "vec_df.to_csv(\"./outputs/vectors.tsv\", sep='\\t', index=False, header=False)\n",
    "word_df.to_csv(\"./outputs/words.tsv\", sep='\\t', index=False, header=False)"
   ]
  },
  {
   "cell_type": "markdown",
   "metadata": {},
   "source": [
    "## PCA"
   ]
  },
  {
   "cell_type": "code",
   "execution_count": 27,
   "metadata": {
    "execution": {
     "iopub.execute_input": "2021-01-26T13:27:23.852701Z",
     "iopub.status.busy": "2021-01-26T13:27:23.852701Z",
     "iopub.status.idle": "2021-01-26T13:27:23.868704Z",
     "shell.execute_reply": "2021-01-26T13:27:23.867704Z",
     "shell.execute_reply.started": "2021-01-26T13:27:23.852701Z"
    }
   },
   "outputs": [],
   "source": [
    "pca = PCA(n_components=2)"
   ]
  },
  {
   "cell_type": "code",
   "execution_count": 28,
   "metadata": {
    "execution": {
     "iopub.execute_input": "2021-01-26T13:27:23.869705Z",
     "iopub.status.busy": "2021-01-26T13:27:23.868704Z",
     "iopub.status.idle": "2021-01-26T13:27:23.884708Z",
     "shell.execute_reply": "2021-01-26T13:27:23.883709Z",
     "shell.execute_reply.started": "2021-01-26T13:27:23.869705Z"
    }
   },
   "outputs": [
    {
     "data": {
      "text/plain": [
       "PCA(n_components=2)"
      ]
     },
     "execution_count": 28,
     "metadata": {},
     "output_type": "execute_result"
    }
   ],
   "source": [
    "pca.fit(vec_df)"
   ]
  },
  {
   "cell_type": "code",
   "execution_count": 29,
   "metadata": {
    "execution": {
     "iopub.execute_input": "2021-01-26T13:27:23.885710Z",
     "iopub.status.busy": "2021-01-26T13:27:23.885710Z",
     "iopub.status.idle": "2021-01-26T13:27:23.900712Z",
     "shell.execute_reply": "2021-01-26T13:27:23.899713Z",
     "shell.execute_reply.started": "2021-01-26T13:27:23.885710Z"
    }
   },
   "outputs": [],
   "source": [
    "vec_low_d = pca.transform(vec_df)"
   ]
  },
  {
   "cell_type": "code",
   "execution_count": 30,
   "metadata": {
    "execution": {
     "iopub.execute_input": "2021-01-26T13:27:23.902714Z",
     "iopub.status.busy": "2021-01-26T13:27:23.901713Z",
     "iopub.status.idle": "2021-01-26T13:27:24.201779Z",
     "shell.execute_reply": "2021-01-26T13:27:24.201779Z",
     "shell.execute_reply.started": "2021-01-26T13:27:23.902714Z"
    }
   },
   "outputs": [
    {
     "data": {
      "text/plain": [
       "<matplotlib.axes._subplots.AxesSubplot at 0x26df29932e0>"
      ]
     },
     "execution_count": 30,
     "metadata": {},
     "output_type": "execute_result"
    },
    {
     "data": {
      "image/png": "[encoded data removed]",
      "text/plain": [
       "<Figure size 1575x675 with 1 Axes>"
      ]
     },
     "metadata": {},
     "output_type": "display_data"
    }
   ],
   "source": [
    "sns.scatterplot(vec_low_d[:, 0], vec_low_d[:, 1])"
   ]
  },
  {
   "cell_type": "code",
   "execution_count": null,
   "metadata": {},
   "outputs": [],
   "source": []
  },
  {
   "cell_type": "code",
   "execution_count": null,
   "metadata": {},
   "outputs": [],
   "source": []
  }
 ],
 "metadata": {
  "kernelspec": {
   "display_name": "Python 3",
   "language": "python",
   "name": "python3"
  },
  "language_info": {
   "codemirror_mode": {
    "name": "ipython",
    "version": 3
   },
   "file_extension": ".py",
   "mimetype": "text/x-python",
   "name": "python",
   "nbconvert_exporter": "python",
   "pygments_lexer": "ipython3",
   "version": "3.8.3"
  }
 },
 "nbformat": 4,
 "nbformat_minor": 4
}
