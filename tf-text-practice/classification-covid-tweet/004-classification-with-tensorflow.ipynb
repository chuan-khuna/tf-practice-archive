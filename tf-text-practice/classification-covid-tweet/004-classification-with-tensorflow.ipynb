{
 "cells": [
  {
   "cell_type": "markdown",
   "metadata": {},
   "source": [
    "# Text Classification//Tensorflow"
   ]
  },
  {
   "cell_type": "markdown",
   "metadata": {},
   "source": [
    "# Import Libraries"
   ]
  },
  {
   "cell_type": "code",
   "execution_count": 1,
   "metadata": {
    "execution": {
     "iopub.execute_input": "2021-01-26T13:57:36.709087Z",
     "iopub.status.busy": "2021-01-26T13:57:36.709087Z",
     "iopub.status.idle": "2021-01-26T13:57:39.716427Z",
     "shell.execute_reply": "2021-01-26T13:57:39.716427Z",
     "shell.execute_reply.started": "2021-01-26T13:57:36.709087Z"
    }
   },
   "outputs": [],
   "source": [
    "import numpy as np\n",
    "import pandas as pd\n",
    "import tensorflow as tf\n",
    "\n",
    "seed_ = 20200218\n",
    "np.random.seed(seed_)\n",
    "tf.random.set_seed(seed_)"
   ]
  },
  {
   "cell_type": "code",
   "execution_count": 2,
   "metadata": {
    "execution": {
     "iopub.execute_input": "2021-01-26T13:57:39.718420Z",
     "iopub.status.busy": "2021-01-26T13:57:39.718420Z",
     "iopub.status.idle": "2021-01-26T13:57:40.348564Z",
     "shell.execute_reply": "2021-01-26T13:57:40.348564Z",
     "shell.execute_reply.started": "2021-01-26T13:57:39.718420Z"
    }
   },
   "outputs": [],
   "source": [
    "import matplotlib.pyplot as plt\n",
    "import seaborn as sns\n",
    "\n",
    "sns.set_theme(style=\"whitegrid\",\n",
    "              context=\"paper\",\n",
    "              font_scale=1.25,\n",
    "              rc={\n",
    "                  \"figure.figsize\": (10.5, 4.5),\n",
    "                  \"figure.dpi\": 150,\n",
    "                  \"grid.alpha\": 0.1,\n",
    "                  \"grid.color\": \"#1b262c\",\n",
    "                  \"grid.linewidth\": 0.5,\n",
    "                  \"font.family\": \"Operator Mono\",\n",
    "              })\n",
    "# original first color is #202f66\n",
    "_30k = [\"#3a5b91\", \"#ff7048\", \"#7f68d0\", \"#f3d36e\", \"#d869ab\", \"#48ADA9\", \"#1b262c\"]\n",
    "sns.set_palette(_30k)\n",
    "\n",
    "import warnings\n",
    "warnings.filterwarnings('ignore')"
   ]
  },
  {
   "cell_type": "code",
   "execution_count": 3,
   "metadata": {
    "execution": {
     "iopub.execute_input": "2021-01-26T13:57:40.350563Z",
     "iopub.status.busy": "2021-01-26T13:57:40.349563Z",
     "iopub.status.idle": "2021-01-26T13:57:41.318427Z",
     "shell.execute_reply": "2021-01-26T13:57:41.318427Z",
     "shell.execute_reply.started": "2021-01-26T13:57:40.350563Z"
    }
   },
   "outputs": [],
   "source": [
    "import re\n",
    "import string\n",
    "\n",
    "import nltk\n",
    "from nltk.corpus import stopwords\n",
    "import wordcloud\n",
    "\n",
    "import gensim\n",
    "from gensim.models import Word2Vec"
   ]
  },
  {
   "cell_type": "code",
   "execution_count": 4,
   "metadata": {
    "execution": {
     "iopub.execute_input": "2021-01-26T13:57:41.319436Z",
     "iopub.status.busy": "2021-01-26T13:57:41.319436Z",
     "iopub.status.idle": "2021-01-26T13:57:41.334432Z",
     "shell.execute_reply": "2021-01-26T13:57:41.333431Z",
     "shell.execute_reply.started": "2021-01-26T13:57:41.319436Z"
    }
   },
   "outputs": [],
   "source": [
    "import tensorflow as tf\n",
    "from tensorflow.keras.preprocessing.text import Tokenizer\n",
    "from tensorflow.keras.preprocessing.sequence import pad_sequences"
   ]
  },
  {
   "cell_type": "code",
   "execution_count": 5,
   "metadata": {
    "execution": {
     "iopub.execute_input": "2021-01-26T13:57:41.335432Z",
     "iopub.status.busy": "2021-01-26T13:57:41.335432Z",
     "iopub.status.idle": "2021-01-26T13:57:41.349433Z",
     "shell.execute_reply": "2021-01-26T13:57:41.349433Z",
     "shell.execute_reply.started": "2021-01-26T13:57:41.335432Z"
    }
   },
   "outputs": [],
   "source": [
    "from sklearn.metrics import classification_report"
   ]
  },
  {
   "cell_type": "code",
   "execution_count": 6,
   "metadata": {
    "execution": {
     "iopub.execute_input": "2021-01-26T13:57:41.351434Z",
     "iopub.status.busy": "2021-01-26T13:57:41.351434Z",
     "iopub.status.idle": "2021-01-26T13:57:41.364437Z",
     "shell.execute_reply": "2021-01-26T13:57:41.364437Z",
     "shell.execute_reply.started": "2021-01-26T13:57:41.351434Z"
    }
   },
   "outputs": [],
   "source": [
    "stop_words = stopwords.words(\"english\")"
   ]
  },
  {
   "cell_type": "markdown",
   "metadata": {},
   "source": [
    "# Load Data"
   ]
  },
  {
   "cell_type": "code",
   "execution_count": 7,
   "metadata": {
    "execution": {
     "iopub.execute_input": "2021-01-26T13:57:41.366438Z",
     "iopub.status.busy": "2021-01-26T13:57:41.365437Z",
     "iopub.status.idle": "2021-01-26T13:57:41.615466Z",
     "shell.execute_reply": "2021-01-26T13:57:41.615466Z",
     "shell.execute_reply.started": "2021-01-26T13:57:41.366438Z"
    }
   },
   "outputs": [],
   "source": [
    "train_df = pd.read_csv(\"./cleaned/train.csv\")\n",
    "test_df = pd.read_csv(\"./cleaned/test.csv\")"
   ]
  },
  {
   "cell_type": "code",
   "execution_count": 8,
   "metadata": {
    "execution": {
     "iopub.execute_input": "2021-01-26T13:57:41.616467Z",
     "iopub.status.busy": "2021-01-26T13:57:41.616467Z",
     "iopub.status.idle": "2021-01-26T13:57:41.631462Z",
     "shell.execute_reply": "2021-01-26T13:57:41.630463Z",
     "shell.execute_reply.started": "2021-01-26T13:57:41.616467Z"
    }
   },
   "outputs": [
    {
     "data": {
      "text/html": [
       "<div>\n",
       "<style scoped>\n",
       "    .dataframe tbody tr th:only-of-type {\n",
       "        vertical-align: middle;\n",
       "    }\n",
       "\n",
       "    .dataframe tbody tr th {\n",
       "        vertical-align: top;\n",
       "    }\n",
       "\n",
       "    .dataframe thead th {\n",
       "        text-align: right;\n",
       "    }\n",
       "</style>\n",
       "<table border=\"1\" class=\"dataframe\">\n",
       "  <thead>\n",
       "    <tr style=\"text-align: right;\">\n",
       "      <th></th>\n",
       "      <th>UserName</th>\n",
       "      <th>ScreenName</th>\n",
       "      <th>Location</th>\n",
       "      <th>TweetAt</th>\n",
       "      <th>OriginalTweet</th>\n",
       "      <th>Sentiment</th>\n",
       "      <th>Sentiment_new</th>\n",
       "      <th>cleaned_text</th>\n",
       "    </tr>\n",
       "  </thead>\n",
       "  <tbody>\n",
       "    <tr>\n",
       "      <th>0</th>\n",
       "      <td>3799</td>\n",
       "      <td>48751</td>\n",
       "      <td>London</td>\n",
       "      <td>2020-03-16</td>\n",
       "      <td>@MeNyrbie @Phil_Gahan @Chrisitv https://t.co/i...</td>\n",
       "      <td>Neutral</td>\n",
       "      <td>neutral</td>\n",
       "      <td>and  and</td>\n",
       "    </tr>\n",
       "    <tr>\n",
       "      <th>1</th>\n",
       "      <td>3800</td>\n",
       "      <td>48752</td>\n",
       "      <td>UK</td>\n",
       "      <td>2020-03-16</td>\n",
       "      <td>advice Talk to your neighbours family to excha...</td>\n",
       "      <td>Positive</td>\n",
       "      <td>positive</td>\n",
       "      <td>advice Talk to your neighbours family to excha...</td>\n",
       "    </tr>\n",
       "    <tr>\n",
       "      <th>2</th>\n",
       "      <td>3801</td>\n",
       "      <td>48753</td>\n",
       "      <td>Vagabonds</td>\n",
       "      <td>2020-03-16</td>\n",
       "      <td>Coronavirus Australia: Woolworths to give elde...</td>\n",
       "      <td>Positive</td>\n",
       "      <td>positive</td>\n",
       "      <td>Coronavirus Australia: Woolworths to give elde...</td>\n",
       "    </tr>\n",
       "    <tr>\n",
       "      <th>3</th>\n",
       "      <td>3802</td>\n",
       "      <td>48754</td>\n",
       "      <td>NaN</td>\n",
       "      <td>2020-03-16</td>\n",
       "      <td>My food stock is not the only one which is emp...</td>\n",
       "      <td>Positive</td>\n",
       "      <td>positive</td>\n",
       "      <td>My food stock is not the only one which is emp...</td>\n",
       "    </tr>\n",
       "    <tr>\n",
       "      <th>4</th>\n",
       "      <td>3803</td>\n",
       "      <td>48755</td>\n",
       "      <td>NaN</td>\n",
       "      <td>2020-03-16</td>\n",
       "      <td>Me, ready to go at supermarket during the #COV...</td>\n",
       "      <td>Extremely Negative</td>\n",
       "      <td>negative</td>\n",
       "      <td>Me, ready to go at supermarket during the  out...</td>\n",
       "    </tr>\n",
       "  </tbody>\n",
       "</table>\n",
       "</div>"
      ],
      "text/plain": [
       "   UserName  ScreenName   Location     TweetAt  \\\n",
       "0      3799       48751     London  2020-03-16   \n",
       "1      3800       48752         UK  2020-03-16   \n",
       "2      3801       48753  Vagabonds  2020-03-16   \n",
       "3      3802       48754        NaN  2020-03-16   \n",
       "4      3803       48755        NaN  2020-03-16   \n",
       "\n",
       "                                       OriginalTweet           Sentiment  \\\n",
       "0  @MeNyrbie @Phil_Gahan @Chrisitv https://t.co/i...             Neutral   \n",
       "1  advice Talk to your neighbours family to excha...            Positive   \n",
       "2  Coronavirus Australia: Woolworths to give elde...            Positive   \n",
       "3  My food stock is not the only one which is emp...            Positive   \n",
       "4  Me, ready to go at supermarket during the #COV...  Extremely Negative   \n",
       "\n",
       "  Sentiment_new                                       cleaned_text  \n",
       "0       neutral                                          and  and   \n",
       "1      positive  advice Talk to your neighbours family to excha...  \n",
       "2      positive  Coronavirus Australia: Woolworths to give elde...  \n",
       "3      positive  My food stock is not the only one which is emp...  \n",
       "4      negative  Me, ready to go at supermarket during the  out...  "
      ]
     },
     "execution_count": 8,
     "metadata": {},
     "output_type": "execute_result"
    }
   ],
   "source": [
    "train_df.head()"
   ]
  },
  {
   "cell_type": "code",
   "execution_count": 9,
   "metadata": {
    "execution": {
     "iopub.execute_input": "2021-01-26T13:57:41.632464Z",
     "iopub.status.busy": "2021-01-26T13:57:41.632464Z",
     "iopub.status.idle": "2021-01-26T13:57:41.662074Z",
     "shell.execute_reply": "2021-01-26T13:57:41.662074Z",
     "shell.execute_reply.started": "2021-01-26T13:57:41.632464Z"
    }
   },
   "outputs": [
    {
     "data": {
      "text/html": [
       "<div>\n",
       "<style scoped>\n",
       "    .dataframe tbody tr th:only-of-type {\n",
       "        vertical-align: middle;\n",
       "    }\n",
       "\n",
       "    .dataframe tbody tr th {\n",
       "        vertical-align: top;\n",
       "    }\n",
       "\n",
       "    .dataframe thead th {\n",
       "        text-align: right;\n",
       "    }\n",
       "</style>\n",
       "<table border=\"1\" class=\"dataframe\">\n",
       "  <thead>\n",
       "    <tr style=\"text-align: right;\">\n",
       "      <th></th>\n",
       "      <th>UserName</th>\n",
       "      <th>ScreenName</th>\n",
       "      <th>Location</th>\n",
       "      <th>TweetAt</th>\n",
       "      <th>OriginalTweet</th>\n",
       "      <th>Sentiment</th>\n",
       "      <th>Sentiment_new</th>\n",
       "      <th>cleaned_text</th>\n",
       "    </tr>\n",
       "  </thead>\n",
       "  <tbody>\n",
       "    <tr>\n",
       "      <th>0</th>\n",
       "      <td>1</td>\n",
       "      <td>44953</td>\n",
       "      <td>NYC</td>\n",
       "      <td>2020-02-03</td>\n",
       "      <td>TRENDING: New Yorkers encounter empty supermar...</td>\n",
       "      <td>Extremely Negative</td>\n",
       "      <td>negative</td>\n",
       "      <td>TRENDING: New Yorkers encounter empty supermar...</td>\n",
       "    </tr>\n",
       "    <tr>\n",
       "      <th>1</th>\n",
       "      <td>2</td>\n",
       "      <td>44954</td>\n",
       "      <td>Seattle, WA</td>\n",
       "      <td>2020-02-03</td>\n",
       "      <td>When I couldn't find hand sanitizer at Fred Me...</td>\n",
       "      <td>Positive</td>\n",
       "      <td>positive</td>\n",
       "      <td>When I couldn't find hand sanitizer at Fred Me...</td>\n",
       "    </tr>\n",
       "    <tr>\n",
       "      <th>2</th>\n",
       "      <td>3</td>\n",
       "      <td>44955</td>\n",
       "      <td>NaN</td>\n",
       "      <td>2020-02-03</td>\n",
       "      <td>Find out how you can protect yourself and love...</td>\n",
       "      <td>Extremely Positive</td>\n",
       "      <td>positive</td>\n",
       "      <td>Find out how you can protect yourself and love...</td>\n",
       "    </tr>\n",
       "    <tr>\n",
       "      <th>3</th>\n",
       "      <td>4</td>\n",
       "      <td>44956</td>\n",
       "      <td>Chicagoland</td>\n",
       "      <td>2020-02-03</td>\n",
       "      <td>#Panic buying hits #NewYork City as anxious sh...</td>\n",
       "      <td>Negative</td>\n",
       "      <td>negative</td>\n",
       "      <td>buying hits  City as anxious shoppers stock u...</td>\n",
       "    </tr>\n",
       "    <tr>\n",
       "      <th>4</th>\n",
       "      <td>5</td>\n",
       "      <td>44957</td>\n",
       "      <td>Melbourne, Victoria</td>\n",
       "      <td>2020-03-03</td>\n",
       "      <td>#toiletpaper #dunnypaper #coronavirus #coronav...</td>\n",
       "      <td>Neutral</td>\n",
       "      <td>neutral</td>\n",
       "      <td>One week everyone buying baby m...</td>\n",
       "    </tr>\n",
       "  </tbody>\n",
       "</table>\n",
       "</div>"
      ],
      "text/plain": [
       "   UserName  ScreenName             Location     TweetAt  \\\n",
       "0         1       44953                  NYC  2020-02-03   \n",
       "1         2       44954          Seattle, WA  2020-02-03   \n",
       "2         3       44955                  NaN  2020-02-03   \n",
       "3         4       44956          Chicagoland  2020-02-03   \n",
       "4         5       44957  Melbourne, Victoria  2020-03-03   \n",
       "\n",
       "                                       OriginalTweet           Sentiment  \\\n",
       "0  TRENDING: New Yorkers encounter empty supermar...  Extremely Negative   \n",
       "1  When I couldn't find hand sanitizer at Fred Me...            Positive   \n",
       "2  Find out how you can protect yourself and love...  Extremely Positive   \n",
       "3  #Panic buying hits #NewYork City as anxious sh...            Negative   \n",
       "4  #toiletpaper #dunnypaper #coronavirus #coronav...             Neutral   \n",
       "\n",
       "  Sentiment_new                                       cleaned_text  \n",
       "0      negative  TRENDING: New Yorkers encounter empty supermar...  \n",
       "1      positive  When I couldn't find hand sanitizer at Fred Me...  \n",
       "2      positive  Find out how you can protect yourself and love...  \n",
       "3      negative   buying hits  City as anxious shoppers stock u...  \n",
       "4       neutral                 One week everyone buying baby m...  "
      ]
     },
     "execution_count": 9,
     "metadata": {},
     "output_type": "execute_result"
    }
   ],
   "source": [
    "test_df.head()"
   ]
  },
  {
   "cell_type": "markdown",
   "metadata": {},
   "source": [
    "# Preprocess Text"
   ]
  },
  {
   "cell_type": "code",
   "execution_count": 10,
   "metadata": {
    "execution": {
     "iopub.execute_input": "2021-01-26T13:57:41.663082Z",
     "iopub.status.busy": "2021-01-26T13:57:41.663082Z",
     "iopub.status.idle": "2021-01-26T13:57:41.693084Z",
     "shell.execute_reply": "2021-01-26T13:57:41.693084Z",
     "shell.execute_reply.started": "2021-01-26T13:57:41.663082Z"
    }
   },
   "outputs": [],
   "source": [
    "train_df['cleaned_text'] = train_df['cleaned_text'].apply(str)\n",
    "test_df['cleaned_text'] = test_df['cleaned_text'].apply(str)"
   ]
  },
  {
   "cell_type": "code",
   "execution_count": 11,
   "metadata": {
    "execution": {
     "iopub.execute_input": "2021-01-26T13:57:41.695084Z",
     "iopub.status.busy": "2021-01-26T13:57:41.694084Z",
     "iopub.status.idle": "2021-01-26T13:57:42.838827Z",
     "shell.execute_reply": "2021-01-26T13:57:42.838827Z",
     "shell.execute_reply.started": "2021-01-26T13:57:41.695084Z"
    }
   },
   "outputs": [],
   "source": [
    "tokenizer = Tokenizer()\n",
    "tokenizer.fit_on_texts(train_df['cleaned_text'])"
   ]
  },
  {
   "cell_type": "code",
   "execution_count": 12,
   "metadata": {
    "execution": {
     "iopub.execute_input": "2021-01-26T13:57:42.839836Z",
     "iopub.status.busy": "2021-01-26T13:57:42.839836Z",
     "iopub.status.idle": "2021-01-26T13:57:42.854813Z",
     "shell.execute_reply": "2021-01-26T13:57:42.854813Z",
     "shell.execute_reply.started": "2021-01-26T13:57:42.839836Z"
    }
   },
   "outputs": [
    {
     "data": {
      "text/plain": [
       "39986"
      ]
     },
     "execution_count": 12,
     "metadata": {},
     "output_type": "execute_result"
    }
   ],
   "source": [
    "vocab_size = len(tokenizer.word_index)+1\n",
    "vocab_size"
   ]
  },
  {
   "cell_type": "code",
   "execution_count": 13,
   "metadata": {
    "execution": {
     "iopub.execute_input": "2021-01-26T13:57:42.855822Z",
     "iopub.status.busy": "2021-01-26T13:57:42.855822Z",
     "iopub.status.idle": "2021-01-26T13:57:43.821041Z",
     "shell.execute_reply": "2021-01-26T13:57:43.821041Z",
     "shell.execute_reply.started": "2021-01-26T13:57:42.855822Z"
    }
   },
   "outputs": [],
   "source": [
    "x_train = tokenizer.texts_to_sequences(train_df['cleaned_text'])\n",
    "x_test = tokenizer.texts_to_sequences(test_df['cleaned_text'])"
   ]
  },
  {
   "cell_type": "code",
   "execution_count": 14,
   "metadata": {
    "execution": {
     "iopub.execute_input": "2021-01-26T13:57:43.822042Z",
     "iopub.status.busy": "2021-01-26T13:57:43.822042Z",
     "iopub.status.idle": "2021-01-26T13:57:43.836036Z",
     "shell.execute_reply": "2021-01-26T13:57:43.836036Z",
     "shell.execute_reply.started": "2021-01-26T13:57:43.822042Z"
    }
   },
   "outputs": [
    {
     "data": {
      "text/plain": [
       "64"
      ]
     },
     "execution_count": 14,
     "metadata": {},
     "output_type": "execute_result"
    }
   ],
   "source": [
    "max_length = np.max([len(i) for i in x_train])\n",
    "max_length"
   ]
  },
  {
   "cell_type": "code",
   "execution_count": 15,
   "metadata": {
    "execution": {
     "iopub.execute_input": "2021-01-26T13:57:43.837046Z",
     "iopub.status.busy": "2021-01-26T13:57:43.837046Z",
     "iopub.status.idle": "2021-01-26T13:57:44.103096Z",
     "shell.execute_reply": "2021-01-26T13:57:44.103096Z",
     "shell.execute_reply.started": "2021-01-26T13:57:43.837046Z"
    }
   },
   "outputs": [],
   "source": [
    "x_train = pad_sequences(x_train, maxlen=max_length, padding='post', truncating='post')\n",
    "x_test = pad_sequences(x_test, maxlen=max_length, padding='post', truncating='post')"
   ]
  },
  {
   "cell_type": "markdown",
   "metadata": {},
   "source": [
    "# preprocess output"
   ]
  },
  {
   "cell_type": "code",
   "execution_count": 16,
   "metadata": {
    "execution": {
     "iopub.execute_input": "2021-01-26T13:57:44.105097Z",
     "iopub.status.busy": "2021-01-26T13:57:44.105097Z",
     "iopub.status.idle": "2021-01-26T13:57:44.120102Z",
     "shell.execute_reply": "2021-01-26T13:57:44.119103Z",
     "shell.execute_reply.started": "2021-01-26T13:57:44.105097Z"
    }
   },
   "outputs": [
    {
     "data": {
      "text/plain": [
       "0     neutral\n",
       "1    positive\n",
       "4    negative\n",
       "Name: Sentiment_new, dtype: object"
      ]
     },
     "execution_count": 16,
     "metadata": {},
     "output_type": "execute_result"
    }
   ],
   "source": [
    "train_df['Sentiment_new'].drop_duplicates()"
   ]
  },
  {
   "cell_type": "code",
   "execution_count": 17,
   "metadata": {
    "execution": {
     "iopub.execute_input": "2021-01-26T13:57:44.122101Z",
     "iopub.status.busy": "2021-01-26T13:57:44.121102Z",
     "iopub.status.idle": "2021-01-26T13:57:44.135105Z",
     "shell.execute_reply": "2021-01-26T13:57:44.135105Z",
     "shell.execute_reply.started": "2021-01-26T13:57:44.122101Z"
    }
   },
   "outputs": [
    {
     "data": {
      "text/plain": [
       "0    negative\n",
       "1    positive\n",
       "4     neutral\n",
       "Name: Sentiment_new, dtype: object"
      ]
     },
     "execution_count": 17,
     "metadata": {},
     "output_type": "execute_result"
    }
   ],
   "source": [
    "test_df['Sentiment_new'].drop_duplicates()"
   ]
  },
  {
   "cell_type": "code",
   "execution_count": 18,
   "metadata": {
    "execution": {
     "iopub.execute_input": "2021-01-26T13:57:44.137106Z",
     "iopub.status.busy": "2021-01-26T13:57:44.136108Z",
     "iopub.status.idle": "2021-01-26T13:57:44.151108Z",
     "shell.execute_reply": "2021-01-26T13:57:44.151108Z",
     "shell.execute_reply.started": "2021-01-26T13:57:44.137106Z"
    }
   },
   "outputs": [],
   "source": [
    "sentiment = {'negative': 2, 'positive': 1, 'neutral': 0}"
   ]
  },
  {
   "cell_type": "code",
   "execution_count": 19,
   "metadata": {
    "execution": {
     "iopub.execute_input": "2021-01-26T13:57:44.152107Z",
     "iopub.status.busy": "2021-01-26T13:57:44.152107Z",
     "iopub.status.idle": "2021-01-26T13:57:44.167111Z",
     "shell.execute_reply": "2021-01-26T13:57:44.167111Z",
     "shell.execute_reply.started": "2021-01-26T13:57:44.152107Z"
    }
   },
   "outputs": [],
   "source": [
    "y_train = np.array(train_df['Sentiment_new'].map(sentiment))\n",
    "y_test = np.array(test_df['Sentiment_new'].map(sentiment))"
   ]
  },
  {
   "cell_type": "markdown",
   "metadata": {},
   "source": [
    "# Summary preprocessed"
   ]
  },
  {
   "cell_type": "code",
   "execution_count": 20,
   "metadata": {
    "execution": {
     "iopub.execute_input": "2021-01-26T13:57:44.169112Z",
     "iopub.status.busy": "2021-01-26T13:57:44.168112Z",
     "iopub.status.idle": "2021-01-26T13:57:44.183115Z",
     "shell.execute_reply": "2021-01-26T13:57:44.183115Z",
     "shell.execute_reply.started": "2021-01-26T13:57:44.169112Z"
    }
   },
   "outputs": [
    {
     "data": {
      "text/plain": [
       "((41157, 64), (3798, 64))"
      ]
     },
     "execution_count": 20,
     "metadata": {},
     "output_type": "execute_result"
    }
   ],
   "source": [
    "x_train.shape, x_test.shape"
   ]
  },
  {
   "cell_type": "code",
   "execution_count": 21,
   "metadata": {
    "execution": {
     "iopub.execute_input": "2021-01-26T13:57:44.185117Z",
     "iopub.status.busy": "2021-01-26T13:57:44.185117Z",
     "iopub.status.idle": "2021-01-26T13:57:44.200120Z",
     "shell.execute_reply": "2021-01-26T13:57:44.199118Z",
     "shell.execute_reply.started": "2021-01-26T13:57:44.185117Z"
    }
   },
   "outputs": [
    {
     "data": {
      "text/plain": [
       "((41157,), (3798,))"
      ]
     },
     "execution_count": 21,
     "metadata": {},
     "output_type": "execute_result"
    }
   ],
   "source": [
    "y_train.shape, y_test.shape"
   ]
  },
  {
   "cell_type": "code",
   "execution_count": 22,
   "metadata": {
    "execution": {
     "iopub.execute_input": "2021-01-26T13:57:44.201120Z",
     "iopub.status.busy": "2021-01-26T13:57:44.201120Z",
     "iopub.status.idle": "2021-01-26T13:57:44.215123Z",
     "shell.execute_reply": "2021-01-26T13:57:44.215123Z",
     "shell.execute_reply.started": "2021-01-26T13:57:44.201120Z"
    }
   },
   "outputs": [
    {
     "data": {
      "text/plain": [
       "39986"
      ]
     },
     "execution_count": 22,
     "metadata": {},
     "output_type": "execute_result"
    }
   ],
   "source": [
    "vocab_size"
   ]
  },
  {
   "cell_type": "code",
   "execution_count": 23,
   "metadata": {
    "execution": {
     "iopub.execute_input": "2021-01-26T13:57:44.217123Z",
     "iopub.status.busy": "2021-01-26T13:57:44.216123Z",
     "iopub.status.idle": "2021-01-26T13:57:44.232126Z",
     "shell.execute_reply": "2021-01-26T13:57:44.231127Z",
     "shell.execute_reply.started": "2021-01-26T13:57:44.217123Z"
    }
   },
   "outputs": [
    {
     "data": {
      "text/plain": [
       "64"
      ]
     },
     "execution_count": 23,
     "metadata": {},
     "output_type": "execute_result"
    }
   ],
   "source": [
    "max_length"
   ]
  },
  {
   "cell_type": "markdown",
   "metadata": {},
   "source": [
    "# Model"
   ]
  },
  {
   "cell_type": "code",
   "execution_count": 24,
   "metadata": {
    "execution": {
     "iopub.execute_input": "2021-01-26T13:57:44.233128Z",
     "iopub.status.busy": "2021-01-26T13:57:44.233128Z",
     "iopub.status.idle": "2021-01-26T13:57:44.248132Z",
     "shell.execute_reply": "2021-01-26T13:57:44.247131Z",
     "shell.execute_reply.started": "2021-01-26T13:57:44.233128Z"
    }
   },
   "outputs": [],
   "source": [
    "embedding_dims = 16"
   ]
  },
  {
   "cell_type": "code",
   "execution_count": 25,
   "metadata": {
    "execution": {
     "iopub.execute_input": "2021-01-26T13:57:44.249131Z",
     "iopub.status.busy": "2021-01-26T13:57:44.249131Z",
     "iopub.status.idle": "2021-01-26T13:57:45.442570Z",
     "shell.execute_reply": "2021-01-26T13:57:45.441571Z",
     "shell.execute_reply.started": "2021-01-26T13:57:44.249131Z"
    }
   },
   "outputs": [
    {
     "name": "stdout",
     "output_type": "stream",
     "text": [
      "WARNING:tensorflow:Layer lstm will not use cuDNN kernel since it doesn't meet the cuDNN kernel criteria. It will use generic GPU kernel as fallback when running on GPU\n",
      "WARNING:tensorflow:Layer lstm will not use cuDNN kernel since it doesn't meet the cuDNN kernel criteria. It will use generic GPU kernel as fallback when running on GPU\n",
      "WARNING:tensorflow:Layer lstm will not use cuDNN kernel since it doesn't meet the cuDNN kernel criteria. It will use generic GPU kernel as fallback when running on GPU\n"
     ]
    }
   ],
   "source": [
    "model = tf.keras.Sequential()\n",
    "\n",
    "model.add(\n",
    "    tf.keras.layers.Embedding(input_dim=vocab_size, \n",
    "                              output_dim=embedding_dims, \n",
    "                              input_length=max_length)\n",
    ")\n",
    "\n",
    "model.add(\n",
    "    tf.keras.layers.Bidirectional(tf.keras.layers.LSTM(32, activation='relu', return_sequences=True))\n",
    ")\n",
    "model.add(tf.keras.layers.Dropout(0.1))\n",
    "model.add(tf.keras.layers.GlobalAvgPool1D())\n",
    "model.add(tf.keras.layers.Dense(16, activation='relu'))\n",
    "model.add(tf.keras.layers.Dense(3, activation='softmax'))"
   ]
  },
  {
   "cell_type": "code",
   "execution_count": 26,
   "metadata": {
    "execution": {
     "iopub.execute_input": "2021-01-26T13:57:45.442570Z",
     "iopub.status.busy": "2021-01-26T13:57:45.442570Z",
     "iopub.status.idle": "2021-01-26T13:57:45.457574Z",
     "shell.execute_reply": "2021-01-26T13:57:45.457574Z",
     "shell.execute_reply.started": "2021-01-26T13:57:45.442570Z"
    }
   },
   "outputs": [
    {
     "name": "stdout",
     "output_type": "stream",
     "text": [
      "Model: \"sequential\"\n",
      "_________________________________________________________________\n",
      "Layer (type)                 Output Shape              Param #   \n",
      "=================================================================\n",
      "embedding (Embedding)        (None, 64, 16)            639776    \n",
      "_________________________________________________________________\n",
      "bidirectional (Bidirectional (None, 64, 64)            12544     \n",
      "_________________________________________________________________\n",
      "dropout (Dropout)            (None, 64, 64)            0         \n",
      "_________________________________________________________________\n",
      "global_average_pooling1d (Gl (None, 64)                0         \n",
      "_________________________________________________________________\n",
      "dense (Dense)                (None, 16)                1040      \n",
      "_________________________________________________________________\n",
      "dense_1 (Dense)              (None, 3)                 51        \n",
      "=================================================================\n",
      "Total params: 653,411\n",
      "Trainable params: 653,411\n",
      "Non-trainable params: 0\n",
      "_________________________________________________________________\n"
     ]
    }
   ],
   "source": [
    "model.summary()"
   ]
  },
  {
   "cell_type": "code",
   "execution_count": 27,
   "metadata": {
    "execution": {
     "iopub.execute_input": "2021-01-26T13:57:45.458574Z",
     "iopub.status.busy": "2021-01-26T13:57:45.458574Z",
     "iopub.status.idle": "2021-01-26T13:57:45.474580Z",
     "shell.execute_reply": "2021-01-26T13:57:45.473577Z",
     "shell.execute_reply.started": "2021-01-26T13:57:45.458574Z"
    }
   },
   "outputs": [],
   "source": [
    "optimizer = tf.keras.optimizers.Adam()\n",
    "\n",
    "model.compile(optimizer=optimizer, loss='sparse_categorical_crossentropy', metrics=['accuracy'])"
   ]
  },
  {
   "cell_type": "code",
   "execution_count": 28,
   "metadata": {
    "execution": {
     "iopub.execute_input": "2021-01-26T13:57:45.475579Z",
     "iopub.status.busy": "2021-01-26T13:57:45.475579Z",
     "iopub.status.idle": "2021-01-26T14:06:57.968699Z",
     "shell.execute_reply": "2021-01-26T14:06:57.968699Z",
     "shell.execute_reply.started": "2021-01-26T13:57:45.475579Z"
    }
   },
   "outputs": [
    {
     "name": "stdout",
     "output_type": "stream",
     "text": [
      "Epoch 1/15\n",
      "161/161 [==============================] - 38s 234ms/step - loss: 1.0109 - accuracy: 0.4471 - val_loss: 0.9547 - val_accuracy: 0.4466\n",
      "Epoch 2/15\n",
      "161/161 [==============================] - 37s 228ms/step - loss: 0.9148 - accuracy: 0.5107 - val_loss: 0.8641 - val_accuracy: 0.4955\n",
      "Epoch 3/15\n",
      "161/161 [==============================] - 38s 234ms/step - loss: 0.8401 - accuracy: 0.5967 - val_loss: 0.8319 - val_accuracy: 0.6172\n",
      "Epoch 4/15\n",
      "161/161 [==============================] - 36s 225ms/step - loss: 0.6849 - accuracy: 0.7252 - val_loss: 0.7186 - val_accuracy: 0.6809\n",
      "Epoch 5/15\n",
      "161/161 [==============================] - 36s 225ms/step - loss: 0.4867 - accuracy: 0.8282 - val_loss: 0.6289 - val_accuracy: 0.7520\n",
      "Epoch 6/15\n",
      "161/161 [==============================] - 37s 231ms/step - loss: 0.3605 - accuracy: 0.8788 - val_loss: 0.6350 - val_accuracy: 0.7646\n",
      "Epoch 7/15\n",
      "161/161 [==============================] - 38s 233ms/step - loss: 0.2793 - accuracy: 0.9143 - val_loss: 0.6311 - val_accuracy: 0.7622\n",
      "Epoch 8/15\n",
      "161/161 [==============================] - 37s 227ms/step - loss: 0.2147 - accuracy: 0.9326 - val_loss: 0.6558 - val_accuracy: 0.7704\n",
      "Epoch 9/15\n",
      "161/161 [==============================] - 36s 227ms/step - loss: 0.1761 - accuracy: 0.9476 - val_loss: 0.7283 - val_accuracy: 0.7662\n",
      "Epoch 10/15\n",
      "161/161 [==============================] - 36s 223ms/step - loss: 0.1451 - accuracy: 0.9572 - val_loss: 0.7479 - val_accuracy: 0.7672\n",
      "Epoch 11/15\n",
      "161/161 [==============================] - 36s 224ms/step - loss: 0.1298 - accuracy: 0.9631 - val_loss: 0.7850 - val_accuracy: 0.7643\n",
      "Epoch 12/15\n",
      "161/161 [==============================] - 35s 220ms/step - loss: 0.1192 - accuracy: 0.9649 - val_loss: 0.8626 - val_accuracy: 0.7654\n",
      "Epoch 13/15\n",
      "161/161 [==============================] - 36s 221ms/step - loss: 0.0964 - accuracy: 0.9714 - val_loss: 1.0183 - val_accuracy: 0.7607\n",
      "Epoch 14/15\n",
      "161/161 [==============================] - 36s 223ms/step - loss: 0.0868 - accuracy: 0.9743 - val_loss: 1.2824 - val_accuracy: 0.7704\n",
      "Epoch 15/15\n",
      "161/161 [==============================] - 35s 219ms/step - loss: 0.1306 - accuracy: 0.9687 - val_loss: 1.1051 - val_accuracy: 0.7665\n"
     ]
    }
   ],
   "source": [
    "num_epochs = 15\n",
    "\n",
    "hist = model.fit(x_train, y_train, epochs=num_epochs, batch_size=256, validation_data=(x_test, y_test))"
   ]
  },
  {
   "cell_type": "code",
   "execution_count": 29,
   "metadata": {
    "execution": {
     "iopub.execute_input": "2021-01-26T14:06:57.969701Z",
     "iopub.status.busy": "2021-01-26T14:06:57.969701Z",
     "iopub.status.idle": "2021-01-26T14:06:58.079735Z",
     "shell.execute_reply": "2021-01-26T14:06:58.079735Z",
     "shell.execute_reply.started": "2021-01-26T14:06:57.969701Z"
    }
   },
   "outputs": [],
   "source": [
    "model.save(\"./outputs/covid-model.h5\", save_format='h5')"
   ]
  },
  {
   "cell_type": "markdown",
   "metadata": {},
   "source": [
    "## Plot loss"
   ]
  },
  {
   "cell_type": "code",
   "execution_count": 30,
   "metadata": {
    "execution": {
     "iopub.execute_input": "2021-01-26T14:06:58.080727Z",
     "iopub.status.busy": "2021-01-26T14:06:58.080727Z",
     "iopub.status.idle": "2021-01-26T14:06:58.395814Z",
     "shell.execute_reply": "2021-01-26T14:06:58.395814Z",
     "shell.execute_reply.started": "2021-01-26T14:06:58.080727Z"
    }
   },
   "outputs": [
    {
     "data": {
      "image/png": "[encoded data removed]",
      "text/plain": [
       "<Figure size 1575x675 with 1 Axes>"
      ]
     },
     "metadata": {},
     "output_type": "display_data"
    }
   ],
   "source": [
    "epochs = np.arange(1, num_epochs+1)\n",
    "\n",
    "sns.lineplot(epochs, hist.history['loss'], label='loss')\n",
    "sns.lineplot(epochs, hist.history['val_loss'], label='val loss')\n",
    "plt.ylabel('loss')\n",
    "plt.show()"
   ]
  },
  {
   "cell_type": "code",
   "execution_count": 31,
   "metadata": {
    "execution": {
     "iopub.execute_input": "2021-01-26T14:06:58.396823Z",
     "iopub.status.busy": "2021-01-26T14:06:58.396823Z",
     "iopub.status.idle": "2021-01-26T14:06:58.666777Z",
     "shell.execute_reply": "2021-01-26T14:06:58.666777Z",
     "shell.execute_reply.started": "2021-01-26T14:06:58.396823Z"
    }
   },
   "outputs": [
    {
     "data": {
      "image/png": "[encoded data removed]",
      "text/plain": [
       "<Figure size 1575x675 with 1 Axes>"
      ]
     },
     "metadata": {},
     "output_type": "display_data"
    }
   ],
   "source": [
    "epochs = np.arange(1, num_epochs+1)\n",
    "\n",
    "sns.lineplot(epochs, hist.history['accuracy'], label='accuracy')\n",
    "sns.lineplot(epochs, hist.history['val_accuracy'], label='val accuracy')\n",
    "plt.ylabel('accuracy')\n",
    "plt.show()"
   ]
  },
  {
   "cell_type": "markdown",
   "metadata": {
    "execution": {
     "iopub.execute_input": "2021-01-26T06:18:25.413947Z",
     "iopub.status.busy": "2021-01-26T06:18:25.413947Z",
     "iopub.status.idle": "2021-01-26T06:18:25.417947Z",
     "shell.execute_reply": "2021-01-26T06:18:25.416946Z",
     "shell.execute_reply.started": "2021-01-26T06:18:25.413947Z"
    }
   },
   "source": [
    "## Confusion Matrix"
   ]
  },
  {
   "cell_type": "code",
   "execution_count": 32,
   "metadata": {
    "execution": {
     "iopub.execute_input": "2021-01-26T14:06:58.667778Z",
     "iopub.status.busy": "2021-01-26T14:06:58.667778Z",
     "iopub.status.idle": "2021-01-26T14:07:17.323014Z",
     "shell.execute_reply": "2021-01-26T14:07:17.322014Z",
     "shell.execute_reply.started": "2021-01-26T14:06:58.667778Z"
    }
   },
   "outputs": [
    {
     "name": "stdout",
     "output_type": "stream",
     "text": [
      "WARNING:tensorflow:From <ipython-input-32-3e8d4b2d1477>:1: Sequential.predict_classes (from tensorflow.python.keras.engine.sequential) is deprecated and will be removed after 2021-01-01.\n",
      "Instructions for updating:\n",
      "Please use instead:* `np.argmax(model.predict(x), axis=-1)`,   if your model does multi-class classification   (e.g. if it uses a `softmax` last-layer activation).* `(model.predict(x) > 0.5).astype(\"int32\")`,   if your model does binary classification   (e.g. if it uses a `sigmoid` last-layer activation).\n"
     ]
    }
   ],
   "source": [
    "pred_trian = model.predict_classes(x_train)\n",
    "pred_test = model.predict_classes(x_test)"
   ]
  },
  {
   "cell_type": "code",
   "execution_count": 33,
   "metadata": {
    "execution": {
     "iopub.execute_input": "2021-01-26T14:07:17.324017Z",
     "iopub.status.busy": "2021-01-26T14:07:17.324017Z",
     "iopub.status.idle": "2021-01-26T14:07:17.339020Z",
     "shell.execute_reply": "2021-01-26T14:07:17.338020Z",
     "shell.execute_reply.started": "2021-01-26T14:07:17.324017Z"
    }
   },
   "outputs": [],
   "source": [
    "cm = tf.math.confusion_matrix(y_train, pred_trian)"
   ]
  },
  {
   "cell_type": "code",
   "execution_count": 34,
   "metadata": {
    "execution": {
     "iopub.execute_input": "2021-01-26T14:07:17.340019Z",
     "iopub.status.busy": "2021-01-26T14:07:17.340019Z",
     "iopub.status.idle": "2021-01-26T14:07:17.545065Z",
     "shell.execute_reply": "2021-01-26T14:07:17.545065Z",
     "shell.execute_reply.started": "2021-01-26T14:07:17.340019Z"
    }
   },
   "outputs": [
    {
     "data": {
      "image/png": "[encoded data removed]",
      "text/plain": [
       "<Figure size 1575x675 with 2 Axes>"
      ]
     },
     "metadata": {},
     "output_type": "display_data"
    }
   ],
   "source": [
    "sns.heatmap(cm, annot=True)\n",
    "plt.show()"
   ]
  },
  {
   "cell_type": "code",
   "execution_count": 35,
   "metadata": {
    "execution": {
     "iopub.execute_input": "2021-01-26T14:07:17.546065Z",
     "iopub.status.busy": "2021-01-26T14:07:17.546065Z",
     "iopub.status.idle": "2021-01-26T14:07:17.593076Z",
     "shell.execute_reply": "2021-01-26T14:07:17.593076Z",
     "shell.execute_reply.started": "2021-01-26T14:07:17.546065Z"
    }
   },
   "outputs": [
    {
     "name": "stdout",
     "output_type": "stream",
     "text": [
      "              precision    recall  f1-score   support\n",
      "\n",
      "           0       1.00      0.93      0.96      7713\n",
      "           1       0.97      0.99      0.98     18046\n",
      "           2       0.97      0.98      0.98     15398\n",
      "\n",
      "    accuracy                           0.98     41157\n",
      "   macro avg       0.98      0.97      0.97     41157\n",
      "weighted avg       0.98      0.98      0.98     41157\n",
      "\n"
     ]
    }
   ],
   "source": [
    "print(classification_report(y_train, pred_trian))"
   ]
  },
  {
   "cell_type": "code",
   "execution_count": 36,
   "metadata": {
    "execution": {
     "iopub.execute_input": "2021-01-26T14:07:17.594085Z",
     "iopub.status.busy": "2021-01-26T14:07:17.594085Z",
     "iopub.status.idle": "2021-01-26T14:07:17.610080Z",
     "shell.execute_reply": "2021-01-26T14:07:17.609079Z",
     "shell.execute_reply.started": "2021-01-26T14:07:17.594085Z"
    }
   },
   "outputs": [
    {
     "name": "stdout",
     "output_type": "stream",
     "text": [
      "              precision    recall  f1-score   support\n",
      "\n",
      "           0       0.81      0.60      0.69       619\n",
      "           1       0.74      0.82      0.78      1546\n",
      "           2       0.78      0.78      0.78      1633\n",
      "\n",
      "    accuracy                           0.77      3798\n",
      "   macro avg       0.78      0.73      0.75      3798\n",
      "weighted avg       0.77      0.77      0.76      3798\n",
      "\n"
     ]
    }
   ],
   "source": [
    "print(classification_report(y_test, pred_test))"
   ]
  },
  {
   "cell_type": "code",
   "execution_count": null,
   "metadata": {},
   "outputs": [],
   "source": []
  }
 ],
 "metadata": {
  "kernelspec": {
   "display_name": "Python 3",
   "language": "python",
   "name": "python3"
  },
  "language_info": {
   "codemirror_mode": {
    "name": "ipython",
    "version": 3
   },
   "file_extension": ".py",
   "mimetype": "text/x-python",
   "name": "python",
   "nbconvert_exporter": "python",
   "pygments_lexer": "ipython3",
   "version": "3.8.3"
  }
 },
 "nbformat": 4,
 "nbformat_minor": 4
}
