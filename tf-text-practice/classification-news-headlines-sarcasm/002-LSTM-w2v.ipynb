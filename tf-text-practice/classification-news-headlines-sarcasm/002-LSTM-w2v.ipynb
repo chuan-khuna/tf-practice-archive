{
 "cells": [
  {
   "cell_type": "markdown",
   "metadata": {},
   "source": [
    "# Preprocess word"
   ]
  },
  {
   "cell_type": "code",
   "execution_count": 1,
   "metadata": {
    "execution": {
     "iopub.execute_input": "2021-01-23T15:50:37.314828Z",
     "iopub.status.busy": "2021-01-23T15:50:37.314828Z",
     "iopub.status.idle": "2021-01-23T15:50:40.241388Z",
     "shell.execute_reply": "2021-01-23T15:50:40.241388Z",
     "shell.execute_reply.started": "2021-01-23T15:50:37.314828Z"
    }
   },
   "outputs": [],
   "source": [
    "import numpy as np\n",
    "import pandas as pd\n",
    "import tensorflow as tf\n",
    "\n",
    "seed_ = 20200218\n",
    "\n",
    "np.random.seed(seed_)\n",
    "tf.random.set_seed(seed_)"
   ]
  },
  {
   "cell_type": "code",
   "execution_count": 2,
   "metadata": {
    "execution": {
     "iopub.execute_input": "2021-01-23T15:50:40.243387Z",
     "iopub.status.busy": "2021-01-23T15:50:40.242388Z",
     "iopub.status.idle": "2021-01-23T15:50:41.756749Z",
     "shell.execute_reply": "2021-01-23T15:50:41.756749Z",
     "shell.execute_reply.started": "2021-01-23T15:50:40.243387Z"
    }
   },
   "outputs": [],
   "source": [
    "import matplotlib.pyplot as plt\n",
    "import seaborn as sns\n",
    "\n",
    "sns.set_theme(style=\"whitegrid\", \n",
    "              context=\"paper\", \n",
    "              font='Dank Mono', \n",
    "              font_scale=1.25, \n",
    "              rc={\"figure.figsize\": (10.5, 4.5), \"figure.dpi\": 150, \"grid.alpha\": 0.5}\n",
    "             )\n",
    "_30k = [\"#202f66\", \"#ff7048\", \"#7f68d0\", \"#f3d36e\", \"#d869ab\", \"#1b262c\"]\n",
    "sns.set_palette(_30k)\n",
    "\n",
    "import plotly.graph_objects as go\n",
    "import plotly.express as px\n",
    "import plotly.io as pio\n",
    "\n",
    "pio.templates.default = \"plotly_dark\"\n",
    "\n",
    "import wordcloud"
   ]
  },
  {
   "cell_type": "code",
   "execution_count": 3,
   "metadata": {
    "execution": {
     "iopub.execute_input": "2021-01-23T15:50:41.758741Z",
     "iopub.status.busy": "2021-01-23T15:50:41.757750Z",
     "iopub.status.idle": "2021-01-23T15:50:41.773751Z",
     "shell.execute_reply": "2021-01-23T15:50:41.772745Z",
     "shell.execute_reply.started": "2021-01-23T15:50:41.758741Z"
    }
   },
   "outputs": [],
   "source": [
    "import warnings\n",
    "warnings.filterwarnings('ignore')"
   ]
  },
  {
   "cell_type": "code",
   "execution_count": 4,
   "metadata": {
    "execution": {
     "iopub.execute_input": "2021-01-23T15:50:41.774745Z",
     "iopub.status.busy": "2021-01-23T15:50:41.773751Z",
     "iopub.status.idle": "2021-01-23T15:50:42.275757Z",
     "shell.execute_reply": "2021-01-23T15:50:42.274746Z",
     "shell.execute_reply.started": "2021-01-23T15:50:41.774745Z"
    }
   },
   "outputs": [],
   "source": [
    "import nltk\n",
    "from nltk.corpus import stopwords"
   ]
  },
  {
   "cell_type": "code",
   "execution_count": 5,
   "metadata": {
    "execution": {
     "iopub.execute_input": "2021-01-23T15:50:42.276748Z",
     "iopub.status.busy": "2021-01-23T15:50:42.275757Z",
     "iopub.status.idle": "2021-01-23T15:50:42.794995Z",
     "shell.execute_reply": "2021-01-23T15:50:42.794995Z",
     "shell.execute_reply.started": "2021-01-23T15:50:42.276748Z"
    }
   },
   "outputs": [],
   "source": [
    "import gensim"
   ]
  },
  {
   "cell_type": "code",
   "execution_count": 6,
   "metadata": {
    "execution": {
     "iopub.execute_input": "2021-01-23T15:50:42.795994Z",
     "iopub.status.busy": "2021-01-23T15:50:42.795994Z",
     "iopub.status.idle": "2021-01-23T15:50:42.810998Z",
     "shell.execute_reply": "2021-01-23T15:50:42.810998Z",
     "shell.execute_reply.started": "2021-01-23T15:50:42.795994Z"
    }
   },
   "outputs": [],
   "source": [
    "# tensorflow text preprocessing function\n",
    "\n",
    "from tensorflow.keras.preprocessing.text import Tokenizer\n",
    "from tensorflow.keras.preprocessing.sequence import pad_sequences"
   ]
  },
  {
   "cell_type": "markdown",
   "metadata": {},
   "source": [
    "# Load Data"
   ]
  },
  {
   "cell_type": "code",
   "execution_count": 7,
   "metadata": {
    "execution": {
     "iopub.execute_input": "2021-01-23T15:50:42.812998Z",
     "iopub.status.busy": "2021-01-23T15:50:42.812998Z",
     "iopub.status.idle": "2021-01-23T15:50:42.937867Z",
     "shell.execute_reply": "2021-01-23T15:50:42.937867Z",
     "shell.execute_reply.started": "2021-01-23T15:50:42.812998Z"
    }
   },
   "outputs": [],
   "source": [
    "df = pd.read_json(\"./data/Sarcasm_Headlines_Dataset_v2.json\", lines=True)"
   ]
  },
  {
   "cell_type": "code",
   "execution_count": 8,
   "metadata": {
    "execution": {
     "iopub.execute_input": "2021-01-23T15:50:42.939860Z",
     "iopub.status.busy": "2021-01-23T15:50:42.938860Z",
     "iopub.status.idle": "2021-01-23T15:50:42.954493Z",
     "shell.execute_reply": "2021-01-23T15:50:42.953493Z",
     "shell.execute_reply.started": "2021-01-23T15:50:42.939860Z"
    }
   },
   "outputs": [
    {
     "data": {
      "text/html": [
       "<div>\n",
       "<style scoped>\n",
       "    .dataframe tbody tr th:only-of-type {\n",
       "        vertical-align: middle;\n",
       "    }\n",
       "\n",
       "    .dataframe tbody tr th {\n",
       "        vertical-align: top;\n",
       "    }\n",
       "\n",
       "    .dataframe thead th {\n",
       "        text-align: right;\n",
       "    }\n",
       "</style>\n",
       "<table border=\"1\" class=\"dataframe\">\n",
       "  <thead>\n",
       "    <tr style=\"text-align: right;\">\n",
       "      <th></th>\n",
       "      <th>is_sarcastic</th>\n",
       "      <th>headline</th>\n",
       "      <th>article_link</th>\n",
       "    </tr>\n",
       "  </thead>\n",
       "  <tbody>\n",
       "    <tr>\n",
       "      <th>0</th>\n",
       "      <td>1</td>\n",
       "      <td>thirtysomething scientists unveil doomsday clo...</td>\n",
       "      <td>https://www.theonion.com/thirtysomething-scien...</td>\n",
       "    </tr>\n",
       "    <tr>\n",
       "      <th>1</th>\n",
       "      <td>0</td>\n",
       "      <td>dem rep. totally nails why congress is falling...</td>\n",
       "      <td>https://www.huffingtonpost.com/entry/donna-edw...</td>\n",
       "    </tr>\n",
       "    <tr>\n",
       "      <th>2</th>\n",
       "      <td>0</td>\n",
       "      <td>eat your veggies: 9 deliciously different recipes</td>\n",
       "      <td>https://www.huffingtonpost.com/entry/eat-your-...</td>\n",
       "    </tr>\n",
       "    <tr>\n",
       "      <th>3</th>\n",
       "      <td>1</td>\n",
       "      <td>inclement weather prevents liar from getting t...</td>\n",
       "      <td>https://local.theonion.com/inclement-weather-p...</td>\n",
       "    </tr>\n",
       "    <tr>\n",
       "      <th>4</th>\n",
       "      <td>1</td>\n",
       "      <td>mother comes pretty close to using word 'strea...</td>\n",
       "      <td>https://www.theonion.com/mother-comes-pretty-c...</td>\n",
       "    </tr>\n",
       "  </tbody>\n",
       "</table>\n",
       "</div>"
      ],
      "text/plain": [
       "   is_sarcastic                                           headline  \\\n",
       "0             1  thirtysomething scientists unveil doomsday clo...   \n",
       "1             0  dem rep. totally nails why congress is falling...   \n",
       "2             0  eat your veggies: 9 deliciously different recipes   \n",
       "3             1  inclement weather prevents liar from getting t...   \n",
       "4             1  mother comes pretty close to using word 'strea...   \n",
       "\n",
       "                                        article_link  \n",
       "0  https://www.theonion.com/thirtysomething-scien...  \n",
       "1  https://www.huffingtonpost.com/entry/donna-edw...  \n",
       "2  https://www.huffingtonpost.com/entry/eat-your-...  \n",
       "3  https://local.theonion.com/inclement-weather-p...  \n",
       "4  https://www.theonion.com/mother-comes-pretty-c...  "
      ]
     },
     "execution_count": 8,
     "metadata": {},
     "output_type": "execute_result"
    }
   ],
   "source": [
    "df.head()"
   ]
  },
  {
   "cell_type": "markdown",
   "metadata": {},
   "source": [
    "# Preprocess"
   ]
  },
  {
   "cell_type": "code",
   "execution_count": 9,
   "metadata": {
    "execution": {
     "iopub.execute_input": "2021-01-23T15:50:42.955492Z",
     "iopub.status.busy": "2021-01-23T15:50:42.955492Z",
     "iopub.status.idle": "2021-01-23T15:50:42.969496Z",
     "shell.execute_reply": "2021-01-23T15:50:42.969496Z",
     "shell.execute_reply.started": "2021-01-23T15:50:42.955492Z"
    }
   },
   "outputs": [],
   "source": [
    "stop_words = stopwords.words('english')"
   ]
  },
  {
   "cell_type": "code",
   "execution_count": 10,
   "metadata": {
    "execution": {
     "iopub.execute_input": "2021-01-23T15:50:42.970496Z",
     "iopub.status.busy": "2021-01-23T15:50:42.970496Z",
     "iopub.status.idle": "2021-01-23T15:50:42.985499Z",
     "shell.execute_reply": "2021-01-23T15:50:42.985499Z",
     "shell.execute_reply.started": "2021-01-23T15:50:42.970496Z"
    }
   },
   "outputs": [],
   "source": [
    "def preprocess_text(text, stop_words):\n",
    "    tokenized = nltk.tokenize.word_tokenize(text.lower())\n",
    "    \n",
    "    # remove stop words\n",
    "    tokenized = [token for token in tokenized if token not in stop_words]\n",
    "    \n",
    "    # remove punctuation\n",
    "    tokenized = [token for token in tokenized if token.isalpha()]\n",
    "    \n",
    "    return tokenized"
   ]
  },
  {
   "cell_type": "code",
   "execution_count": 11,
   "metadata": {
    "execution": {
     "iopub.execute_input": "2021-01-23T15:50:42.987500Z",
     "iopub.status.busy": "2021-01-23T15:50:42.986499Z",
     "iopub.status.idle": "2021-01-23T15:50:46.731986Z",
     "shell.execute_reply": "2021-01-23T15:50:46.731986Z",
     "shell.execute_reply.started": "2021-01-23T15:50:42.986499Z"
    }
   },
   "outputs": [],
   "source": [
    "tokenized_texts = df['headline'].apply(preprocess_text, args=[stop_words])"
   ]
  },
  {
   "cell_type": "code",
   "execution_count": 12,
   "metadata": {
    "execution": {
     "iopub.execute_input": "2021-01-23T15:50:46.732987Z",
     "iopub.status.busy": "2021-01-23T15:50:46.732987Z",
     "iopub.status.idle": "2021-01-23T15:50:46.748992Z",
     "shell.execute_reply": "2021-01-23T15:50:46.747990Z",
     "shell.execute_reply.started": "2021-01-23T15:50:46.732987Z"
    }
   },
   "outputs": [
    {
     "data": {
      "text/plain": [
       "0        [thirtysomething, scientists, unveil, doomsday...\n",
       "1        [dem, totally, nails, congress, falling, short...\n",
       "2          [eat, veggies, deliciously, different, recipes]\n",
       "3        [inclement, weather, prevents, liar, getting, ...\n",
       "4        [mother, comes, pretty, close, using, word, co...\n",
       "                               ...                        \n",
       "28614         [jews, celebrate, rosh, hashasha, something]\n",
       "28615    [internal, affairs, investigator, disappointed...\n",
       "28616    [beautiful, acceptance, speech, week, came, qu...\n",
       "28617    [mars, probe, destroyed, orbiting, space, palace]\n",
       "28618                         [dad, clarifies, food, stop]\n",
       "Name: headline, Length: 28619, dtype: object"
      ]
     },
     "execution_count": 12,
     "metadata": {},
     "output_type": "execute_result"
    }
   ],
   "source": [
    "tokenized_texts"
   ]
  },
  {
   "cell_type": "markdown",
   "metadata": {},
   "source": [
    "# Word Embedding\n",
    "\n",
    "https://www.kaggle.com/madz2000/sarcasm-detection-with-glove-word2vec-83-accuracy/notebook#Introduction-to-Word-Embedding-and-Word2Vec"
   ]
  },
  {
   "cell_type": "code",
   "execution_count": 13,
   "metadata": {
    "execution": {
     "iopub.execute_input": "2021-01-23T15:50:46.749992Z",
     "iopub.status.busy": "2021-01-23T15:50:46.749992Z",
     "iopub.status.idle": "2021-01-23T15:50:46.764995Z",
     "shell.execute_reply": "2021-01-23T15:50:46.763994Z",
     "shell.execute_reply.started": "2021-01-23T15:50:46.749992Z"
    }
   },
   "outputs": [],
   "source": [
    "embedding_dims = 32"
   ]
  },
  {
   "cell_type": "code",
   "execution_count": 14,
   "metadata": {
    "execution": {
     "iopub.execute_input": "2021-01-23T15:50:46.765995Z",
     "iopub.status.busy": "2021-01-23T15:50:46.764995Z",
     "iopub.status.idle": "2021-01-23T15:50:52.868101Z",
     "shell.execute_reply": "2021-01-23T15:50:52.868101Z",
     "shell.execute_reply.started": "2021-01-23T15:50:46.765995Z"
    }
   },
   "outputs": [],
   "source": [
    "w2v = gensim.models.Word2Vec(sentences=np.array(tokenized_texts), size=embedding_dims,\n",
    "                            window=5, min_count=1)"
   ]
  },
  {
   "cell_type": "markdown",
   "metadata": {},
   "source": [
    "# Tensorflow/Tokenize"
   ]
  },
  {
   "cell_type": "code",
   "execution_count": 15,
   "metadata": {
    "execution": {
     "iopub.execute_input": "2021-01-23T15:50:52.869100Z",
     "iopub.status.busy": "2021-01-23T15:50:52.869100Z",
     "iopub.status.idle": "2021-01-23T15:50:52.884103Z",
     "shell.execute_reply": "2021-01-23T15:50:52.884103Z",
     "shell.execute_reply.started": "2021-01-23T15:50:52.869100Z"
    }
   },
   "outputs": [],
   "source": [
    "# tokenizer config\n",
    "\n",
    "num_words = 20000\n",
    "\n",
    "max_length = 20\n",
    "pad_trunc = 'pre'"
   ]
  },
  {
   "cell_type": "code",
   "execution_count": 16,
   "metadata": {
    "execution": {
     "iopub.execute_input": "2021-01-23T15:50:52.885104Z",
     "iopub.status.busy": "2021-01-23T15:50:52.885104Z",
     "iopub.status.idle": "2021-01-23T15:50:53.074146Z",
     "shell.execute_reply": "2021-01-23T15:50:53.073155Z",
     "shell.execute_reply.started": "2021-01-23T15:50:52.885104Z"
    }
   },
   "outputs": [],
   "source": [
    "tokenizer = Tokenizer(num_words=num_words)\n",
    "tokenizer.fit_on_texts(tokenized_texts)\n",
    "\n",
    "word_index = tokenizer.word_index\n",
    "index_word = {i: w for w, i in word_index.items()}"
   ]
  },
  {
   "cell_type": "code",
   "execution_count": 17,
   "metadata": {
    "execution": {
     "iopub.execute_input": "2021-01-23T15:50:53.075147Z",
     "iopub.status.busy": "2021-01-23T15:50:53.075147Z",
     "iopub.status.idle": "2021-01-23T15:50:53.449257Z",
     "shell.execute_reply": "2021-01-23T15:50:53.449257Z",
     "shell.execute_reply.started": "2021-01-23T15:50:53.075147Z"
    }
   },
   "outputs": [
    {
     "data": {
      "text/plain": [
       "array([[    0,     0,     0,     0,     0,     0,     0,     0,     0,\n",
       "            0,     0,     0,     0, 14116,   233,  2855,  6803,  2361,\n",
       "          531,   975],\n",
       "       [    0,     0,     0,     0,     0,     0,     0,     0,     0,\n",
       "            0,     0,  6804,   597,  2856,   131,  1688,   945,  1552,\n",
       "         2001,  1553],\n",
       "       [    0,     0,     0,     0,     0,     0,     0,     0,     0,\n",
       "            0,     0,     0,     0,     0,     0,   739, 10321, 14117,\n",
       "          481,  1270],\n",
       "       [    0,     0,     0,     0,     0,     0,     0,     0,     0,\n",
       "            0,     0,     0,     0,     0, 10322,  1423,  5858,  4605,\n",
       "           65,    72]])"
      ]
     },
     "execution_count": 17,
     "metadata": {},
     "output_type": "execute_result"
    }
   ],
   "source": [
    "sequences = tokenizer.texts_to_sequences(tokenized_texts)\n",
    "padded_sequences = pad_sequences(sequences, maxlen=max_length, truncating=pad_trunc)\n",
    "\n",
    "padded_sequences[:4]"
   ]
  },
  {
   "cell_type": "code",
   "execution_count": 18,
   "metadata": {
    "execution": {
     "iopub.execute_input": "2021-01-23T15:50:53.450257Z",
     "iopub.status.busy": "2021-01-23T15:50:53.450257Z",
     "iopub.status.idle": "2021-01-23T15:50:53.480264Z",
     "shell.execute_reply": "2021-01-23T15:50:53.480264Z",
     "shell.execute_reply.started": "2021-01-23T15:50:53.450257Z"
    }
   },
   "outputs": [
    {
     "name": "stdout",
     "output_type": "stream",
     "text": [
      "trump:\t1\n",
      "new:\t2\n",
      "man:\t3\n",
      "report:\t4\n",
      "one:\t5\n",
      "woman:\t6\n",
      "area:\t7\n",
      "says:\t8\n",
      "day:\t9\n",
      "donald:\t10\n",
      "1:\ttrump\n",
      "2:\tnew\n",
      "3:\tman\n",
      "4:\treport\n",
      "5:\tone\n",
      "6:\twoman\n",
      "7:\tarea\n",
      "8:\tsays\n",
      "9:\tday\n",
      "10:\tdonald\n"
     ]
    }
   ],
   "source": [
    "for k, v in list(word_index.items())[:10]:\n",
    "    print(f\"{k}:\\t{v}\")\n",
    "    \n",
    "for k, v in list(index_word.items())[:10]:\n",
    "    print(f\"{k}:\\t{v}\")"
   ]
  },
  {
   "cell_type": "code",
   "execution_count": 19,
   "metadata": {
    "execution": {
     "iopub.execute_input": "2021-01-23T15:50:53.481264Z",
     "iopub.status.busy": "2021-01-23T15:50:53.481264Z",
     "iopub.status.idle": "2021-01-23T15:50:53.496268Z",
     "shell.execute_reply": "2021-01-23T15:50:53.496268Z",
     "shell.execute_reply.started": "2021-01-23T15:50:53.481264Z"
    }
   },
   "outputs": [
    {
     "data": {
      "text/plain": [
       "24899"
      ]
     },
     "execution_count": 19,
     "metadata": {},
     "output_type": "execute_result"
    }
   ],
   "source": [
    "vocab_size = len(word_index) + 1\n",
    "vocab_size"
   ]
  },
  {
   "cell_type": "code",
   "execution_count": 20,
   "metadata": {
    "execution": {
     "iopub.execute_input": "2021-01-23T15:50:53.497268Z",
     "iopub.status.busy": "2021-01-23T15:50:53.497268Z",
     "iopub.status.idle": "2021-01-23T15:50:53.624299Z",
     "shell.execute_reply": "2021-01-23T15:50:53.624299Z",
     "shell.execute_reply.started": "2021-01-23T15:50:53.497268Z"
    }
   },
   "outputs": [],
   "source": [
    "# get weights from w2v model\n",
    "\n",
    "embedding_vecs = np.zeros((vocab_size, embedding_dims))\n",
    "\n",
    "for word, index in word_index.items():\n",
    "    embedding_vecs[index] = w2v[word]"
   ]
  },
  {
   "cell_type": "code",
   "execution_count": 21,
   "metadata": {
    "execution": {
     "iopub.execute_input": "2021-01-23T15:50:53.625299Z",
     "iopub.status.busy": "2021-01-23T15:50:53.625299Z",
     "iopub.status.idle": "2021-01-23T15:50:53.640303Z",
     "shell.execute_reply": "2021-01-23T15:50:53.640303Z",
     "shell.execute_reply.started": "2021-01-23T15:50:53.625299Z"
    }
   },
   "outputs": [
    {
     "data": {
      "text/plain": [
       "array([[ 0.00000000e+00,  0.00000000e+00,  0.00000000e+00, ...,\n",
       "         0.00000000e+00,  0.00000000e+00,  0.00000000e+00],\n",
       "       [ 1.10113466e+00, -6.28200591e-01,  2.31044106e-02, ...,\n",
       "        -2.91889280e-01,  2.03372526e+00, -2.21340942e+00],\n",
       "       [ 9.66719806e-01, -4.87843305e-01, -2.64493644e-01, ...,\n",
       "         2.39738256e-01,  1.73839664e+00, -2.49399304e+00],\n",
       "       ...,\n",
       "       [ 8.44890438e-03, -3.44779552e-03,  2.21067155e-03, ...,\n",
       "         6.35295780e-03,  1.70984045e-02, -2.60090064e-02],\n",
       "       [-1.44683290e-03, -1.17535992e-02,  3.10174888e-03, ...,\n",
       "        -8.88734404e-03,  1.61415953e-02, -2.70280838e-02],\n",
       "       [-3.44368769e-03, -1.00813936e-02,  9.08637326e-03, ...,\n",
       "         2.22665258e-03,  8.67970102e-03, -1.97247397e-02]])"
      ]
     },
     "execution_count": 21,
     "metadata": {},
     "output_type": "execute_result"
    }
   ],
   "source": [
    "embedding_vecs"
   ]
  },
  {
   "cell_type": "code",
   "execution_count": 22,
   "metadata": {
    "execution": {
     "iopub.execute_input": "2021-01-23T15:50:53.641303Z",
     "iopub.status.busy": "2021-01-23T15:50:53.641303Z",
     "iopub.status.idle": "2021-01-23T15:50:54.942974Z",
     "shell.execute_reply": "2021-01-23T15:50:54.942974Z",
     "shell.execute_reply.started": "2021-01-23T15:50:53.641303Z"
    }
   },
   "outputs": [
    {
     "name": "stdout",
     "output_type": "stream",
     "text": [
      "WARNING:tensorflow:Layer lstm will not use cuDNN kernel since it doesn't meet the cuDNN kernel criteria. It will use generic GPU kernel as fallback when running on GPU\n",
      "WARNING:tensorflow:Layer lstm will not use cuDNN kernel since it doesn't meet the cuDNN kernel criteria. It will use generic GPU kernel as fallback when running on GPU\n",
      "WARNING:tensorflow:Layer lstm will not use cuDNN kernel since it doesn't meet the cuDNN kernel criteria. It will use generic GPU kernel as fallback when running on GPU\n",
      "WARNING:tensorflow:Layer lstm_1 will not use cuDNN kernel since it doesn't meet the cuDNN kernel criteria. It will use generic GPU kernel as fallback when running on GPU\n",
      "WARNING:tensorflow:Layer lstm_1 will not use cuDNN kernel since it doesn't meet the cuDNN kernel criteria. It will use generic GPU kernel as fallback when running on GPU\n",
      "WARNING:tensorflow:Layer lstm_1 will not use cuDNN kernel since it doesn't meet the cuDNN kernel criteria. It will use generic GPU kernel as fallback when running on GPU\n"
     ]
    }
   ],
   "source": [
    "model = tf.keras.models.Sequential([\n",
    "    tf.keras.layers.Embedding(\n",
    "        vocab_size, output_dim=embedding_dims, \n",
    "        weights=[embedding_vecs], input_length=max_length\n",
    "    ),\n",
    "    tf.keras.layers.Bidirectional(\n",
    "        tf.keras.layers.LSTM(64, activation='relu', return_sequences=True)\n",
    "    ),\n",
    "    tf.keras.layers.Bidirectional(\n",
    "        tf.keras.layers.LSTM(16, activation='relu')\n",
    "    ),\n",
    "    tf.keras.layers.Dense(16, activation='relu'),\n",
    "    tf.keras.layers.Dense(1, activation='sigmoid')\n",
    "])"
   ]
  },
  {
   "cell_type": "code",
   "execution_count": 23,
   "metadata": {
    "execution": {
     "iopub.execute_input": "2021-01-23T15:50:54.943974Z",
     "iopub.status.busy": "2021-01-23T15:50:54.943974Z",
     "iopub.status.idle": "2021-01-23T15:50:54.957977Z",
     "shell.execute_reply": "2021-01-23T15:50:54.957977Z",
     "shell.execute_reply.started": "2021-01-23T15:50:54.943974Z"
    }
   },
   "outputs": [
    {
     "name": "stdout",
     "output_type": "stream",
     "text": [
      "Model: \"sequential\"\n",
      "_________________________________________________________________\n",
      "Layer (type)                 Output Shape              Param #   \n",
      "=================================================================\n",
      "embedding (Embedding)        (None, 20, 32)            796768    \n",
      "_________________________________________________________________\n",
      "bidirectional (Bidirectional (None, 20, 128)           49664     \n",
      "_________________________________________________________________\n",
      "bidirectional_1 (Bidirection (None, 32)                18560     \n",
      "_________________________________________________________________\n",
      "dense (Dense)                (None, 16)                528       \n",
      "_________________________________________________________________\n",
      "dense_1 (Dense)              (None, 1)                 17        \n",
      "=================================================================\n",
      "Total params: 865,537\n",
      "Trainable params: 865,537\n",
      "Non-trainable params: 0\n",
      "_________________________________________________________________\n"
     ]
    }
   ],
   "source": [
    "model.summary()"
   ]
  },
  {
   "cell_type": "code",
   "execution_count": 24,
   "metadata": {
    "execution": {
     "iopub.execute_input": "2021-01-23T15:50:54.959978Z",
     "iopub.status.busy": "2021-01-23T15:50:54.958978Z",
     "iopub.status.idle": "2021-01-23T15:50:54.973981Z",
     "shell.execute_reply": "2021-01-23T15:50:54.973981Z",
     "shell.execute_reply.started": "2021-01-23T15:50:54.958978Z"
    }
   },
   "outputs": [],
   "source": [
    "optimizer = tf.keras.optimizers.Adam(lr=0.01)"
   ]
  },
  {
   "cell_type": "code",
   "execution_count": 25,
   "metadata": {
    "execution": {
     "iopub.execute_input": "2021-01-23T15:50:54.975982Z",
     "iopub.status.busy": "2021-01-23T15:50:54.974982Z",
     "iopub.status.idle": "2021-01-23T15:50:54.990985Z",
     "shell.execute_reply": "2021-01-23T15:50:54.989984Z",
     "shell.execute_reply.started": "2021-01-23T15:50:54.975982Z"
    }
   },
   "outputs": [],
   "source": [
    "model.compile(optimizer=optimizer, loss='binary_crossentropy', metrics=['accuracy'])"
   ]
  },
  {
   "cell_type": "markdown",
   "metadata": {},
   "source": [
    "## Split train test"
   ]
  },
  {
   "cell_type": "code",
   "execution_count": 26,
   "metadata": {
    "execution": {
     "iopub.execute_input": "2021-01-23T15:50:54.991985Z",
     "iopub.status.busy": "2021-01-23T15:50:54.990985Z",
     "iopub.status.idle": "2021-01-23T15:50:55.006989Z",
     "shell.execute_reply": "2021-01-23T15:50:55.005988Z",
     "shell.execute_reply.started": "2021-01-23T15:50:54.991985Z"
    }
   },
   "outputs": [
    {
     "data": {
      "text/plain": [
       "(28619, 3)"
      ]
     },
     "execution_count": 26,
     "metadata": {},
     "output_type": "execute_result"
    }
   ],
   "source": [
    "df.shape"
   ]
  },
  {
   "cell_type": "code",
   "execution_count": 27,
   "metadata": {
    "execution": {
     "iopub.execute_input": "2021-01-23T15:50:55.007989Z",
     "iopub.status.busy": "2021-01-23T15:50:55.007989Z",
     "iopub.status.idle": "2021-01-23T15:50:55.022992Z",
     "shell.execute_reply": "2021-01-23T15:50:55.021992Z",
     "shell.execute_reply.started": "2021-01-23T15:50:55.007989Z"
    }
   },
   "outputs": [],
   "source": [
    "train_size = 20000"
   ]
  },
  {
   "cell_type": "code",
   "execution_count": 28,
   "metadata": {
    "execution": {
     "iopub.execute_input": "2021-01-23T15:50:55.023993Z",
     "iopub.status.busy": "2021-01-23T15:50:55.023993Z",
     "iopub.status.idle": "2021-01-23T15:50:55.037995Z",
     "shell.execute_reply": "2021-01-23T15:50:55.037995Z",
     "shell.execute_reply.started": "2021-01-23T15:50:55.023993Z"
    }
   },
   "outputs": [],
   "source": [
    "x_train = padded_sequences[:train_size]\n",
    "x_test = padded_sequences[train_size:]\n",
    "y_train = df['is_sarcastic'][:train_size]\n",
    "y_test = df['is_sarcastic'][train_size:]"
   ]
  },
  {
   "cell_type": "markdown",
   "metadata": {},
   "source": [
    "## train model"
   ]
  },
  {
   "cell_type": "code",
   "execution_count": 29,
   "metadata": {
    "execution": {
     "iopub.execute_input": "2021-01-23T15:50:55.038996Z",
     "iopub.status.busy": "2021-01-23T15:50:55.038996Z",
     "iopub.status.idle": "2021-01-23T15:50:55.054999Z",
     "shell.execute_reply": "2021-01-23T15:50:55.053999Z",
     "shell.execute_reply.started": "2021-01-23T15:50:55.038996Z"
    }
   },
   "outputs": [],
   "source": [
    "num_epochs = 5"
   ]
  },
  {
   "cell_type": "code",
   "execution_count": 30,
   "metadata": {
    "execution": {
     "iopub.execute_input": "2021-01-23T15:50:55.055999Z",
     "iopub.status.busy": "2021-01-23T15:50:55.054999Z",
     "iopub.status.idle": "2021-01-23T15:55:13.115974Z",
     "shell.execute_reply": "2021-01-23T15:55:13.115974Z",
     "shell.execute_reply.started": "2021-01-23T15:50:55.055999Z"
    }
   },
   "outputs": [
    {
     "name": "stdout",
     "output_type": "stream",
     "text": [
      "Epoch 1/5\n",
      "313/313 [==============================] - 50s 161ms/step - loss: 0.5179 - accuracy: 0.7325 - val_loss: 0.4245 - val_accuracy: 0.8059\n",
      "Epoch 2/5\n",
      "313/313 [==============================] - 50s 161ms/step - loss: 0.4043 - accuracy: 0.8960 - val_loss: 0.4659 - val_accuracy: 0.8000\n",
      "Epoch 3/5\n",
      "313/313 [==============================] - 49s 158ms/step - loss: 0.1114 - accuracy: 0.9590 - val_loss: 0.6891 - val_accuracy: 0.7854\n",
      "Epoch 4/5\n",
      "313/313 [==============================] - 51s 162ms/step - loss: 0.0498 - accuracy: 0.9811 - val_loss: 1.1851 - val_accuracy: 0.7697\n",
      "Epoch 5/5\n",
      "313/313 [==============================] - 51s 164ms/step - loss: 0.0323 - accuracy: 0.9891 - val_loss: 1.0056 - val_accuracy: 0.7806\n"
     ]
    }
   ],
   "source": [
    "hist = model.fit(x_train, y_train, \n",
    "          epochs=num_epochs, \n",
    "          batch_size=64, \n",
    "          validation_data=(x_test, y_test),\n",
    "          verbose=1,\n",
    "         )"
   ]
  },
  {
   "cell_type": "markdown",
   "metadata": {},
   "source": [
    "## Plot loss"
   ]
  },
  {
   "cell_type": "code",
   "execution_count": 34,
   "metadata": {
    "execution": {
     "iopub.execute_input": "2021-01-23T15:58:46.253085Z",
     "iopub.status.busy": "2021-01-23T15:58:46.252085Z",
     "iopub.status.idle": "2021-01-23T15:58:46.261087Z",
     "shell.execute_reply": "2021-01-23T15:58:46.260088Z",
     "shell.execute_reply.started": "2021-01-23T15:58:46.253085Z"
    }
   },
   "outputs": [],
   "source": [
    "epochs = np.arange(1, num_epochs+1)"
   ]
  },
  {
   "cell_type": "code",
   "execution_count": 37,
   "metadata": {
    "execution": {
     "iopub.execute_input": "2021-01-23T15:59:08.842905Z",
     "iopub.status.busy": "2021-01-23T15:59:08.842905Z",
     "iopub.status.idle": "2021-01-23T15:59:09.256996Z",
     "shell.execute_reply": "2021-01-23T15:59:09.256005Z",
     "shell.execute_reply.started": "2021-01-23T15:59:08.842905Z"
    }
   },
   "outputs": [
    {
     "data": {
      "image/png": "[encoded data removed]",
      "text/plain": [
       "<Figure size 1575x675 with 1 Axes>"
      ]
     },
     "metadata": {},
     "output_type": "display_data"
    },
    {
     "data": {
      "image/png": "[encoded data removed]",
      "text/plain": [
       "<Figure size 1575x675 with 1 Axes>"
      ]
     },
     "metadata": {},
     "output_type": "display_data"
    }
   ],
   "source": [
    "sns.lineplot(epochs, hist.history['loss'], label='loss')\n",
    "sns.lineplot(epochs, hist.history['val_loss'], label='val loss')\n",
    "plt.xticks(ticks=epochs)\n",
    "plt.show()\n",
    "\n",
    "sns.lineplot(epochs, hist.history['accuracy'], label='accuracy')\n",
    "sns.lineplot(epochs, hist.history['val_accuracy'], label='val accuracy')\n",
    "plt.xticks(ticks=epochs)\n",
    "plt.show()"
   ]
  },
  {
   "cell_type": "code",
   "execution_count": null,
   "metadata": {},
   "outputs": [],
   "source": []
  }
 ],
 "metadata": {
  "kernelspec": {
   "display_name": "Python 3",
   "language": "python",
   "name": "python3"
  },
  "language_info": {
   "codemirror_mode": {
    "name": "ipython",
    "version": 3
   },
   "file_extension": ".py",
   "mimetype": "text/x-python",
   "name": "python",
   "nbconvert_exporter": "python",
   "pygments_lexer": "ipython3",
   "version": "3.8.5"
  }
 },
 "nbformat": 4,
 "nbformat_minor": 4
}
